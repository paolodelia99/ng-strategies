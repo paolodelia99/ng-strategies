{
 "cells": [
  {
   "cell_type": "code",
   "execution_count": 1,
   "metadata": {},
   "outputs": [],
   "source": [
    "import warnings\n",
    "warnings.filterwarnings('ignore')"
   ]
  },
  {
   "cell_type": "code",
   "execution_count": 2,
   "outputs": [],
   "source": [
    "%matplotlib inline\n",
    "\n",
    "import pandas as pd\n",
    "\n",
    "import matplotlib.pyplot as plt\n",
    "import seaborn as sns\n",
    "\n",
    "import tulipy as tu"
   ],
   "metadata": {
    "collapsed": false,
    "pycharm": {
     "name": "#%%\n"
    }
   }
  },
  {
   "cell_type": "code",
   "execution_count": 3,
   "metadata": {
    "pycharm": {
     "name": "#%%\n"
    }
   },
   "outputs": [],
   "source": [
    "price_data_path = '../data/HistoricalData_NG.csv'\n",
    "consumption_path = '../data/U.S._Natural_Gas_Total_Consumption_Monthly.csv'\n",
    "undergound_st_path = '../data/Weekly_Lower_48_States_Natural_Gas_Working_Underground_Storage_Weekly.csv'\n",
    "us_gross_width_path = '../data/U.S._Natural_Gas_Gross_Withdrawals_Monthly.csv'\n",
    "o_gross_width_path = '../data/Other_States_Natural_Gas_Gross_Withdrawals_Monthly.csv'"
   ]
  },
  {
   "cell_type": "code",
   "execution_count": 4,
   "metadata": {
    "pycharm": {
     "name": "#%%\n"
    }
   },
   "outputs": [],
   "source": [
    "price_data = pd.read_csv(price_data_path, sep=',', index_col=0, parse_dates=True)\n",
    "cons_data = pd.read_csv(consumption_path, sep=',', index_col=0, parse_dates=True)\n",
    "undergound_st = pd.read_csv(undergound_st_path, sep=',', index_col=0, parse_dates=True)\n",
    "us_gross_width = pd.read_csv(us_gross_width_path, sep=',', index_col=0, parse_dates=True)\n",
    "o_gross_width = pd.read_csv(o_gross_width_path, sep=',', index_col=0, parse_dates=True)"
   ]
  },
  {
   "cell_type": "code",
   "execution_count": 5,
   "metadata": {
    "pycharm": {
     "name": "#%%\n"
    }
   },
   "outputs": [],
   "source": [
    "price_data = price_data.dropna()\n",
    "\n",
    "price_data = price_data.set_index(pd.to_datetime(price_data.index))\n",
    "price_data.sort_values(by='Date', inplace=True)\n",
    "\n",
    "cons_data.rename(columns={'Series ID: NG.N9140US2.M Million Cubic Feet':'Consumption in mcf'}, inplace=True)\n",
    "cons_data.index.rename('Date', inplace=True)\n",
    "cons_data.sort_values(by='Date', inplace=True)\n",
    "\n",
    "undergound_st = undergound_st.set_index(pd.to_datetime(undergound_st.index))\n",
    "undergound_st.rename(columns={'Series ID: NG.NW2_EPG0_SWO_R48_BCF.W Billion Cubic Feet':'Storage in mcf'}, inplace=True)\n",
    "undergound_st.index.rename('Date', inplace=True)\n",
    "undergound_st.sort_values(by='Date', inplace=True)\n",
    "\n",
    "us_gross_width.rename(columns={'Series ID: NG.N9010US2.M Million Cubic Feet':'US Gross Withdrawal in mcf'}, inplace=True)\n",
    "us_gross_width.index.rename('Date', inplace=True)\n",
    "us_gross_width.sort_values(by='Date', inplace=True)\n",
    "\n",
    "o_gross_width.rename(columns={'Series ID: NG.N9010982.M Million Cubic Feet':'Other Gross Withdrawal in mcf'}, inplace=True)\n",
    "o_gross_width.index.rename('Date', inplace=True)\n",
    "o_gross_width.sort_values(by='Date', inplace=True)"
   ]
  },
  {
   "cell_type": "code",
   "execution_count": 6,
   "metadata": {
    "pycharm": {
     "name": "#%%\n"
    }
   },
   "outputs": [
    {
     "data": {
      "text/plain": "            Storage in mcf\nDate                      \n2010-01-01            3117\n2010-01-08            2850\n2010-01-15            2607\n2010-01-22            2521\n2010-01-29            2406\n...                    ...\n2021-07-23            2714\n2021-07-30            2727\n2021-08-06            2776\n2021-08-13            2822\n2021-08-20            2851\n\n[608 rows x 1 columns]",
      "text/html": "<div>\n<style scoped>\n    .dataframe tbody tr th:only-of-type {\n        vertical-align: middle;\n    }\n\n    .dataframe tbody tr th {\n        vertical-align: top;\n    }\n\n    .dataframe thead th {\n        text-align: right;\n    }\n</style>\n<table border=\"1\" class=\"dataframe\">\n  <thead>\n    <tr style=\"text-align: right;\">\n      <th></th>\n      <th>Storage in mcf</th>\n    </tr>\n    <tr>\n      <th>Date</th>\n      <th></th>\n    </tr>\n  </thead>\n  <tbody>\n    <tr>\n      <th>2010-01-01</th>\n      <td>3117</td>\n    </tr>\n    <tr>\n      <th>2010-01-08</th>\n      <td>2850</td>\n    </tr>\n    <tr>\n      <th>2010-01-15</th>\n      <td>2607</td>\n    </tr>\n    <tr>\n      <th>2010-01-22</th>\n      <td>2521</td>\n    </tr>\n    <tr>\n      <th>2010-01-29</th>\n      <td>2406</td>\n    </tr>\n    <tr>\n      <th>...</th>\n      <td>...</td>\n    </tr>\n    <tr>\n      <th>2021-07-23</th>\n      <td>2714</td>\n    </tr>\n    <tr>\n      <th>2021-07-30</th>\n      <td>2727</td>\n    </tr>\n    <tr>\n      <th>2021-08-06</th>\n      <td>2776</td>\n    </tr>\n    <tr>\n      <th>2021-08-13</th>\n      <td>2822</td>\n    </tr>\n    <tr>\n      <th>2021-08-20</th>\n      <td>2851</td>\n    </tr>\n  </tbody>\n</table>\n<p>608 rows × 1 columns</p>\n</div>"
     },
     "execution_count": 6,
     "metadata": {},
     "output_type": "execute_result"
    }
   ],
   "source": [
    "undergound_st"
   ]
  },
  {
   "cell_type": "code",
   "execution_count": 7,
   "metadata": {
    "pycharm": {
     "name": "#%%\n"
    }
   },
   "outputs": [],
   "source": [
    "res = pd.concat([price_data, cons_data, undergound_st, us_gross_width, o_gross_width], axis=1)"
   ]
  },
  {
   "cell_type": "code",
   "execution_count": 8,
   "metadata": {
    "pycharm": {
     "name": "#%%\n"
    }
   },
   "outputs": [],
   "source": [
    "useful_columns = list(set(res.columns) - {'Close', 'High', 'Low', 'Volume', 'Open'})\n",
    "\n",
    "for col in useful_columns:\n",
    "    res[col] = res[col].ffill()"
   ]
  },
  {
   "cell_type": "code",
   "execution_count": 9,
   "metadata": {
    "pycharm": {
     "name": "#%%\n"
    }
   },
   "outputs": [
    {
     "data": {
      "text/plain": "            Close    Volume   Open   High    Low  Consumption in mcf  \\\nDate                                                                   \n2021-06-14  3.352  102006.0  3.315  3.364  3.273           2218011.0   \n2021-06-15  3.240  141168.0  3.351  3.369  3.213           2218011.0   \n2021-06-16  3.251  102528.0  3.222  3.274  3.187           2218011.0   \n2021-06-17  3.253  138697.0  3.244  3.264  3.187           2218011.0   \n2021-06-18  3.215  101762.0  3.218  3.258  3.166           2218011.0   \n2021-06-21  3.191   91489.0  3.206  3.214  3.137           2218011.0   \n2021-06-22  3.258   71038.0  3.198  3.281  3.188           2218011.0   \n2021-06-23  3.333   70154.0  3.257  3.383  3.250           2218011.0   \n2021-06-24  3.418   47829.0  3.316  3.442  3.301           2218011.0   \n2021-06-25  3.496   32794.0  3.425  3.511  3.415           2218011.0   \n2021-06-28  3.593  156940.0  3.525  3.653  3.505           2218011.0   \n2021-06-29  3.630  196638.0  3.583  3.811  3.571           2218011.0   \n2021-06-30  3.650  182091.0  3.651  3.814  3.604           2218011.0   \n2021-07-01  3.661  145920.0  3.746  3.764  3.591           2218011.0   \n2021-07-02  3.700  108587.0  3.663  3.741  3.598           2218011.0   \n2021-07-06  3.637  147960.0  3.704  3.822  3.608           2218011.0   \n2021-07-07  3.596  120022.0  3.673  3.707  3.520           2218011.0   \n2021-07-08  3.688  141742.0  3.579  3.720  3.540           2218011.0   \n2021-07-09  3.674  101501.0  3.686  3.742  3.657           2218011.0   \n2021-07-12  3.749  118212.0  3.673  3.763  3.623           2218011.0   \n\n            Storage in mcf  US Gross Withdrawal in mcf  \\\nDate                                                     \n2021-06-14          2427.0                   3396062.0   \n2021-06-15          2427.0                   3396062.0   \n2021-06-16          2427.0                   3396062.0   \n2021-06-17          2427.0                   3396062.0   \n2021-06-18          2482.0                   3396062.0   \n2021-06-21          2482.0                   3396062.0   \n2021-06-22          2482.0                   3396062.0   \n2021-06-23          2482.0                   3396062.0   \n2021-06-24          2482.0                   3396062.0   \n2021-06-25          2558.0                   3396062.0   \n2021-06-28          2558.0                   3396062.0   \n2021-06-29          2558.0                   3396062.0   \n2021-06-30          2558.0                   3396062.0   \n2021-07-01          2558.0                   3396062.0   \n2021-07-02          2574.0                   3396062.0   \n2021-07-06          2574.0                   3396062.0   \n2021-07-07          2574.0                   3396062.0   \n2021-07-08          2574.0                   3396062.0   \n2021-07-09          2629.0                   3396062.0   \n2021-07-12          2629.0                   3396062.0   \n\n            Other Gross Withdrawal in mcf  \nDate                                       \n2021-06-14                        32500.0  \n2021-06-15                        32500.0  \n2021-06-16                        32500.0  \n2021-06-17                        32500.0  \n2021-06-18                        32500.0  \n2021-06-21                        32500.0  \n2021-06-22                        32500.0  \n2021-06-23                        32500.0  \n2021-06-24                        32500.0  \n2021-06-25                        32500.0  \n2021-06-28                        32500.0  \n2021-06-29                        32500.0  \n2021-06-30                        32500.0  \n2021-07-01                        32500.0  \n2021-07-02                        32500.0  \n2021-07-06                        32500.0  \n2021-07-07                        32500.0  \n2021-07-08                        32500.0  \n2021-07-09                        32500.0  \n2021-07-12                        32500.0  ",
      "text/html": "<div>\n<style scoped>\n    .dataframe tbody tr th:only-of-type {\n        vertical-align: middle;\n    }\n\n    .dataframe tbody tr th {\n        vertical-align: top;\n    }\n\n    .dataframe thead th {\n        text-align: right;\n    }\n</style>\n<table border=\"1\" class=\"dataframe\">\n  <thead>\n    <tr style=\"text-align: right;\">\n      <th></th>\n      <th>Close</th>\n      <th>Volume</th>\n      <th>Open</th>\n      <th>High</th>\n      <th>Low</th>\n      <th>Consumption in mcf</th>\n      <th>Storage in mcf</th>\n      <th>US Gross Withdrawal in mcf</th>\n      <th>Other Gross Withdrawal in mcf</th>\n    </tr>\n    <tr>\n      <th>Date</th>\n      <th></th>\n      <th></th>\n      <th></th>\n      <th></th>\n      <th></th>\n      <th></th>\n      <th></th>\n      <th></th>\n      <th></th>\n    </tr>\n  </thead>\n  <tbody>\n    <tr>\n      <th>2021-06-14</th>\n      <td>3.352</td>\n      <td>102006.0</td>\n      <td>3.315</td>\n      <td>3.364</td>\n      <td>3.273</td>\n      <td>2218011.0</td>\n      <td>2427.0</td>\n      <td>3396062.0</td>\n      <td>32500.0</td>\n    </tr>\n    <tr>\n      <th>2021-06-15</th>\n      <td>3.240</td>\n      <td>141168.0</td>\n      <td>3.351</td>\n      <td>3.369</td>\n      <td>3.213</td>\n      <td>2218011.0</td>\n      <td>2427.0</td>\n      <td>3396062.0</td>\n      <td>32500.0</td>\n    </tr>\n    <tr>\n      <th>2021-06-16</th>\n      <td>3.251</td>\n      <td>102528.0</td>\n      <td>3.222</td>\n      <td>3.274</td>\n      <td>3.187</td>\n      <td>2218011.0</td>\n      <td>2427.0</td>\n      <td>3396062.0</td>\n      <td>32500.0</td>\n    </tr>\n    <tr>\n      <th>2021-06-17</th>\n      <td>3.253</td>\n      <td>138697.0</td>\n      <td>3.244</td>\n      <td>3.264</td>\n      <td>3.187</td>\n      <td>2218011.0</td>\n      <td>2427.0</td>\n      <td>3396062.0</td>\n      <td>32500.0</td>\n    </tr>\n    <tr>\n      <th>2021-06-18</th>\n      <td>3.215</td>\n      <td>101762.0</td>\n      <td>3.218</td>\n      <td>3.258</td>\n      <td>3.166</td>\n      <td>2218011.0</td>\n      <td>2482.0</td>\n      <td>3396062.0</td>\n      <td>32500.0</td>\n    </tr>\n    <tr>\n      <th>2021-06-21</th>\n      <td>3.191</td>\n      <td>91489.0</td>\n      <td>3.206</td>\n      <td>3.214</td>\n      <td>3.137</td>\n      <td>2218011.0</td>\n      <td>2482.0</td>\n      <td>3396062.0</td>\n      <td>32500.0</td>\n    </tr>\n    <tr>\n      <th>2021-06-22</th>\n      <td>3.258</td>\n      <td>71038.0</td>\n      <td>3.198</td>\n      <td>3.281</td>\n      <td>3.188</td>\n      <td>2218011.0</td>\n      <td>2482.0</td>\n      <td>3396062.0</td>\n      <td>32500.0</td>\n    </tr>\n    <tr>\n      <th>2021-06-23</th>\n      <td>3.333</td>\n      <td>70154.0</td>\n      <td>3.257</td>\n      <td>3.383</td>\n      <td>3.250</td>\n      <td>2218011.0</td>\n      <td>2482.0</td>\n      <td>3396062.0</td>\n      <td>32500.0</td>\n    </tr>\n    <tr>\n      <th>2021-06-24</th>\n      <td>3.418</td>\n      <td>47829.0</td>\n      <td>3.316</td>\n      <td>3.442</td>\n      <td>3.301</td>\n      <td>2218011.0</td>\n      <td>2482.0</td>\n      <td>3396062.0</td>\n      <td>32500.0</td>\n    </tr>\n    <tr>\n      <th>2021-06-25</th>\n      <td>3.496</td>\n      <td>32794.0</td>\n      <td>3.425</td>\n      <td>3.511</td>\n      <td>3.415</td>\n      <td>2218011.0</td>\n      <td>2558.0</td>\n      <td>3396062.0</td>\n      <td>32500.0</td>\n    </tr>\n    <tr>\n      <th>2021-06-28</th>\n      <td>3.593</td>\n      <td>156940.0</td>\n      <td>3.525</td>\n      <td>3.653</td>\n      <td>3.505</td>\n      <td>2218011.0</td>\n      <td>2558.0</td>\n      <td>3396062.0</td>\n      <td>32500.0</td>\n    </tr>\n    <tr>\n      <th>2021-06-29</th>\n      <td>3.630</td>\n      <td>196638.0</td>\n      <td>3.583</td>\n      <td>3.811</td>\n      <td>3.571</td>\n      <td>2218011.0</td>\n      <td>2558.0</td>\n      <td>3396062.0</td>\n      <td>32500.0</td>\n    </tr>\n    <tr>\n      <th>2021-06-30</th>\n      <td>3.650</td>\n      <td>182091.0</td>\n      <td>3.651</td>\n      <td>3.814</td>\n      <td>3.604</td>\n      <td>2218011.0</td>\n      <td>2558.0</td>\n      <td>3396062.0</td>\n      <td>32500.0</td>\n    </tr>\n    <tr>\n      <th>2021-07-01</th>\n      <td>3.661</td>\n      <td>145920.0</td>\n      <td>3.746</td>\n      <td>3.764</td>\n      <td>3.591</td>\n      <td>2218011.0</td>\n      <td>2558.0</td>\n      <td>3396062.0</td>\n      <td>32500.0</td>\n    </tr>\n    <tr>\n      <th>2021-07-02</th>\n      <td>3.700</td>\n      <td>108587.0</td>\n      <td>3.663</td>\n      <td>3.741</td>\n      <td>3.598</td>\n      <td>2218011.0</td>\n      <td>2574.0</td>\n      <td>3396062.0</td>\n      <td>32500.0</td>\n    </tr>\n    <tr>\n      <th>2021-07-06</th>\n      <td>3.637</td>\n      <td>147960.0</td>\n      <td>3.704</td>\n      <td>3.822</td>\n      <td>3.608</td>\n      <td>2218011.0</td>\n      <td>2574.0</td>\n      <td>3396062.0</td>\n      <td>32500.0</td>\n    </tr>\n    <tr>\n      <th>2021-07-07</th>\n      <td>3.596</td>\n      <td>120022.0</td>\n      <td>3.673</td>\n      <td>3.707</td>\n      <td>3.520</td>\n      <td>2218011.0</td>\n      <td>2574.0</td>\n      <td>3396062.0</td>\n      <td>32500.0</td>\n    </tr>\n    <tr>\n      <th>2021-07-08</th>\n      <td>3.688</td>\n      <td>141742.0</td>\n      <td>3.579</td>\n      <td>3.720</td>\n      <td>3.540</td>\n      <td>2218011.0</td>\n      <td>2574.0</td>\n      <td>3396062.0</td>\n      <td>32500.0</td>\n    </tr>\n    <tr>\n      <th>2021-07-09</th>\n      <td>3.674</td>\n      <td>101501.0</td>\n      <td>3.686</td>\n      <td>3.742</td>\n      <td>3.657</td>\n      <td>2218011.0</td>\n      <td>2629.0</td>\n      <td>3396062.0</td>\n      <td>32500.0</td>\n    </tr>\n    <tr>\n      <th>2021-07-12</th>\n      <td>3.749</td>\n      <td>118212.0</td>\n      <td>3.673</td>\n      <td>3.763</td>\n      <td>3.623</td>\n      <td>2218011.0</td>\n      <td>2629.0</td>\n      <td>3396062.0</td>\n      <td>32500.0</td>\n    </tr>\n  </tbody>\n</table>\n</div>"
     },
     "execution_count": 9,
     "metadata": {},
     "output_type": "execute_result"
    }
   ],
   "source": [
    "res.iloc[-65:-45]"
   ]
  },
  {
   "cell_type": "code",
   "execution_count": 10,
   "metadata": {
    "pycharm": {
     "name": "#%%\n"
    }
   },
   "outputs": [
    {
     "data": {
      "text/plain": "             Close         Volume         Open         High          Low  \\\ncount  2512.000000    2512.000000  2512.000000  2512.000000  2512.000000   \nmean      3.006863  121145.640525     3.008246     3.064867     2.951927   \nstd       0.738252   57571.508748     0.735492     0.752016     0.724266   \nmin       1.482000       4.000000     1.441000     1.567000     1.432000   \n25%       2.562750   88040.500000     2.568000     2.610500     2.512750   \n50%       2.883000  120581.500000     2.889500     2.935000     2.831000   \n75%       3.492250  153997.000000     3.485250     3.564250     3.437750   \nmax       6.149000  435320.000000     6.080000     6.493000     5.882000   \n\n       Consumption in mcf  Storage in mcf  US Gross Withdrawal in mcf  \\\ncount        2.782000e+03     2674.000000                3.034000e+03   \nmean         2.300111e+06     2750.914734                2.743537e+06   \nstd          4.372191e+05      765.520216                4.857120e+05   \nmin          1.368369e+06      824.000000                1.449958e+06   \n25%          1.947752e+06     2210.000000                2.475947e+06   \n50%          2.208375e+06     2801.000000                2.721449e+06   \n75%          2.588168e+06     3360.000000                3.153978e+06   \nmax          3.409295e+06     4047.000000                3.620708e+06   \n\n       Other Gross Withdrawal in mcf  \ncount                    2902.000000  \nmean                    54696.229841  \nstd                     20217.040342  \nmin                     30059.000000  \n25%                     40372.000000  \n50%                     49149.000000  \n75%                     58221.000000  \nmax                    109113.000000  ",
      "text/html": "<div>\n<style scoped>\n    .dataframe tbody tr th:only-of-type {\n        vertical-align: middle;\n    }\n\n    .dataframe tbody tr th {\n        vertical-align: top;\n    }\n\n    .dataframe thead th {\n        text-align: right;\n    }\n</style>\n<table border=\"1\" class=\"dataframe\">\n  <thead>\n    <tr style=\"text-align: right;\">\n      <th></th>\n      <th>Close</th>\n      <th>Volume</th>\n      <th>Open</th>\n      <th>High</th>\n      <th>Low</th>\n      <th>Consumption in mcf</th>\n      <th>Storage in mcf</th>\n      <th>US Gross Withdrawal in mcf</th>\n      <th>Other Gross Withdrawal in mcf</th>\n    </tr>\n  </thead>\n  <tbody>\n    <tr>\n      <th>count</th>\n      <td>2512.000000</td>\n      <td>2512.000000</td>\n      <td>2512.000000</td>\n      <td>2512.000000</td>\n      <td>2512.000000</td>\n      <td>2.782000e+03</td>\n      <td>2674.000000</td>\n      <td>3.034000e+03</td>\n      <td>2902.000000</td>\n    </tr>\n    <tr>\n      <th>mean</th>\n      <td>3.006863</td>\n      <td>121145.640525</td>\n      <td>3.008246</td>\n      <td>3.064867</td>\n      <td>2.951927</td>\n      <td>2.300111e+06</td>\n      <td>2750.914734</td>\n      <td>2.743537e+06</td>\n      <td>54696.229841</td>\n    </tr>\n    <tr>\n      <th>std</th>\n      <td>0.738252</td>\n      <td>57571.508748</td>\n      <td>0.735492</td>\n      <td>0.752016</td>\n      <td>0.724266</td>\n      <td>4.372191e+05</td>\n      <td>765.520216</td>\n      <td>4.857120e+05</td>\n      <td>20217.040342</td>\n    </tr>\n    <tr>\n      <th>min</th>\n      <td>1.482000</td>\n      <td>4.000000</td>\n      <td>1.441000</td>\n      <td>1.567000</td>\n      <td>1.432000</td>\n      <td>1.368369e+06</td>\n      <td>824.000000</td>\n      <td>1.449958e+06</td>\n      <td>30059.000000</td>\n    </tr>\n    <tr>\n      <th>25%</th>\n      <td>2.562750</td>\n      <td>88040.500000</td>\n      <td>2.568000</td>\n      <td>2.610500</td>\n      <td>2.512750</td>\n      <td>1.947752e+06</td>\n      <td>2210.000000</td>\n      <td>2.475947e+06</td>\n      <td>40372.000000</td>\n    </tr>\n    <tr>\n      <th>50%</th>\n      <td>2.883000</td>\n      <td>120581.500000</td>\n      <td>2.889500</td>\n      <td>2.935000</td>\n      <td>2.831000</td>\n      <td>2.208375e+06</td>\n      <td>2801.000000</td>\n      <td>2.721449e+06</td>\n      <td>49149.000000</td>\n    </tr>\n    <tr>\n      <th>75%</th>\n      <td>3.492250</td>\n      <td>153997.000000</td>\n      <td>3.485250</td>\n      <td>3.564250</td>\n      <td>3.437750</td>\n      <td>2.588168e+06</td>\n      <td>3360.000000</td>\n      <td>3.153978e+06</td>\n      <td>58221.000000</td>\n    </tr>\n    <tr>\n      <th>max</th>\n      <td>6.149000</td>\n      <td>435320.000000</td>\n      <td>6.080000</td>\n      <td>6.493000</td>\n      <td>5.882000</td>\n      <td>3.409295e+06</td>\n      <td>4047.000000</td>\n      <td>3.620708e+06</td>\n      <td>109113.000000</td>\n    </tr>\n  </tbody>\n</table>\n</div>"
     },
     "execution_count": 10,
     "metadata": {},
     "output_type": "execute_result"
    }
   ],
   "source": [
    "res.describe()"
   ]
  },
  {
   "cell_type": "code",
   "execution_count": 11,
   "metadata": {
    "pycharm": {
     "name": "#%%\n"
    }
   },
   "outputs": [
    {
     "name": "stdout",
     "output_type": "stream",
     "text": [
      "Close :  606\n",
      "Volume :  606\n",
      "Open :  606\n",
      "High :  606\n",
      "Low :  606\n",
      "Consumption in mcf :  336\n",
      "Storage in mcf :  444\n",
      "US Gross Withdrawal in mcf :  84\n",
      "Other Gross Withdrawal in mcf :  216\n"
     ]
    }
   ],
   "source": [
    "for col in res.columns:\n",
    "    print(col, ': ', res[col].isnull().sum())"
   ]
  },
  {
   "cell_type": "code",
   "execution_count": 12,
   "metadata": {
    "pycharm": {
     "name": "#%%\n"
    }
   },
   "outputs": [],
   "source": [
    "res_ = res.dropna()\n",
    "\n",
    "days = pd.date_range(res_.index[0], res_.index[-1], freq='D')"
   ]
  },
  {
   "cell_type": "markdown",
   "metadata": {
    "pycharm": {
     "name": "#%% md\n"
    }
   },
   "source": [
    "# Adding Technical Indicators"
   ]
  },
  {
   "cell_type": "code",
   "execution_count": 13,
   "metadata": {
    "pycharm": {
     "name": "#%%\n"
    }
   },
   "outputs": [],
   "source": [
    "rsi = tu.rsi(res_.Close.values, 14)"
   ]
  },
  {
   "cell_type": "code",
   "execution_count": 14,
   "metadata": {
    "pycharm": {
     "name": "#%%\n"
    }
   },
   "outputs": [
    {
     "data": {
      "text/plain": "<Figure size 432x288 with 1 Axes>",
      "image/png": "[encoded data removed]"
     },
     "metadata": {
      "needs_background": "light"
     },
     "output_type": "display_data"
    }
   ],
   "source": [
    "ax = sns.distplot(rsi)\n",
    "ax.axvline(30, ls='--', lw=1, c='k')\n",
    "ax.axvline(70, ls='--', lw=1, c='k')\n",
    "ax.set_title('RSI Distribution with Signal Threshold')\n",
    "plt.tight_layout();"
   ]
  },
  {
   "cell_type": "code",
   "execution_count": 15,
   "metadata": {
    "pycharm": {
     "name": "#%%\n"
    }
   },
   "outputs": [],
   "source": [
    "rsi_df = pd.DataFrame(data={\n",
    "    'Date': res_.index[-len(rsi):],\n",
    "    'RSI': rsi\n",
    "})\n",
    "rsi_df.set_index('Date', inplace=True)"
   ]
  },
  {
   "cell_type": "code",
   "execution_count": 16,
   "metadata": {
    "pycharm": {
     "name": "#%%\n"
    }
   },
   "outputs": [],
   "source": [
    "atr = tu.atr(res_.High.values, res_.Low.values, res_.Close.values, 14)\n",
    "\n",
    "# atr = (atr - atr.mean()) / atr.std()"
   ]
  },
  {
   "cell_type": "code",
   "execution_count": 17,
   "metadata": {
    "pycharm": {
     "name": "#%%\n"
    }
   },
   "outputs": [
    {
     "data": {
      "text/plain": "<seaborn.axisgrid.FacetGrid at 0x1fa26f22730>"
     },
     "execution_count": 17,
     "metadata": {},
     "output_type": "execute_result"
    },
    {
     "data": {
      "text/plain": "<Figure size 360x360 with 1 Axes>",
      "image/png": "[encoded data removed]"
     },
     "metadata": {
      "needs_background": "light"
     },
     "output_type": "display_data"
    }
   ],
   "source": [
    "sns.displot(atr)"
   ]
  },
  {
   "cell_type": "code",
   "execution_count": 18,
   "metadata": {
    "pycharm": {
     "name": "#%%\n"
    }
   },
   "outputs": [],
   "source": [
    "atr_df = pd.DataFrame(data={\n",
    "    'Date':res_.index[-len(atr):],\n",
    "    'ATR':atr\n",
    "})\n",
    "atr_df.set_index('Date', inplace=True)"
   ]
  },
  {
   "cell_type": "code",
   "execution_count": 19,
   "metadata": {
    "pycharm": {
     "name": "#%%\n"
    }
   },
   "outputs": [],
   "source": [
    "macd, macd_signal, macd_hist = tu.macd(res_.Close.values, 12, 26, 9)\n",
    "\n",
    "# macd = (macd - np.mean(macd)) / np.std(macd)"
   ]
  },
  {
   "cell_type": "code",
   "execution_count": 20,
   "metadata": {
    "pycharm": {
     "name": "#%%\n"
    }
   },
   "outputs": [
    {
     "data": {
      "text/plain": "<seaborn.axisgrid.FacetGrid at 0x1fa270ac0a0>"
     },
     "execution_count": 20,
     "metadata": {},
     "output_type": "execute_result"
    },
    {
     "data": {
      "text/plain": "<Figure size 360x360 with 1 Axes>",
      "image/png": "[encoded data removed]"
     },
     "metadata": {
      "needs_background": "light"
     },
     "output_type": "display_data"
    }
   ],
   "source": [
    "sns.displot(macd)"
   ]
  },
  {
   "cell_type": "code",
   "execution_count": 21,
   "metadata": {
    "pycharm": {
     "name": "#%%\n"
    }
   },
   "outputs": [],
   "source": [
    "macd_df = pd.DataFrame(data={\n",
    "    'Date': res_.index[-len(macd):],\n",
    "    'MACD': macd\n",
    "})\n",
    "macd_df.set_index('Date', inplace=True)"
   ]
  },
  {
   "cell_type": "code",
   "execution_count": 22,
   "metadata": {
    "pycharm": {
     "name": "#%%\n"
    }
   },
   "outputs": [],
   "source": [
    "res_ = pd.concat([res_, rsi_df, atr_df, macd_df], axis=1)\n",
    "res_.dropna(inplace=True)"
   ]
  },
  {
   "cell_type": "code",
   "execution_count": 23,
   "metadata": {
    "pycharm": {
     "name": "#%%\n"
    }
   },
   "outputs": [
    {
     "data": {
      "text/plain": "            Close    Volume   Open   High    Low  Consumption in mcf  \\\nDate                                                                   \n2011-10-06  3.598  144492.0  3.565  3.634  3.512           1744454.0   \n2011-10-07  3.481  139225.0  3.595  3.600  3.472           1744454.0   \n2011-10-10  3.541  122903.0  3.486  3.563  3.457           1744454.0   \n2011-10-11  3.616  168456.0  3.562  3.627  3.513           1744454.0   \n2011-10-12  3.489  158954.0  3.520  3.540  3.480           1744454.0   \n...           ...       ...    ...    ...    ...                 ...   \n2021-09-08  4.914  232232.0  4.598  5.010  4.585           2218011.0   \n2021-09-09  5.031  224428.0  4.917  5.047  4.820           2218011.0   \n2021-09-10  4.938  136929.0  5.002  5.058  4.913           2218011.0   \n2021-09-13  5.231  191680.0  4.945  5.289  4.879           2218011.0   \n2021-09-14  5.260  183062.0  5.199  5.369  5.171           2218011.0   \n\n            Storage in mcf  US Gross Withdrawal in mcf  \\\nDate                                                     \n2011-10-06          3408.0                   2502387.0   \n2011-10-07          3521.0                   2502387.0   \n2011-10-10          3521.0                   2502387.0   \n2011-10-11          3521.0                   2502387.0   \n2011-10-12          3521.0                   2502387.0   \n...                    ...                         ...   \n2021-09-08          2851.0                   3396062.0   \n2021-09-09          2851.0                   3396062.0   \n2021-09-10          2851.0                   3396062.0   \n2021-09-13          2851.0                   3396062.0   \n2021-09-14          2851.0                   3396062.0   \n\n            Other Gross Withdrawal in mcf        RSI       ATR      MACD  \nDate                                                                      \n2011-10-06                        94315.0  32.805890  0.114925 -0.091309  \n2011-10-07                        94315.0  28.027756  0.115859 -0.100688  \n2011-10-10                        94315.0  33.385996  0.115155 -0.102430  \n2011-10-11                        94315.0  39.453890  0.115073 -0.097022  \n2011-10-12                        94315.0  33.833721  0.116567 -0.101203  \n...                                   ...        ...       ...       ...  \n2021-09-08                        32500.0  75.070402  0.193903  0.211033  \n2021-09-09                        32500.0  77.001714  0.196267  0.239375  \n2021-09-10                        32500.0  72.212841  0.192605  0.251991  \n2021-09-13                        32500.0  77.054551  0.208133  0.281050  \n2021-09-14                        32500.0  77.472935  0.207409  0.302911  \n\n[2487 rows x 12 columns]",
      "text/html": "<div>\n<style scoped>\n    .dataframe tbody tr th:only-of-type {\n        vertical-align: middle;\n    }\n\n    .dataframe tbody tr th {\n        vertical-align: top;\n    }\n\n    .dataframe thead th {\n        text-align: right;\n    }\n</style>\n<table border=\"1\" class=\"dataframe\">\n  <thead>\n    <tr style=\"text-align: right;\">\n      <th></th>\n      <th>Close</th>\n      <th>Volume</th>\n      <th>Open</th>\n      <th>High</th>\n      <th>Low</th>\n      <th>Consumption in mcf</th>\n      <th>Storage in mcf</th>\n      <th>US Gross Withdrawal in mcf</th>\n      <th>Other Gross Withdrawal in mcf</th>\n      <th>RSI</th>\n      <th>ATR</th>\n      <th>MACD</th>\n    </tr>\n    <tr>\n      <th>Date</th>\n      <th></th>\n      <th></th>\n      <th></th>\n      <th></th>\n      <th></th>\n      <th></th>\n      <th></th>\n      <th></th>\n      <th></th>\n      <th></th>\n      <th></th>\n      <th></th>\n    </tr>\n  </thead>\n  <tbody>\n    <tr>\n      <th>2011-10-06</th>\n      <td>3.598</td>\n      <td>144492.0</td>\n      <td>3.565</td>\n      <td>3.634</td>\n      <td>3.512</td>\n      <td>1744454.0</td>\n      <td>3408.0</td>\n      <td>2502387.0</td>\n      <td>94315.0</td>\n      <td>32.805890</td>\n      <td>0.114925</td>\n      <td>-0.091309</td>\n    </tr>\n    <tr>\n      <th>2011-10-07</th>\n      <td>3.481</td>\n      <td>139225.0</td>\n      <td>3.595</td>\n      <td>3.600</td>\n      <td>3.472</td>\n      <td>1744454.0</td>\n      <td>3521.0</td>\n      <td>2502387.0</td>\n      <td>94315.0</td>\n      <td>28.027756</td>\n      <td>0.115859</td>\n      <td>-0.100688</td>\n    </tr>\n    <tr>\n      <th>2011-10-10</th>\n      <td>3.541</td>\n      <td>122903.0</td>\n      <td>3.486</td>\n      <td>3.563</td>\n      <td>3.457</td>\n      <td>1744454.0</td>\n      <td>3521.0</td>\n      <td>2502387.0</td>\n      <td>94315.0</td>\n      <td>33.385996</td>\n      <td>0.115155</td>\n      <td>-0.102430</td>\n    </tr>\n    <tr>\n      <th>2011-10-11</th>\n      <td>3.616</td>\n      <td>168456.0</td>\n      <td>3.562</td>\n      <td>3.627</td>\n      <td>3.513</td>\n      <td>1744454.0</td>\n      <td>3521.0</td>\n      <td>2502387.0</td>\n      <td>94315.0</td>\n      <td>39.453890</td>\n      <td>0.115073</td>\n      <td>-0.097022</td>\n    </tr>\n    <tr>\n      <th>2011-10-12</th>\n      <td>3.489</td>\n      <td>158954.0</td>\n      <td>3.520</td>\n      <td>3.540</td>\n      <td>3.480</td>\n      <td>1744454.0</td>\n      <td>3521.0</td>\n      <td>2502387.0</td>\n      <td>94315.0</td>\n      <td>33.833721</td>\n      <td>0.116567</td>\n      <td>-0.101203</td>\n    </tr>\n    <tr>\n      <th>...</th>\n      <td>...</td>\n      <td>...</td>\n      <td>...</td>\n      <td>...</td>\n      <td>...</td>\n      <td>...</td>\n      <td>...</td>\n      <td>...</td>\n      <td>...</td>\n      <td>...</td>\n      <td>...</td>\n      <td>...</td>\n    </tr>\n    <tr>\n      <th>2021-09-08</th>\n      <td>4.914</td>\n      <td>232232.0</td>\n      <td>4.598</td>\n      <td>5.010</td>\n      <td>4.585</td>\n      <td>2218011.0</td>\n      <td>2851.0</td>\n      <td>3396062.0</td>\n      <td>32500.0</td>\n      <td>75.070402</td>\n      <td>0.193903</td>\n      <td>0.211033</td>\n    </tr>\n    <tr>\n      <th>2021-09-09</th>\n      <td>5.031</td>\n      <td>224428.0</td>\n      <td>4.917</td>\n      <td>5.047</td>\n      <td>4.820</td>\n      <td>2218011.0</td>\n      <td>2851.0</td>\n      <td>3396062.0</td>\n      <td>32500.0</td>\n      <td>77.001714</td>\n      <td>0.196267</td>\n      <td>0.239375</td>\n    </tr>\n    <tr>\n      <th>2021-09-10</th>\n      <td>4.938</td>\n      <td>136929.0</td>\n      <td>5.002</td>\n      <td>5.058</td>\n      <td>4.913</td>\n      <td>2218011.0</td>\n      <td>2851.0</td>\n      <td>3396062.0</td>\n      <td>32500.0</td>\n      <td>72.212841</td>\n      <td>0.192605</td>\n      <td>0.251991</td>\n    </tr>\n    <tr>\n      <th>2021-09-13</th>\n      <td>5.231</td>\n      <td>191680.0</td>\n      <td>4.945</td>\n      <td>5.289</td>\n      <td>4.879</td>\n      <td>2218011.0</td>\n      <td>2851.0</td>\n      <td>3396062.0</td>\n      <td>32500.0</td>\n      <td>77.054551</td>\n      <td>0.208133</td>\n      <td>0.281050</td>\n    </tr>\n    <tr>\n      <th>2021-09-14</th>\n      <td>5.260</td>\n      <td>183062.0</td>\n      <td>5.199</td>\n      <td>5.369</td>\n      <td>5.171</td>\n      <td>2218011.0</td>\n      <td>2851.0</td>\n      <td>3396062.0</td>\n      <td>32500.0</td>\n      <td>77.472935</td>\n      <td>0.207409</td>\n      <td>0.302911</td>\n    </tr>\n  </tbody>\n</table>\n<p>2487 rows × 12 columns</p>\n</div>"
     },
     "execution_count": 23,
     "metadata": {},
     "output_type": "execute_result"
    }
   ],
   "source": [
    "res_"
   ]
  },
  {
   "cell_type": "markdown",
   "metadata": {
    "pycharm": {
     "name": "#%% md\n"
    }
   },
   "source": [
    "# Compute Lagged Returns"
   ]
  },
  {
   "cell_type": "code",
   "execution_count": 24,
   "metadata": {
    "pycharm": {
     "name": "#%%\n"
    }
   },
   "outputs": [],
   "source": [
    "lags = [1, 5, 10, 21, 42, 63]\n",
    "\n",
    "for lag in lags:\n",
    "    res_[f'return_{lag}d'] = (res_.Close.pct_change(lag)\n",
    "                              .add(1)\n",
    "                              .pow(1 / lag)\n",
    "                              .sub(1))"
   ]
  },
  {
   "cell_type": "markdown",
   "metadata": {
    "pycharm": {
     "name": "#%% md\n"
    }
   },
   "source": [
    "# Shift lagged returns"
   ]
  },
  {
   "cell_type": "code",
   "execution_count": 25,
   "metadata": {
    "pycharm": {
     "name": "#%%\n"
    }
   },
   "outputs": [],
   "source": [
    "\n",
    "for t in [1, 2, 3, 4, 5]:\n",
    "    for lag in [1, 5, 10, 21]:\n",
    "        res_[f'return_{lag}d_lag{t}'] = (res_[f'return_{lag}d'].shift(t * lag))"
   ]
  },
  {
   "cell_type": "markdown",
   "metadata": {
    "pycharm": {
     "name": "#%% md\n"
    }
   },
   "source": [
    "# Compute forward returns"
   ]
  },
  {
   "cell_type": "code",
   "execution_count": 26,
   "metadata": {
    "pycharm": {
     "name": "#%%\n"
    }
   },
   "outputs": [],
   "source": [
    "for t in [1, 5, 10, 21]:\n",
    "    res_[f'target_{t}d'] = res_[f'return_{t}d'].shift(-t)"
   ]
  },
  {
   "cell_type": "code",
   "execution_count": 27,
   "metadata": {
    "pycharm": {
     "name": "#%%\n"
    }
   },
   "outputs": [
    {
     "data": {
      "text/plain": "            Close    Volume   Open   High    Low  Consumption in mcf  \\\nDate                                                                   \n2011-10-06  3.598  144492.0  3.565  3.634  3.512           1744454.0   \n2011-10-07  3.481  139225.0  3.595  3.600  3.472           1744454.0   \n2011-10-10  3.541  122903.0  3.486  3.563  3.457           1744454.0   \n2011-10-11  3.616  168456.0  3.562  3.627  3.513           1744454.0   \n2011-10-12  3.489  158954.0  3.520  3.540  3.480           1744454.0   \n...           ...       ...    ...    ...    ...                 ...   \n2021-09-08  4.914  232232.0  4.598  5.010  4.585           2218011.0   \n2021-09-09  5.031  224428.0  4.917  5.047  4.820           2218011.0   \n2021-09-10  4.938  136929.0  5.002  5.058  4.913           2218011.0   \n2021-09-13  5.231  191680.0  4.945  5.289  4.879           2218011.0   \n2021-09-14  5.260  183062.0  5.199  5.369  5.171           2218011.0   \n\n            Storage in mcf  US Gross Withdrawal in mcf  \\\nDate                                                     \n2011-10-06          3408.0                   2502387.0   \n2011-10-07          3521.0                   2502387.0   \n2011-10-10          3521.0                   2502387.0   \n2011-10-11          3521.0                   2502387.0   \n2011-10-12          3521.0                   2502387.0   \n...                    ...                         ...   \n2021-09-08          2851.0                   3396062.0   \n2021-09-09          2851.0                   3396062.0   \n2021-09-10          2851.0                   3396062.0   \n2021-09-13          2851.0                   3396062.0   \n2021-09-14          2851.0                   3396062.0   \n\n            Other Gross Withdrawal in mcf        RSI  ...  return_10d_lag4  \\\nDate                                                  ...                    \n2011-10-06                        94315.0  32.805890  ...              NaN   \n2011-10-07                        94315.0  28.027756  ...              NaN   \n2011-10-10                        94315.0  33.385996  ...              NaN   \n2011-10-11                        94315.0  39.453890  ...              NaN   \n2011-10-12                        94315.0  33.833721  ...              NaN   \n...                                   ...        ...  ...              ...   \n2021-09-08                        32500.0  75.070402  ...         0.002830   \n2021-09-09                        32500.0  77.001714  ...         0.000823   \n2021-09-10                        32500.0  72.212841  ...        -0.000991   \n2021-09-13                        32500.0  77.054551  ...         0.000355   \n2021-09-14                        32500.0  77.472935  ...         0.002115   \n\n            return_21d_lag4  return_1d_lag5  return_5d_lag5  return_10d_lag5  \\\nDate                                                                           \n2011-10-06              NaN             NaN             NaN              NaN   \n2011-10-07              NaN             NaN             NaN              NaN   \n2011-10-10              NaN             NaN             NaN              NaN   \n2011-10-11              NaN             NaN             NaN              NaN   \n2011-10-12              NaN             NaN             NaN              NaN   \n...                     ...             ...             ...              ...   \n2021-09-08         0.007123        0.016725        0.002805         0.006967   \n2021-09-09         0.006838        0.054375        0.005575         0.011431   \n2021-09-10         0.005991        0.005634        0.003960         0.011644   \n2021-09-13         0.006074        0.015298        0.010997         0.011886   \n2021-09-14         0.005154       -0.030560        0.006274         0.014150   \n\n            return_21d_lag5  target_1d  target_5d  target_10d  target_21d  \nDate                                                                       \n2011-10-06              NaN  -0.032518  -0.003752    0.000886    0.002390  \n2011-10-07              NaN   0.017236   0.012441    0.004172    0.002858  \n2011-10-10              NaN   0.021180   0.008168    0.001765    0.002671  \n2011-10-11              NaN  -0.035122  -0.003509    0.001155    0.000472  \n2011-10-12              NaN   0.012038   0.005500    0.002858    0.002137  \n...                     ...        ...        ...         ...         ...  \n2021-09-08        -0.003026   0.023810        NaN         NaN         NaN  \n2021-09-09        -0.001947  -0.018485        NaN         NaN         NaN  \n2021-09-10         0.000347   0.059336        NaN         NaN         NaN  \n2021-09-13         0.002505   0.005544        NaN         NaN         NaN  \n2021-09-14         0.001753        NaN        NaN         NaN         NaN  \n\n[2487 rows x 42 columns]",
      "text/html": "<div>\n<style scoped>\n    .dataframe tbody tr th:only-of-type {\n        vertical-align: middle;\n    }\n\n    .dataframe tbody tr th {\n        vertical-align: top;\n    }\n\n    .dataframe thead th {\n        text-align: right;\n    }\n</style>\n<table border=\"1\" class=\"dataframe\">\n  <thead>\n    <tr style=\"text-align: right;\">\n      <th></th>\n      <th>Close</th>\n      <th>Volume</th>\n      <th>Open</th>\n      <th>High</th>\n      <th>Low</th>\n      <th>Consumption in mcf</th>\n      <th>Storage in mcf</th>\n      <th>US Gross Withdrawal in mcf</th>\n      <th>Other Gross Withdrawal in mcf</th>\n      <th>RSI</th>\n      <th>...</th>\n      <th>return_10d_lag4</th>\n      <th>return_21d_lag4</th>\n      <th>return_1d_lag5</th>\n      <th>return_5d_lag5</th>\n      <th>return_10d_lag5</th>\n      <th>return_21d_lag5</th>\n      <th>target_1d</th>\n      <th>target_5d</th>\n      <th>target_10d</th>\n      <th>target_21d</th>\n    </tr>\n    <tr>\n      <th>Date</th>\n      <th></th>\n      <th></th>\n      <th></th>\n      <th></th>\n      <th></th>\n      <th></th>\n      <th></th>\n      <th></th>\n      <th></th>\n      <th></th>\n      <th></th>\n      <th></th>\n      <th></th>\n      <th></th>\n      <th></th>\n      <th></th>\n      <th></th>\n      <th></th>\n      <th></th>\n      <th></th>\n      <th></th>\n    </tr>\n  </thead>\n  <tbody>\n    <tr>\n      <th>2011-10-06</th>\n      <td>3.598</td>\n      <td>144492.0</td>\n      <td>3.565</td>\n      <td>3.634</td>\n      <td>3.512</td>\n      <td>1744454.0</td>\n      <td>3408.0</td>\n      <td>2502387.0</td>\n      <td>94315.0</td>\n      <td>32.805890</td>\n      <td>...</td>\n      <td>NaN</td>\n      <td>NaN</td>\n      <td>NaN</td>\n      <td>NaN</td>\n      <td>NaN</td>\n      <td>NaN</td>\n      <td>-0.032518</td>\n      <td>-0.003752</td>\n      <td>0.000886</td>\n      <td>0.002390</td>\n    </tr>\n    <tr>\n      <th>2011-10-07</th>\n      <td>3.481</td>\n      <td>139225.0</td>\n      <td>3.595</td>\n      <td>3.600</td>\n      <td>3.472</td>\n      <td>1744454.0</td>\n      <td>3521.0</td>\n      <td>2502387.0</td>\n      <td>94315.0</td>\n      <td>28.027756</td>\n      <td>...</td>\n      <td>NaN</td>\n      <td>NaN</td>\n      <td>NaN</td>\n      <td>NaN</td>\n      <td>NaN</td>\n      <td>NaN</td>\n      <td>0.017236</td>\n      <td>0.012441</td>\n      <td>0.004172</td>\n      <td>0.002858</td>\n    </tr>\n    <tr>\n      <th>2011-10-10</th>\n      <td>3.541</td>\n      <td>122903.0</td>\n      <td>3.486</td>\n      <td>3.563</td>\n      <td>3.457</td>\n      <td>1744454.0</td>\n      <td>3521.0</td>\n      <td>2502387.0</td>\n      <td>94315.0</td>\n      <td>33.385996</td>\n      <td>...</td>\n      <td>NaN</td>\n      <td>NaN</td>\n      <td>NaN</td>\n      <td>NaN</td>\n      <td>NaN</td>\n      <td>NaN</td>\n      <td>0.021180</td>\n      <td>0.008168</td>\n      <td>0.001765</td>\n      <td>0.002671</td>\n    </tr>\n    <tr>\n      <th>2011-10-11</th>\n      <td>3.616</td>\n      <td>168456.0</td>\n      <td>3.562</td>\n      <td>3.627</td>\n      <td>3.513</td>\n      <td>1744454.0</td>\n      <td>3521.0</td>\n      <td>2502387.0</td>\n      <td>94315.0</td>\n      <td>39.453890</td>\n      <td>...</td>\n      <td>NaN</td>\n      <td>NaN</td>\n      <td>NaN</td>\n      <td>NaN</td>\n      <td>NaN</td>\n      <td>NaN</td>\n      <td>-0.035122</td>\n      <td>-0.003509</td>\n      <td>0.001155</td>\n      <td>0.000472</td>\n    </tr>\n    <tr>\n      <th>2011-10-12</th>\n      <td>3.489</td>\n      <td>158954.0</td>\n      <td>3.520</td>\n      <td>3.540</td>\n      <td>3.480</td>\n      <td>1744454.0</td>\n      <td>3521.0</td>\n      <td>2502387.0</td>\n      <td>94315.0</td>\n      <td>33.833721</td>\n      <td>...</td>\n      <td>NaN</td>\n      <td>NaN</td>\n      <td>NaN</td>\n      <td>NaN</td>\n      <td>NaN</td>\n      <td>NaN</td>\n      <td>0.012038</td>\n      <td>0.005500</td>\n      <td>0.002858</td>\n      <td>0.002137</td>\n    </tr>\n    <tr>\n      <th>...</th>\n      <td>...</td>\n      <td>...</td>\n      <td>...</td>\n      <td>...</td>\n      <td>...</td>\n      <td>...</td>\n      <td>...</td>\n      <td>...</td>\n      <td>...</td>\n      <td>...</td>\n      <td>...</td>\n      <td>...</td>\n      <td>...</td>\n      <td>...</td>\n      <td>...</td>\n      <td>...</td>\n      <td>...</td>\n      <td>...</td>\n      <td>...</td>\n      <td>...</td>\n      <td>...</td>\n    </tr>\n    <tr>\n      <th>2021-09-08</th>\n      <td>4.914</td>\n      <td>232232.0</td>\n      <td>4.598</td>\n      <td>5.010</td>\n      <td>4.585</td>\n      <td>2218011.0</td>\n      <td>2851.0</td>\n      <td>3396062.0</td>\n      <td>32500.0</td>\n      <td>75.070402</td>\n      <td>...</td>\n      <td>0.002830</td>\n      <td>0.007123</td>\n      <td>0.016725</td>\n      <td>0.002805</td>\n      <td>0.006967</td>\n      <td>-0.003026</td>\n      <td>0.023810</td>\n      <td>NaN</td>\n      <td>NaN</td>\n      <td>NaN</td>\n    </tr>\n    <tr>\n      <th>2021-09-09</th>\n      <td>5.031</td>\n      <td>224428.0</td>\n      <td>4.917</td>\n      <td>5.047</td>\n      <td>4.820</td>\n      <td>2218011.0</td>\n      <td>2851.0</td>\n      <td>3396062.0</td>\n      <td>32500.0</td>\n      <td>77.001714</td>\n      <td>...</td>\n      <td>0.000823</td>\n      <td>0.006838</td>\n      <td>0.054375</td>\n      <td>0.005575</td>\n      <td>0.011431</td>\n      <td>-0.001947</td>\n      <td>-0.018485</td>\n      <td>NaN</td>\n      <td>NaN</td>\n      <td>NaN</td>\n    </tr>\n    <tr>\n      <th>2021-09-10</th>\n      <td>4.938</td>\n      <td>136929.0</td>\n      <td>5.002</td>\n      <td>5.058</td>\n      <td>4.913</td>\n      <td>2218011.0</td>\n      <td>2851.0</td>\n      <td>3396062.0</td>\n      <td>32500.0</td>\n      <td>72.212841</td>\n      <td>...</td>\n      <td>-0.000991</td>\n      <td>0.005991</td>\n      <td>0.005634</td>\n      <td>0.003960</td>\n      <td>0.011644</td>\n      <td>0.000347</td>\n      <td>0.059336</td>\n      <td>NaN</td>\n      <td>NaN</td>\n      <td>NaN</td>\n    </tr>\n    <tr>\n      <th>2021-09-13</th>\n      <td>5.231</td>\n      <td>191680.0</td>\n      <td>4.945</td>\n      <td>5.289</td>\n      <td>4.879</td>\n      <td>2218011.0</td>\n      <td>2851.0</td>\n      <td>3396062.0</td>\n      <td>32500.0</td>\n      <td>77.054551</td>\n      <td>...</td>\n      <td>0.000355</td>\n      <td>0.006074</td>\n      <td>0.015298</td>\n      <td>0.010997</td>\n      <td>0.011886</td>\n      <td>0.002505</td>\n      <td>0.005544</td>\n      <td>NaN</td>\n      <td>NaN</td>\n      <td>NaN</td>\n    </tr>\n    <tr>\n      <th>2021-09-14</th>\n      <td>5.260</td>\n      <td>183062.0</td>\n      <td>5.199</td>\n      <td>5.369</td>\n      <td>5.171</td>\n      <td>2218011.0</td>\n      <td>2851.0</td>\n      <td>3396062.0</td>\n      <td>32500.0</td>\n      <td>77.472935</td>\n      <td>...</td>\n      <td>0.002115</td>\n      <td>0.005154</td>\n      <td>-0.030560</td>\n      <td>0.006274</td>\n      <td>0.014150</td>\n      <td>0.001753</td>\n      <td>NaN</td>\n      <td>NaN</td>\n      <td>NaN</td>\n      <td>NaN</td>\n    </tr>\n  </tbody>\n</table>\n<p>2487 rows × 42 columns</p>\n</div>"
     },
     "execution_count": 27,
     "metadata": {},
     "output_type": "execute_result"
    }
   ],
   "source": [
    "res_"
   ]
  },
  {
   "cell_type": "code",
   "execution_count": 28,
   "metadata": {
    "pycharm": {
     "name": "#%%\n"
    }
   },
   "outputs": [],
   "source": [
    "save_data = True\n",
    "\n",
    "res_['year'] = res_.index.get_level_values('Date').year\n",
    "res_['month'] = res_.index.get_level_values('Date').month\n",
    "res_['weekday'] = res_.index.get_level_values('Date').weekday\n",
    "\n",
    "res_.dropna(inplace=True)\n",
    "\n",
    "if save_data:\n",
    "    res_.to_hdf('../data/model_data.h5', 'no_dummies', mode='w')"
   ]
  },
  {
   "cell_type": "code",
   "execution_count": 29,
   "metadata": {
    "pycharm": {
     "name": "#%%\n"
    }
   },
   "outputs": [],
   "source": [
    "res_ = pd.get_dummies(res_,\n",
    "                      columns=['year', 'month', 'weekday'],\n",
    "                      prefix=['year', 'month', 'weekday'],\n",
    "                      prefix_sep=['_','_', '_'])"
   ]
  },
  {
   "cell_type": "code",
   "execution_count": 30,
   "metadata": {
    "pycharm": {
     "name": "#%%\n"
    }
   },
   "outputs": [
    {
     "name": "stdout",
     "output_type": "stream",
     "text": [
      "<class 'pandas.core.frame.DataFrame'>\n",
      "DatetimeIndex: 2340 entries, 2012-04-09 to 2021-08-13\n",
      "Data columns (total 69 columns):\n",
      " #   Column                         Non-Null Count  Dtype  \n",
      "---  ------                         --------------  -----  \n",
      " 0   Close                          2340 non-null   float64\n",
      " 1   Volume                         2340 non-null   float64\n",
      " 2   Open                           2340 non-null   float64\n",
      " 3   High                           2340 non-null   float64\n",
      " 4   Low                            2340 non-null   float64\n",
      " 5   Consumption in mcf             2340 non-null   float64\n",
      " 6   Storage in mcf                 2340 non-null   float64\n",
      " 7   US Gross Withdrawal in mcf     2340 non-null   float64\n",
      " 8   Other Gross Withdrawal in mcf  2340 non-null   float64\n",
      " 9   RSI                            2340 non-null   float64\n",
      " 10  ATR                            2340 non-null   float64\n",
      " 11  MACD                           2340 non-null   float64\n",
      " 12  return_1d                      2340 non-null   float64\n",
      " 13  return_5d                      2340 non-null   float64\n",
      " 14  return_10d                     2340 non-null   float64\n",
      " 15  return_21d                     2340 non-null   float64\n",
      " 16  return_42d                     2340 non-null   float64\n",
      " 17  return_63d                     2340 non-null   float64\n",
      " 18  return_1d_lag1                 2340 non-null   float64\n",
      " 19  return_5d_lag1                 2340 non-null   float64\n",
      " 20  return_10d_lag1                2340 non-null   float64\n",
      " 21  return_21d_lag1                2340 non-null   float64\n",
      " 22  return_1d_lag2                 2340 non-null   float64\n",
      " 23  return_5d_lag2                 2340 non-null   float64\n",
      " 24  return_10d_lag2                2340 non-null   float64\n",
      " 25  return_21d_lag2                2340 non-null   float64\n",
      " 26  return_1d_lag3                 2340 non-null   float64\n",
      " 27  return_5d_lag3                 2340 non-null   float64\n",
      " 28  return_10d_lag3                2340 non-null   float64\n",
      " 29  return_21d_lag3                2340 non-null   float64\n",
      " 30  return_1d_lag4                 2340 non-null   float64\n",
      " 31  return_5d_lag4                 2340 non-null   float64\n",
      " 32  return_10d_lag4                2340 non-null   float64\n",
      " 33  return_21d_lag4                2340 non-null   float64\n",
      " 34  return_1d_lag5                 2340 non-null   float64\n",
      " 35  return_5d_lag5                 2340 non-null   float64\n",
      " 36  return_10d_lag5                2340 non-null   float64\n",
      " 37  return_21d_lag5                2340 non-null   float64\n",
      " 38  target_1d                      2340 non-null   float64\n",
      " 39  target_5d                      2340 non-null   float64\n",
      " 40  target_10d                     2340 non-null   float64\n",
      " 41  target_21d                     2340 non-null   float64\n",
      " 42  year_2012                      2340 non-null   uint8  \n",
      " 43  year_2013                      2340 non-null   uint8  \n",
      " 44  year_2014                      2340 non-null   uint8  \n",
      " 45  year_2015                      2340 non-null   uint8  \n",
      " 46  year_2016                      2340 non-null   uint8  \n",
      " 47  year_2017                      2340 non-null   uint8  \n",
      " 48  year_2018                      2340 non-null   uint8  \n",
      " 49  year_2019                      2340 non-null   uint8  \n",
      " 50  year_2020                      2340 non-null   uint8  \n",
      " 51  year_2021                      2340 non-null   uint8  \n",
      " 52  month_1                        2340 non-null   uint8  \n",
      " 53  month_2                        2340 non-null   uint8  \n",
      " 54  month_3                        2340 non-null   uint8  \n",
      " 55  month_4                        2340 non-null   uint8  \n",
      " 56  month_5                        2340 non-null   uint8  \n",
      " 57  month_6                        2340 non-null   uint8  \n",
      " 58  month_7                        2340 non-null   uint8  \n",
      " 59  month_8                        2340 non-null   uint8  \n",
      " 60  month_9                        2340 non-null   uint8  \n",
      " 61  month_10                       2340 non-null   uint8  \n",
      " 62  month_11                       2340 non-null   uint8  \n",
      " 63  month_12                       2340 non-null   uint8  \n",
      " 64  weekday_0                      2340 non-null   uint8  \n",
      " 65  weekday_1                      2340 non-null   uint8  \n",
      " 66  weekday_2                      2340 non-null   uint8  \n",
      " 67  weekday_3                      2340 non-null   uint8  \n",
      " 68  weekday_4                      2340 non-null   uint8  \n",
      "dtypes: float64(42), uint8(27)\n",
      "memory usage: 847.8 KB\n"
     ]
    }
   ],
   "source": [
    "res_.dropna(inplace=True)\n",
    "\n",
    "res_.info(null_counts=True)"
   ]
  },
  {
   "cell_type": "code",
   "execution_count": 31,
   "metadata": {
    "pycharm": {
     "name": "#%%\n"
    }
   },
   "outputs": [],
   "source": [
    "if save_data:\n",
    "    res_.to_hdf('../data/model_data.h5', 'model_data', mode='a')"
   ]
  }
 ],
 "metadata": {
  "kernelspec": {
   "display_name": "Python 3 (ipykernel)",
   "language": "python",
   "name": "python3"
  },
  "language_info": {
   "codemirror_mode": {
    "name": "ipython",
    "version": 3
   },
   "file_extension": ".py",
   "mimetype": "text/x-python",
   "name": "python",
   "nbconvert_exporter": "python",
   "pygments_lexer": "ipython3",
   "version": "3.8.10"
  }
 },
 "nbformat": 4,
 "nbformat_minor": 1
}