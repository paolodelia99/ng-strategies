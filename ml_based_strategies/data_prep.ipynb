{
 "cells": [
  {
   "cell_type": "code",
   "execution_count": 1,
   "metadata": {},
   "outputs": [],
   "source": [
    "import warnings\n",
    "warnings.filterwarnings('ignore')"
   ]
  },
  {
   "cell_type": "code",
   "execution_count": 2,
   "outputs": [],
   "source": [
    "%matplotlib inline\n",
    "\n",
    "import pandas as pd\n",
    "\n",
    "import matplotlib.pyplot as plt\n",
    "import seaborn as sns\n",
    "\n",
    "import tulipy as tu"
   ],
   "metadata": {
    "collapsed": false,
    "pycharm": {
     "name": "#%%\n"
    }
   }
  },
  {
   "cell_type": "code",
   "execution_count": 3,
   "metadata": {
    "pycharm": {
     "name": "#%%\n"
    }
   },
   "outputs": [],
   "source": [
    "price_data_path = '../data/HistoricalData_NG.csv'\n",
    "consumption_path = '../data/U.S._Natural_Gas_Total_Consumption_Monthly.csv'\n",
    "undergound_st_path = '../data/Weekly_Lower_48_States_Natural_Gas_Working_Underground_Storage_Weekly.csv'\n",
    "us_gross_width_path = '../data/U.S._Natural_Gas_Gross_Withdrawals_Monthly.csv'\n",
    "o_gross_width_path = '../data/Other_States_Natural_Gas_Gross_Withdrawals_Monthly.csv'"
   ]
  },
  {
   "cell_type": "code",
   "execution_count": 4,
   "metadata": {
    "pycharm": {
     "name": "#%%\n"
    }
   },
   "outputs": [],
   "source": [
    "price_data = pd.read_csv(price_data_path, sep=',', index_col=0, parse_dates=True)\n",
    "cons_data = pd.read_csv(consumption_path, sep=',', index_col=0, parse_dates=True)\n",
    "undergound_st = pd.read_csv(undergound_st_path, sep=',', index_col=0, parse_dates=True)\n",
    "us_gross_width = pd.read_csv(us_gross_width_path, sep=',', index_col=0, parse_dates=True)\n",
    "o_gross_width = pd.read_csv(o_gross_width_path, sep=',', index_col=0, parse_dates=True)"
   ]
  },
  {
   "cell_type": "code",
   "execution_count": 5,
   "metadata": {
    "pycharm": {
     "name": "#%%\n"
    }
   },
   "outputs": [],
   "source": [
    "price_data = price_data.dropna()\n",
    "\n",
    "price_data = price_data.set_index(pd.to_datetime(price_data.index))\n",
    "price_data.sort_values(by='Date', inplace=True)\n",
    "\n",
    "cons_data.rename(columns={'Series ID: NG.N9140US2.M Million Cubic Feet':'Consumption in mcf'}, inplace=True)\n",
    "cons_data.index.rename('Date', inplace=True)\n",
    "cons_data.sort_values(by='Date', inplace=True)\n",
    "\n",
    "undergound_st = undergound_st.set_index(pd.to_datetime(undergound_st.index))\n",
    "undergound_st.rename(columns={'Series ID: NG.NW2_EPG0_SWO_R48_BCF.W Billion Cubic Feet':'Storage in mcf'}, inplace=True)\n",
    "undergound_st.index.rename('Date', inplace=True)\n",
    "undergound_st.sort_values(by='Date', inplace=True)\n",
    "\n",
    "us_gross_width.rename(columns={'Series ID: NG.N9010US2.M Million Cubic Feet':'US Gross Withdrawal in mcf'}, inplace=True)\n",
    "us_gross_width.index.rename('Date', inplace=True)\n",
    "us_gross_width.sort_values(by='Date', inplace=True)\n",
    "\n",
    "o_gross_width.rename(columns={'Series ID: NG.N9010982.M Million Cubic Feet':'Other Gross Withdrawal in mcf'}, inplace=True)\n",
    "o_gross_width.index.rename('Date', inplace=True)\n",
    "o_gross_width.sort_values(by='Date', inplace=True)"
   ]
  },
  {
   "cell_type": "code",
   "execution_count": 6,
   "metadata": {
    "pycharm": {
     "name": "#%%\n"
    }
   },
   "outputs": [
    {
     "data": {
      "text/plain": "            Storage in mcf\nDate                      \n2010-01-01            3117\n2010-01-08            2850\n2010-01-15            2607\n2010-01-22            2521\n2010-01-29            2406\n...                    ...\n2021-09-24            3170\n2021-10-01            3288\n2021-10-08            3369\n2021-10-15            3461\n2021-10-22            3548\n\n[617 rows x 1 columns]",
      "text/html": "<div>\n<style scoped>\n    .dataframe tbody tr th:only-of-type {\n        vertical-align: middle;\n    }\n\n    .dataframe tbody tr th {\n        vertical-align: top;\n    }\n\n    .dataframe thead th {\n        text-align: right;\n    }\n</style>\n<table border=\"1\" class=\"dataframe\">\n  <thead>\n    <tr style=\"text-align: right;\">\n      <th></th>\n      <th>Storage in mcf</th>\n    </tr>\n    <tr>\n      <th>Date</th>\n      <th></th>\n    </tr>\n  </thead>\n  <tbody>\n    <tr>\n      <th>2010-01-01</th>\n      <td>3117</td>\n    </tr>\n    <tr>\n      <th>2010-01-08</th>\n      <td>2850</td>\n    </tr>\n    <tr>\n      <th>2010-01-15</th>\n      <td>2607</td>\n    </tr>\n    <tr>\n      <th>2010-01-22</th>\n      <td>2521</td>\n    </tr>\n    <tr>\n      <th>2010-01-29</th>\n      <td>2406</td>\n    </tr>\n    <tr>\n      <th>...</th>\n      <td>...</td>\n    </tr>\n    <tr>\n      <th>2021-09-24</th>\n      <td>3170</td>\n    </tr>\n    <tr>\n      <th>2021-10-01</th>\n      <td>3288</td>\n    </tr>\n    <tr>\n      <th>2021-10-08</th>\n      <td>3369</td>\n    </tr>\n    <tr>\n      <th>2021-10-15</th>\n      <td>3461</td>\n    </tr>\n    <tr>\n      <th>2021-10-22</th>\n      <td>3548</td>\n    </tr>\n  </tbody>\n</table>\n<p>617 rows × 1 columns</p>\n</div>"
     },
     "execution_count": 6,
     "metadata": {},
     "output_type": "execute_result"
    }
   ],
   "source": [
    "undergound_st"
   ]
  },
  {
   "cell_type": "code",
   "execution_count": 7,
   "metadata": {
    "pycharm": {
     "name": "#%%\n"
    }
   },
   "outputs": [],
   "source": [
    "res = pd.concat([price_data, cons_data, undergound_st, us_gross_width, o_gross_width], axis=1)"
   ]
  },
  {
   "cell_type": "code",
   "execution_count": 8,
   "metadata": {
    "pycharm": {
     "name": "#%%\n"
    }
   },
   "outputs": [],
   "source": [
    "useful_columns = list(set(res.columns) - {'Close', 'High', 'Low', 'Volume', 'Open'})\n",
    "\n",
    "for col in useful_columns:\n",
    "    res[col] = res[col].ffill()"
   ]
  },
  {
   "cell_type": "code",
   "execution_count": 9,
   "metadata": {
    "pycharm": {
     "name": "#%%\n"
    }
   },
   "outputs": [
    {
     "data": {
      "text/plain": "            Close    Volume   Open   High    Low  Consumption in mcf  \\\nDate                                                                   \n2021-08-01    NaN       NaN    NaN    NaN    NaN           2406996.0   \n2021-08-02  3.935  105733.0  3.973  4.042  3.928           2406996.0   \n2021-08-03  4.027  115551.0  3.959  4.077  3.915           2406996.0   \n2021-08-04  4.158  134877.0  4.066  4.205  4.056           2406996.0   \n2021-08-05  4.140  118488.0  4.152  4.205  4.116           2406996.0   \n2021-08-06  4.134  128552.0  4.159  4.191  4.098           2406996.0   \n2021-08-09  4.060  160132.0  4.168  4.185  4.002           2406996.0   \n2021-08-10  4.089  134886.0  4.039  4.126  4.016           2406996.0   \n2021-08-11  4.059  139141.0  4.110  4.129  3.979           2406996.0   \n2021-08-12  3.933  163921.0  4.057  4.067  3.900           2406996.0   \n2021-08-13  3.861  113347.0  3.915  3.953  3.846           2406996.0   \n2021-08-16  3.946   96628.0  3.846  3.988  3.817           2406996.0   \n2021-08-17  3.837  123043.0  3.938  3.954  3.803           2406996.0   \n2021-08-18  3.852   90806.0  3.826  3.875  3.789           2406996.0   \n2021-08-19  3.830  116619.0  3.826  3.881  3.734           2406996.0   \n2021-08-20  3.851   99839.0  3.863  3.951  3.833           2406996.0   \n2021-08-23  3.945   78401.0  3.862  3.953  3.838           2406996.0   \n2021-08-24  3.896   54557.0  3.929  3.970  3.884           2406996.0   \n2021-08-25  3.897   37979.0  3.900  3.991  3.858           2406996.0   \n2021-08-26  4.184   64362.0  3.917  4.217  3.896           2406996.0   \n\n            Storage in mcf  US Gross Withdrawal in mcf  \\\nDate                                                     \n2021-08-01          2727.0                   3556749.0   \n2021-08-02          2727.0                   3556749.0   \n2021-08-03          2727.0                   3556749.0   \n2021-08-04          2727.0                   3556749.0   \n2021-08-05          2727.0                   3556749.0   \n2021-08-06          2776.0                   3556749.0   \n2021-08-09          2776.0                   3556749.0   \n2021-08-10          2776.0                   3556749.0   \n2021-08-11          2776.0                   3556749.0   \n2021-08-12          2776.0                   3556749.0   \n2021-08-13          2822.0                   3556749.0   \n2021-08-16          2822.0                   3556749.0   \n2021-08-17          2822.0                   3556749.0   \n2021-08-18          2822.0                   3556749.0   \n2021-08-19          2822.0                   3556749.0   \n2021-08-20          2851.0                   3556749.0   \n2021-08-23          2851.0                   3556749.0   \n2021-08-24          2851.0                   3556749.0   \n2021-08-25          2851.0                   3556749.0   \n2021-08-26          2851.0                   3556749.0   \n\n            Other Gross Withdrawal in mcf  \nDate                                       \n2021-08-01                        33556.0  \n2021-08-02                        33556.0  \n2021-08-03                        33556.0  \n2021-08-04                        33556.0  \n2021-08-05                        33556.0  \n2021-08-06                        33556.0  \n2021-08-09                        33556.0  \n2021-08-10                        33556.0  \n2021-08-11                        33556.0  \n2021-08-12                        33556.0  \n2021-08-13                        33556.0  \n2021-08-16                        33556.0  \n2021-08-17                        33556.0  \n2021-08-18                        33556.0  \n2021-08-19                        33556.0  \n2021-08-20                        33556.0  \n2021-08-23                        33556.0  \n2021-08-24                        33556.0  \n2021-08-25                        33556.0  \n2021-08-26                        33556.0  ",
      "text/html": "<div>\n<style scoped>\n    .dataframe tbody tr th:only-of-type {\n        vertical-align: middle;\n    }\n\n    .dataframe tbody tr th {\n        vertical-align: top;\n    }\n\n    .dataframe thead th {\n        text-align: right;\n    }\n</style>\n<table border=\"1\" class=\"dataframe\">\n  <thead>\n    <tr style=\"text-align: right;\">\n      <th></th>\n      <th>Close</th>\n      <th>Volume</th>\n      <th>Open</th>\n      <th>High</th>\n      <th>Low</th>\n      <th>Consumption in mcf</th>\n      <th>Storage in mcf</th>\n      <th>US Gross Withdrawal in mcf</th>\n      <th>Other Gross Withdrawal in mcf</th>\n    </tr>\n    <tr>\n      <th>Date</th>\n      <th></th>\n      <th></th>\n      <th></th>\n      <th></th>\n      <th></th>\n      <th></th>\n      <th></th>\n      <th></th>\n      <th></th>\n    </tr>\n  </thead>\n  <tbody>\n    <tr>\n      <th>2021-08-01</th>\n      <td>NaN</td>\n      <td>NaN</td>\n      <td>NaN</td>\n      <td>NaN</td>\n      <td>NaN</td>\n      <td>2406996.0</td>\n      <td>2727.0</td>\n      <td>3556749.0</td>\n      <td>33556.0</td>\n    </tr>\n    <tr>\n      <th>2021-08-02</th>\n      <td>3.935</td>\n      <td>105733.0</td>\n      <td>3.973</td>\n      <td>4.042</td>\n      <td>3.928</td>\n      <td>2406996.0</td>\n      <td>2727.0</td>\n      <td>3556749.0</td>\n      <td>33556.0</td>\n    </tr>\n    <tr>\n      <th>2021-08-03</th>\n      <td>4.027</td>\n      <td>115551.0</td>\n      <td>3.959</td>\n      <td>4.077</td>\n      <td>3.915</td>\n      <td>2406996.0</td>\n      <td>2727.0</td>\n      <td>3556749.0</td>\n      <td>33556.0</td>\n    </tr>\n    <tr>\n      <th>2021-08-04</th>\n      <td>4.158</td>\n      <td>134877.0</td>\n      <td>4.066</td>\n      <td>4.205</td>\n      <td>4.056</td>\n      <td>2406996.0</td>\n      <td>2727.0</td>\n      <td>3556749.0</td>\n      <td>33556.0</td>\n    </tr>\n    <tr>\n      <th>2021-08-05</th>\n      <td>4.140</td>\n      <td>118488.0</td>\n      <td>4.152</td>\n      <td>4.205</td>\n      <td>4.116</td>\n      <td>2406996.0</td>\n      <td>2727.0</td>\n      <td>3556749.0</td>\n      <td>33556.0</td>\n    </tr>\n    <tr>\n      <th>2021-08-06</th>\n      <td>4.134</td>\n      <td>128552.0</td>\n      <td>4.159</td>\n      <td>4.191</td>\n      <td>4.098</td>\n      <td>2406996.0</td>\n      <td>2776.0</td>\n      <td>3556749.0</td>\n      <td>33556.0</td>\n    </tr>\n    <tr>\n      <th>2021-08-09</th>\n      <td>4.060</td>\n      <td>160132.0</td>\n      <td>4.168</td>\n      <td>4.185</td>\n      <td>4.002</td>\n      <td>2406996.0</td>\n      <td>2776.0</td>\n      <td>3556749.0</td>\n      <td>33556.0</td>\n    </tr>\n    <tr>\n      <th>2021-08-10</th>\n      <td>4.089</td>\n      <td>134886.0</td>\n      <td>4.039</td>\n      <td>4.126</td>\n      <td>4.016</td>\n      <td>2406996.0</td>\n      <td>2776.0</td>\n      <td>3556749.0</td>\n      <td>33556.0</td>\n    </tr>\n    <tr>\n      <th>2021-08-11</th>\n      <td>4.059</td>\n      <td>139141.0</td>\n      <td>4.110</td>\n      <td>4.129</td>\n      <td>3.979</td>\n      <td>2406996.0</td>\n      <td>2776.0</td>\n      <td>3556749.0</td>\n      <td>33556.0</td>\n    </tr>\n    <tr>\n      <th>2021-08-12</th>\n      <td>3.933</td>\n      <td>163921.0</td>\n      <td>4.057</td>\n      <td>4.067</td>\n      <td>3.900</td>\n      <td>2406996.0</td>\n      <td>2776.0</td>\n      <td>3556749.0</td>\n      <td>33556.0</td>\n    </tr>\n    <tr>\n      <th>2021-08-13</th>\n      <td>3.861</td>\n      <td>113347.0</td>\n      <td>3.915</td>\n      <td>3.953</td>\n      <td>3.846</td>\n      <td>2406996.0</td>\n      <td>2822.0</td>\n      <td>3556749.0</td>\n      <td>33556.0</td>\n    </tr>\n    <tr>\n      <th>2021-08-16</th>\n      <td>3.946</td>\n      <td>96628.0</td>\n      <td>3.846</td>\n      <td>3.988</td>\n      <td>3.817</td>\n      <td>2406996.0</td>\n      <td>2822.0</td>\n      <td>3556749.0</td>\n      <td>33556.0</td>\n    </tr>\n    <tr>\n      <th>2021-08-17</th>\n      <td>3.837</td>\n      <td>123043.0</td>\n      <td>3.938</td>\n      <td>3.954</td>\n      <td>3.803</td>\n      <td>2406996.0</td>\n      <td>2822.0</td>\n      <td>3556749.0</td>\n      <td>33556.0</td>\n    </tr>\n    <tr>\n      <th>2021-08-18</th>\n      <td>3.852</td>\n      <td>90806.0</td>\n      <td>3.826</td>\n      <td>3.875</td>\n      <td>3.789</td>\n      <td>2406996.0</td>\n      <td>2822.0</td>\n      <td>3556749.0</td>\n      <td>33556.0</td>\n    </tr>\n    <tr>\n      <th>2021-08-19</th>\n      <td>3.830</td>\n      <td>116619.0</td>\n      <td>3.826</td>\n      <td>3.881</td>\n      <td>3.734</td>\n      <td>2406996.0</td>\n      <td>2822.0</td>\n      <td>3556749.0</td>\n      <td>33556.0</td>\n    </tr>\n    <tr>\n      <th>2021-08-20</th>\n      <td>3.851</td>\n      <td>99839.0</td>\n      <td>3.863</td>\n      <td>3.951</td>\n      <td>3.833</td>\n      <td>2406996.0</td>\n      <td>2851.0</td>\n      <td>3556749.0</td>\n      <td>33556.0</td>\n    </tr>\n    <tr>\n      <th>2021-08-23</th>\n      <td>3.945</td>\n      <td>78401.0</td>\n      <td>3.862</td>\n      <td>3.953</td>\n      <td>3.838</td>\n      <td>2406996.0</td>\n      <td>2851.0</td>\n      <td>3556749.0</td>\n      <td>33556.0</td>\n    </tr>\n    <tr>\n      <th>2021-08-24</th>\n      <td>3.896</td>\n      <td>54557.0</td>\n      <td>3.929</td>\n      <td>3.970</td>\n      <td>3.884</td>\n      <td>2406996.0</td>\n      <td>2851.0</td>\n      <td>3556749.0</td>\n      <td>33556.0</td>\n    </tr>\n    <tr>\n      <th>2021-08-25</th>\n      <td>3.897</td>\n      <td>37979.0</td>\n      <td>3.900</td>\n      <td>3.991</td>\n      <td>3.858</td>\n      <td>2406996.0</td>\n      <td>2851.0</td>\n      <td>3556749.0</td>\n      <td>33556.0</td>\n    </tr>\n    <tr>\n      <th>2021-08-26</th>\n      <td>4.184</td>\n      <td>64362.0</td>\n      <td>3.917</td>\n      <td>4.217</td>\n      <td>3.896</td>\n      <td>2406996.0</td>\n      <td>2851.0</td>\n      <td>3556749.0</td>\n      <td>33556.0</td>\n    </tr>\n  </tbody>\n</table>\n</div>"
     },
     "execution_count": 9,
     "metadata": {},
     "output_type": "execute_result"
    }
   ],
   "source": [
    "res.iloc[-65:-45]"
   ]
  },
  {
   "cell_type": "code",
   "execution_count": 10,
   "metadata": {
    "pycharm": {
     "name": "#%%\n"
    }
   },
   "outputs": [
    {
     "data": {
      "text/plain": "             Close         Volume         Open         High          Low  \\\ncount  2545.000000    2545.000000  2545.000000  2545.000000  2545.000000   \nmean      3.038772  121506.928880     3.040315     3.099072     2.982198   \nstd       0.785690   57741.681037     0.783716     0.806010     0.767371   \nmin       1.482000       4.000000     1.441000     1.567000     1.432000   \n25%       2.567000   88172.000000     2.573000     2.616000     2.522000   \n50%       2.890000  121067.000000     2.897000     2.943000     2.840000   \n75%       3.534000  154533.000000     3.534000     3.594000     3.472000   \nmax       6.312000  435320.000000     6.321000     6.493000     5.886000   \n\n       Consumption in mcf  Storage in mcf  US Gross Withdrawal in mcf  \\\ncount        2.816000e+03     2708.000000                3.068000e+03   \nmean         2.304710e+06     2758.004431                2.754867e+06   \nstd          4.347650e+05      763.453815                4.938234e+05   \nmin          1.368369e+06      824.000000                1.449958e+06   \n25%          1.951741e+06     2215.000000                2.475947e+06   \n50%          2.217254e+06     2816.000000                2.721449e+06   \n75%          2.567155e+06     3369.000000                3.206177e+06   \nmax          3.409295e+06     4047.000000                3.620708e+06   \n\n       Other Gross Withdrawal in mcf  \ncount                    2936.000000  \nmean                    54473.761580  \nstd                     20202.934987  \nmin                     30059.000000  \n25%                     40363.000000  \n50%                     48419.000000  \n75%                     58204.500000  \nmax                    109113.000000  ",
      "text/html": "<div>\n<style scoped>\n    .dataframe tbody tr th:only-of-type {\n        vertical-align: middle;\n    }\n\n    .dataframe tbody tr th {\n        vertical-align: top;\n    }\n\n    .dataframe thead th {\n        text-align: right;\n    }\n</style>\n<table border=\"1\" class=\"dataframe\">\n  <thead>\n    <tr style=\"text-align: right;\">\n      <th></th>\n      <th>Close</th>\n      <th>Volume</th>\n      <th>Open</th>\n      <th>High</th>\n      <th>Low</th>\n      <th>Consumption in mcf</th>\n      <th>Storage in mcf</th>\n      <th>US Gross Withdrawal in mcf</th>\n      <th>Other Gross Withdrawal in mcf</th>\n    </tr>\n  </thead>\n  <tbody>\n    <tr>\n      <th>count</th>\n      <td>2545.000000</td>\n      <td>2545.000000</td>\n      <td>2545.000000</td>\n      <td>2545.000000</td>\n      <td>2545.000000</td>\n      <td>2.816000e+03</td>\n      <td>2708.000000</td>\n      <td>3.068000e+03</td>\n      <td>2936.000000</td>\n    </tr>\n    <tr>\n      <th>mean</th>\n      <td>3.038772</td>\n      <td>121506.928880</td>\n      <td>3.040315</td>\n      <td>3.099072</td>\n      <td>2.982198</td>\n      <td>2.304710e+06</td>\n      <td>2758.004431</td>\n      <td>2.754867e+06</td>\n      <td>54473.761580</td>\n    </tr>\n    <tr>\n      <th>std</th>\n      <td>0.785690</td>\n      <td>57741.681037</td>\n      <td>0.783716</td>\n      <td>0.806010</td>\n      <td>0.767371</td>\n      <td>4.347650e+05</td>\n      <td>763.453815</td>\n      <td>4.938234e+05</td>\n      <td>20202.934987</td>\n    </tr>\n    <tr>\n      <th>min</th>\n      <td>1.482000</td>\n      <td>4.000000</td>\n      <td>1.441000</td>\n      <td>1.567000</td>\n      <td>1.432000</td>\n      <td>1.368369e+06</td>\n      <td>824.000000</td>\n      <td>1.449958e+06</td>\n      <td>30059.000000</td>\n    </tr>\n    <tr>\n      <th>25%</th>\n      <td>2.567000</td>\n      <td>88172.000000</td>\n      <td>2.573000</td>\n      <td>2.616000</td>\n      <td>2.522000</td>\n      <td>1.951741e+06</td>\n      <td>2215.000000</td>\n      <td>2.475947e+06</td>\n      <td>40363.000000</td>\n    </tr>\n    <tr>\n      <th>50%</th>\n      <td>2.890000</td>\n      <td>121067.000000</td>\n      <td>2.897000</td>\n      <td>2.943000</td>\n      <td>2.840000</td>\n      <td>2.217254e+06</td>\n      <td>2816.000000</td>\n      <td>2.721449e+06</td>\n      <td>48419.000000</td>\n    </tr>\n    <tr>\n      <th>75%</th>\n      <td>3.534000</td>\n      <td>154533.000000</td>\n      <td>3.534000</td>\n      <td>3.594000</td>\n      <td>3.472000</td>\n      <td>2.567155e+06</td>\n      <td>3369.000000</td>\n      <td>3.206177e+06</td>\n      <td>58204.500000</td>\n    </tr>\n    <tr>\n      <th>max</th>\n      <td>6.312000</td>\n      <td>435320.000000</td>\n      <td>6.321000</td>\n      <td>6.493000</td>\n      <td>5.886000</td>\n      <td>3.409295e+06</td>\n      <td>4047.000000</td>\n      <td>3.620708e+06</td>\n      <td>109113.000000</td>\n    </tr>\n  </tbody>\n</table>\n</div>"
     },
     "execution_count": 10,
     "metadata": {},
     "output_type": "execute_result"
    }
   ],
   "source": [
    "res.describe()"
   ]
  },
  {
   "cell_type": "code",
   "execution_count": 11,
   "metadata": {
    "pycharm": {
     "name": "#%%\n"
    }
   },
   "outputs": [
    {
     "name": "stdout",
     "output_type": "stream",
     "text": [
      "Close :  607\n",
      "Volume :  607\n",
      "Open :  607\n",
      "High :  607\n",
      "Low :  607\n",
      "Consumption in mcf :  336\n",
      "Storage in mcf :  444\n",
      "US Gross Withdrawal in mcf :  84\n",
      "Other Gross Withdrawal in mcf :  216\n"
     ]
    }
   ],
   "source": [
    "for col in res.columns:\n",
    "    print(col, ': ', res[col].isnull().sum())"
   ]
  },
  {
   "cell_type": "code",
   "execution_count": 12,
   "metadata": {
    "pycharm": {
     "name": "#%%\n"
    }
   },
   "outputs": [],
   "source": [
    "res_ = res.dropna()\n",
    "\n",
    "days = pd.date_range(res_.index[0], res_.index[-1], freq='D')"
   ]
  },
  {
   "cell_type": "markdown",
   "metadata": {
    "pycharm": {
     "name": "#%% md\n"
    }
   },
   "source": [
    "# Adding Technical Indicators"
   ]
  },
  {
   "cell_type": "code",
   "execution_count": 13,
   "metadata": {
    "pycharm": {
     "name": "#%%\n"
    }
   },
   "outputs": [],
   "source": [
    "rsi = tu.rsi(res_.Close.values, 14)"
   ]
  },
  {
   "cell_type": "code",
   "execution_count": 14,
   "metadata": {
    "pycharm": {
     "name": "#%%\n"
    }
   },
   "outputs": [
    {
     "data": {
      "text/plain": "<Figure size 432x288 with 1 Axes>",
      "image/png": "[encoded data removed]"
     },
     "metadata": {
      "needs_background": "light"
     },
     "output_type": "display_data"
    }
   ],
   "source": [
    "ax = sns.distplot(rsi)\n",
    "ax.axvline(30, ls='--', lw=1, c='k')\n",
    "ax.axvline(70, ls='--', lw=1, c='k')\n",
    "ax.set_title('RSI Distribution with Signal Threshold')\n",
    "plt.tight_layout();"
   ]
  },
  {
   "cell_type": "code",
   "execution_count": 15,
   "metadata": {
    "pycharm": {
     "name": "#%%\n"
    }
   },
   "outputs": [],
   "source": [
    "rsi_df = pd.DataFrame(data={\n",
    "    'Date': res_.index[-len(rsi):],\n",
    "    'RSI': rsi\n",
    "})\n",
    "rsi_df.set_index('Date', inplace=True)"
   ]
  },
  {
   "cell_type": "code",
   "execution_count": 16,
   "metadata": {
    "pycharm": {
     "name": "#%%\n"
    }
   },
   "outputs": [],
   "source": [
    "atr = tu.atr(res_.High.values, res_.Low.values, res_.Close.values, 14)\n",
    "\n",
    "# atr = (atr - atr.mean()) / atr.std()"
   ]
  },
  {
   "cell_type": "code",
   "execution_count": 17,
   "metadata": {
    "pycharm": {
     "name": "#%%\n"
    }
   },
   "outputs": [
    {
     "data": {
      "text/plain": "<seaborn.axisgrid.FacetGrid at 0x278d66e1e80>"
     },
     "execution_count": 17,
     "metadata": {},
     "output_type": "execute_result"
    },
    {
     "data": {
      "text/plain": "<Figure size 360x360 with 1 Axes>",
      "image/png": "[encoded data removed]"
     },
     "metadata": {
      "needs_background": "light"
     },
     "output_type": "display_data"
    }
   ],
   "source": [
    "sns.displot(atr)"
   ]
  },
  {
   "cell_type": "code",
   "execution_count": 18,
   "metadata": {
    "pycharm": {
     "name": "#%%\n"
    }
   },
   "outputs": [],
   "source": [
    "atr_df = pd.DataFrame(data={\n",
    "    'Date':res_.index[-len(atr):],\n",
    "    'ATR':atr\n",
    "})\n",
    "atr_df.set_index('Date', inplace=True)"
   ]
  },
  {
   "cell_type": "code",
   "execution_count": 19,
   "metadata": {
    "pycharm": {
     "name": "#%%\n"
    }
   },
   "outputs": [],
   "source": [
    "macd, macd_signal, macd_hist = tu.macd(res_.Close.values, 12, 26, 9)\n",
    "\n",
    "# macd = (macd - np.mean(macd)) / np.std(macd)"
   ]
  },
  {
   "cell_type": "code",
   "execution_count": 20,
   "metadata": {
    "pycharm": {
     "name": "#%%\n"
    }
   },
   "outputs": [
    {
     "data": {
      "text/plain": "<seaborn.axisgrid.FacetGrid at 0x278d674ad30>"
     },
     "execution_count": 20,
     "metadata": {},
     "output_type": "execute_result"
    },
    {
     "data": {
      "text/plain": "<Figure size 360x360 with 1 Axes>",
      "image/png": "[encoded data removed]"
     },
     "metadata": {
      "needs_background": "light"
     },
     "output_type": "display_data"
    }
   ],
   "source": [
    "sns.displot(macd)"
   ]
  },
  {
   "cell_type": "code",
   "execution_count": 21,
   "metadata": {
    "pycharm": {
     "name": "#%%\n"
    }
   },
   "outputs": [],
   "source": [
    "macd_df = pd.DataFrame(data={\n",
    "    'Date': res_.index[-len(macd):],\n",
    "    'MACD': macd\n",
    "})\n",
    "macd_df.set_index('Date', inplace=True)"
   ]
  },
  {
   "cell_type": "code",
   "execution_count": 22,
   "metadata": {
    "pycharm": {
     "name": "#%%\n"
    }
   },
   "outputs": [],
   "source": [
    "res_ = pd.concat([res_, rsi_df, atr_df, macd_df], axis=1)\n",
    "res_.dropna(inplace=True)"
   ]
  },
  {
   "cell_type": "code",
   "execution_count": 23,
   "metadata": {
    "pycharm": {
     "name": "#%%\n"
    }
   },
   "outputs": [
    {
     "data": {
      "text/plain": "            Close    Volume   Open   High    Low  Consumption in mcf  \\\nDate                                                                   \n2011-10-06  3.598  144492.0  3.565  3.634  3.512           1744454.0   \n2011-10-07  3.481  139225.0  3.595  3.600  3.472           1744454.0   \n2011-10-10  3.541  122903.0  3.486  3.563  3.457           1744454.0   \n2011-10-11  3.616  168456.0  3.562  3.627  3.513           1744454.0   \n2011-10-12  3.489  158954.0  3.520  3.540  3.480           1744454.0   \n...           ...       ...    ...    ...    ...                 ...   \n2021-10-25  5.898   48142.0  5.468  6.008  5.462           2406996.0   \n2021-10-26  5.882   42035.0  5.959  6.091  5.595           2406996.0   \n2021-10-27  6.198  178600.0  5.946  6.281  5.886           2406996.0   \n2021-10-28  5.782  160024.0  6.138  6.206  5.713           2406996.0   \n2021-10-29  5.426  143198.0  5.732  5.837  5.401           2406996.0   \n\n            Storage in mcf  US Gross Withdrawal in mcf  \\\nDate                                                     \n2011-10-06          3408.0                   2502387.0   \n2011-10-07          3521.0                   2502387.0   \n2011-10-10          3521.0                   2502387.0   \n2011-10-11          3521.0                   2502387.0   \n2011-10-12          3521.0                   2502387.0   \n...                    ...                         ...   \n2021-10-25          3548.0                   3556749.0   \n2021-10-26          3548.0                   3556749.0   \n2021-10-27          3548.0                   3556749.0   \n2021-10-28          3548.0                   3556749.0   \n2021-10-29          3548.0                   3556749.0   \n\n            Other Gross Withdrawal in mcf        RSI       ATR      MACD  \nDate                                                                      \n2011-10-06                        94315.0  32.805890  0.114925 -0.091309  \n2011-10-07                        94315.0  28.027756  0.115859 -0.100688  \n2011-10-10                        94315.0  33.385996  0.115155 -0.102430  \n2011-10-11                        94315.0  39.453890  0.115073 -0.097022  \n2011-10-12                        94315.0  33.833721  0.116567 -0.101203  \n...                                   ...        ...       ...       ...  \n2021-10-25                        33556.0  60.081969  0.394338  0.078229  \n2021-10-26                        33556.0  59.749029  0.401599  0.107662  \n2021-10-27                        33556.0  63.992895  0.401414  0.153291  \n2021-10-28                        33556.0  55.671283  0.407956  0.156243  \n2021-10-29                        33556.0  49.713418  0.409959  0.130107  \n\n[2520 rows x 12 columns]",
      "text/html": "<div>\n<style scoped>\n    .dataframe tbody tr th:only-of-type {\n        vertical-align: middle;\n    }\n\n    .dataframe tbody tr th {\n        vertical-align: top;\n    }\n\n    .dataframe thead th {\n        text-align: right;\n    }\n</style>\n<table border=\"1\" class=\"dataframe\">\n  <thead>\n    <tr style=\"text-align: right;\">\n      <th></th>\n      <th>Close</th>\n      <th>Volume</th>\n      <th>Open</th>\n      <th>High</th>\n      <th>Low</th>\n      <th>Consumption in mcf</th>\n      <th>Storage in mcf</th>\n      <th>US Gross Withdrawal in mcf</th>\n      <th>Other Gross Withdrawal in mcf</th>\n      <th>RSI</th>\n      <th>ATR</th>\n      <th>MACD</th>\n    </tr>\n    <tr>\n      <th>Date</th>\n      <th></th>\n      <th></th>\n      <th></th>\n      <th></th>\n      <th></th>\n      <th></th>\n      <th></th>\n      <th></th>\n      <th></th>\n      <th></th>\n      <th></th>\n      <th></th>\n    </tr>\n  </thead>\n  <tbody>\n    <tr>\n      <th>2011-10-06</th>\n      <td>3.598</td>\n      <td>144492.0</td>\n      <td>3.565</td>\n      <td>3.634</td>\n      <td>3.512</td>\n      <td>1744454.0</td>\n      <td>3408.0</td>\n      <td>2502387.0</td>\n      <td>94315.0</td>\n      <td>32.805890</td>\n      <td>0.114925</td>\n      <td>-0.091309</td>\n    </tr>\n    <tr>\n      <th>2011-10-07</th>\n      <td>3.481</td>\n      <td>139225.0</td>\n      <td>3.595</td>\n      <td>3.600</td>\n      <td>3.472</td>\n      <td>1744454.0</td>\n      <td>3521.0</td>\n      <td>2502387.0</td>\n      <td>94315.0</td>\n      <td>28.027756</td>\n      <td>0.115859</td>\n      <td>-0.100688</td>\n    </tr>\n    <tr>\n      <th>2011-10-10</th>\n      <td>3.541</td>\n      <td>122903.0</td>\n      <td>3.486</td>\n      <td>3.563</td>\n      <td>3.457</td>\n      <td>1744454.0</td>\n      <td>3521.0</td>\n      <td>2502387.0</td>\n      <td>94315.0</td>\n      <td>33.385996</td>\n      <td>0.115155</td>\n      <td>-0.102430</td>\n    </tr>\n    <tr>\n      <th>2011-10-11</th>\n      <td>3.616</td>\n      <td>168456.0</td>\n      <td>3.562</td>\n      <td>3.627</td>\n      <td>3.513</td>\n      <td>1744454.0</td>\n      <td>3521.0</td>\n      <td>2502387.0</td>\n      <td>94315.0</td>\n      <td>39.453890</td>\n      <td>0.115073</td>\n      <td>-0.097022</td>\n    </tr>\n    <tr>\n      <th>2011-10-12</th>\n      <td>3.489</td>\n      <td>158954.0</td>\n      <td>3.520</td>\n      <td>3.540</td>\n      <td>3.480</td>\n      <td>1744454.0</td>\n      <td>3521.0</td>\n      <td>2502387.0</td>\n      <td>94315.0</td>\n      <td>33.833721</td>\n      <td>0.116567</td>\n      <td>-0.101203</td>\n    </tr>\n    <tr>\n      <th>...</th>\n      <td>...</td>\n      <td>...</td>\n      <td>...</td>\n      <td>...</td>\n      <td>...</td>\n      <td>...</td>\n      <td>...</td>\n      <td>...</td>\n      <td>...</td>\n      <td>...</td>\n      <td>...</td>\n      <td>...</td>\n    </tr>\n    <tr>\n      <th>2021-10-25</th>\n      <td>5.898</td>\n      <td>48142.0</td>\n      <td>5.468</td>\n      <td>6.008</td>\n      <td>5.462</td>\n      <td>2406996.0</td>\n      <td>3548.0</td>\n      <td>3556749.0</td>\n      <td>33556.0</td>\n      <td>60.081969</td>\n      <td>0.394338</td>\n      <td>0.078229</td>\n    </tr>\n    <tr>\n      <th>2021-10-26</th>\n      <td>5.882</td>\n      <td>42035.0</td>\n      <td>5.959</td>\n      <td>6.091</td>\n      <td>5.595</td>\n      <td>2406996.0</td>\n      <td>3548.0</td>\n      <td>3556749.0</td>\n      <td>33556.0</td>\n      <td>59.749029</td>\n      <td>0.401599</td>\n      <td>0.107662</td>\n    </tr>\n    <tr>\n      <th>2021-10-27</th>\n      <td>6.198</td>\n      <td>178600.0</td>\n      <td>5.946</td>\n      <td>6.281</td>\n      <td>5.886</td>\n      <td>2406996.0</td>\n      <td>3548.0</td>\n      <td>3556749.0</td>\n      <td>33556.0</td>\n      <td>63.992895</td>\n      <td>0.401414</td>\n      <td>0.153291</td>\n    </tr>\n    <tr>\n      <th>2021-10-28</th>\n      <td>5.782</td>\n      <td>160024.0</td>\n      <td>6.138</td>\n      <td>6.206</td>\n      <td>5.713</td>\n      <td>2406996.0</td>\n      <td>3548.0</td>\n      <td>3556749.0</td>\n      <td>33556.0</td>\n      <td>55.671283</td>\n      <td>0.407956</td>\n      <td>0.156243</td>\n    </tr>\n    <tr>\n      <th>2021-10-29</th>\n      <td>5.426</td>\n      <td>143198.0</td>\n      <td>5.732</td>\n      <td>5.837</td>\n      <td>5.401</td>\n      <td>2406996.0</td>\n      <td>3548.0</td>\n      <td>3556749.0</td>\n      <td>33556.0</td>\n      <td>49.713418</td>\n      <td>0.409959</td>\n      <td>0.130107</td>\n    </tr>\n  </tbody>\n</table>\n<p>2520 rows × 12 columns</p>\n</div>"
     },
     "execution_count": 23,
     "metadata": {},
     "output_type": "execute_result"
    }
   ],
   "source": [
    "res_"
   ]
  },
  {
   "cell_type": "markdown",
   "metadata": {
    "pycharm": {
     "name": "#%% md\n"
    }
   },
   "source": [
    "# Compute Lagged Returns"
   ]
  },
  {
   "cell_type": "code",
   "execution_count": 24,
   "metadata": {
    "pycharm": {
     "name": "#%%\n"
    }
   },
   "outputs": [],
   "source": [
    "lags = [1, 5, 10, 21, 42, 63]\n",
    "\n",
    "for lag in lags:\n",
    "    res_[f'return_{lag}d'] = (res_.Close.pct_change(lag)\n",
    "                              .add(1)\n",
    "                              .pow(1 / lag)\n",
    "                              .sub(1))"
   ]
  },
  {
   "cell_type": "markdown",
   "metadata": {
    "pycharm": {
     "name": "#%% md\n"
    }
   },
   "source": [
    "# Shift lagged returns"
   ]
  },
  {
   "cell_type": "code",
   "execution_count": 25,
   "metadata": {
    "pycharm": {
     "name": "#%%\n"
    }
   },
   "outputs": [],
   "source": [
    "\n",
    "for t in [1, 2, 3, 4, 5]:\n",
    "    for lag in [1, 5, 10, 21]:\n",
    "        res_[f'return_{lag}d_lag{t}'] = (res_[f'return_{lag}d'].shift(t * lag))"
   ]
  },
  {
   "cell_type": "markdown",
   "metadata": {
    "pycharm": {
     "name": "#%% md\n"
    }
   },
   "source": [
    "# Compute forward returns"
   ]
  },
  {
   "cell_type": "code",
   "execution_count": 26,
   "metadata": {
    "pycharm": {
     "name": "#%%\n"
    }
   },
   "outputs": [],
   "source": [
    "for t in [1, 5, 10, 21]:\n",
    "    res_[f'target_{t}d'] = res_[f'return_{t}d'].shift(-t)"
   ]
  },
  {
   "cell_type": "code",
   "execution_count": 27,
   "metadata": {
    "pycharm": {
     "name": "#%%\n"
    }
   },
   "outputs": [
    {
     "data": {
      "text/plain": "            Close    Volume   Open   High    Low  Consumption in mcf  \\\nDate                                                                   \n2011-10-06  3.598  144492.0  3.565  3.634  3.512           1744454.0   \n2011-10-07  3.481  139225.0  3.595  3.600  3.472           1744454.0   \n2011-10-10  3.541  122903.0  3.486  3.563  3.457           1744454.0   \n2011-10-11  3.616  168456.0  3.562  3.627  3.513           1744454.0   \n2011-10-12  3.489  158954.0  3.520  3.540  3.480           1744454.0   \n...           ...       ...    ...    ...    ...                 ...   \n2021-10-25  5.898   48142.0  5.468  6.008  5.462           2406996.0   \n2021-10-26  5.882   42035.0  5.959  6.091  5.595           2406996.0   \n2021-10-27  6.198  178600.0  5.946  6.281  5.886           2406996.0   \n2021-10-28  5.782  160024.0  6.138  6.206  5.713           2406996.0   \n2021-10-29  5.426  143198.0  5.732  5.837  5.401           2406996.0   \n\n            Storage in mcf  US Gross Withdrawal in mcf  \\\nDate                                                     \n2011-10-06          3408.0                   2502387.0   \n2011-10-07          3521.0                   2502387.0   \n2011-10-10          3521.0                   2502387.0   \n2011-10-11          3521.0                   2502387.0   \n2011-10-12          3521.0                   2502387.0   \n...                    ...                         ...   \n2021-10-25          3548.0                   3556749.0   \n2021-10-26          3548.0                   3556749.0   \n2021-10-27          3548.0                   3556749.0   \n2021-10-28          3548.0                   3556749.0   \n2021-10-29          3548.0                   3556749.0   \n\n            Other Gross Withdrawal in mcf        RSI  ...  return_10d_lag4  \\\nDate                                                  ...                    \n2011-10-06                        94315.0  32.805890  ...              NaN   \n2011-10-07                        94315.0  28.027756  ...              NaN   \n2011-10-10                        94315.0  33.385996  ...              NaN   \n2011-10-11                        94315.0  39.453890  ...              NaN   \n2011-10-12                        94315.0  33.833721  ...              NaN   \n...                                   ...        ...  ...              ...   \n2021-10-25                        33556.0  60.081969  ...         0.012461   \n2021-10-26                        33556.0  59.749029  ...         0.008745   \n2021-10-27                        33556.0  63.992895  ...         0.013254   \n2021-10-28                        33556.0  55.671283  ...         0.018236   \n2021-10-29                        33556.0  49.713418  ...         0.019392   \n\n            return_21d_lag4  return_1d_lag5  return_5d_lag5  return_10d_lag5  \\\nDate                                                                           \n2011-10-06              NaN             NaN             NaN              NaN   \n2011-10-07              NaN             NaN             NaN              NaN   \n2011-10-10              NaN             NaN             NaN              NaN   \n2011-10-11              NaN             NaN             NaN              NaN   \n2011-10-12              NaN             NaN             NaN              NaN   \n...                     ...             ...             ...              ...   \n2021-10-25         0.007569       -0.077819       -0.009588        -0.001362   \n2021-10-26         0.009304        0.019844       -0.017932         0.000279   \n2021-10-27         0.009343        0.016116       -0.027067        -0.004821   \n2021-10-28         0.007746       -0.010638       -0.013836        -0.007615   \n2021-10-29         0.008341        0.032258        0.001367        -0.007753   \n\n            return_21d_lag5  target_1d  target_5d  target_10d  target_21d  \nDate                                                                       \n2011-10-06              NaN  -0.032518  -0.003752    0.000886    0.002390  \n2011-10-07              NaN   0.017236   0.012441    0.004172    0.002858  \n2011-10-10              NaN   0.021180   0.008168    0.001765    0.002671  \n2011-10-11              NaN  -0.035122  -0.003509    0.001155    0.000472  \n2011-10-12              NaN   0.012038   0.005500    0.002858    0.002137  \n...                     ...        ...        ...         ...         ...  \n2021-10-25         0.001807  -0.002713        NaN         NaN         NaN  \n2021-10-26         0.000534   0.053723        NaN         NaN         NaN  \n2021-10-27         0.001212  -0.067118        NaN         NaN         NaN  \n2021-10-28         0.002735  -0.061570        NaN         NaN         NaN  \n2021-10-29         0.001720        NaN        NaN         NaN         NaN  \n\n[2520 rows x 42 columns]",
      "text/html": "<div>\n<style scoped>\n    .dataframe tbody tr th:only-of-type {\n        vertical-align: middle;\n    }\n\n    .dataframe tbody tr th {\n        vertical-align: top;\n    }\n\n    .dataframe thead th {\n        text-align: right;\n    }\n</style>\n<table border=\"1\" class=\"dataframe\">\n  <thead>\n    <tr style=\"text-align: right;\">\n      <th></th>\n      <th>Close</th>\n      <th>Volume</th>\n      <th>Open</th>\n      <th>High</th>\n      <th>Low</th>\n      <th>Consumption in mcf</th>\n      <th>Storage in mcf</th>\n      <th>US Gross Withdrawal in mcf</th>\n      <th>Other Gross Withdrawal in mcf</th>\n      <th>RSI</th>\n      <th>...</th>\n      <th>return_10d_lag4</th>\n      <th>return_21d_lag4</th>\n      <th>return_1d_lag5</th>\n      <th>return_5d_lag5</th>\n      <th>return_10d_lag5</th>\n      <th>return_21d_lag5</th>\n      <th>target_1d</th>\n      <th>target_5d</th>\n      <th>target_10d</th>\n      <th>target_21d</th>\n    </tr>\n    <tr>\n      <th>Date</th>\n      <th></th>\n      <th></th>\n      <th></th>\n      <th></th>\n      <th></th>\n      <th></th>\n      <th></th>\n      <th></th>\n      <th></th>\n      <th></th>\n      <th></th>\n      <th></th>\n      <th></th>\n      <th></th>\n      <th></th>\n      <th></th>\n      <th></th>\n      <th></th>\n      <th></th>\n      <th></th>\n      <th></th>\n    </tr>\n  </thead>\n  <tbody>\n    <tr>\n      <th>2011-10-06</th>\n      <td>3.598</td>\n      <td>144492.0</td>\n      <td>3.565</td>\n      <td>3.634</td>\n      <td>3.512</td>\n      <td>1744454.0</td>\n      <td>3408.0</td>\n      <td>2502387.0</td>\n      <td>94315.0</td>\n      <td>32.805890</td>\n      <td>...</td>\n      <td>NaN</td>\n      <td>NaN</td>\n      <td>NaN</td>\n      <td>NaN</td>\n      <td>NaN</td>\n      <td>NaN</td>\n      <td>-0.032518</td>\n      <td>-0.003752</td>\n      <td>0.000886</td>\n      <td>0.002390</td>\n    </tr>\n    <tr>\n      <th>2011-10-07</th>\n      <td>3.481</td>\n      <td>139225.0</td>\n      <td>3.595</td>\n      <td>3.600</td>\n      <td>3.472</td>\n      <td>1744454.0</td>\n      <td>3521.0</td>\n      <td>2502387.0</td>\n      <td>94315.0</td>\n      <td>28.027756</td>\n      <td>...</td>\n      <td>NaN</td>\n      <td>NaN</td>\n      <td>NaN</td>\n      <td>NaN</td>\n      <td>NaN</td>\n      <td>NaN</td>\n      <td>0.017236</td>\n      <td>0.012441</td>\n      <td>0.004172</td>\n      <td>0.002858</td>\n    </tr>\n    <tr>\n      <th>2011-10-10</th>\n      <td>3.541</td>\n      <td>122903.0</td>\n      <td>3.486</td>\n      <td>3.563</td>\n      <td>3.457</td>\n      <td>1744454.0</td>\n      <td>3521.0</td>\n      <td>2502387.0</td>\n      <td>94315.0</td>\n      <td>33.385996</td>\n      <td>...</td>\n      <td>NaN</td>\n      <td>NaN</td>\n      <td>NaN</td>\n      <td>NaN</td>\n      <td>NaN</td>\n      <td>NaN</td>\n      <td>0.021180</td>\n      <td>0.008168</td>\n      <td>0.001765</td>\n      <td>0.002671</td>\n    </tr>\n    <tr>\n      <th>2011-10-11</th>\n      <td>3.616</td>\n      <td>168456.0</td>\n      <td>3.562</td>\n      <td>3.627</td>\n      <td>3.513</td>\n      <td>1744454.0</td>\n      <td>3521.0</td>\n      <td>2502387.0</td>\n      <td>94315.0</td>\n      <td>39.453890</td>\n      <td>...</td>\n      <td>NaN</td>\n      <td>NaN</td>\n      <td>NaN</td>\n      <td>NaN</td>\n      <td>NaN</td>\n      <td>NaN</td>\n      <td>-0.035122</td>\n      <td>-0.003509</td>\n      <td>0.001155</td>\n      <td>0.000472</td>\n    </tr>\n    <tr>\n      <th>2011-10-12</th>\n      <td>3.489</td>\n      <td>158954.0</td>\n      <td>3.520</td>\n      <td>3.540</td>\n      <td>3.480</td>\n      <td>1744454.0</td>\n      <td>3521.0</td>\n      <td>2502387.0</td>\n      <td>94315.0</td>\n      <td>33.833721</td>\n      <td>...</td>\n      <td>NaN</td>\n      <td>NaN</td>\n      <td>NaN</td>\n      <td>NaN</td>\n      <td>NaN</td>\n      <td>NaN</td>\n      <td>0.012038</td>\n      <td>0.005500</td>\n      <td>0.002858</td>\n      <td>0.002137</td>\n    </tr>\n    <tr>\n      <th>...</th>\n      <td>...</td>\n      <td>...</td>\n      <td>...</td>\n      <td>...</td>\n      <td>...</td>\n      <td>...</td>\n      <td>...</td>\n      <td>...</td>\n      <td>...</td>\n      <td>...</td>\n      <td>...</td>\n      <td>...</td>\n      <td>...</td>\n      <td>...</td>\n      <td>...</td>\n      <td>...</td>\n      <td>...</td>\n      <td>...</td>\n      <td>...</td>\n      <td>...</td>\n      <td>...</td>\n    </tr>\n    <tr>\n      <th>2021-10-25</th>\n      <td>5.898</td>\n      <td>48142.0</td>\n      <td>5.468</td>\n      <td>6.008</td>\n      <td>5.462</td>\n      <td>2406996.0</td>\n      <td>3548.0</td>\n      <td>3556749.0</td>\n      <td>33556.0</td>\n      <td>60.081969</td>\n      <td>...</td>\n      <td>0.012461</td>\n      <td>0.007569</td>\n      <td>-0.077819</td>\n      <td>-0.009588</td>\n      <td>-0.001362</td>\n      <td>0.001807</td>\n      <td>-0.002713</td>\n      <td>NaN</td>\n      <td>NaN</td>\n      <td>NaN</td>\n    </tr>\n    <tr>\n      <th>2021-10-26</th>\n      <td>5.882</td>\n      <td>42035.0</td>\n      <td>5.959</td>\n      <td>6.091</td>\n      <td>5.595</td>\n      <td>2406996.0</td>\n      <td>3548.0</td>\n      <td>3556749.0</td>\n      <td>33556.0</td>\n      <td>59.749029</td>\n      <td>...</td>\n      <td>0.008745</td>\n      <td>0.009304</td>\n      <td>0.019844</td>\n      <td>-0.017932</td>\n      <td>0.000279</td>\n      <td>0.000534</td>\n      <td>0.053723</td>\n      <td>NaN</td>\n      <td>NaN</td>\n      <td>NaN</td>\n    </tr>\n    <tr>\n      <th>2021-10-27</th>\n      <td>6.198</td>\n      <td>178600.0</td>\n      <td>5.946</td>\n      <td>6.281</td>\n      <td>5.886</td>\n      <td>2406996.0</td>\n      <td>3548.0</td>\n      <td>3556749.0</td>\n      <td>33556.0</td>\n      <td>63.992895</td>\n      <td>...</td>\n      <td>0.013254</td>\n      <td>0.009343</td>\n      <td>0.016116</td>\n      <td>-0.027067</td>\n      <td>-0.004821</td>\n      <td>0.001212</td>\n      <td>-0.067118</td>\n      <td>NaN</td>\n      <td>NaN</td>\n      <td>NaN</td>\n    </tr>\n    <tr>\n      <th>2021-10-28</th>\n      <td>5.782</td>\n      <td>160024.0</td>\n      <td>6.138</td>\n      <td>6.206</td>\n      <td>5.713</td>\n      <td>2406996.0</td>\n      <td>3548.0</td>\n      <td>3556749.0</td>\n      <td>33556.0</td>\n      <td>55.671283</td>\n      <td>...</td>\n      <td>0.018236</td>\n      <td>0.007746</td>\n      <td>-0.010638</td>\n      <td>-0.013836</td>\n      <td>-0.007615</td>\n      <td>0.002735</td>\n      <td>-0.061570</td>\n      <td>NaN</td>\n      <td>NaN</td>\n      <td>NaN</td>\n    </tr>\n    <tr>\n      <th>2021-10-29</th>\n      <td>5.426</td>\n      <td>143198.0</td>\n      <td>5.732</td>\n      <td>5.837</td>\n      <td>5.401</td>\n      <td>2406996.0</td>\n      <td>3548.0</td>\n      <td>3556749.0</td>\n      <td>33556.0</td>\n      <td>49.713418</td>\n      <td>...</td>\n      <td>0.019392</td>\n      <td>0.008341</td>\n      <td>0.032258</td>\n      <td>0.001367</td>\n      <td>-0.007753</td>\n      <td>0.001720</td>\n      <td>NaN</td>\n      <td>NaN</td>\n      <td>NaN</td>\n      <td>NaN</td>\n    </tr>\n  </tbody>\n</table>\n<p>2520 rows × 42 columns</p>\n</div>"
     },
     "execution_count": 27,
     "metadata": {},
     "output_type": "execute_result"
    }
   ],
   "source": [
    "res_"
   ]
  },
  {
   "cell_type": "code",
   "execution_count": 28,
   "metadata": {
    "pycharm": {
     "name": "#%%\n"
    }
   },
   "outputs": [],
   "source": [
    "save_data = True\n",
    "\n",
    "res_['year'] = res_.index.get_level_values('Date').year\n",
    "res_['month'] = res_.index.get_level_values('Date').month\n",
    "res_['weekday'] = res_.index.get_level_values('Date').weekday\n",
    "\n",
    "res_.dropna(inplace=True)\n",
    "\n",
    "if save_data:\n",
    "    res_.to_hdf('../data/model_data.h5', 'no_dummies', mode='w')"
   ]
  },
  {
   "cell_type": "code",
   "execution_count": 29,
   "metadata": {
    "pycharm": {
     "name": "#%%\n"
    }
   },
   "outputs": [],
   "source": [
    "res_ = pd.get_dummies(res_,\n",
    "                      columns=['year', 'month', 'weekday'],\n",
    "                      prefix=['year', 'month', 'weekday'],\n",
    "                      prefix_sep=['_', '_', '_'])"
   ]
  },
  {
   "cell_type": "code",
   "execution_count": 30,
   "metadata": {
    "pycharm": {
     "name": "#%%\n"
    }
   },
   "outputs": [
    {
     "name": "stdout",
     "output_type": "stream",
     "text": [
      "<class 'pandas.core.frame.DataFrame'>\n",
      "DatetimeIndex: 2373 entries, 2012-04-09 to 2021-09-30\n",
      "Data columns (total 69 columns):\n",
      " #   Column                         Non-Null Count  Dtype  \n",
      "---  ------                         --------------  -----  \n",
      " 0   Close                          2373 non-null   float64\n",
      " 1   Volume                         2373 non-null   float64\n",
      " 2   Open                           2373 non-null   float64\n",
      " 3   High                           2373 non-null   float64\n",
      " 4   Low                            2373 non-null   float64\n",
      " 5   Consumption in mcf             2373 non-null   float64\n",
      " 6   Storage in mcf                 2373 non-null   float64\n",
      " 7   US Gross Withdrawal in mcf     2373 non-null   float64\n",
      " 8   Other Gross Withdrawal in mcf  2373 non-null   float64\n",
      " 9   RSI                            2373 non-null   float64\n",
      " 10  ATR                            2373 non-null   float64\n",
      " 11  MACD                           2373 non-null   float64\n",
      " 12  return_1d                      2373 non-null   float64\n",
      " 13  return_5d                      2373 non-null   float64\n",
      " 14  return_10d                     2373 non-null   float64\n",
      " 15  return_21d                     2373 non-null   float64\n",
      " 16  return_42d                     2373 non-null   float64\n",
      " 17  return_63d                     2373 non-null   float64\n",
      " 18  return_1d_lag1                 2373 non-null   float64\n",
      " 19  return_5d_lag1                 2373 non-null   float64\n",
      " 20  return_10d_lag1                2373 non-null   float64\n",
      " 21  return_21d_lag1                2373 non-null   float64\n",
      " 22  return_1d_lag2                 2373 non-null   float64\n",
      " 23  return_5d_lag2                 2373 non-null   float64\n",
      " 24  return_10d_lag2                2373 non-null   float64\n",
      " 25  return_21d_lag2                2373 non-null   float64\n",
      " 26  return_1d_lag3                 2373 non-null   float64\n",
      " 27  return_5d_lag3                 2373 non-null   float64\n",
      " 28  return_10d_lag3                2373 non-null   float64\n",
      " 29  return_21d_lag3                2373 non-null   float64\n",
      " 30  return_1d_lag4                 2373 non-null   float64\n",
      " 31  return_5d_lag4                 2373 non-null   float64\n",
      " 32  return_10d_lag4                2373 non-null   float64\n",
      " 33  return_21d_lag4                2373 non-null   float64\n",
      " 34  return_1d_lag5                 2373 non-null   float64\n",
      " 35  return_5d_lag5                 2373 non-null   float64\n",
      " 36  return_10d_lag5                2373 non-null   float64\n",
      " 37  return_21d_lag5                2373 non-null   float64\n",
      " 38  target_1d                      2373 non-null   float64\n",
      " 39  target_5d                      2373 non-null   float64\n",
      " 40  target_10d                     2373 non-null   float64\n",
      " 41  target_21d                     2373 non-null   float64\n",
      " 42  year_2012                      2373 non-null   uint8  \n",
      " 43  year_2013                      2373 non-null   uint8  \n",
      " 44  year_2014                      2373 non-null   uint8  \n",
      " 45  year_2015                      2373 non-null   uint8  \n",
      " 46  year_2016                      2373 non-null   uint8  \n",
      " 47  year_2017                      2373 non-null   uint8  \n",
      " 48  year_2018                      2373 non-null   uint8  \n",
      " 49  year_2019                      2373 non-null   uint8  \n",
      " 50  year_2020                      2373 non-null   uint8  \n",
      " 51  year_2021                      2373 non-null   uint8  \n",
      " 52  month_1                        2373 non-null   uint8  \n",
      " 53  month_2                        2373 non-null   uint8  \n",
      " 54  month_3                        2373 non-null   uint8  \n",
      " 55  month_4                        2373 non-null   uint8  \n",
      " 56  month_5                        2373 non-null   uint8  \n",
      " 57  month_6                        2373 non-null   uint8  \n",
      " 58  month_7                        2373 non-null   uint8  \n",
      " 59  month_8                        2373 non-null   uint8  \n",
      " 60  month_9                        2373 non-null   uint8  \n",
      " 61  month_10                       2373 non-null   uint8  \n",
      " 62  month_11                       2373 non-null   uint8  \n",
      " 63  month_12                       2373 non-null   uint8  \n",
      " 64  weekday_0                      2373 non-null   uint8  \n",
      " 65  weekday_1                      2373 non-null   uint8  \n",
      " 66  weekday_2                      2373 non-null   uint8  \n",
      " 67  weekday_3                      2373 non-null   uint8  \n",
      " 68  weekday_4                      2373 non-null   uint8  \n",
      "dtypes: float64(42), uint8(27)\n",
      "memory usage: 859.7 KB\n"
     ]
    }
   ],
   "source": [
    "res_.dropna(inplace=True)\n",
    "\n",
    "res_.info(null_counts=True)"
   ]
  },
  {
   "cell_type": "code",
   "execution_count": 31,
   "metadata": {
    "pycharm": {
     "name": "#%%\n"
    }
   },
   "outputs": [],
   "source": [
    "if save_data:\n",
    "    res_.to_hdf('../data/model_data.h5', 'model_data', mode='a')"
   ]
  }
 ],
 "metadata": {
  "kernelspec": {
   "display_name": "Python 3 (ipykernel)",
   "language": "python",
   "name": "python3"
  },
  "language_info": {
   "codemirror_mode": {
    "name": "ipython",
    "version": 3
   },
   "file_extension": ".py",
   "mimetype": "text/x-python",
   "name": "python",
   "nbconvert_exporter": "python",
   "pygments_lexer": "ipython3",
   "version": "3.8.10"
  }
 },
 "nbformat": 4,
 "nbformat_minor": 1
}