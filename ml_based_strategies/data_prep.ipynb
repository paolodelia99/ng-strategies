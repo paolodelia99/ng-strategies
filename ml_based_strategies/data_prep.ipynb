{
 "cells": [
  {
   "cell_type": "code",
   "execution_count": 1,
   "metadata": {},
   "outputs": [],
   "source": [
    "import warnings\n",
    "warnings.filterwarnings('ignore')"
   ]
  },
  {
   "cell_type": "code",
   "execution_count": 2,
   "outputs": [],
   "source": [
    "%matplotlib inline\n",
    "\n",
    "import pandas as pd\n",
    "\n",
    "import matplotlib.pyplot as plt\n",
    "import seaborn as sns\n",
    "\n",
    "import tulipy as tu"
   ],
   "metadata": {
    "collapsed": false,
    "pycharm": {
     "name": "#%%\n"
    }
   }
  },
  {
   "cell_type": "code",
   "execution_count": 3,
   "metadata": {
    "pycharm": {
     "name": "#%%\n"
    }
   },
   "outputs": [],
   "source": [
    "price_data_path = '../data/HistoricalData_NG.csv'\n",
    "consumption_path = '../data/U.S._Natural_Gas_Total_Consumption_Monthly.csv'\n",
    "undergound_st_path = '../data/Weekly_Lower_48_States_Natural_Gas_Working_Underground_Storage_Weekly.csv'\n",
    "us_gross_width_path = '../data/U.S._Natural_Gas_Gross_Withdrawals_Monthly.csv'\n",
    "o_gross_width_path = '../data/Other_States_Natural_Gas_Gross_Withdrawals_Monthly.csv'"
   ]
  },
  {
   "cell_type": "code",
   "execution_count": 4,
   "metadata": {
    "pycharm": {
     "name": "#%%\n"
    }
   },
   "outputs": [],
   "source": [
    "price_data = pd.read_csv(price_data_path, sep=',', index_col=0, parse_dates=True)\n",
    "cons_data = pd.read_csv(consumption_path, sep=',', index_col=0, parse_dates=True)\n",
    "undergound_st = pd.read_csv(undergound_st_path, sep=',', index_col=0, parse_dates=True)\n",
    "us_gross_width = pd.read_csv(us_gross_width_path, sep=',', index_col=0, parse_dates=True)\n",
    "o_gross_width = pd.read_csv(o_gross_width_path, sep=',', index_col=0, parse_dates=True)"
   ]
  },
  {
   "cell_type": "code",
   "execution_count": 5,
   "metadata": {
    "pycharm": {
     "name": "#%%\n"
    }
   },
   "outputs": [],
   "source": [
    "price_data = price_data.dropna()\n",
    "\n",
    "price_data = price_data.set_index(pd.to_datetime(price_data.index))\n",
    "price_data.sort_values(by='Date', inplace=True)\n",
    "\n",
    "cons_data.rename(columns={'Series ID: NG.N9140US2.M Million Cubic Feet':'Consumption in mcf'}, inplace=True)\n",
    "cons_data.index.rename('Date', inplace=True)\n",
    "cons_data.sort_values(by='Date', inplace=True)\n",
    "\n",
    "undergound_st = undergound_st.set_index(pd.to_datetime(undergound_st.index))\n",
    "undergound_st.rename(columns={'Series ID: NG.NW2_EPG0_SWO_R48_BCF.W Billion Cubic Feet':'Storage in mcf'}, inplace=True)\n",
    "undergound_st.index.rename('Date', inplace=True)\n",
    "undergound_st.sort_values(by='Date', inplace=True)\n",
    "\n",
    "us_gross_width.rename(columns={'Series ID: NG.N9010US2.M Million Cubic Feet':'US Gross Withdrawal in mcf'}, inplace=True)\n",
    "us_gross_width.index.rename('Date', inplace=True)\n",
    "us_gross_width.sort_values(by='Date', inplace=True)\n",
    "\n",
    "o_gross_width.rename(columns={'Series ID: NG.N9010982.M Million Cubic Feet':'Other Gross Withdrawal in mcf'}, inplace=True)\n",
    "o_gross_width.index.rename('Date', inplace=True)\n",
    "o_gross_width.sort_values(by='Date', inplace=True)"
   ]
  },
  {
   "cell_type": "code",
   "execution_count": 6,
   "metadata": {
    "pycharm": {
     "name": "#%%\n"
    }
   },
   "outputs": [
    {
     "data": {
      "text/plain": "            Storage in mcf\nDate                      \n2010-01-01            3117\n2010-01-08            2850\n2010-01-15            2607\n2010-01-22            2521\n2010-01-29            2406\n...                    ...\n2021-08-27            2871\n2021-09-03            2923\n2021-09-10            3006\n2021-09-17            3082\n2021-09-24            3170\n\n[613 rows x 1 columns]",
      "text/html": "<div>\n<style scoped>\n    .dataframe tbody tr th:only-of-type {\n        vertical-align: middle;\n    }\n\n    .dataframe tbody tr th {\n        vertical-align: top;\n    }\n\n    .dataframe thead th {\n        text-align: right;\n    }\n</style>\n<table border=\"1\" class=\"dataframe\">\n  <thead>\n    <tr style=\"text-align: right;\">\n      <th></th>\n      <th>Storage in mcf</th>\n    </tr>\n    <tr>\n      <th>Date</th>\n      <th></th>\n    </tr>\n  </thead>\n  <tbody>\n    <tr>\n      <th>2010-01-01</th>\n      <td>3117</td>\n    </tr>\n    <tr>\n      <th>2010-01-08</th>\n      <td>2850</td>\n    </tr>\n    <tr>\n      <th>2010-01-15</th>\n      <td>2607</td>\n    </tr>\n    <tr>\n      <th>2010-01-22</th>\n      <td>2521</td>\n    </tr>\n    <tr>\n      <th>2010-01-29</th>\n      <td>2406</td>\n    </tr>\n    <tr>\n      <th>...</th>\n      <td>...</td>\n    </tr>\n    <tr>\n      <th>2021-08-27</th>\n      <td>2871</td>\n    </tr>\n    <tr>\n      <th>2021-09-03</th>\n      <td>2923</td>\n    </tr>\n    <tr>\n      <th>2021-09-10</th>\n      <td>3006</td>\n    </tr>\n    <tr>\n      <th>2021-09-17</th>\n      <td>3082</td>\n    </tr>\n    <tr>\n      <th>2021-09-24</th>\n      <td>3170</td>\n    </tr>\n  </tbody>\n</table>\n<p>613 rows × 1 columns</p>\n</div>"
     },
     "execution_count": 6,
     "metadata": {},
     "output_type": "execute_result"
    }
   ],
   "source": [
    "undergound_st"
   ]
  },
  {
   "cell_type": "code",
   "execution_count": 7,
   "metadata": {
    "pycharm": {
     "name": "#%%\n"
    }
   },
   "outputs": [],
   "source": [
    "res = pd.concat([price_data, cons_data, undergound_st, us_gross_width, o_gross_width], axis=1)"
   ]
  },
  {
   "cell_type": "code",
   "execution_count": 8,
   "metadata": {
    "pycharm": {
     "name": "#%%\n"
    }
   },
   "outputs": [],
   "source": [
    "useful_columns = list(set(res.columns) - {'Close', 'High', 'Low', 'Volume', 'Open'})\n",
    "\n",
    "for col in useful_columns:\n",
    "    res[col] = res[col].ffill()"
   ]
  },
  {
   "cell_type": "code",
   "execution_count": 9,
   "metadata": {
    "pycharm": {
     "name": "#%%\n"
    }
   },
   "outputs": [
    {
     "data": {
      "text/plain": "            Close    Volume   Open   High    Low  Consumption in mcf  \\\nDate                                                                   \n2021-06-29  3.630  196638.0  3.583  3.811  3.571           2218011.0   \n2021-06-30  3.650  182091.0  3.651  3.814  3.604           2218011.0   \n2021-07-01  3.661  145920.0  3.746  3.764  3.591           2218011.0   \n2021-07-02  3.700  108587.0  3.663  3.741  3.598           2218011.0   \n2021-07-06  3.637  147960.0  3.704  3.822  3.608           2218011.0   \n2021-07-07  3.596  120022.0  3.673  3.707  3.520           2218011.0   \n2021-07-08  3.688  141742.0  3.579  3.720  3.540           2218011.0   \n2021-07-09  3.674  101501.0  3.686  3.742  3.657           2218011.0   \n2021-07-12  3.749  118212.0  3.673  3.763  3.623           2218011.0   \n2021-07-13  3.696   97857.0  3.744  3.769  3.673           2218011.0   \n2021-07-14  3.660  125904.0  3.694  3.755  3.624           2218011.0   \n2021-07-15  3.614  111302.0  3.670  3.686  3.605           2218011.0   \n2021-07-16  3.674   82330.0  3.617  3.688  3.584           2218011.0   \n2021-07-19  3.779  116582.0  3.703  3.788  3.686           2218011.0   \n2021-07-20  3.876  113442.0  3.772  3.934  3.740           2218011.0   \n2021-07-21  3.959  103231.0  3.927  3.965  3.891           2218011.0   \n2021-07-22  4.003   98347.0  3.922  4.006  3.876           2218011.0   \n2021-07-23  4.060   69409.0  3.996  4.071  3.976           2218011.0   \n2021-07-26  4.102   47082.0  4.025  4.187  4.010           2218011.0   \n2021-07-27  3.971   40472.0  4.095  4.114  3.934           2218011.0   \n\n            Storage in mcf  US Gross Withdrawal in mcf  \\\nDate                                                     \n2021-06-29          2558.0                   3396062.0   \n2021-06-30          2558.0                   3396062.0   \n2021-07-01          2558.0                   3396062.0   \n2021-07-02          2574.0                   3396062.0   \n2021-07-06          2574.0                   3396062.0   \n2021-07-07          2574.0                   3396062.0   \n2021-07-08          2574.0                   3396062.0   \n2021-07-09          2629.0                   3396062.0   \n2021-07-12          2629.0                   3396062.0   \n2021-07-13          2629.0                   3396062.0   \n2021-07-14          2629.0                   3396062.0   \n2021-07-15          2629.0                   3396062.0   \n2021-07-16          2678.0                   3396062.0   \n2021-07-19          2678.0                   3396062.0   \n2021-07-20          2678.0                   3396062.0   \n2021-07-21          2678.0                   3396062.0   \n2021-07-22          2678.0                   3396062.0   \n2021-07-23          2714.0                   3396062.0   \n2021-07-26          2714.0                   3396062.0   \n2021-07-27          2714.0                   3396062.0   \n\n            Other Gross Withdrawal in mcf  \nDate                                       \n2021-06-29                        32500.0  \n2021-06-30                        32500.0  \n2021-07-01                        32500.0  \n2021-07-02                        32500.0  \n2021-07-06                        32500.0  \n2021-07-07                        32500.0  \n2021-07-08                        32500.0  \n2021-07-09                        32500.0  \n2021-07-12                        32500.0  \n2021-07-13                        32500.0  \n2021-07-14                        32500.0  \n2021-07-15                        32500.0  \n2021-07-16                        32500.0  \n2021-07-19                        32500.0  \n2021-07-20                        32500.0  \n2021-07-21                        32500.0  \n2021-07-22                        32500.0  \n2021-07-23                        32500.0  \n2021-07-26                        32500.0  \n2021-07-27                        32500.0  ",
      "text/html": "<div>\n<style scoped>\n    .dataframe tbody tr th:only-of-type {\n        vertical-align: middle;\n    }\n\n    .dataframe tbody tr th {\n        vertical-align: top;\n    }\n\n    .dataframe thead th {\n        text-align: right;\n    }\n</style>\n<table border=\"1\" class=\"dataframe\">\n  <thead>\n    <tr style=\"text-align: right;\">\n      <th></th>\n      <th>Close</th>\n      <th>Volume</th>\n      <th>Open</th>\n      <th>High</th>\n      <th>Low</th>\n      <th>Consumption in mcf</th>\n      <th>Storage in mcf</th>\n      <th>US Gross Withdrawal in mcf</th>\n      <th>Other Gross Withdrawal in mcf</th>\n    </tr>\n    <tr>\n      <th>Date</th>\n      <th></th>\n      <th></th>\n      <th></th>\n      <th></th>\n      <th></th>\n      <th></th>\n      <th></th>\n      <th></th>\n      <th></th>\n    </tr>\n  </thead>\n  <tbody>\n    <tr>\n      <th>2021-06-29</th>\n      <td>3.630</td>\n      <td>196638.0</td>\n      <td>3.583</td>\n      <td>3.811</td>\n      <td>3.571</td>\n      <td>2218011.0</td>\n      <td>2558.0</td>\n      <td>3396062.0</td>\n      <td>32500.0</td>\n    </tr>\n    <tr>\n      <th>2021-06-30</th>\n      <td>3.650</td>\n      <td>182091.0</td>\n      <td>3.651</td>\n      <td>3.814</td>\n      <td>3.604</td>\n      <td>2218011.0</td>\n      <td>2558.0</td>\n      <td>3396062.0</td>\n      <td>32500.0</td>\n    </tr>\n    <tr>\n      <th>2021-07-01</th>\n      <td>3.661</td>\n      <td>145920.0</td>\n      <td>3.746</td>\n      <td>3.764</td>\n      <td>3.591</td>\n      <td>2218011.0</td>\n      <td>2558.0</td>\n      <td>3396062.0</td>\n      <td>32500.0</td>\n    </tr>\n    <tr>\n      <th>2021-07-02</th>\n      <td>3.700</td>\n      <td>108587.0</td>\n      <td>3.663</td>\n      <td>3.741</td>\n      <td>3.598</td>\n      <td>2218011.0</td>\n      <td>2574.0</td>\n      <td>3396062.0</td>\n      <td>32500.0</td>\n    </tr>\n    <tr>\n      <th>2021-07-06</th>\n      <td>3.637</td>\n      <td>147960.0</td>\n      <td>3.704</td>\n      <td>3.822</td>\n      <td>3.608</td>\n      <td>2218011.0</td>\n      <td>2574.0</td>\n      <td>3396062.0</td>\n      <td>32500.0</td>\n    </tr>\n    <tr>\n      <th>2021-07-07</th>\n      <td>3.596</td>\n      <td>120022.0</td>\n      <td>3.673</td>\n      <td>3.707</td>\n      <td>3.520</td>\n      <td>2218011.0</td>\n      <td>2574.0</td>\n      <td>3396062.0</td>\n      <td>32500.0</td>\n    </tr>\n    <tr>\n      <th>2021-07-08</th>\n      <td>3.688</td>\n      <td>141742.0</td>\n      <td>3.579</td>\n      <td>3.720</td>\n      <td>3.540</td>\n      <td>2218011.0</td>\n      <td>2574.0</td>\n      <td>3396062.0</td>\n      <td>32500.0</td>\n    </tr>\n    <tr>\n      <th>2021-07-09</th>\n      <td>3.674</td>\n      <td>101501.0</td>\n      <td>3.686</td>\n      <td>3.742</td>\n      <td>3.657</td>\n      <td>2218011.0</td>\n      <td>2629.0</td>\n      <td>3396062.0</td>\n      <td>32500.0</td>\n    </tr>\n    <tr>\n      <th>2021-07-12</th>\n      <td>3.749</td>\n      <td>118212.0</td>\n      <td>3.673</td>\n      <td>3.763</td>\n      <td>3.623</td>\n      <td>2218011.0</td>\n      <td>2629.0</td>\n      <td>3396062.0</td>\n      <td>32500.0</td>\n    </tr>\n    <tr>\n      <th>2021-07-13</th>\n      <td>3.696</td>\n      <td>97857.0</td>\n      <td>3.744</td>\n      <td>3.769</td>\n      <td>3.673</td>\n      <td>2218011.0</td>\n      <td>2629.0</td>\n      <td>3396062.0</td>\n      <td>32500.0</td>\n    </tr>\n    <tr>\n      <th>2021-07-14</th>\n      <td>3.660</td>\n      <td>125904.0</td>\n      <td>3.694</td>\n      <td>3.755</td>\n      <td>3.624</td>\n      <td>2218011.0</td>\n      <td>2629.0</td>\n      <td>3396062.0</td>\n      <td>32500.0</td>\n    </tr>\n    <tr>\n      <th>2021-07-15</th>\n      <td>3.614</td>\n      <td>111302.0</td>\n      <td>3.670</td>\n      <td>3.686</td>\n      <td>3.605</td>\n      <td>2218011.0</td>\n      <td>2629.0</td>\n      <td>3396062.0</td>\n      <td>32500.0</td>\n    </tr>\n    <tr>\n      <th>2021-07-16</th>\n      <td>3.674</td>\n      <td>82330.0</td>\n      <td>3.617</td>\n      <td>3.688</td>\n      <td>3.584</td>\n      <td>2218011.0</td>\n      <td>2678.0</td>\n      <td>3396062.0</td>\n      <td>32500.0</td>\n    </tr>\n    <tr>\n      <th>2021-07-19</th>\n      <td>3.779</td>\n      <td>116582.0</td>\n      <td>3.703</td>\n      <td>3.788</td>\n      <td>3.686</td>\n      <td>2218011.0</td>\n      <td>2678.0</td>\n      <td>3396062.0</td>\n      <td>32500.0</td>\n    </tr>\n    <tr>\n      <th>2021-07-20</th>\n      <td>3.876</td>\n      <td>113442.0</td>\n      <td>3.772</td>\n      <td>3.934</td>\n      <td>3.740</td>\n      <td>2218011.0</td>\n      <td>2678.0</td>\n      <td>3396062.0</td>\n      <td>32500.0</td>\n    </tr>\n    <tr>\n      <th>2021-07-21</th>\n      <td>3.959</td>\n      <td>103231.0</td>\n      <td>3.927</td>\n      <td>3.965</td>\n      <td>3.891</td>\n      <td>2218011.0</td>\n      <td>2678.0</td>\n      <td>3396062.0</td>\n      <td>32500.0</td>\n    </tr>\n    <tr>\n      <th>2021-07-22</th>\n      <td>4.003</td>\n      <td>98347.0</td>\n      <td>3.922</td>\n      <td>4.006</td>\n      <td>3.876</td>\n      <td>2218011.0</td>\n      <td>2678.0</td>\n      <td>3396062.0</td>\n      <td>32500.0</td>\n    </tr>\n    <tr>\n      <th>2021-07-23</th>\n      <td>4.060</td>\n      <td>69409.0</td>\n      <td>3.996</td>\n      <td>4.071</td>\n      <td>3.976</td>\n      <td>2218011.0</td>\n      <td>2714.0</td>\n      <td>3396062.0</td>\n      <td>32500.0</td>\n    </tr>\n    <tr>\n      <th>2021-07-26</th>\n      <td>4.102</td>\n      <td>47082.0</td>\n      <td>4.025</td>\n      <td>4.187</td>\n      <td>4.010</td>\n      <td>2218011.0</td>\n      <td>2714.0</td>\n      <td>3396062.0</td>\n      <td>32500.0</td>\n    </tr>\n    <tr>\n      <th>2021-07-27</th>\n      <td>3.971</td>\n      <td>40472.0</td>\n      <td>4.095</td>\n      <td>4.114</td>\n      <td>3.934</td>\n      <td>2218011.0</td>\n      <td>2714.0</td>\n      <td>3396062.0</td>\n      <td>32500.0</td>\n    </tr>\n  </tbody>\n</table>\n</div>"
     },
     "execution_count": 9,
     "metadata": {},
     "output_type": "execute_result"
    }
   ],
   "source": [
    "res.iloc[-65:-45]"
   ]
  },
  {
   "cell_type": "code",
   "execution_count": 10,
   "metadata": {
    "pycharm": {
     "name": "#%%\n"
    }
   },
   "outputs": [
    {
     "data": {
      "text/plain": "             Close         Volume         Open         High          Low  \\\ncount  2523.000000    2523.000000  2523.000000  2523.000000  2523.000000   \nmean      3.016579  121182.220373     3.017877     3.075312     2.961194   \nstd       0.751473   57668.164249     0.748532     0.767308     0.736360   \nmin       1.482000       4.000000     1.441000     1.567000     1.432000   \n25%       2.564000   88028.000000     2.570500     2.612500     2.514500   \n50%       2.886000  120588.000000     2.892000     2.937000     2.833000   \n75%       3.502000  154003.000000     3.503500     3.577500     3.445500   \nmax       6.149000  435320.000000     6.080000     6.493000     5.882000   \n\n       Consumption in mcf  Storage in mcf  US Gross Withdrawal in mcf  \\\ncount        2.793000e+03     2685.000000                3.045000e+03   \nmean         2.299787e+06     2752.663315                2.745894e+06   \nstd          4.363872e+05      764.349263                4.864121e+05   \nmin          1.368369e+06      824.000000                1.449958e+06   \n25%          1.947752e+06     2210.000000                2.475947e+06   \n50%          2.217254e+06     2802.000000                2.721449e+06   \n75%          2.567155e+06     3359.000000                3.153978e+06   \nmax          3.409295e+06     4047.000000                3.620708e+06   \n\n       Other Gross Withdrawal in mcf  \ncount                    2913.000000  \nmean                    54612.412976  \nstd                     20224.707372  \nmin                     30059.000000  \n25%                     40372.000000  \n50%                     49149.000000  \n75%                     58221.000000  \nmax                    109113.000000  ",
      "text/html": "<div>\n<style scoped>\n    .dataframe tbody tr th:only-of-type {\n        vertical-align: middle;\n    }\n\n    .dataframe tbody tr th {\n        vertical-align: top;\n    }\n\n    .dataframe thead th {\n        text-align: right;\n    }\n</style>\n<table border=\"1\" class=\"dataframe\">\n  <thead>\n    <tr style=\"text-align: right;\">\n      <th></th>\n      <th>Close</th>\n      <th>Volume</th>\n      <th>Open</th>\n      <th>High</th>\n      <th>Low</th>\n      <th>Consumption in mcf</th>\n      <th>Storage in mcf</th>\n      <th>US Gross Withdrawal in mcf</th>\n      <th>Other Gross Withdrawal in mcf</th>\n    </tr>\n  </thead>\n  <tbody>\n    <tr>\n      <th>count</th>\n      <td>2523.000000</td>\n      <td>2523.000000</td>\n      <td>2523.000000</td>\n      <td>2523.000000</td>\n      <td>2523.000000</td>\n      <td>2.793000e+03</td>\n      <td>2685.000000</td>\n      <td>3.045000e+03</td>\n      <td>2913.000000</td>\n    </tr>\n    <tr>\n      <th>mean</th>\n      <td>3.016579</td>\n      <td>121182.220373</td>\n      <td>3.017877</td>\n      <td>3.075312</td>\n      <td>2.961194</td>\n      <td>2.299787e+06</td>\n      <td>2752.663315</td>\n      <td>2.745894e+06</td>\n      <td>54612.412976</td>\n    </tr>\n    <tr>\n      <th>std</th>\n      <td>0.751473</td>\n      <td>57668.164249</td>\n      <td>0.748532</td>\n      <td>0.767308</td>\n      <td>0.736360</td>\n      <td>4.363872e+05</td>\n      <td>764.349263</td>\n      <td>4.864121e+05</td>\n      <td>20224.707372</td>\n    </tr>\n    <tr>\n      <th>min</th>\n      <td>1.482000</td>\n      <td>4.000000</td>\n      <td>1.441000</td>\n      <td>1.567000</td>\n      <td>1.432000</td>\n      <td>1.368369e+06</td>\n      <td>824.000000</td>\n      <td>1.449958e+06</td>\n      <td>30059.000000</td>\n    </tr>\n    <tr>\n      <th>25%</th>\n      <td>2.564000</td>\n      <td>88028.000000</td>\n      <td>2.570500</td>\n      <td>2.612500</td>\n      <td>2.514500</td>\n      <td>1.947752e+06</td>\n      <td>2210.000000</td>\n      <td>2.475947e+06</td>\n      <td>40372.000000</td>\n    </tr>\n    <tr>\n      <th>50%</th>\n      <td>2.886000</td>\n      <td>120588.000000</td>\n      <td>2.892000</td>\n      <td>2.937000</td>\n      <td>2.833000</td>\n      <td>2.217254e+06</td>\n      <td>2802.000000</td>\n      <td>2.721449e+06</td>\n      <td>49149.000000</td>\n    </tr>\n    <tr>\n      <th>75%</th>\n      <td>3.502000</td>\n      <td>154003.000000</td>\n      <td>3.503500</td>\n      <td>3.577500</td>\n      <td>3.445500</td>\n      <td>2.567155e+06</td>\n      <td>3359.000000</td>\n      <td>3.153978e+06</td>\n      <td>58221.000000</td>\n    </tr>\n    <tr>\n      <th>max</th>\n      <td>6.149000</td>\n      <td>435320.000000</td>\n      <td>6.080000</td>\n      <td>6.493000</td>\n      <td>5.882000</td>\n      <td>3.409295e+06</td>\n      <td>4047.000000</td>\n      <td>3.620708e+06</td>\n      <td>109113.000000</td>\n    </tr>\n  </tbody>\n</table>\n</div>"
     },
     "execution_count": 10,
     "metadata": {},
     "output_type": "execute_result"
    }
   ],
   "source": [
    "res.describe()"
   ]
  },
  {
   "cell_type": "code",
   "execution_count": 11,
   "metadata": {
    "pycharm": {
     "name": "#%%\n"
    }
   },
   "outputs": [
    {
     "name": "stdout",
     "output_type": "stream",
     "text": [
      "Close :  606\n",
      "Volume :  606\n",
      "Open :  606\n",
      "High :  606\n",
      "Low :  606\n",
      "Consumption in mcf :  336\n",
      "Storage in mcf :  444\n",
      "US Gross Withdrawal in mcf :  84\n",
      "Other Gross Withdrawal in mcf :  216\n"
     ]
    }
   ],
   "source": [
    "for col in res.columns:\n",
    "    print(col, ': ', res[col].isnull().sum())"
   ]
  },
  {
   "cell_type": "code",
   "execution_count": 12,
   "metadata": {
    "pycharm": {
     "name": "#%%\n"
    }
   },
   "outputs": [],
   "source": [
    "res_ = res.dropna()\n",
    "\n",
    "days = pd.date_range(res_.index[0], res_.index[-1], freq='D')"
   ]
  },
  {
   "cell_type": "markdown",
   "metadata": {
    "pycharm": {
     "name": "#%% md\n"
    }
   },
   "source": [
    "# Adding Technical Indicators"
   ]
  },
  {
   "cell_type": "code",
   "execution_count": 13,
   "metadata": {
    "pycharm": {
     "name": "#%%\n"
    }
   },
   "outputs": [],
   "source": [
    "rsi = tu.rsi(res_.Close.values, 14)"
   ]
  },
  {
   "cell_type": "code",
   "execution_count": 14,
   "metadata": {
    "pycharm": {
     "name": "#%%\n"
    }
   },
   "outputs": [
    {
     "data": {
      "text/plain": "<Figure size 432x288 with 1 Axes>",
      "image/png": "[encoded data removed]"
     },
     "metadata": {
      "needs_background": "light"
     },
     "output_type": "display_data"
    }
   ],
   "source": [
    "ax = sns.distplot(rsi)\n",
    "ax.axvline(30, ls='--', lw=1, c='k')\n",
    "ax.axvline(70, ls='--', lw=1, c='k')\n",
    "ax.set_title('RSI Distribution with Signal Threshold')\n",
    "plt.tight_layout();"
   ]
  },
  {
   "cell_type": "code",
   "execution_count": 15,
   "metadata": {
    "pycharm": {
     "name": "#%%\n"
    }
   },
   "outputs": [],
   "source": [
    "rsi_df = pd.DataFrame(data={\n",
    "    'Date': res_.index[-len(rsi):],\n",
    "    'RSI': rsi\n",
    "})\n",
    "rsi_df.set_index('Date', inplace=True)"
   ]
  },
  {
   "cell_type": "code",
   "execution_count": 16,
   "metadata": {
    "pycharm": {
     "name": "#%%\n"
    }
   },
   "outputs": [],
   "source": [
    "atr = tu.atr(res_.High.values, res_.Low.values, res_.Close.values, 14)\n",
    "\n",
    "# atr = (atr - atr.mean()) / atr.std()"
   ]
  },
  {
   "cell_type": "code",
   "execution_count": 17,
   "metadata": {
    "pycharm": {
     "name": "#%%\n"
    }
   },
   "outputs": [
    {
     "data": {
      "text/plain": "<seaborn.axisgrid.FacetGrid at 0x7fc69c38acd0>"
     },
     "execution_count": 17,
     "metadata": {},
     "output_type": "execute_result"
    },
    {
     "data": {
      "text/plain": "<Figure size 360x360 with 1 Axes>",
      "image/png": "[encoded data removed]"
     },
     "metadata": {
      "needs_background": "light"
     },
     "output_type": "display_data"
    }
   ],
   "source": [
    "sns.displot(atr)"
   ]
  },
  {
   "cell_type": "code",
   "execution_count": 18,
   "metadata": {
    "pycharm": {
     "name": "#%%\n"
    }
   },
   "outputs": [],
   "source": [
    "atr_df = pd.DataFrame(data={\n",
    "    'Date':res_.index[-len(atr):],\n",
    "    'ATR':atr\n",
    "})\n",
    "atr_df.set_index('Date', inplace=True)"
   ]
  },
  {
   "cell_type": "code",
   "execution_count": 19,
   "metadata": {
    "pycharm": {
     "name": "#%%\n"
    }
   },
   "outputs": [],
   "source": [
    "macd, macd_signal, macd_hist = tu.macd(res_.Close.values, 12, 26, 9)\n",
    "\n",
    "# macd = (macd - np.mean(macd)) / np.std(macd)"
   ]
  },
  {
   "cell_type": "code",
   "execution_count": 20,
   "metadata": {
    "pycharm": {
     "name": "#%%\n"
    }
   },
   "outputs": [
    {
     "data": {
      "text/plain": "<seaborn.axisgrid.FacetGrid at 0x7fc69c3aa2e0>"
     },
     "execution_count": 20,
     "metadata": {},
     "output_type": "execute_result"
    },
    {
     "data": {
      "text/plain": "<Figure size 360x360 with 1 Axes>",
      "image/png": "[encoded data removed]"
     },
     "metadata": {
      "needs_background": "light"
     },
     "output_type": "display_data"
    }
   ],
   "source": [
    "sns.displot(macd)"
   ]
  },
  {
   "cell_type": "code",
   "execution_count": 21,
   "metadata": {
    "pycharm": {
     "name": "#%%\n"
    }
   },
   "outputs": [],
   "source": [
    "macd_df = pd.DataFrame(data={\n",
    "    'Date': res_.index[-len(macd):],\n",
    "    'MACD': macd\n",
    "})\n",
    "macd_df.set_index('Date', inplace=True)"
   ]
  },
  {
   "cell_type": "code",
   "execution_count": 22,
   "metadata": {
    "pycharm": {
     "name": "#%%\n"
    }
   },
   "outputs": [],
   "source": [
    "res_ = pd.concat([res_, rsi_df, atr_df, macd_df], axis=1)\n",
    "res_.dropna(inplace=True)"
   ]
  },
  {
   "cell_type": "code",
   "execution_count": 23,
   "metadata": {
    "pycharm": {
     "name": "#%%\n"
    }
   },
   "outputs": [
    {
     "data": {
      "text/plain": "            Close    Volume   Open   High    Low  Consumption in mcf  \\\nDate                                                                   \n2011-10-06  3.598  144492.0  3.565  3.634  3.512           1744454.0   \n2011-10-07  3.481  139225.0  3.595  3.600  3.472           1744454.0   \n2011-10-10  3.541  122903.0  3.486  3.563  3.457           1744454.0   \n2011-10-11  3.616  168456.0  3.562  3.627  3.513           1744454.0   \n2011-10-12  3.489  158954.0  3.520  3.540  3.480           1744454.0   \n...           ...       ...    ...    ...    ...                 ...   \n2021-09-23  4.976   99158.0  4.758  5.037  4.741           2218011.0   \n2021-09-24  5.140   46545.0  5.036  5.183  4.990           2218011.0   \n2021-09-27  5.706   47157.0  5.191  5.851  5.176           2218011.0   \n2021-09-28  5.841    5523.0  5.800  6.280  5.602           2218011.0   \n2021-09-29  5.477  209040.0  5.857  5.955  5.421           2218011.0   \n\n            Storage in mcf  US Gross Withdrawal in mcf  \\\nDate                                                     \n2011-10-06          3408.0                   2502387.0   \n2011-10-07          3521.0                   2502387.0   \n2011-10-10          3521.0                   2502387.0   \n2011-10-11          3521.0                   2502387.0   \n2011-10-12          3521.0                   2502387.0   \n...                    ...                         ...   \n2021-09-23          3082.0                   3396062.0   \n2021-09-24          3170.0                   3396062.0   \n2021-09-27          3170.0                   3396062.0   \n2021-09-28          3170.0                   3396062.0   \n2021-09-29          3170.0                   3396062.0   \n\n            Other Gross Withdrawal in mcf        RSI       ATR      MACD  \nDate                                                                      \n2011-10-06                        94315.0  32.805890  0.114925 -0.091309  \n2011-10-07                        94315.0  28.027756  0.115859 -0.100688  \n2011-10-10                        94315.0  33.385996  0.115155 -0.102430  \n2011-10-11                        94315.0  39.453890  0.115073 -0.097022  \n2011-10-12                        94315.0  33.833721  0.116567 -0.101203  \n...                                   ...        ...       ...       ...  \n2021-09-23                        32500.0  58.527644  0.244032  0.221468  \n2021-09-24                        32500.0  62.157450  0.241387  0.220821  \n2021-09-27                        32500.0  71.446017  0.274931  0.260277  \n2021-09-28                        32500.0  73.139513  0.303721  0.298497  \n2021-09-29                        32500.0  62.394306  0.320170  0.297889  \n\n[2498 rows x 12 columns]",
      "text/html": "<div>\n<style scoped>\n    .dataframe tbody tr th:only-of-type {\n        vertical-align: middle;\n    }\n\n    .dataframe tbody tr th {\n        vertical-align: top;\n    }\n\n    .dataframe thead th {\n        text-align: right;\n    }\n</style>\n<table border=\"1\" class=\"dataframe\">\n  <thead>\n    <tr style=\"text-align: right;\">\n      <th></th>\n      <th>Close</th>\n      <th>Volume</th>\n      <th>Open</th>\n      <th>High</th>\n      <th>Low</th>\n      <th>Consumption in mcf</th>\n      <th>Storage in mcf</th>\n      <th>US Gross Withdrawal in mcf</th>\n      <th>Other Gross Withdrawal in mcf</th>\n      <th>RSI</th>\n      <th>ATR</th>\n      <th>MACD</th>\n    </tr>\n    <tr>\n      <th>Date</th>\n      <th></th>\n      <th></th>\n      <th></th>\n      <th></th>\n      <th></th>\n      <th></th>\n      <th></th>\n      <th></th>\n      <th></th>\n      <th></th>\n      <th></th>\n      <th></th>\n    </tr>\n  </thead>\n  <tbody>\n    <tr>\n      <th>2011-10-06</th>\n      <td>3.598</td>\n      <td>144492.0</td>\n      <td>3.565</td>\n      <td>3.634</td>\n      <td>3.512</td>\n      <td>1744454.0</td>\n      <td>3408.0</td>\n      <td>2502387.0</td>\n      <td>94315.0</td>\n      <td>32.805890</td>\n      <td>0.114925</td>\n      <td>-0.091309</td>\n    </tr>\n    <tr>\n      <th>2011-10-07</th>\n      <td>3.481</td>\n      <td>139225.0</td>\n      <td>3.595</td>\n      <td>3.600</td>\n      <td>3.472</td>\n      <td>1744454.0</td>\n      <td>3521.0</td>\n      <td>2502387.0</td>\n      <td>94315.0</td>\n      <td>28.027756</td>\n      <td>0.115859</td>\n      <td>-0.100688</td>\n    </tr>\n    <tr>\n      <th>2011-10-10</th>\n      <td>3.541</td>\n      <td>122903.0</td>\n      <td>3.486</td>\n      <td>3.563</td>\n      <td>3.457</td>\n      <td>1744454.0</td>\n      <td>3521.0</td>\n      <td>2502387.0</td>\n      <td>94315.0</td>\n      <td>33.385996</td>\n      <td>0.115155</td>\n      <td>-0.102430</td>\n    </tr>\n    <tr>\n      <th>2011-10-11</th>\n      <td>3.616</td>\n      <td>168456.0</td>\n      <td>3.562</td>\n      <td>3.627</td>\n      <td>3.513</td>\n      <td>1744454.0</td>\n      <td>3521.0</td>\n      <td>2502387.0</td>\n      <td>94315.0</td>\n      <td>39.453890</td>\n      <td>0.115073</td>\n      <td>-0.097022</td>\n    </tr>\n    <tr>\n      <th>2011-10-12</th>\n      <td>3.489</td>\n      <td>158954.0</td>\n      <td>3.520</td>\n      <td>3.540</td>\n      <td>3.480</td>\n      <td>1744454.0</td>\n      <td>3521.0</td>\n      <td>2502387.0</td>\n      <td>94315.0</td>\n      <td>33.833721</td>\n      <td>0.116567</td>\n      <td>-0.101203</td>\n    </tr>\n    <tr>\n      <th>...</th>\n      <td>...</td>\n      <td>...</td>\n      <td>...</td>\n      <td>...</td>\n      <td>...</td>\n      <td>...</td>\n      <td>...</td>\n      <td>...</td>\n      <td>...</td>\n      <td>...</td>\n      <td>...</td>\n      <td>...</td>\n    </tr>\n    <tr>\n      <th>2021-09-23</th>\n      <td>4.976</td>\n      <td>99158.0</td>\n      <td>4.758</td>\n      <td>5.037</td>\n      <td>4.741</td>\n      <td>2218011.0</td>\n      <td>3082.0</td>\n      <td>3396062.0</td>\n      <td>32500.0</td>\n      <td>58.527644</td>\n      <td>0.244032</td>\n      <td>0.221468</td>\n    </tr>\n    <tr>\n      <th>2021-09-24</th>\n      <td>5.140</td>\n      <td>46545.0</td>\n      <td>5.036</td>\n      <td>5.183</td>\n      <td>4.990</td>\n      <td>2218011.0</td>\n      <td>3170.0</td>\n      <td>3396062.0</td>\n      <td>32500.0</td>\n      <td>62.157450</td>\n      <td>0.241387</td>\n      <td>0.220821</td>\n    </tr>\n    <tr>\n      <th>2021-09-27</th>\n      <td>5.706</td>\n      <td>47157.0</td>\n      <td>5.191</td>\n      <td>5.851</td>\n      <td>5.176</td>\n      <td>2218011.0</td>\n      <td>3170.0</td>\n      <td>3396062.0</td>\n      <td>32500.0</td>\n      <td>71.446017</td>\n      <td>0.274931</td>\n      <td>0.260277</td>\n    </tr>\n    <tr>\n      <th>2021-09-28</th>\n      <td>5.841</td>\n      <td>5523.0</td>\n      <td>5.800</td>\n      <td>6.280</td>\n      <td>5.602</td>\n      <td>2218011.0</td>\n      <td>3170.0</td>\n      <td>3396062.0</td>\n      <td>32500.0</td>\n      <td>73.139513</td>\n      <td>0.303721</td>\n      <td>0.298497</td>\n    </tr>\n    <tr>\n      <th>2021-09-29</th>\n      <td>5.477</td>\n      <td>209040.0</td>\n      <td>5.857</td>\n      <td>5.955</td>\n      <td>5.421</td>\n      <td>2218011.0</td>\n      <td>3170.0</td>\n      <td>3396062.0</td>\n      <td>32500.0</td>\n      <td>62.394306</td>\n      <td>0.320170</td>\n      <td>0.297889</td>\n    </tr>\n  </tbody>\n</table>\n<p>2498 rows × 12 columns</p>\n</div>"
     },
     "execution_count": 23,
     "metadata": {},
     "output_type": "execute_result"
    }
   ],
   "source": [
    "res_"
   ]
  },
  {
   "cell_type": "markdown",
   "metadata": {
    "pycharm": {
     "name": "#%% md\n"
    }
   },
   "source": [
    "# Compute Lagged Returns"
   ]
  },
  {
   "cell_type": "code",
   "execution_count": 24,
   "metadata": {
    "pycharm": {
     "name": "#%%\n"
    }
   },
   "outputs": [],
   "source": [
    "lags = [1, 5, 10, 21, 42, 63]\n",
    "\n",
    "for lag in lags:\n",
    "    res_[f'return_{lag}d'] = (res_.Close.pct_change(lag)\n",
    "                              .add(1)\n",
    "                              .pow(1 / lag)\n",
    "                              .sub(1))"
   ]
  },
  {
   "cell_type": "markdown",
   "metadata": {
    "pycharm": {
     "name": "#%% md\n"
    }
   },
   "source": [
    "# Shift lagged returns"
   ]
  },
  {
   "cell_type": "code",
   "execution_count": 25,
   "metadata": {
    "pycharm": {
     "name": "#%%\n"
    }
   },
   "outputs": [],
   "source": [
    "\n",
    "for t in [1, 2, 3, 4, 5]:\n",
    "    for lag in [1, 5, 10, 21]:\n",
    "        res_[f'return_{lag}d_lag{t}'] = (res_[f'return_{lag}d'].shift(t * lag))"
   ]
  },
  {
   "cell_type": "markdown",
   "metadata": {
    "pycharm": {
     "name": "#%% md\n"
    }
   },
   "source": [
    "# Compute forward returns"
   ]
  },
  {
   "cell_type": "code",
   "execution_count": 26,
   "metadata": {
    "pycharm": {
     "name": "#%%\n"
    }
   },
   "outputs": [],
   "source": [
    "for t in [1, 5, 10, 21]:\n",
    "    res_[f'target_{t}d'] = res_[f'return_{t}d'].shift(-t)"
   ]
  },
  {
   "cell_type": "code",
   "execution_count": 27,
   "metadata": {
    "pycharm": {
     "name": "#%%\n"
    }
   },
   "outputs": [
    {
     "data": {
      "text/plain": "            Close    Volume   Open   High    Low  Consumption in mcf  \\\nDate                                                                   \n2011-10-06  3.598  144492.0  3.565  3.634  3.512           1744454.0   \n2011-10-07  3.481  139225.0  3.595  3.600  3.472           1744454.0   \n2011-10-10  3.541  122903.0  3.486  3.563  3.457           1744454.0   \n2011-10-11  3.616  168456.0  3.562  3.627  3.513           1744454.0   \n2011-10-12  3.489  158954.0  3.520  3.540  3.480           1744454.0   \n...           ...       ...    ...    ...    ...                 ...   \n2021-09-23  4.976   99158.0  4.758  5.037  4.741           2218011.0   \n2021-09-24  5.140   46545.0  5.036  5.183  4.990           2218011.0   \n2021-09-27  5.706   47157.0  5.191  5.851  5.176           2218011.0   \n2021-09-28  5.841    5523.0  5.800  6.280  5.602           2218011.0   \n2021-09-29  5.477  209040.0  5.857  5.955  5.421           2218011.0   \n\n            Storage in mcf  US Gross Withdrawal in mcf  \\\nDate                                                     \n2011-10-06          3408.0                   2502387.0   \n2011-10-07          3521.0                   2502387.0   \n2011-10-10          3521.0                   2502387.0   \n2011-10-11          3521.0                   2502387.0   \n2011-10-12          3521.0                   2502387.0   \n...                    ...                         ...   \n2021-09-23          3082.0                   3396062.0   \n2021-09-24          3170.0                   3396062.0   \n2021-09-27          3170.0                   3396062.0   \n2021-09-28          3170.0                   3396062.0   \n2021-09-29          3170.0                   3396062.0   \n\n            Other Gross Withdrawal in mcf        RSI  ...  return_10d_lag4  \\\nDate                                                  ...                    \n2011-10-06                        94315.0  32.805890  ...              NaN   \n2011-10-07                        94315.0  28.027756  ...              NaN   \n2011-10-10                        94315.0  33.385996  ...              NaN   \n2011-10-11                        94315.0  39.453890  ...              NaN   \n2011-10-12                        94315.0  33.833721  ...              NaN   \n...                                   ...        ...  ...              ...   \n2021-09-23                        32500.0  58.527644  ...         0.010027   \n2021-09-24                        32500.0  62.157450  ...         0.011680   \n2021-09-27                        32500.0  71.446017  ...         0.006348   \n2021-09-28                        32500.0  73.139513  ...         0.004053   \n2021-09-29                        32500.0  62.394306  ...         0.003829   \n\n            return_21d_lag4  return_1d_lag5  return_5d_lag5  return_10d_lag5  \\\nDate                                                                           \n2011-10-06              NaN             NaN             NaN              NaN   \n2011-10-07              NaN             NaN             NaN              NaN   \n2011-10-10              NaN             NaN             NaN              NaN   \n2011-10-11              NaN             NaN             NaN              NaN   \n2011-10-12              NaN             NaN             NaN              NaN   \n...                     ...             ...             ...              ...   \n2021-09-23         0.002056       -0.022894       -0.010414         0.000823   \n2021-09-24         0.001807       -0.043112       -0.005293        -0.000991   \n2021-09-27         0.000534       -0.023506       -0.000519         0.000355   \n2021-09-28         0.001212       -0.036108       -0.000051         0.002115   \n2021-09-29         0.002735       -0.009365        0.003057         0.006385   \n\n            return_21d_lag5  target_1d  target_5d  target_10d  target_21d  \nDate                                                                       \n2011-10-06              NaN  -0.032518  -0.003752    0.000886    0.002390  \n2011-10-07              NaN   0.017236   0.012441    0.004172    0.002858  \n2011-10-10              NaN   0.021180   0.008168    0.001765    0.002671  \n2011-10-11              NaN  -0.035122  -0.003509    0.001155    0.000472  \n2011-10-12              NaN   0.012038   0.005500    0.002858    0.002137  \n...                     ...        ...        ...         ...         ...  \n2021-09-23         0.003919   0.032958        NaN         NaN         NaN  \n2021-09-24         0.005564   0.110117        NaN         NaN         NaN  \n2021-09-27         0.005883   0.023659        NaN         NaN         NaN  \n2021-09-28         0.004973  -0.062318        NaN         NaN         NaN  \n2021-09-29         0.005575        NaN        NaN         NaN         NaN  \n\n[2498 rows x 42 columns]",
      "text/html": "<div>\n<style scoped>\n    .dataframe tbody tr th:only-of-type {\n        vertical-align: middle;\n    }\n\n    .dataframe tbody tr th {\n        vertical-align: top;\n    }\n\n    .dataframe thead th {\n        text-align: right;\n    }\n</style>\n<table border=\"1\" class=\"dataframe\">\n  <thead>\n    <tr style=\"text-align: right;\">\n      <th></th>\n      <th>Close</th>\n      <th>Volume</th>\n      <th>Open</th>\n      <th>High</th>\n      <th>Low</th>\n      <th>Consumption in mcf</th>\n      <th>Storage in mcf</th>\n      <th>US Gross Withdrawal in mcf</th>\n      <th>Other Gross Withdrawal in mcf</th>\n      <th>RSI</th>\n      <th>...</th>\n      <th>return_10d_lag4</th>\n      <th>return_21d_lag4</th>\n      <th>return_1d_lag5</th>\n      <th>return_5d_lag5</th>\n      <th>return_10d_lag5</th>\n      <th>return_21d_lag5</th>\n      <th>target_1d</th>\n      <th>target_5d</th>\n      <th>target_10d</th>\n      <th>target_21d</th>\n    </tr>\n    <tr>\n      <th>Date</th>\n      <th></th>\n      <th></th>\n      <th></th>\n      <th></th>\n      <th></th>\n      <th></th>\n      <th></th>\n      <th></th>\n      <th></th>\n      <th></th>\n      <th></th>\n      <th></th>\n      <th></th>\n      <th></th>\n      <th></th>\n      <th></th>\n      <th></th>\n      <th></th>\n      <th></th>\n      <th></th>\n      <th></th>\n    </tr>\n  </thead>\n  <tbody>\n    <tr>\n      <th>2011-10-06</th>\n      <td>3.598</td>\n      <td>144492.0</td>\n      <td>3.565</td>\n      <td>3.634</td>\n      <td>3.512</td>\n      <td>1744454.0</td>\n      <td>3408.0</td>\n      <td>2502387.0</td>\n      <td>94315.0</td>\n      <td>32.805890</td>\n      <td>...</td>\n      <td>NaN</td>\n      <td>NaN</td>\n      <td>NaN</td>\n      <td>NaN</td>\n      <td>NaN</td>\n      <td>NaN</td>\n      <td>-0.032518</td>\n      <td>-0.003752</td>\n      <td>0.000886</td>\n      <td>0.002390</td>\n    </tr>\n    <tr>\n      <th>2011-10-07</th>\n      <td>3.481</td>\n      <td>139225.0</td>\n      <td>3.595</td>\n      <td>3.600</td>\n      <td>3.472</td>\n      <td>1744454.0</td>\n      <td>3521.0</td>\n      <td>2502387.0</td>\n      <td>94315.0</td>\n      <td>28.027756</td>\n      <td>...</td>\n      <td>NaN</td>\n      <td>NaN</td>\n      <td>NaN</td>\n      <td>NaN</td>\n      <td>NaN</td>\n      <td>NaN</td>\n      <td>0.017236</td>\n      <td>0.012441</td>\n      <td>0.004172</td>\n      <td>0.002858</td>\n    </tr>\n    <tr>\n      <th>2011-10-10</th>\n      <td>3.541</td>\n      <td>122903.0</td>\n      <td>3.486</td>\n      <td>3.563</td>\n      <td>3.457</td>\n      <td>1744454.0</td>\n      <td>3521.0</td>\n      <td>2502387.0</td>\n      <td>94315.0</td>\n      <td>33.385996</td>\n      <td>...</td>\n      <td>NaN</td>\n      <td>NaN</td>\n      <td>NaN</td>\n      <td>NaN</td>\n      <td>NaN</td>\n      <td>NaN</td>\n      <td>0.021180</td>\n      <td>0.008168</td>\n      <td>0.001765</td>\n      <td>0.002671</td>\n    </tr>\n    <tr>\n      <th>2011-10-11</th>\n      <td>3.616</td>\n      <td>168456.0</td>\n      <td>3.562</td>\n      <td>3.627</td>\n      <td>3.513</td>\n      <td>1744454.0</td>\n      <td>3521.0</td>\n      <td>2502387.0</td>\n      <td>94315.0</td>\n      <td>39.453890</td>\n      <td>...</td>\n      <td>NaN</td>\n      <td>NaN</td>\n      <td>NaN</td>\n      <td>NaN</td>\n      <td>NaN</td>\n      <td>NaN</td>\n      <td>-0.035122</td>\n      <td>-0.003509</td>\n      <td>0.001155</td>\n      <td>0.000472</td>\n    </tr>\n    <tr>\n      <th>2011-10-12</th>\n      <td>3.489</td>\n      <td>158954.0</td>\n      <td>3.520</td>\n      <td>3.540</td>\n      <td>3.480</td>\n      <td>1744454.0</td>\n      <td>3521.0</td>\n      <td>2502387.0</td>\n      <td>94315.0</td>\n      <td>33.833721</td>\n      <td>...</td>\n      <td>NaN</td>\n      <td>NaN</td>\n      <td>NaN</td>\n      <td>NaN</td>\n      <td>NaN</td>\n      <td>NaN</td>\n      <td>0.012038</td>\n      <td>0.005500</td>\n      <td>0.002858</td>\n      <td>0.002137</td>\n    </tr>\n    <tr>\n      <th>...</th>\n      <td>...</td>\n      <td>...</td>\n      <td>...</td>\n      <td>...</td>\n      <td>...</td>\n      <td>...</td>\n      <td>...</td>\n      <td>...</td>\n      <td>...</td>\n      <td>...</td>\n      <td>...</td>\n      <td>...</td>\n      <td>...</td>\n      <td>...</td>\n      <td>...</td>\n      <td>...</td>\n      <td>...</td>\n      <td>...</td>\n      <td>...</td>\n      <td>...</td>\n      <td>...</td>\n    </tr>\n    <tr>\n      <th>2021-09-23</th>\n      <td>4.976</td>\n      <td>99158.0</td>\n      <td>4.758</td>\n      <td>5.037</td>\n      <td>4.741</td>\n      <td>2218011.0</td>\n      <td>3082.0</td>\n      <td>3396062.0</td>\n      <td>32500.0</td>\n      <td>58.527644</td>\n      <td>...</td>\n      <td>0.010027</td>\n      <td>0.002056</td>\n      <td>-0.022894</td>\n      <td>-0.010414</td>\n      <td>0.000823</td>\n      <td>0.003919</td>\n      <td>0.032958</td>\n      <td>NaN</td>\n      <td>NaN</td>\n      <td>NaN</td>\n    </tr>\n    <tr>\n      <th>2021-09-24</th>\n      <td>5.140</td>\n      <td>46545.0</td>\n      <td>5.036</td>\n      <td>5.183</td>\n      <td>4.990</td>\n      <td>2218011.0</td>\n      <td>3170.0</td>\n      <td>3396062.0</td>\n      <td>32500.0</td>\n      <td>62.157450</td>\n      <td>...</td>\n      <td>0.011680</td>\n      <td>0.001807</td>\n      <td>-0.043112</td>\n      <td>-0.005293</td>\n      <td>-0.000991</td>\n      <td>0.005564</td>\n      <td>0.110117</td>\n      <td>NaN</td>\n      <td>NaN</td>\n      <td>NaN</td>\n    </tr>\n    <tr>\n      <th>2021-09-27</th>\n      <td>5.706</td>\n      <td>47157.0</td>\n      <td>5.191</td>\n      <td>5.851</td>\n      <td>5.176</td>\n      <td>2218011.0</td>\n      <td>3170.0</td>\n      <td>3396062.0</td>\n      <td>32500.0</td>\n      <td>71.446017</td>\n      <td>...</td>\n      <td>0.006348</td>\n      <td>0.000534</td>\n      <td>-0.023506</td>\n      <td>-0.000519</td>\n      <td>0.000355</td>\n      <td>0.005883</td>\n      <td>0.023659</td>\n      <td>NaN</td>\n      <td>NaN</td>\n      <td>NaN</td>\n    </tr>\n    <tr>\n      <th>2021-09-28</th>\n      <td>5.841</td>\n      <td>5523.0</td>\n      <td>5.800</td>\n      <td>6.280</td>\n      <td>5.602</td>\n      <td>2218011.0</td>\n      <td>3170.0</td>\n      <td>3396062.0</td>\n      <td>32500.0</td>\n      <td>73.139513</td>\n      <td>...</td>\n      <td>0.004053</td>\n      <td>0.001212</td>\n      <td>-0.036108</td>\n      <td>-0.000051</td>\n      <td>0.002115</td>\n      <td>0.004973</td>\n      <td>-0.062318</td>\n      <td>NaN</td>\n      <td>NaN</td>\n      <td>NaN</td>\n    </tr>\n    <tr>\n      <th>2021-09-29</th>\n      <td>5.477</td>\n      <td>209040.0</td>\n      <td>5.857</td>\n      <td>5.955</td>\n      <td>5.421</td>\n      <td>2218011.0</td>\n      <td>3170.0</td>\n      <td>3396062.0</td>\n      <td>32500.0</td>\n      <td>62.394306</td>\n      <td>...</td>\n      <td>0.003829</td>\n      <td>0.002735</td>\n      <td>-0.009365</td>\n      <td>0.003057</td>\n      <td>0.006385</td>\n      <td>0.005575</td>\n      <td>NaN</td>\n      <td>NaN</td>\n      <td>NaN</td>\n      <td>NaN</td>\n    </tr>\n  </tbody>\n</table>\n<p>2498 rows × 42 columns</p>\n</div>"
     },
     "execution_count": 27,
     "metadata": {},
     "output_type": "execute_result"
    }
   ],
   "source": [
    "res_"
   ]
  },
  {
   "cell_type": "code",
   "execution_count": 28,
   "metadata": {
    "pycharm": {
     "name": "#%%\n"
    }
   },
   "outputs": [],
   "source": [
    "save_data = True\n",
    "\n",
    "res_['year'] = res_.index.get_level_values('Date').year\n",
    "res_['month'] = res_.index.get_level_values('Date').month\n",
    "res_['weekday'] = res_.index.get_level_values('Date').weekday\n",
    "\n",
    "res_.dropna(inplace=True)\n",
    "\n",
    "if save_data:\n",
    "    res_.to_hdf('../data/model_data.h5', 'no_dummies', mode='w')"
   ]
  },
  {
   "cell_type": "code",
   "execution_count": 29,
   "metadata": {
    "pycharm": {
     "name": "#%%\n"
    }
   },
   "outputs": [],
   "source": [
    "res_ = pd.get_dummies(res_,\n",
    "                      columns=['year', 'month', 'weekday'],\n",
    "                      prefix=['year', 'month', 'weekday'],\n",
    "                      prefix_sep=['_', '_', '_'])"
   ]
  },
  {
   "cell_type": "code",
   "execution_count": 30,
   "metadata": {
    "pycharm": {
     "name": "#%%\n"
    }
   },
   "outputs": [
    {
     "name": "stdout",
     "output_type": "stream",
     "text": [
      "<class 'pandas.core.frame.DataFrame'>\n",
      "DatetimeIndex: 2351 entries, 2012-04-09 to 2021-08-30\n",
      "Data columns (total 69 columns):\n",
      " #   Column                         Non-Null Count  Dtype  \n",
      "---  ------                         --------------  -----  \n",
      " 0   Close                          2351 non-null   float64\n",
      " 1   Volume                         2351 non-null   float64\n",
      " 2   Open                           2351 non-null   float64\n",
      " 3   High                           2351 non-null   float64\n",
      " 4   Low                            2351 non-null   float64\n",
      " 5   Consumption in mcf             2351 non-null   float64\n",
      " 6   Storage in mcf                 2351 non-null   float64\n",
      " 7   US Gross Withdrawal in mcf     2351 non-null   float64\n",
      " 8   Other Gross Withdrawal in mcf  2351 non-null   float64\n",
      " 9   RSI                            2351 non-null   float64\n",
      " 10  ATR                            2351 non-null   float64\n",
      " 11  MACD                           2351 non-null   float64\n",
      " 12  return_1d                      2351 non-null   float64\n",
      " 13  return_5d                      2351 non-null   float64\n",
      " 14  return_10d                     2351 non-null   float64\n",
      " 15  return_21d                     2351 non-null   float64\n",
      " 16  return_42d                     2351 non-null   float64\n",
      " 17  return_63d                     2351 non-null   float64\n",
      " 18  return_1d_lag1                 2351 non-null   float64\n",
      " 19  return_5d_lag1                 2351 non-null   float64\n",
      " 20  return_10d_lag1                2351 non-null   float64\n",
      " 21  return_21d_lag1                2351 non-null   float64\n",
      " 22  return_1d_lag2                 2351 non-null   float64\n",
      " 23  return_5d_lag2                 2351 non-null   float64\n",
      " 24  return_10d_lag2                2351 non-null   float64\n",
      " 25  return_21d_lag2                2351 non-null   float64\n",
      " 26  return_1d_lag3                 2351 non-null   float64\n",
      " 27  return_5d_lag3                 2351 non-null   float64\n",
      " 28  return_10d_lag3                2351 non-null   float64\n",
      " 29  return_21d_lag3                2351 non-null   float64\n",
      " 30  return_1d_lag4                 2351 non-null   float64\n",
      " 31  return_5d_lag4                 2351 non-null   float64\n",
      " 32  return_10d_lag4                2351 non-null   float64\n",
      " 33  return_21d_lag4                2351 non-null   float64\n",
      " 34  return_1d_lag5                 2351 non-null   float64\n",
      " 35  return_5d_lag5                 2351 non-null   float64\n",
      " 36  return_10d_lag5                2351 non-null   float64\n",
      " 37  return_21d_lag5                2351 non-null   float64\n",
      " 38  target_1d                      2351 non-null   float64\n",
      " 39  target_5d                      2351 non-null   float64\n",
      " 40  target_10d                     2351 non-null   float64\n",
      " 41  target_21d                     2351 non-null   float64\n",
      " 42  year_2012                      2351 non-null   uint8  \n",
      " 43  year_2013                      2351 non-null   uint8  \n",
      " 44  year_2014                      2351 non-null   uint8  \n",
      " 45  year_2015                      2351 non-null   uint8  \n",
      " 46  year_2016                      2351 non-null   uint8  \n",
      " 47  year_2017                      2351 non-null   uint8  \n",
      " 48  year_2018                      2351 non-null   uint8  \n",
      " 49  year_2019                      2351 non-null   uint8  \n",
      " 50  year_2020                      2351 non-null   uint8  \n",
      " 51  year_2021                      2351 non-null   uint8  \n",
      " 52  month_1                        2351 non-null   uint8  \n",
      " 53  month_2                        2351 non-null   uint8  \n",
      " 54  month_3                        2351 non-null   uint8  \n",
      " 55  month_4                        2351 non-null   uint8  \n",
      " 56  month_5                        2351 non-null   uint8  \n",
      " 57  month_6                        2351 non-null   uint8  \n",
      " 58  month_7                        2351 non-null   uint8  \n",
      " 59  month_8                        2351 non-null   uint8  \n",
      " 60  month_9                        2351 non-null   uint8  \n",
      " 61  month_10                       2351 non-null   uint8  \n",
      " 62  month_11                       2351 non-null   uint8  \n",
      " 63  month_12                       2351 non-null   uint8  \n",
      " 64  weekday_0                      2351 non-null   uint8  \n",
      " 65  weekday_1                      2351 non-null   uint8  \n",
      " 66  weekday_2                      2351 non-null   uint8  \n",
      " 67  weekday_3                      2351 non-null   uint8  \n",
      " 68  weekday_4                      2351 non-null   uint8  \n",
      "dtypes: float64(42), uint8(27)\n",
      "memory usage: 851.8 KB\n"
     ]
    }
   ],
   "source": [
    "res_.dropna(inplace=True)\n",
    "\n",
    "res_.info(null_counts=True)"
   ]
  },
  {
   "cell_type": "code",
   "execution_count": 31,
   "metadata": {
    "pycharm": {
     "name": "#%%\n"
    }
   },
   "outputs": [],
   "source": [
    "if save_data:\n",
    "    res_.to_hdf('../data/model_data.h5', 'model_data', mode='a')"
   ]
  }
 ],
 "metadata": {
  "kernelspec": {
   "display_name": "Python 3 (ipykernel)",
   "language": "python",
   "name": "python3"
  },
  "language_info": {
   "codemirror_mode": {
    "name": "ipython",
    "version": 3
   },
   "file_extension": ".py",
   "mimetype": "text/x-python",
   "name": "python",
   "nbconvert_exporter": "python",
   "pygments_lexer": "ipython3",
   "version": "3.8.10"
  }
 },
 "nbformat": 4,
 "nbformat_minor": 1
}