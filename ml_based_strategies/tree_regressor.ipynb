{
 "cells": [
  {
   "cell_type": "code",
   "execution_count": 1,
   "metadata": {
    "collapsed": true
   },
   "outputs": [],
   "source": [
    "import warnings\n",
    "\n",
    "warnings.filterwarnings('ignore')"
   ]
  },
  {
   "cell_type": "code",
   "execution_count": 2,
   "outputs": [],
   "source": [
    "import numpy as np\n",
    "import pandas as pd\n",
    "\n",
    "import matplotlib.pyplot as plt\n",
    "import seaborn as sns\n",
    "\n",
    "from sklearn.model_selection import BaseCrossValidator\n",
    "from sklearn.metrics import make_scorer, mean_squared_error\n",
    "from sklearn.ensemble import RandomForestRegressor, \\\n",
    "    GradientBoostingRegressor, ExtraTreesRegressor, AdaBoostRegressor\n",
    "from sklearn.tree import DecisionTreeRegressor\n",
    "from sklearn.model_selection import cross_val_score\n",
    "\n",
    "from scipy.stats import spearmanr"
   ],
   "metadata": {
    "collapsed": false,
    "pycharm": {
     "name": "#%%\n"
    }
   }
  },
  {
   "cell_type": "code",
   "execution_count": 3,
   "outputs": [],
   "source": [
    "dataset_path = '../data/model_data.h5'"
   ],
   "metadata": {
    "collapsed": false,
    "pycharm": {
     "name": "#%%\n"
    }
   }
  },
  {
   "cell_type": "markdown",
   "source": [
    "# Load Data"
   ],
   "metadata": {
    "collapsed": false,
    "pycharm": {
     "name": "#%% md\n"
    }
   }
  },
  {
   "cell_type": "code",
   "execution_count": 4,
   "outputs": [],
   "source": [
    "data = pd.read_hdf(dataset_path, 'no_dummies')"
   ],
   "metadata": {
    "collapsed": false,
    "pycharm": {
     "name": "#%%\n"
    }
   }
  },
  {
   "cell_type": "code",
   "execution_count": 5,
   "outputs": [
    {
     "data": {
      "text/plain": "            Close    Volume   Open   High    Low  Consumption in mcf  \\\nDate                                                                   \n2012-04-09  2.107  108772.0  2.103  2.117  2.065           1953071.0   \n2012-04-10  2.031  120126.0  2.111  2.125  2.025           1953071.0   \n2012-04-12  1.983  188668.0  1.976  2.068  1.972           1953071.0   \n2012-04-13  1.981  111947.0  1.982  1.999  1.959           1953071.0   \n2012-04-16  2.016  115321.0  1.986  2.030  1.977           1953071.0   \n...           ...       ...    ...    ...    ...                 ...   \n2021-07-26  4.102   47082.0  4.025  4.187  4.010           2218011.0   \n2021-07-27  3.971   40472.0  4.095  4.114  3.934           2218011.0   \n2021-07-28  4.044    3877.0  3.947  4.064  3.874           2218011.0   \n2021-07-29  4.059  113681.0  3.941  4.097  3.927           2218011.0   \n2021-07-30  3.914  150564.0  4.051  4.055  3.855           2218011.0   \n\n            Storage in mcf  US Gross Withdrawal in mcf  \\\nDate                                                     \n2012-04-09          2478.0                   2417498.0   \n2012-04-10          2478.0                   2417498.0   \n2012-04-12          2478.0                   2417498.0   \n2012-04-13          2503.0                   2417498.0   \n2012-04-16          2503.0                   2417498.0   \n...                    ...                         ...   \n2021-07-26          2714.0                   3396062.0   \n2021-07-27          2714.0                   3396062.0   \n2021-07-28          2714.0                   3396062.0   \n2021-07-29          2714.0                   3396062.0   \n2021-07-30          2727.0                   3396062.0   \n\n            Other Gross Withdrawal in mcf        RSI  ...  return_21d  \\\nDate                                                  ...               \n2012-04-09                        93400.0  34.901425  ...   -0.003584   \n2012-04-10                        93400.0  30.556017  ...   -0.006397   \n2012-04-12                        93400.0  28.170441  ...   -0.006395   \n2012-04-13                        93400.0  28.072097  ...   -0.007064   \n2012-04-16                        93400.0  32.512260  ...   -0.005926   \n...                                   ...        ...  ...         ...   \n2021-07-26                        32500.0  79.676063  ...    0.008724   \n2021-07-27                        32500.0  67.674236  ...    0.006085   \n2021-07-28                        32500.0  70.354143  ...    0.005647   \n2021-07-29                        32500.0  70.888206  ...    0.005333   \n2021-07-30                        32500.0  59.693397  ...    0.003331   \n\n            return_42d  return_63d  target_1d  target_5d  target_10d  \\\nDate                                                                   \n2012-04-09   -0.003797   -0.005916  -0.036070  -0.015267   -0.006449   \n2012-04-10   -0.004436   -0.006230  -0.023634  -0.008005    0.001807   \n2012-04-12   -0.005282   -0.006237  -0.001009  -0.007785    0.002641   \n2012-04-13   -0.005306   -0.005330   0.017668  -0.005512    0.009896   \n2012-04-16   -0.004447   -0.004609  -0.032242  -0.000894    0.012604   \n...                ...         ...        ...        ...         ...   \n2021-07-26    0.008183    0.006137  -0.031936  -0.008278   -0.001029   \n2021-07-27    0.006827    0.005151   0.018383   0.002805    0.002933   \n2021-07-28    0.007474    0.005155   0.003709   0.005575    0.000370   \n2021-07-29    0.007336    0.005291  -0.035723   0.003960   -0.003148   \n2021-07-30    0.005536    0.004601   0.005365   0.010997   -0.001362   \n\n            target_21d  year  month  weekday  \nDate                                          \n2012-04-09    0.007501  2012      4        0  \n2012-04-10    0.009692  2012      4        1  \n2012-04-12    0.011266  2012      4        3  \n2012-04-13    0.009795  2012      4        4  \n2012-04-16    0.010299  2012      4        0  \n...                ...   ...    ...      ...  \n2021-07-26   -0.002451  2021      7        0  \n2021-07-27   -0.000895  2021      7        1  \n2021-07-28    0.001622  2021      7        2  \n2021-07-29    0.003522  2021      7        3  \n2021-07-30    0.004544  2021      7        4  \n\n[2330 rows x 25 columns]",
      "text/html": "<div>\n<style scoped>\n    .dataframe tbody tr th:only-of-type {\n        vertical-align: middle;\n    }\n\n    .dataframe tbody tr th {\n        vertical-align: top;\n    }\n\n    .dataframe thead th {\n        text-align: right;\n    }\n</style>\n<table border=\"1\" class=\"dataframe\">\n  <thead>\n    <tr style=\"text-align: right;\">\n      <th></th>\n      <th>Close</th>\n      <th>Volume</th>\n      <th>Open</th>\n      <th>High</th>\n      <th>Low</th>\n      <th>Consumption in mcf</th>\n      <th>Storage in mcf</th>\n      <th>US Gross Withdrawal in mcf</th>\n      <th>Other Gross Withdrawal in mcf</th>\n      <th>RSI</th>\n      <th>...</th>\n      <th>return_21d</th>\n      <th>return_42d</th>\n      <th>return_63d</th>\n      <th>target_1d</th>\n      <th>target_5d</th>\n      <th>target_10d</th>\n      <th>target_21d</th>\n      <th>year</th>\n      <th>month</th>\n      <th>weekday</th>\n    </tr>\n    <tr>\n      <th>Date</th>\n      <th></th>\n      <th></th>\n      <th></th>\n      <th></th>\n      <th></th>\n      <th></th>\n      <th></th>\n      <th></th>\n      <th></th>\n      <th></th>\n      <th></th>\n      <th></th>\n      <th></th>\n      <th></th>\n      <th></th>\n      <th></th>\n      <th></th>\n      <th></th>\n      <th></th>\n      <th></th>\n      <th></th>\n    </tr>\n  </thead>\n  <tbody>\n    <tr>\n      <th>2012-04-09</th>\n      <td>2.107</td>\n      <td>108772.0</td>\n      <td>2.103</td>\n      <td>2.117</td>\n      <td>2.065</td>\n      <td>1953071.0</td>\n      <td>2478.0</td>\n      <td>2417498.0</td>\n      <td>93400.0</td>\n      <td>34.901425</td>\n      <td>...</td>\n      <td>-0.003584</td>\n      <td>-0.003797</td>\n      <td>-0.005916</td>\n      <td>-0.036070</td>\n      <td>-0.015267</td>\n      <td>-0.006449</td>\n      <td>0.007501</td>\n      <td>2012</td>\n      <td>4</td>\n      <td>0</td>\n    </tr>\n    <tr>\n      <th>2012-04-10</th>\n      <td>2.031</td>\n      <td>120126.0</td>\n      <td>2.111</td>\n      <td>2.125</td>\n      <td>2.025</td>\n      <td>1953071.0</td>\n      <td>2478.0</td>\n      <td>2417498.0</td>\n      <td>93400.0</td>\n      <td>30.556017</td>\n      <td>...</td>\n      <td>-0.006397</td>\n      <td>-0.004436</td>\n      <td>-0.006230</td>\n      <td>-0.023634</td>\n      <td>-0.008005</td>\n      <td>0.001807</td>\n      <td>0.009692</td>\n      <td>2012</td>\n      <td>4</td>\n      <td>1</td>\n    </tr>\n    <tr>\n      <th>2012-04-12</th>\n      <td>1.983</td>\n      <td>188668.0</td>\n      <td>1.976</td>\n      <td>2.068</td>\n      <td>1.972</td>\n      <td>1953071.0</td>\n      <td>2478.0</td>\n      <td>2417498.0</td>\n      <td>93400.0</td>\n      <td>28.170441</td>\n      <td>...</td>\n      <td>-0.006395</td>\n      <td>-0.005282</td>\n      <td>-0.006237</td>\n      <td>-0.001009</td>\n      <td>-0.007785</td>\n      <td>0.002641</td>\n      <td>0.011266</td>\n      <td>2012</td>\n      <td>4</td>\n      <td>3</td>\n    </tr>\n    <tr>\n      <th>2012-04-13</th>\n      <td>1.981</td>\n      <td>111947.0</td>\n      <td>1.982</td>\n      <td>1.999</td>\n      <td>1.959</td>\n      <td>1953071.0</td>\n      <td>2503.0</td>\n      <td>2417498.0</td>\n      <td>93400.0</td>\n      <td>28.072097</td>\n      <td>...</td>\n      <td>-0.007064</td>\n      <td>-0.005306</td>\n      <td>-0.005330</td>\n      <td>0.017668</td>\n      <td>-0.005512</td>\n      <td>0.009896</td>\n      <td>0.009795</td>\n      <td>2012</td>\n      <td>4</td>\n      <td>4</td>\n    </tr>\n    <tr>\n      <th>2012-04-16</th>\n      <td>2.016</td>\n      <td>115321.0</td>\n      <td>1.986</td>\n      <td>2.030</td>\n      <td>1.977</td>\n      <td>1953071.0</td>\n      <td>2503.0</td>\n      <td>2417498.0</td>\n      <td>93400.0</td>\n      <td>32.512260</td>\n      <td>...</td>\n      <td>-0.005926</td>\n      <td>-0.004447</td>\n      <td>-0.004609</td>\n      <td>-0.032242</td>\n      <td>-0.000894</td>\n      <td>0.012604</td>\n      <td>0.010299</td>\n      <td>2012</td>\n      <td>4</td>\n      <td>0</td>\n    </tr>\n    <tr>\n      <th>...</th>\n      <td>...</td>\n      <td>...</td>\n      <td>...</td>\n      <td>...</td>\n      <td>...</td>\n      <td>...</td>\n      <td>...</td>\n      <td>...</td>\n      <td>...</td>\n      <td>...</td>\n      <td>...</td>\n      <td>...</td>\n      <td>...</td>\n      <td>...</td>\n      <td>...</td>\n      <td>...</td>\n      <td>...</td>\n      <td>...</td>\n      <td>...</td>\n      <td>...</td>\n      <td>...</td>\n    </tr>\n    <tr>\n      <th>2021-07-26</th>\n      <td>4.102</td>\n      <td>47082.0</td>\n      <td>4.025</td>\n      <td>4.187</td>\n      <td>4.010</td>\n      <td>2218011.0</td>\n      <td>2714.0</td>\n      <td>3396062.0</td>\n      <td>32500.0</td>\n      <td>79.676063</td>\n      <td>...</td>\n      <td>0.008724</td>\n      <td>0.008183</td>\n      <td>0.006137</td>\n      <td>-0.031936</td>\n      <td>-0.008278</td>\n      <td>-0.001029</td>\n      <td>-0.002451</td>\n      <td>2021</td>\n      <td>7</td>\n      <td>0</td>\n    </tr>\n    <tr>\n      <th>2021-07-27</th>\n      <td>3.971</td>\n      <td>40472.0</td>\n      <td>4.095</td>\n      <td>4.114</td>\n      <td>3.934</td>\n      <td>2218011.0</td>\n      <td>2714.0</td>\n      <td>3396062.0</td>\n      <td>32500.0</td>\n      <td>67.674236</td>\n      <td>...</td>\n      <td>0.006085</td>\n      <td>0.006827</td>\n      <td>0.005151</td>\n      <td>0.018383</td>\n      <td>0.002805</td>\n      <td>0.002933</td>\n      <td>-0.000895</td>\n      <td>2021</td>\n      <td>7</td>\n      <td>1</td>\n    </tr>\n    <tr>\n      <th>2021-07-28</th>\n      <td>4.044</td>\n      <td>3877.0</td>\n      <td>3.947</td>\n      <td>4.064</td>\n      <td>3.874</td>\n      <td>2218011.0</td>\n      <td>2714.0</td>\n      <td>3396062.0</td>\n      <td>32500.0</td>\n      <td>70.354143</td>\n      <td>...</td>\n      <td>0.005647</td>\n      <td>0.007474</td>\n      <td>0.005155</td>\n      <td>0.003709</td>\n      <td>0.005575</td>\n      <td>0.000370</td>\n      <td>0.001622</td>\n      <td>2021</td>\n      <td>7</td>\n      <td>2</td>\n    </tr>\n    <tr>\n      <th>2021-07-29</th>\n      <td>4.059</td>\n      <td>113681.0</td>\n      <td>3.941</td>\n      <td>4.097</td>\n      <td>3.927</td>\n      <td>2218011.0</td>\n      <td>2714.0</td>\n      <td>3396062.0</td>\n      <td>32500.0</td>\n      <td>70.888206</td>\n      <td>...</td>\n      <td>0.005333</td>\n      <td>0.007336</td>\n      <td>0.005291</td>\n      <td>-0.035723</td>\n      <td>0.003960</td>\n      <td>-0.003148</td>\n      <td>0.003522</td>\n      <td>2021</td>\n      <td>7</td>\n      <td>3</td>\n    </tr>\n    <tr>\n      <th>2021-07-30</th>\n      <td>3.914</td>\n      <td>150564.0</td>\n      <td>4.051</td>\n      <td>4.055</td>\n      <td>3.855</td>\n      <td>2218011.0</td>\n      <td>2727.0</td>\n      <td>3396062.0</td>\n      <td>32500.0</td>\n      <td>59.693397</td>\n      <td>...</td>\n      <td>0.003331</td>\n      <td>0.005536</td>\n      <td>0.004601</td>\n      <td>0.005365</td>\n      <td>0.010997</td>\n      <td>-0.001362</td>\n      <td>0.004544</td>\n      <td>2021</td>\n      <td>7</td>\n      <td>4</td>\n    </tr>\n  </tbody>\n</table>\n<p>2330 rows × 25 columns</p>\n</div>"
     },
     "execution_count": 5,
     "metadata": {},
     "output_type": "execute_result"
    }
   ],
   "source": [
    "data = data.drop([c for c in data.columns if 'lag' in c], axis=1)\n",
    "data"
   ],
   "metadata": {
    "collapsed": false,
    "pycharm": {
     "name": "#%%\n"
    }
   }
  },
  {
   "cell_type": "code",
   "execution_count": 6,
   "outputs": [
    {
     "name": "stdout",
     "output_type": "stream",
     "text": [
      "<class 'pandas.core.frame.DataFrame'>\n",
      "DatetimeIndex: 2330 entries, 2012-04-09 to 2021-07-30\n",
      "Data columns (total 25 columns):\n",
      " #   Column                         Non-Null Count  Dtype  \n",
      "---  ------                         --------------  -----  \n",
      " 0   Close                          2330 non-null   float64\n",
      " 1   Volume                         2330 non-null   float64\n",
      " 2   Open                           2330 non-null   float64\n",
      " 3   High                           2330 non-null   float64\n",
      " 4   Low                            2330 non-null   float64\n",
      " 5   Consumption in mcf             2330 non-null   float64\n",
      " 6   Storage in mcf                 2330 non-null   float64\n",
      " 7   US Gross Withdrawal in mcf     2330 non-null   float64\n",
      " 8   Other Gross Withdrawal in mcf  2330 non-null   float64\n",
      " 9   RSI                            2330 non-null   float64\n",
      " 10  ATR                            2330 non-null   float64\n",
      " 11  MACD                           2330 non-null   float64\n",
      " 12  return_1d                      2330 non-null   float64\n",
      " 13  return_5d                      2330 non-null   float64\n",
      " 14  return_10d                     2330 non-null   float64\n",
      " 15  return_21d                     2330 non-null   float64\n",
      " 16  return_42d                     2330 non-null   float64\n",
      " 17  return_63d                     2330 non-null   float64\n",
      " 18  target_1d                      2330 non-null   float64\n",
      " 19  target_5d                      2330 non-null   float64\n",
      " 20  target_10d                     2330 non-null   float64\n",
      " 21  target_21d                     2330 non-null   float64\n",
      " 22  year                           2330 non-null   int64  \n",
      " 23  month                          2330 non-null   int64  \n",
      " 24  weekday                        2330 non-null   int64  \n",
      "dtypes: float64(22), int64(3)\n",
      "memory usage: 473.3 KB\n"
     ]
    }
   ],
   "source": [
    "data.info()"
   ],
   "metadata": {
    "collapsed": false,
    "pycharm": {
     "name": "#%%\n"
    }
   }
  },
  {
   "cell_type": "code",
   "execution_count": 7,
   "outputs": [],
   "source": [
    "columns_to_drop = ['Open', 'Close', 'Low', 'High', 'Volume']\n",
    "y = data.filter(like='target')\n",
    "X = data.drop(columns_to_drop, axis=1)\n",
    "X = X.drop(y.columns, axis=1)"
   ],
   "metadata": {
    "collapsed": false,
    "pycharm": {
     "name": "#%%\n"
    }
   }
  },
  {
   "cell_type": "code",
   "execution_count": 8,
   "outputs": [],
   "source": [
    "\n",
    "class MultipleTimeSeriesCV(BaseCrossValidator):\n",
    "    \"\"\"Generates tuples of train_idx, test_idx pairs\"\"\"\n",
    "\n",
    "    def __init__(self,\n",
    "                 n_splits=3,\n",
    "                 train_period_length=126,\n",
    "                 test_period_length=21,\n",
    "                 lookahead=None,\n",
    "                 shuffle=False):\n",
    "        self.n_splits = n_splits\n",
    "        self.lookahead = lookahead\n",
    "        self.test_length = test_period_length\n",
    "        self.train_length = train_period_length\n",
    "        self.shuffle = shuffle\n",
    "\n",
    "    def split(self, X, y=None, groups=None):\n",
    "        unique_dates = X.index.get_level_values('Date').unique()\n",
    "        days = sorted(unique_dates, reverse=True)\n",
    "\n",
    "        split_idx = []\n",
    "        for i in range(self.n_splits):\n",
    "            test_end_idx = i * self.test_length\n",
    "            test_start_idx = test_end_idx + self.test_length\n",
    "            train_end_idx = test_start_idx + self.lookahead - 1\n",
    "            train_start_idx = train_end_idx + self.train_length + self.lookahead - 1\n",
    "            split_idx.append([train_start_idx, train_end_idx,\n",
    "                              test_start_idx, test_end_idx])\n",
    "\n",
    "        dates = X.reset_index()[['Date']]\n",
    "        for train_start, train_end, test_start, test_end in split_idx:\n",
    "            train_idx = dates[(dates.Date > days[train_start])\n",
    "                              & (dates.Date <= days[train_end])].index\n",
    "            test_idx = dates[(dates.Date > days[test_start])\n",
    "                             & (dates.Date <= days[test_end])].index\n",
    "            if self.shuffle:\n",
    "                np.random.shuffle(list(train_idx))\n",
    "            yield train_idx, test_idx\n",
    "\n",
    "    def get_n_splits(self, X=None, y=None, groups=None):\n",
    "        return self.n_splits"
   ],
   "metadata": {
    "collapsed": false,
    "pycharm": {
     "name": "#%%\n"
    }
   }
  },
  {
   "cell_type": "code",
   "execution_count": 9,
   "outputs": [],
   "source": [
    "n_splits = 20\n",
    "train_period_length = 300\n",
    "test_period_length = 100\n",
    "lookahead = 5\n",
    "\n",
    "cv = MultipleTimeSeriesCV(n_splits=n_splits,\n",
    "                          train_period_length=train_period_length,\n",
    "                          test_period_length=test_period_length,\n",
    "                          lookahead=lookahead)"
   ],
   "metadata": {
    "collapsed": false,
    "pycharm": {
     "name": "#%%\n"
    }
   }
  },
  {
   "cell_type": "code",
   "execution_count": 10,
   "outputs": [],
   "source": [
    "# Utilities functions\n",
    "\n",
    "def display_score(scores):\n",
    "    print('scores: ',scores)\n",
    "    print('mean: ', scores.mean())\n",
    "    print('standard deviation: ', scores.std())\n",
    "\n",
    "\n",
    "def rank_correl(y, y_pred):\n",
    "    return spearmanr(y, y_pred, axis=None)[0]\n",
    "\n",
    "ic = make_scorer(rank_correl)\n",
    "\n",
    "\n",
    "def get_cross_val_score(model, X, y, score_fun, cv, n_jobs=-1):\n",
    "    cv_score = cross_val_score(estimator=model,\n",
    "                           X=X,\n",
    "                           y=y,\n",
    "                           scoring=score_fun,\n",
    "                           cv=cv,\n",
    "                           n_jobs=n_jobs,\n",
    "                           verbose=1)\n",
    "    display_score(cv_score)"
   ],
   "metadata": {
    "collapsed": false,
    "pycharm": {
     "name": "#%%\n"
    }
   }
  },
  {
   "cell_type": "markdown",
   "source": [
    "# Decision Tree Regressor"
   ],
   "metadata": {
    "collapsed": false,
    "pycharm": {
     "name": "#%% md\n"
    }
   }
  },
  {
   "cell_type": "code",
   "execution_count": 11,
   "outputs": [],
   "source": [
    "dt_reg = DecisionTreeRegressor(max_depth=None,\n",
    "                               min_samples_split=2,\n",
    "                               min_samples_leaf=1,\n",
    "                               max_features='auto')\n"
   ],
   "metadata": {
    "collapsed": false,
    "pycharm": {
     "name": "#%%\n"
    }
   }
  },
  {
   "cell_type": "code",
   "execution_count": 12,
   "outputs": [
    {
     "name": "stderr",
     "output_type": "stream",
     "text": [
      "[Parallel(n_jobs=-1)]: Using backend LokyBackend with 3 concurrent workers.\n"
     ]
    },
    {
     "name": "stdout",
     "output_type": "stream",
     "text": [
      "scores:  [ 0.05725295  0.12998729  0.24037637 -0.10155339 -0.21020925  0.09080224\n",
      "  0.20310089 -0.13462115  0.08363419  0.04656041  0.09420882  0.0774278\n",
      "  0.02439095  0.11081834  0.07832519 -0.05583851  0.07089682  0.03800565\n",
      " -0.07064678  0.14909884]\n",
      "mean:  0.046100883584037765\n",
      "standard deviation:  0.10895457585937979\n"
     ]
    },
    {
     "name": "stderr",
     "output_type": "stream",
     "text": [
      "[Parallel(n_jobs=-1)]: Done  20 out of  20 | elapsed:    1.6s finished\n"
     ]
    }
   ],
   "source": [
    "get_cross_val_score(dt_reg, X, y, ic, cv)"
   ],
   "metadata": {
    "collapsed": false,
    "pycharm": {
     "name": "#%%\n"
    }
   }
  },
  {
   "cell_type": "markdown",
   "source": [
    "# Random Forest Regressor"
   ],
   "metadata": {
    "collapsed": false,
    "pycharm": {
     "name": "#%% md\n"
    }
   }
  },
  {
   "cell_type": "code",
   "execution_count": 13,
   "outputs": [],
   "source": [
    "rf_reg = RandomForestRegressor(n_estimators=100,\n",
    "                                max_depth=None,\n",
    "                                min_samples_split=2,\n",
    "                                min_samples_leaf=1,\n",
    "                                min_weight_fraction_leaf=0.0,\n",
    "                                max_features='auto',\n",
    "                                max_leaf_nodes=None,\n",
    "                                min_impurity_decrease=0.0,\n",
    "                                min_impurity_split=None,\n",
    "                                bootstrap=True,\n",
    "                                oob_score=False,\n",
    "                                n_jobs=-1,\n",
    "                                random_state=None,\n",
    "                                verbose=0,\n",
    "                                warm_start=False)"
   ],
   "metadata": {
    "collapsed": false,
    "pycharm": {
     "name": "#%%\n"
    }
   }
  },
  {
   "cell_type": "code",
   "execution_count": 14,
   "outputs": [
    {
     "name": "stderr",
     "output_type": "stream",
     "text": [
      "[Parallel(n_jobs=-1)]: Using backend LokyBackend with 3 concurrent workers.\n"
     ]
    },
    {
     "name": "stdout",
     "output_type": "stream",
     "text": [
      "scores:  [ 2.37072732e-01  1.40093376e-01  2.21538072e-01  8.83308646e-02\n",
      " -1.62102826e-01  3.31671870e-01  2.90356763e-01 -6.35694628e-02\n",
      "  8.11338196e-02  1.76494103e-01  1.59779349e-01  1.49223933e-01\n",
      " -1.89376219e-05  1.71210422e-01  8.58699117e-03  1.56646196e-01\n",
      "  6.06071288e-02  1.01738511e-01  8.62535391e-02  6.30804568e-02]\n",
      "mean:  0.1149063449653289\n",
      "standard deviation:  0.11361580914417195\n"
     ]
    },
    {
     "name": "stderr",
     "output_type": "stream",
     "text": [
      "[Parallel(n_jobs=-1)]: Done  20 out of  20 | elapsed:    3.4s finished\n"
     ]
    }
   ],
   "source": [
    "get_cross_val_score(rf_reg, X, y, ic, cv)"
   ],
   "metadata": {
    "collapsed": false,
    "pycharm": {
     "name": "#%%\n"
    }
   }
  },
  {
   "cell_type": "markdown",
   "source": [
    "# Ada Boosting Regressor"
   ],
   "metadata": {
    "collapsed": false,
    "pycharm": {
     "name": "#%% md\n"
    }
   }
  },
  {
   "cell_type": "code",
   "execution_count": 15,
   "outputs": [],
   "source": [
    "ada_reg = AdaBoostRegressor(n_estimators=100,\n",
    "                            loss='square')"
   ],
   "metadata": {
    "collapsed": false,
    "pycharm": {
     "name": "#%%\n"
    }
   }
  },
  {
   "cell_type": "code",
   "execution_count": 16,
   "outputs": [
    {
     "name": "stderr",
     "output_type": "stream",
     "text": [
      "[Parallel(n_jobs=-1)]: Using backend LokyBackend with 3 concurrent workers.\n"
     ]
    },
    {
     "name": "stdout",
     "output_type": "stream",
     "text": [
      "scores:  [ 0.27216342  0.21133152  0.22248502  0.00490213 -0.28906806 -0.01734703\n",
      "  0.33144695  0.0343554   0.02200844  0.17084048 -0.00071431  0.1364398\n",
      "  0.21199051  0.19116039 -0.0373696  -0.13810465 -0.11426533  0.13197637\n",
      " -0.11194742  0.00957403]\n",
      "mean:  0.06209290209642003\n",
      "standard deviation:  0.1548196788531513\n"
     ]
    },
    {
     "name": "stderr",
     "output_type": "stream",
     "text": [
      "[Parallel(n_jobs=-1)]: Done  20 out of  20 | elapsed:    2.0s finished\n"
     ]
    }
   ],
   "source": [
    "get_cross_val_score(ada_reg, X, y['target_5d'], ic, cv)"
   ],
   "metadata": {
    "collapsed": false,
    "pycharm": {
     "name": "#%%\n"
    }
   }
  },
  {
   "cell_type": "markdown",
   "source": [
    "# Gradient Boosting Regressor"
   ],
   "metadata": {
    "collapsed": false,
    "pycharm": {
     "name": "#%% md\n"
    }
   }
  },
  {
   "cell_type": "code",
   "execution_count": 17,
   "outputs": [],
   "source": [
    "grad_reg = GradientBoostingRegressor(n_estimators=250,\n",
    "                                        max_depth=None,\n",
    "                                        min_samples_split=2,\n",
    "                                        min_samples_leaf=1,\n",
    "                                        min_weight_fraction_leaf=0.0,\n",
    "                                        max_features='auto',\n",
    "                                        max_leaf_nodes=None,\n",
    "                                        min_impurity_decrease=0.0,\n",
    "                                        min_impurity_split=None,\n",
    "                                        random_state=None,\n",
    "                                        verbose=0,\n",
    "                                        warm_start=False)"
   ],
   "metadata": {
    "collapsed": false,
    "pycharm": {
     "name": "#%%\n"
    }
   }
  },
  {
   "cell_type": "code",
   "execution_count": 18,
   "outputs": [
    {
     "name": "stderr",
     "output_type": "stream",
     "text": [
      "[Parallel(n_jobs=1)]: Using backend SequentialBackend with 1 concurrent workers.\n"
     ]
    },
    {
     "name": "stdout",
     "output_type": "stream",
     "text": [
      "scores:  [ 0.35602374  0.11761917  0.17818889  0.18843219 -0.44068694  0.11011597\n",
      " -0.01619289 -0.16817282  0.02164442  0.09921735 -0.07055011  0.33356336\n",
      "  0.07482167  0.09148307  0.05446259 -0.03509814  0.1136337   0.15946882\n",
      " -0.00800482 -0.16687219]\n",
      "mean:  0.04965485105623175\n",
      "standard deviation:  0.17383628536813386\n"
     ]
    },
    {
     "name": "stderr",
     "output_type": "stream",
     "text": [
      "[Parallel(n_jobs=1)]: Done  20 out of  20 | elapsed:   17.9s finished\n"
     ]
    }
   ],
   "source": [
    "get_cross_val_score(grad_reg, X, y['target_5d'], ic, cv, n_jobs=1)\n"
   ],
   "metadata": {
    "collapsed": false,
    "pycharm": {
     "name": "#%%\n"
    }
   }
  },
  {
   "cell_type": "markdown",
   "source": [
    "It seems like that the best learner is the `ExtraTreesRegressor`. Let's fine tune it in order to find\n",
    "the bests parameters"
   ],
   "metadata": {
    "collapsed": false,
    "pycharm": {
     "name": "#%% md\n"
    }
   }
  },
  {
   "cell_type": "code",
   "execution_count": 19,
   "outputs": [],
   "source": [
    "param_grid = {'n_estimators': [50, 100, 250],\n",
    "              'max_depth': [5, 15, None],\n",
    "              'min_samples_leaf': [5, 25, 100],\n",
    "              'max_features': ['auto', 'sqrt', 'log2']}\n"
   ],
   "metadata": {
    "collapsed": false,
    "pycharm": {
     "name": "#%%\n"
    }
   }
  },
  {
   "cell_type": "code",
   "execution_count": 20,
   "outputs": [],
   "source": [
    "\n",
    "from sklearn.model_selection import GridSearchCV\n",
    "\n",
    "gridsearch_reg = GridSearchCV(estimator=rf_reg,\n",
    "                              param_grid=param_grid,\n",
    "                              scoring=ic,\n",
    "                              n_jobs=-1,\n",
    "                              cv=cv,\n",
    "                              refit=True,\n",
    "                              return_train_score=True,\n",
    "                              verbose=1)"
   ],
   "metadata": {
    "collapsed": false,
    "pycharm": {
     "name": "#%%\n"
    }
   }
  },
  {
   "cell_type": "code",
   "execution_count": 21,
   "outputs": [
    {
     "name": "stdout",
     "output_type": "stream",
     "text": [
      "Fitting 20 folds for each of 81 candidates, totalling 1620 fits\n"
     ]
    },
    {
     "data": {
      "text/plain": "GridSearchCV(cv=MultipleTimeSeriesCV(lookahead=5, n_splits=20, shuffle=False,\n           test_period_length=None, train_period_length=None),\n             estimator=RandomForestRegressor(n_jobs=-1), n_jobs=-1,\n             param_grid={'max_depth': [5, 15, None],\n                         'max_features': ['auto', 'sqrt', 'log2'],\n                         'min_samples_leaf': [5, 25, 100],\n                         'n_estimators': [50, 100, 250]},\n             return_train_score=True, scoring=make_scorer(rank_correl),\n             verbose=1)"
     },
     "execution_count": 21,
     "metadata": {},
     "output_type": "execute_result"
    }
   ],
   "source": [
    "gridsearch_reg.fit(X, y.target_5d.ravel())"
   ],
   "metadata": {
    "collapsed": false,
    "pycharm": {
     "name": "#%%\n"
    }
   }
  },
  {
   "cell_type": "code",
   "execution_count": 22,
   "outputs": [],
   "source": [
    "best_learner = gridsearch_reg.best_estimator_"
   ],
   "metadata": {
    "collapsed": false,
    "pycharm": {
     "name": "#%%\n"
    }
   }
  },
  {
   "cell_type": "code",
   "execution_count": 23,
   "outputs": [],
   "source": [
    "import pickle\n",
    "\n",
    "best_model_filename = './best_tree_model.pkl'\n",
    "\n",
    "with open(best_model_filename, 'wb') as file:\n",
    "    pickle.dump(best_learner, file)\n"
   ],
   "metadata": {
    "collapsed": false,
    "pycharm": {
     "name": "#%%\n"
    }
   }
  },
  {
   "cell_type": "code",
   "execution_count": 24,
   "outputs": [
    {
     "data": {
      "text/plain": "{'max_depth': 5,\n 'max_features': 'auto',\n 'min_samples_leaf': 25,\n 'n_estimators': 50}"
     },
     "execution_count": 24,
     "metadata": {},
     "output_type": "execute_result"
    }
   ],
   "source": [
    "gridsearch_reg.best_params_"
   ],
   "metadata": {
    "collapsed": false,
    "pycharm": {
     "name": "#%%\n"
    }
   }
  },
  {
   "cell_type": "code",
   "execution_count": 25,
   "outputs": [
    {
     "data": {
      "text/plain": "'0.14'"
     },
     "execution_count": 25,
     "metadata": {},
     "output_type": "execute_result"
    }
   ],
   "source": [
    "f'{gridsearch_reg.best_score_:.2f}'"
   ],
   "metadata": {
    "collapsed": false,
    "pycharm": {
     "name": "#%%\n"
    }
   }
  },
  {
   "cell_type": "markdown",
   "source": [
    "## Evaluate the Best Model"
   ],
   "metadata": {
    "collapsed": false,
    "pycharm": {
     "name": "#%% md\n"
    }
   }
  },
  {
   "cell_type": "code",
   "execution_count": 26,
   "outputs": [
    {
     "name": "stdout",
     "output_type": "stream",
     "text": [
      "Predicted:  0.003051592269457532\n",
      "Actual:  0.0015953285074468138\n",
      "Spread:  0.0014562637620107182\n",
      "\n",
      "Predicted:  0.003823544656886324\n",
      "Actual:  0.009555876643564165\n",
      "Spread:  0.005732331986677841\n",
      "\n",
      "Predicted:  0.003870588539287958\n",
      "Actual:  0.01582964630890693\n",
      "Spread:  0.011959057769618973\n",
      "\n",
      "Predicted:  0.004205175136926554\n",
      "Actual:  0.020656224280130253\n",
      "Spread:  0.0164510491432037\n",
      "\n",
      "Predicted:  0.003702059212105807\n",
      "Actual:  0.020181341587396595\n",
      "Spread:  0.01647928237529079\n",
      "\n",
      "Predicted:  0.0038259831602524496\n",
      "Actual:  0.016538315626423383\n",
      "Spread:  0.012712332466170933\n",
      "\n",
      "Predicted:  0.0031313404488542977\n",
      "Actual:  0.004854597183057585\n",
      "Spread:  0.0017232567342032874\n",
      "\n",
      "Predicted:  0.0018199889430686998\n",
      "Actual:  0.0042576045608697655\n",
      "Spread:  0.0024376156178010657\n",
      "\n",
      "Predicted:  0.0018209933294236224\n",
      "Actual:  0.0027823752100966104\n",
      "Spread:  0.000961381880672988\n",
      "\n",
      "Predicted:  0.0008513260983186295\n",
      "Actual:  -0.007297861266733707\n",
      "Spread:  0.008149187365052336\n",
      "\n",
      "Predicted:  -3.574702064727115e-05\n",
      "Actual:  -0.008278300142939177\n",
      "Spread:  0.008242553122291905\n",
      "\n",
      "Predicted:  0.0013148804291819507\n",
      "Actual:  0.0028046716971188435\n",
      "Spread:  0.0014897912679368928\n",
      "\n",
      "Predicted:  0.00012423855254634485\n",
      "Actual:  0.005575463017404081\n",
      "Spread:  0.005451224464857736\n",
      "\n",
      "Predicted:  0.00012423855254634485\n",
      "Actual:  0.003959648772350333\n",
      "Spread:  0.003835410219803988\n",
      "\n",
      "Predicted:  0.00390094316967497\n",
      "Actual:  0.010997147385435335\n",
      "Spread:  0.007096204215760365\n",
      "\n"
     ]
    }
   ],
   "source": [
    "for predicted, actual in zip(best_learner.predict(X.iloc[-15:]), y.target_5d.values[-15:]):\n",
    "    print('Predicted: ', predicted)\n",
    "    print('Actual: ', actual)\n",
    "    print('Spread: ', np.abs(predicted - actual), end='\\n\\n')"
   ],
   "metadata": {
    "collapsed": false,
    "pycharm": {
     "name": "#%%\n"
    }
   }
  },
  {
   "cell_type": "code",
   "execution_count": 27,
   "outputs": [
    {
     "name": "stdout",
     "output_type": "stream",
     "text": [
      "0.7810548248408075\n"
     ]
    }
   ],
   "source": [
    "print(rank_correl(best_learner.predict(X.iloc[-15:]), y.target_5d.values[-15:]))\n"
   ],
   "metadata": {
    "collapsed": false,
    "pycharm": {
     "name": "#%%\n"
    }
   }
  },
  {
   "cell_type": "markdown",
   "source": [
    "## Parameters importance"
   ],
   "metadata": {
    "collapsed": false,
    "pycharm": {
     "name": "#%% md\n"
    }
   }
  },
  {
   "cell_type": "code",
   "execution_count": 28,
   "outputs": [
    {
     "data": {
      "text/plain": "<Figure size 864x360 with 1 Axes>",
      "image/png": "[encoded data removed]"
     },
     "metadata": {
      "needs_background": "light"
     },
     "output_type": "display_data"
    }
   ],
   "source": [
    "\n",
    "fig, ax = plt.subplots(figsize=(12,5))\n",
    "(pd.Series(best_learner.feature_importances_, index=X.columns)\n",
    " .sort_values(ascending=False)\n",
    " .iloc[:20]\n",
    " .sort_values()\n",
    " .plot.barh(ax=ax, title='Feature Importance'))\n",
    "\n",
    "sns.despine()\n",
    "\n",
    "fig.tight_layout();\n"
   ],
   "metadata": {
    "collapsed": false,
    "pycharm": {
     "name": "#%%\n"
    }
   }
  }
 ],
 "metadata": {
  "kernelspec": {
   "display_name": "Python 3",
   "language": "python",
   "name": "python3"
  },
  "language_info": {
   "codemirror_mode": {
    "name": "ipython",
    "version": 2
   },
   "file_extension": ".py",
   "mimetype": "text/x-python",
   "name": "python",
   "nbconvert_exporter": "python",
   "pygments_lexer": "ipython2",
   "version": "2.7.6"
  }
 },
 "nbformat": 4,
 "nbformat_minor": 0
}