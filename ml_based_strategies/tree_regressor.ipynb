{
 "cells": [
  {
   "cell_type": "code",
   "execution_count": 1,
   "metadata": {
    "collapsed": true
   },
   "outputs": [],
   "source": [
    "import warnings\n",
    "\n",
    "warnings.filterwarnings('ignore')"
   ]
  },
  {
   "cell_type": "code",
   "execution_count": 2,
   "outputs": [],
   "source": [
    "%matplotlib inline\n",
    "\n",
    "import numpy as np\n",
    "import pandas as pd\n",
    "\n",
    "import matplotlib.pyplot as plt\n",
    "import seaborn as sns\n",
    "\n",
    "from sklearn.model_selection import BaseCrossValidator\n",
    "from sklearn.metrics import make_scorer\n",
    "from sklearn.ensemble import RandomForestRegressor, \\\n",
    "    GradientBoostingRegressor, AdaBoostRegressor\n",
    "from sklearn.tree import DecisionTreeRegressor\n",
    "from sklearn.model_selection import cross_val_score\n",
    "\n",
    "from scipy.stats import spearmanr"
   ],
   "metadata": {
    "collapsed": false,
    "pycharm": {
     "name": "#%%\n"
    }
   }
  },
  {
   "cell_type": "code",
   "execution_count": 3,
   "outputs": [],
   "source": [
    "dataset_path = '../data/model_data.h5'"
   ],
   "metadata": {
    "collapsed": false,
    "pycharm": {
     "name": "#%%\n"
    }
   }
  },
  {
   "cell_type": "markdown",
   "source": [
    "# Load Data"
   ],
   "metadata": {
    "collapsed": false,
    "pycharm": {
     "name": "#%% md\n"
    }
   }
  },
  {
   "cell_type": "code",
   "execution_count": 4,
   "outputs": [],
   "source": [
    "data = pd.read_hdf(dataset_path, 'no_dummies')"
   ],
   "metadata": {
    "collapsed": false,
    "pycharm": {
     "name": "#%%\n"
    }
   }
  },
  {
   "cell_type": "code",
   "execution_count": 5,
   "outputs": [
    {
     "data": {
      "text/plain": "            Close    Volume   Open   High    Low  Consumption in mcf  \\\nDate                                                                   \n2012-04-09  2.107  108772.0  2.103  2.117  2.065           1953071.0   \n2012-04-10  2.031  120126.0  2.111  2.125  2.025           1953071.0   \n2012-04-12  1.983  188668.0  1.976  2.068  1.972           1953071.0   \n2012-04-13  1.981  111947.0  1.982  1.999  1.959           1953071.0   \n2012-04-16  2.016  115321.0  1.986  2.030  1.977           1953071.0   \n...           ...       ...    ...    ...    ...                 ...   \n2021-07-26  4.102   47082.0  4.025  4.187  4.010           2218011.0   \n2021-07-27  3.971   40472.0  4.095  4.114  3.934           2218011.0   \n2021-07-28  4.044    3877.0  3.947  4.064  3.874           2218011.0   \n2021-07-29  4.059  113681.0  3.941  4.097  3.927           2218011.0   \n2021-07-30  3.914  150564.0  4.051  4.055  3.855           2218011.0   \n\n            Storage in mcf  US Gross Withdrawal in mcf  \\\nDate                                                     \n2012-04-09          2478.0                   2417498.0   \n2012-04-10          2478.0                   2417498.0   \n2012-04-12          2478.0                   2417498.0   \n2012-04-13          2503.0                   2417498.0   \n2012-04-16          2503.0                   2417498.0   \n...                    ...                         ...   \n2021-07-26          2714.0                   3396062.0   \n2021-07-27          2714.0                   3396062.0   \n2021-07-28          2714.0                   3396062.0   \n2021-07-29          2714.0                   3396062.0   \n2021-07-30          2727.0                   3396062.0   \n\n            Other Gross Withdrawal in mcf        RSI  ...  return_21d  \\\nDate                                                  ...               \n2012-04-09                        93400.0  34.901425  ...   -0.003584   \n2012-04-10                        93400.0  30.556017  ...   -0.006397   \n2012-04-12                        93400.0  28.170441  ...   -0.006395   \n2012-04-13                        93400.0  28.072097  ...   -0.007064   \n2012-04-16                        93400.0  32.512260  ...   -0.005926   \n...                                   ...        ...  ...         ...   \n2021-07-26                        32500.0  79.676063  ...    0.008724   \n2021-07-27                        32500.0  67.674236  ...    0.006085   \n2021-07-28                        32500.0  70.354143  ...    0.005647   \n2021-07-29                        32500.0  70.888206  ...    0.005333   \n2021-07-30                        32500.0  59.693397  ...    0.003331   \n\n            return_42d  return_63d  target_1d  target_5d  target_10d  \\\nDate                                                                   \n2012-04-09   -0.003797   -0.005916  -0.036070  -0.015267   -0.006449   \n2012-04-10   -0.004436   -0.006230  -0.023634  -0.008005    0.001807   \n2012-04-12   -0.005282   -0.006237  -0.001009  -0.007785    0.002641   \n2012-04-13   -0.005306   -0.005330   0.017668  -0.005512    0.009896   \n2012-04-16   -0.004447   -0.004609  -0.032242  -0.000894    0.012604   \n...                ...         ...        ...        ...         ...   \n2021-07-26    0.008183    0.006137  -0.031936  -0.008278   -0.001029   \n2021-07-27    0.006827    0.005151   0.018383   0.002805    0.002933   \n2021-07-28    0.007474    0.005155   0.003709   0.005575    0.000370   \n2021-07-29    0.007336    0.005291  -0.035723   0.003960   -0.003148   \n2021-07-30    0.005536    0.004601   0.005365   0.010997   -0.001362   \n\n            target_21d  year  month  weekday  \nDate                                          \n2012-04-09    0.007501  2012      4        0  \n2012-04-10    0.009692  2012      4        1  \n2012-04-12    0.011266  2012      4        3  \n2012-04-13    0.009795  2012      4        4  \n2012-04-16    0.010299  2012      4        0  \n...                ...   ...    ...      ...  \n2021-07-26   -0.002451  2021      7        0  \n2021-07-27   -0.000895  2021      7        1  \n2021-07-28    0.001622  2021      7        2  \n2021-07-29    0.003522  2021      7        3  \n2021-07-30    0.004544  2021      7        4  \n\n[2330 rows x 25 columns]",
      "text/html": "<div>\n<style scoped>\n    .dataframe tbody tr th:only-of-type {\n        vertical-align: middle;\n    }\n\n    .dataframe tbody tr th {\n        vertical-align: top;\n    }\n\n    .dataframe thead th {\n        text-align: right;\n    }\n</style>\n<table border=\"1\" class=\"dataframe\">\n  <thead>\n    <tr style=\"text-align: right;\">\n      <th></th>\n      <th>Close</th>\n      <th>Volume</th>\n      <th>Open</th>\n      <th>High</th>\n      <th>Low</th>\n      <th>Consumption in mcf</th>\n      <th>Storage in mcf</th>\n      <th>US Gross Withdrawal in mcf</th>\n      <th>Other Gross Withdrawal in mcf</th>\n      <th>RSI</th>\n      <th>...</th>\n      <th>return_21d</th>\n      <th>return_42d</th>\n      <th>return_63d</th>\n      <th>target_1d</th>\n      <th>target_5d</th>\n      <th>target_10d</th>\n      <th>target_21d</th>\n      <th>year</th>\n      <th>month</th>\n      <th>weekday</th>\n    </tr>\n    <tr>\n      <th>Date</th>\n      <th></th>\n      <th></th>\n      <th></th>\n      <th></th>\n      <th></th>\n      <th></th>\n      <th></th>\n      <th></th>\n      <th></th>\n      <th></th>\n      <th></th>\n      <th></th>\n      <th></th>\n      <th></th>\n      <th></th>\n      <th></th>\n      <th></th>\n      <th></th>\n      <th></th>\n      <th></th>\n      <th></th>\n    </tr>\n  </thead>\n  <tbody>\n    <tr>\n      <th>2012-04-09</th>\n      <td>2.107</td>\n      <td>108772.0</td>\n      <td>2.103</td>\n      <td>2.117</td>\n      <td>2.065</td>\n      <td>1953071.0</td>\n      <td>2478.0</td>\n      <td>2417498.0</td>\n      <td>93400.0</td>\n      <td>34.901425</td>\n      <td>...</td>\n      <td>-0.003584</td>\n      <td>-0.003797</td>\n      <td>-0.005916</td>\n      <td>-0.036070</td>\n      <td>-0.015267</td>\n      <td>-0.006449</td>\n      <td>0.007501</td>\n      <td>2012</td>\n      <td>4</td>\n      <td>0</td>\n    </tr>\n    <tr>\n      <th>2012-04-10</th>\n      <td>2.031</td>\n      <td>120126.0</td>\n      <td>2.111</td>\n      <td>2.125</td>\n      <td>2.025</td>\n      <td>1953071.0</td>\n      <td>2478.0</td>\n      <td>2417498.0</td>\n      <td>93400.0</td>\n      <td>30.556017</td>\n      <td>...</td>\n      <td>-0.006397</td>\n      <td>-0.004436</td>\n      <td>-0.006230</td>\n      <td>-0.023634</td>\n      <td>-0.008005</td>\n      <td>0.001807</td>\n      <td>0.009692</td>\n      <td>2012</td>\n      <td>4</td>\n      <td>1</td>\n    </tr>\n    <tr>\n      <th>2012-04-12</th>\n      <td>1.983</td>\n      <td>188668.0</td>\n      <td>1.976</td>\n      <td>2.068</td>\n      <td>1.972</td>\n      <td>1953071.0</td>\n      <td>2478.0</td>\n      <td>2417498.0</td>\n      <td>93400.0</td>\n      <td>28.170441</td>\n      <td>...</td>\n      <td>-0.006395</td>\n      <td>-0.005282</td>\n      <td>-0.006237</td>\n      <td>-0.001009</td>\n      <td>-0.007785</td>\n      <td>0.002641</td>\n      <td>0.011266</td>\n      <td>2012</td>\n      <td>4</td>\n      <td>3</td>\n    </tr>\n    <tr>\n      <th>2012-04-13</th>\n      <td>1.981</td>\n      <td>111947.0</td>\n      <td>1.982</td>\n      <td>1.999</td>\n      <td>1.959</td>\n      <td>1953071.0</td>\n      <td>2503.0</td>\n      <td>2417498.0</td>\n      <td>93400.0</td>\n      <td>28.072097</td>\n      <td>...</td>\n      <td>-0.007064</td>\n      <td>-0.005306</td>\n      <td>-0.005330</td>\n      <td>0.017668</td>\n      <td>-0.005512</td>\n      <td>0.009896</td>\n      <td>0.009795</td>\n      <td>2012</td>\n      <td>4</td>\n      <td>4</td>\n    </tr>\n    <tr>\n      <th>2012-04-16</th>\n      <td>2.016</td>\n      <td>115321.0</td>\n      <td>1.986</td>\n      <td>2.030</td>\n      <td>1.977</td>\n      <td>1953071.0</td>\n      <td>2503.0</td>\n      <td>2417498.0</td>\n      <td>93400.0</td>\n      <td>32.512260</td>\n      <td>...</td>\n      <td>-0.005926</td>\n      <td>-0.004447</td>\n      <td>-0.004609</td>\n      <td>-0.032242</td>\n      <td>-0.000894</td>\n      <td>0.012604</td>\n      <td>0.010299</td>\n      <td>2012</td>\n      <td>4</td>\n      <td>0</td>\n    </tr>\n    <tr>\n      <th>...</th>\n      <td>...</td>\n      <td>...</td>\n      <td>...</td>\n      <td>...</td>\n      <td>...</td>\n      <td>...</td>\n      <td>...</td>\n      <td>...</td>\n      <td>...</td>\n      <td>...</td>\n      <td>...</td>\n      <td>...</td>\n      <td>...</td>\n      <td>...</td>\n      <td>...</td>\n      <td>...</td>\n      <td>...</td>\n      <td>...</td>\n      <td>...</td>\n      <td>...</td>\n      <td>...</td>\n    </tr>\n    <tr>\n      <th>2021-07-26</th>\n      <td>4.102</td>\n      <td>47082.0</td>\n      <td>4.025</td>\n      <td>4.187</td>\n      <td>4.010</td>\n      <td>2218011.0</td>\n      <td>2714.0</td>\n      <td>3396062.0</td>\n      <td>32500.0</td>\n      <td>79.676063</td>\n      <td>...</td>\n      <td>0.008724</td>\n      <td>0.008183</td>\n      <td>0.006137</td>\n      <td>-0.031936</td>\n      <td>-0.008278</td>\n      <td>-0.001029</td>\n      <td>-0.002451</td>\n      <td>2021</td>\n      <td>7</td>\n      <td>0</td>\n    </tr>\n    <tr>\n      <th>2021-07-27</th>\n      <td>3.971</td>\n      <td>40472.0</td>\n      <td>4.095</td>\n      <td>4.114</td>\n      <td>3.934</td>\n      <td>2218011.0</td>\n      <td>2714.0</td>\n      <td>3396062.0</td>\n      <td>32500.0</td>\n      <td>67.674236</td>\n      <td>...</td>\n      <td>0.006085</td>\n      <td>0.006827</td>\n      <td>0.005151</td>\n      <td>0.018383</td>\n      <td>0.002805</td>\n      <td>0.002933</td>\n      <td>-0.000895</td>\n      <td>2021</td>\n      <td>7</td>\n      <td>1</td>\n    </tr>\n    <tr>\n      <th>2021-07-28</th>\n      <td>4.044</td>\n      <td>3877.0</td>\n      <td>3.947</td>\n      <td>4.064</td>\n      <td>3.874</td>\n      <td>2218011.0</td>\n      <td>2714.0</td>\n      <td>3396062.0</td>\n      <td>32500.0</td>\n      <td>70.354143</td>\n      <td>...</td>\n      <td>0.005647</td>\n      <td>0.007474</td>\n      <td>0.005155</td>\n      <td>0.003709</td>\n      <td>0.005575</td>\n      <td>0.000370</td>\n      <td>0.001622</td>\n      <td>2021</td>\n      <td>7</td>\n      <td>2</td>\n    </tr>\n    <tr>\n      <th>2021-07-29</th>\n      <td>4.059</td>\n      <td>113681.0</td>\n      <td>3.941</td>\n      <td>4.097</td>\n      <td>3.927</td>\n      <td>2218011.0</td>\n      <td>2714.0</td>\n      <td>3396062.0</td>\n      <td>32500.0</td>\n      <td>70.888206</td>\n      <td>...</td>\n      <td>0.005333</td>\n      <td>0.007336</td>\n      <td>0.005291</td>\n      <td>-0.035723</td>\n      <td>0.003960</td>\n      <td>-0.003148</td>\n      <td>0.003522</td>\n      <td>2021</td>\n      <td>7</td>\n      <td>3</td>\n    </tr>\n    <tr>\n      <th>2021-07-30</th>\n      <td>3.914</td>\n      <td>150564.0</td>\n      <td>4.051</td>\n      <td>4.055</td>\n      <td>3.855</td>\n      <td>2218011.0</td>\n      <td>2727.0</td>\n      <td>3396062.0</td>\n      <td>32500.0</td>\n      <td>59.693397</td>\n      <td>...</td>\n      <td>0.003331</td>\n      <td>0.005536</td>\n      <td>0.004601</td>\n      <td>0.005365</td>\n      <td>0.010997</td>\n      <td>-0.001362</td>\n      <td>0.004544</td>\n      <td>2021</td>\n      <td>7</td>\n      <td>4</td>\n    </tr>\n  </tbody>\n</table>\n<p>2330 rows × 25 columns</p>\n</div>"
     },
     "execution_count": 5,
     "metadata": {},
     "output_type": "execute_result"
    }
   ],
   "source": [
    "data = data.drop([c for c in data.columns if 'lag' in c], axis=1)\n",
    "data"
   ],
   "metadata": {
    "collapsed": false,
    "pycharm": {
     "name": "#%%\n"
    }
   }
  },
  {
   "cell_type": "code",
   "execution_count": 6,
   "outputs": [
    {
     "name": "stdout",
     "output_type": "stream",
     "text": [
      "<class 'pandas.core.frame.DataFrame'>\n",
      "DatetimeIndex: 2330 entries, 2012-04-09 to 2021-07-30\n",
      "Data columns (total 25 columns):\n",
      " #   Column                         Non-Null Count  Dtype  \n",
      "---  ------                         --------------  -----  \n",
      " 0   Close                          2330 non-null   float64\n",
      " 1   Volume                         2330 non-null   float64\n",
      " 2   Open                           2330 non-null   float64\n",
      " 3   High                           2330 non-null   float64\n",
      " 4   Low                            2330 non-null   float64\n",
      " 5   Consumption in mcf             2330 non-null   float64\n",
      " 6   Storage in mcf                 2330 non-null   float64\n",
      " 7   US Gross Withdrawal in mcf     2330 non-null   float64\n",
      " 8   Other Gross Withdrawal in mcf  2330 non-null   float64\n",
      " 9   RSI                            2330 non-null   float64\n",
      " 10  ATR                            2330 non-null   float64\n",
      " 11  MACD                           2330 non-null   float64\n",
      " 12  return_1d                      2330 non-null   float64\n",
      " 13  return_5d                      2330 non-null   float64\n",
      " 14  return_10d                     2330 non-null   float64\n",
      " 15  return_21d                     2330 non-null   float64\n",
      " 16  return_42d                     2330 non-null   float64\n",
      " 17  return_63d                     2330 non-null   float64\n",
      " 18  target_1d                      2330 non-null   float64\n",
      " 19  target_5d                      2330 non-null   float64\n",
      " 20  target_10d                     2330 non-null   float64\n",
      " 21  target_21d                     2330 non-null   float64\n",
      " 22  year                           2330 non-null   int64  \n",
      " 23  month                          2330 non-null   int64  \n",
      " 24  weekday                        2330 non-null   int64  \n",
      "dtypes: float64(22), int64(3)\n",
      "memory usage: 473.3 KB\n"
     ]
    }
   ],
   "source": [
    "data.info()"
   ],
   "metadata": {
    "collapsed": false,
    "pycharm": {
     "name": "#%%\n"
    }
   }
  },
  {
   "cell_type": "code",
   "execution_count": 7,
   "outputs": [],
   "source": [
    "columns_to_drop = ['Open', 'Close', 'Low', 'High', 'Volume']\n",
    "y = data.filter(like='target')\n",
    "X = data.drop(columns_to_drop, axis=1)\n",
    "X = X.drop(y.columns, axis=1)"
   ],
   "metadata": {
    "collapsed": false,
    "pycharm": {
     "name": "#%%\n"
    }
   }
  },
  {
   "cell_type": "code",
   "execution_count": 8,
   "outputs": [],
   "source": [
    "\n",
    "class MultipleTimeSeriesCV(BaseCrossValidator):\n",
    "    \"\"\"Generates tuples of train_idx, test_idx pairs\"\"\"\n",
    "\n",
    "    def __init__(self,\n",
    "                 n_splits=3,\n",
    "                 train_period_length=126,\n",
    "                 test_period_length=21,\n",
    "                 lookahead=None,\n",
    "                 shuffle=False):\n",
    "        self.n_splits = n_splits\n",
    "        self.lookahead = lookahead\n",
    "        self.test_length = test_period_length\n",
    "        self.train_length = train_period_length\n",
    "        self.shuffle = shuffle\n",
    "\n",
    "    def split(self, X, y=None, groups=None):\n",
    "        unique_dates = X.index.get_level_values('Date').unique()\n",
    "        days = sorted(unique_dates, reverse=True)\n",
    "\n",
    "        split_idx = []\n",
    "        for i in range(self.n_splits):\n",
    "            test_end_idx = i * self.test_length\n",
    "            test_start_idx = test_end_idx + self.test_length\n",
    "            train_end_idx = test_start_idx + self.lookahead - 1\n",
    "            train_start_idx = train_end_idx + self.train_length + self.lookahead - 1\n",
    "            split_idx.append([train_start_idx, train_end_idx,\n",
    "                              test_start_idx, test_end_idx])\n",
    "\n",
    "        dates = X.reset_index()[['Date']]\n",
    "        for train_start, train_end, test_start, test_end in split_idx:\n",
    "            train_idx = dates[(dates.Date > days[train_start])\n",
    "                              & (dates.Date <= days[train_end])].index\n",
    "            test_idx = dates[(dates.Date > days[test_start])\n",
    "                             & (dates.Date <= days[test_end])].index\n",
    "            if self.shuffle:\n",
    "                np.random.shuffle(list(train_idx))\n",
    "            yield train_idx, test_idx\n",
    "\n",
    "    def get_n_splits(self, X=None, y=None, groups=None):\n",
    "        return self.n_splits"
   ],
   "metadata": {
    "collapsed": false,
    "pycharm": {
     "name": "#%%\n"
    }
   }
  },
  {
   "cell_type": "code",
   "execution_count": 9,
   "outputs": [],
   "source": [
    "n_splits = 20\n",
    "train_period_length = 300\n",
    "test_period_length = 100\n",
    "lookahead = 5\n",
    "\n",
    "cv = MultipleTimeSeriesCV(n_splits=n_splits,\n",
    "                          train_period_length=train_period_length,\n",
    "                          test_period_length=test_period_length,\n",
    "                          lookahead=lookahead)"
   ],
   "metadata": {
    "collapsed": false,
    "pycharm": {
     "name": "#%%\n"
    }
   }
  },
  {
   "cell_type": "code",
   "execution_count": 10,
   "outputs": [],
   "source": [
    "# Utilities functions\n",
    "\n",
    "def display_score(scores):\n",
    "    print('scores: ',scores)\n",
    "    print('mean: ', scores.mean())\n",
    "    print('standard deviation: ', scores.std())\n",
    "\n",
    "\n",
    "def rank_correl(y, y_pred):\n",
    "    return spearmanr(y, y_pred, axis=None)[0]\n",
    "\n",
    "ic = make_scorer(rank_correl)\n",
    "\n",
    "\n",
    "def get_cross_val_score(model, X, y, score_fun, cv, n_jobs=-1):\n",
    "    cv_score = cross_val_score(estimator=model,\n",
    "                           X=X,\n",
    "                           y=y,\n",
    "                           scoring=score_fun,\n",
    "                           cv=cv,\n",
    "                           n_jobs=n_jobs,\n",
    "                           verbose=1)\n",
    "    display_score(cv_score)"
   ],
   "metadata": {
    "collapsed": false,
    "pycharm": {
     "name": "#%%\n"
    }
   }
  },
  {
   "cell_type": "markdown",
   "source": [
    "# Decision Tree Regressor"
   ],
   "metadata": {
    "collapsed": false,
    "pycharm": {
     "name": "#%% md\n"
    }
   }
  },
  {
   "cell_type": "code",
   "execution_count": 11,
   "outputs": [],
   "source": [
    "dt_reg = DecisionTreeRegressor(max_depth=None,\n",
    "                               min_samples_split=2,\n",
    "                               min_samples_leaf=1,\n",
    "                               max_features='auto')\n"
   ],
   "metadata": {
    "collapsed": false,
    "pycharm": {
     "name": "#%%\n"
    }
   }
  },
  {
   "cell_type": "code",
   "execution_count": 12,
   "outputs": [
    {
     "name": "stderr",
     "output_type": "stream",
     "text": [
      "[Parallel(n_jobs=-1)]: Using backend LokyBackend with 3 concurrent workers.\n"
     ]
    },
    {
     "name": "stdout",
     "output_type": "stream",
     "text": [
      "scores:  [ 0.04464092  0.08207146  0.22487404 -0.13411264 -0.18428023  0.13710645\n",
      "  0.16271606 -0.1108652   0.0796875   0.08466114  0.15419403  0.08893478\n",
      " -0.03116279  0.09769417  0.05050973 -0.07860061  0.08467794  0.01772508\n",
      " -0.07314027  0.16875813]\n",
      "mean:  0.04330448359598375\n",
      "standard deviation:  0.10887221764227978\n"
     ]
    },
    {
     "name": "stderr",
     "output_type": "stream",
     "text": [
      "[Parallel(n_jobs=-1)]: Done  20 out of  20 | elapsed:    2.2s finished\n"
     ]
    }
   ],
   "source": [
    "get_cross_val_score(dt_reg, X, y, ic, cv)"
   ],
   "metadata": {
    "collapsed": false,
    "pycharm": {
     "name": "#%%\n"
    }
   }
  },
  {
   "cell_type": "markdown",
   "source": [
    "# Random Forest Regressor"
   ],
   "metadata": {
    "collapsed": false,
    "pycharm": {
     "name": "#%% md\n"
    }
   }
  },
  {
   "cell_type": "code",
   "execution_count": 13,
   "outputs": [],
   "source": [
    "rf_reg = RandomForestRegressor(n_estimators=100,\n",
    "                                max_depth=None,\n",
    "                                min_samples_split=2,\n",
    "                                min_samples_leaf=1,\n",
    "                                min_weight_fraction_leaf=0.0,\n",
    "                                max_features='auto',\n",
    "                                max_leaf_nodes=None,\n",
    "                                min_impurity_decrease=0.0,\n",
    "                                bootstrap=True,\n",
    "                                oob_score=False,\n",
    "                                n_jobs=-1,\n",
    "                                random_state=None,\n",
    "                                verbose=0,\n",
    "                                warm_start=False)"
   ],
   "metadata": {
    "collapsed": false,
    "pycharm": {
     "name": "#%%\n"
    }
   }
  },
  {
   "cell_type": "code",
   "execution_count": 14,
   "outputs": [
    {
     "name": "stderr",
     "output_type": "stream",
     "text": [
      "[Parallel(n_jobs=-1)]: Using backend LokyBackend with 3 concurrent workers.\n"
     ]
    },
    {
     "name": "stdout",
     "output_type": "stream",
     "text": [
      "scores:  [ 0.15759642  0.14805955  0.17503872  0.06307502 -0.15633791  0.30566667\n",
      "  0.30461727 -0.04459528  0.14375584  0.08820655  0.15681158  0.17516284\n",
      "  0.01181858  0.17490326  0.00947312  0.17740333  0.08379446  0.10136463\n",
      "  0.07392384  0.02245327]\n",
      "mean:  0.1086095874577975\n",
      "standard deviation:  0.1066265032885134\n"
     ]
    },
    {
     "name": "stderr",
     "output_type": "stream",
     "text": [
      "[Parallel(n_jobs=-1)]: Done  20 out of  20 | elapsed:    3.7s finished\n"
     ]
    }
   ],
   "source": [
    "get_cross_val_score(rf_reg, X, y, ic, cv)"
   ],
   "metadata": {
    "collapsed": false,
    "pycharm": {
     "name": "#%%\n"
    }
   }
  },
  {
   "cell_type": "markdown",
   "source": [
    "# Ada Boosting Regressor"
   ],
   "metadata": {
    "collapsed": false,
    "pycharm": {
     "name": "#%% md\n"
    }
   }
  },
  {
   "cell_type": "code",
   "execution_count": 15,
   "outputs": [],
   "source": [
    "ada_reg = AdaBoostRegressor(n_estimators=100,\n",
    "                            loss='square')"
   ],
   "metadata": {
    "collapsed": false,
    "pycharm": {
     "name": "#%%\n"
    }
   }
  },
  {
   "cell_type": "code",
   "execution_count": 16,
   "outputs": [
    {
     "name": "stderr",
     "output_type": "stream",
     "text": [
      "[Parallel(n_jobs=-1)]: Using backend LokyBackend with 3 concurrent workers.\n"
     ]
    },
    {
     "name": "stdout",
     "output_type": "stream",
     "text": [
      "scores:  [ 0.36351742  0.22185013  0.29566878 -0.18664972 -0.309626    0.12209503\n",
      "  0.38736703  0.0608958  -0.03743221  0.1303804   0.08309294  0.2157596\n",
      "  0.12175065  0.17395639 -0.0332344   0.12311378 -0.15686645  0.11007594\n",
      " -0.06401134 -0.05608593]\n",
      "mean:  0.07828089287987677\n",
      "standard deviation:  0.17646088287814557\n"
     ]
    },
    {
     "name": "stderr",
     "output_type": "stream",
     "text": [
      "[Parallel(n_jobs=-1)]: Done  20 out of  20 | elapsed:    1.9s finished\n"
     ]
    }
   ],
   "source": [
    "get_cross_val_score(ada_reg, X, y['target_5d'], ic, cv)"
   ],
   "metadata": {
    "collapsed": false,
    "pycharm": {
     "name": "#%%\n"
    }
   }
  },
  {
   "cell_type": "markdown",
   "source": [
    "# Gradient Boosting Regressor"
   ],
   "metadata": {
    "collapsed": false,
    "pycharm": {
     "name": "#%% md\n"
    }
   }
  },
  {
   "cell_type": "code",
   "execution_count": 17,
   "outputs": [],
   "source": [
    "grad_reg = GradientBoostingRegressor(n_estimators=250,\n",
    "                                        max_depth=None,\n",
    "                                        min_samples_split=2,\n",
    "                                        min_samples_leaf=1,\n",
    "                                        min_weight_fraction_leaf=0.0,\n",
    "                                        max_features='auto',\n",
    "                                        max_leaf_nodes=None,\n",
    "                                        min_impurity_decrease=0.0,\n",
    "                                        random_state=None,\n",
    "                                        verbose=0,\n",
    "                                        warm_start=False)"
   ],
   "metadata": {
    "collapsed": false,
    "pycharm": {
     "name": "#%%\n"
    }
   }
  },
  {
   "cell_type": "code",
   "execution_count": 18,
   "outputs": [
    {
     "name": "stderr",
     "output_type": "stream",
     "text": [
      "[Parallel(n_jobs=1)]: Using backend SequentialBackend with 1 concurrent workers.\n"
     ]
    },
    {
     "name": "stdout",
     "output_type": "stream",
     "text": [
      "scores:  [ 0.41269251  0.11524752  0.20078008  0.20714134 -0.336685    0.16512451\n",
      " -0.03878316 -0.18121812 -0.03811581  0.09037585 -0.07136535  0.31613056\n",
      "  0.14108561  0.12139214 -0.06120704 -0.06012601  0.10606661  0.12498125\n",
      " -0.01429343 -0.17035704]\n",
      "mean:  0.05144335073907354\n",
      "standard deviation:  0.17343687520094284\n"
     ]
    },
    {
     "name": "stderr",
     "output_type": "stream",
     "text": [
      "[Parallel(n_jobs=1)]: Done  20 out of  20 | elapsed:   10.4s finished\n"
     ]
    }
   ],
   "source": [
    "get_cross_val_score(grad_reg, X, y['target_5d'], ic, cv, n_jobs=1)\n"
   ],
   "metadata": {
    "collapsed": false,
    "pycharm": {
     "name": "#%%\n"
    }
   }
  },
  {
   "cell_type": "markdown",
   "source": [
    "It seems like that the best learner is the `RandomTreesRegressor`. Let's fine tune it in order to find\n",
    "the bests parameters"
   ],
   "metadata": {
    "collapsed": false,
    "pycharm": {
     "name": "#%% md\n"
    }
   }
  },
  {
   "cell_type": "markdown",
   "source": [
    "## Hyperparamter Options"
   ],
   "metadata": {
    "collapsed": false,
    "pycharm": {
     "name": "#%% md\n"
    }
   }
  },
  {
   "cell_type": "code",
   "execution_count": 19,
   "outputs": [],
   "source": [
    "n_estimators = [100, 250]\n",
    "max_depth = [5, 15, None]\n",
    "min_samples_leaf = [5, 25, 100]"
   ],
   "metadata": {
    "collapsed": false,
    "pycharm": {
     "name": "#%%\n"
    }
   }
  },
  {
   "cell_type": "code",
   "execution_count": 20,
   "outputs": [
    {
     "data": {
      "text/plain": "18"
     },
     "execution_count": 20,
     "metadata": {},
     "output_type": "execute_result"
    }
   ],
   "source": [
    "from itertools import product\n",
    "\n",
    "cv_params = list(product(n_estimators,\n",
    "                         max_depth,\n",
    "                         min_samples_leaf))\n",
    "n_cv_params = len(cv_params)\n",
    "n_cv_params"
   ],
   "metadata": {
    "collapsed": false,
    "pycharm": {
     "name": "#%%\n"
    }
   }
  },
  {
   "cell_type": "code",
   "execution_count": 21,
   "outputs": [
    {
     "name": "stdout",
     "output_type": "stream",
     "text": [
      "# CV parameters: 10\n"
     ]
    }
   ],
   "source": [
    "sample_proportion = .6\n",
    "sample_size = int(sample_proportion * n_cv_params)\n",
    "\n",
    "cv_param_sample = np.random.choice(list(range(n_cv_params)),\n",
    "                                     size=int(sample_size),\n",
    "                                     replace=False)\n",
    "cv_params_ = [cv_params[i] for i in cv_param_sample]\n",
    "print('# CV parameters:', len(cv_params_))"
   ],
   "metadata": {
    "collapsed": false,
    "pycharm": {
     "name": "#%%\n"
    }
   }
  },
  {
   "cell_type": "markdown",
   "source": [
    "## Train/Test Period Lenghts"
   ],
   "metadata": {
    "collapsed": false,
    "pycharm": {
     "name": "#%% md\n"
    }
   }
  },
  {
   "cell_type": "code",
   "execution_count": 22,
   "outputs": [],
   "source": [
    "YEAR = 252\n",
    "train_lengths = [5 * YEAR, 3 * YEAR, YEAR, 126, 63]\n",
    "test_lengths = [5, 21]"
   ],
   "metadata": {
    "collapsed": false,
    "pycharm": {
     "name": "#%%\n"
    }
   }
  },
  {
   "cell_type": "code",
   "execution_count": 23,
   "outputs": [
    {
     "name": "stdout",
     "output_type": "stream",
     "text": [
      "# period params:  10\n"
     ]
    }
   ],
   "source": [
    "test_params = list(product(train_lengths, test_lengths))\n",
    "n_test_params = len(test_params)\n",
    "print('# period params: ', n_test_params)"
   ],
   "metadata": {
    "collapsed": false,
    "pycharm": {
     "name": "#%%\n"
    }
   }
  },
  {
   "cell_type": "markdown",
   "source": [
    "## Run cross-validation"
   ],
   "metadata": {
    "collapsed": false,
    "pycharm": {
     "name": "#%% md\n"
    }
   }
  },
  {
   "cell_type": "code",
   "execution_count": 24,
   "outputs": [],
   "source": [
    "labels = sorted(y.columns)\n",
    "features = X.columns.tolist()\n",
    "lookaheads = [1, 5, 10, 21]"
   ],
   "metadata": {
    "collapsed": false,
    "pycharm": {
     "name": "#%%\n"
    }
   }
  },
  {
   "cell_type": "code",
   "execution_count": 25,
   "outputs": [],
   "source": [
    "label_dict = dict(zip(lookaheads, labels))"
   ],
   "metadata": {
    "collapsed": false,
    "pycharm": {
     "name": "#%%\n"
    }
   }
  },
  {
   "cell_type": "code",
   "execution_count": 26,
   "outputs": [],
   "source": [
    "cross_val_cols = [\n",
    "    'train_length',\n",
    "    'test_length',\n",
    "    'n_estimators',\n",
    "    'max_depth',\n",
    "    'min_samples_leaf',\n",
    "    'mean_ic',\n",
    "    'std_ic',\n",
    "    'rounds',\n",
    "    'target'\n",
    "]\n",
    "\n",
    "cross_val_results = pd.DataFrame(columns=cross_val_cols)"
   ],
   "metadata": {
    "collapsed": false,
    "pycharm": {
     "name": "#%%\n"
    }
   }
  },
  {
   "cell_type": "code",
   "execution_count": 27,
   "outputs": [],
   "source": [
    "run_cross_val = False\n",
    "\n",
    "if run_cross_val:\n",
    "    for lookahead in lookaheads:\n",
    "        for train_length, test_length in test_params:\n",
    "            n_splits = int(4 * YEAR / test_length)\n",
    "            res_row = dict(zip(cross_val_results, [None] * len(cross_val_results)))\n",
    "\n",
    "            cv = MultipleTimeSeriesCV(n_splits=n_splits,\n",
    "                                      test_period_length=test_length,\n",
    "                                      train_period_length=train_length,\n",
    "                                      lookahead=lookahead)\n",
    "\n",
    "            res_row['target'] = lookahead\n",
    "            res_row['train_length'] = train_length\n",
    "            res_row['test_length'] = test_length\n",
    "\n",
    "\n",
    "            for p, (n_estimator, max_d, min_s_l) in enumerate(cv_params_):\n",
    "                base_params = rf_reg.get_params()\n",
    "                model = RandomForestRegressor(base_params)\n",
    "                model_params = {\n",
    "                    'n_estimators': n_estimator,\n",
    "                    'max_depth': max_d,\n",
    "                    'max_features': 'log2',\n",
    "                    'min_samples_leaf': min_s_l\n",
    "                }\n",
    "                model = model.set_params(**model_params)\n",
    "\n",
    "                cval_score = cross_val_score(\n",
    "                    estimator=model,\n",
    "                    X=X,\n",
    "                    y=y,\n",
    "                    cv=cv,\n",
    "                    n_jobs=-1,\n",
    "                    scoring=ic\n",
    "                )\n",
    "\n",
    "                for k, v in model_params.items():\n",
    "                    res_row[k] = v\n",
    "\n",
    "                res_row['mean_ic'] = cval_score.mean()\n",
    "                res_row['std_ic'] = cval_score.std()\n",
    "                res_row['rounds'] = len(cval_score)\n",
    "                cross_val_results = cross_val_results.append(res_row, ignore_index=True)\n",
    "                print(f'Lookback: {lookahead}, Train size: {train_length}, Test size: {test_length} ' + \\\n",
    "                      f'# estimators: {n_estimator}, max depth: {max_d}, min samples leaf: {min_s_l}, ic: {cval_score.mean()}')"
   ],
   "metadata": {
    "collapsed": false,
    "pycharm": {
     "name": "#%%\n"
    }
   }
  },
  {
   "cell_type": "code",
   "execution_count": 28,
   "outputs": [],
   "source": [
    "save = False\n",
    "\n",
    "if save:\n",
    "    cross_val_results.to_hdf('./rf_cross_val_results.h5', 'res', mode='w')"
   ],
   "metadata": {
    "collapsed": false,
    "pycharm": {
     "name": "#%%\n"
    }
   }
  },
  {
   "cell_type": "code",
   "execution_count": 29,
   "outputs": [],
   "source": [
    "load = True\n",
    "\n",
    "if load:\n",
    "    cross_val_results = pd.read_hdf('./rf_cross_val_results.h5', 'res')\n",
    "    cross_val_results.drop('max_features', axis=1, inplace=True)"
   ],
   "metadata": {
    "collapsed": false,
    "pycharm": {
     "name": "#%%\n"
    }
   }
  },
  {
   "cell_type": "code",
   "execution_count": 30,
   "outputs": [
    {
     "data": {
      "text/plain": "  train_length test_length n_estimators max_depth min_samples_leaf   mean_ic  \\\n0         1260           5          100        15               25  0.160693   \n1         1260           5          250        15               25  0.182957   \n2         1260           5          250      None                5  0.183092   \n3         1260           5          100        15              100  0.193635   \n4         1260           5          250        15              100  0.195122   \n\n     std_ic rounds target  \n0  0.308256    201      1  \n1  0.297817    201      1  \n2  0.295914    201      1  \n3  0.292785    201      1  \n4  0.287696    201      1  ",
      "text/html": "<div>\n<style scoped>\n    .dataframe tbody tr th:only-of-type {\n        vertical-align: middle;\n    }\n\n    .dataframe tbody tr th {\n        vertical-align: top;\n    }\n\n    .dataframe thead th {\n        text-align: right;\n    }\n</style>\n<table border=\"1\" class=\"dataframe\">\n  <thead>\n    <tr style=\"text-align: right;\">\n      <th></th>\n      <th>train_length</th>\n      <th>test_length</th>\n      <th>n_estimators</th>\n      <th>max_depth</th>\n      <th>min_samples_leaf</th>\n      <th>mean_ic</th>\n      <th>std_ic</th>\n      <th>rounds</th>\n      <th>target</th>\n    </tr>\n  </thead>\n  <tbody>\n    <tr>\n      <th>0</th>\n      <td>1260</td>\n      <td>5</td>\n      <td>100</td>\n      <td>15</td>\n      <td>25</td>\n      <td>0.160693</td>\n      <td>0.308256</td>\n      <td>201</td>\n      <td>1</td>\n    </tr>\n    <tr>\n      <th>1</th>\n      <td>1260</td>\n      <td>5</td>\n      <td>250</td>\n      <td>15</td>\n      <td>25</td>\n      <td>0.182957</td>\n      <td>0.297817</td>\n      <td>201</td>\n      <td>1</td>\n    </tr>\n    <tr>\n      <th>2</th>\n      <td>1260</td>\n      <td>5</td>\n      <td>250</td>\n      <td>None</td>\n      <td>5</td>\n      <td>0.183092</td>\n      <td>0.295914</td>\n      <td>201</td>\n      <td>1</td>\n    </tr>\n    <tr>\n      <th>3</th>\n      <td>1260</td>\n      <td>5</td>\n      <td>100</td>\n      <td>15</td>\n      <td>100</td>\n      <td>0.193635</td>\n      <td>0.292785</td>\n      <td>201</td>\n      <td>1</td>\n    </tr>\n    <tr>\n      <th>4</th>\n      <td>1260</td>\n      <td>5</td>\n      <td>250</td>\n      <td>15</td>\n      <td>100</td>\n      <td>0.195122</td>\n      <td>0.287696</td>\n      <td>201</td>\n      <td>1</td>\n    </tr>\n  </tbody>\n</table>\n</div>"
     },
     "execution_count": 30,
     "metadata": {},
     "output_type": "execute_result"
    }
   ],
   "source": [
    "cross_val_results.head()"
   ],
   "metadata": {
    "collapsed": false,
    "pycharm": {
     "name": "#%%\n"
    }
   }
  },
  {
   "cell_type": "markdown",
   "source": [
    "# Hyperparameters Analysis\n",
    "\n",
    "Now that we have our cross validation results, let's see which hyperparameters combination gives us the best results in\n",
    "various target periods.\n",
    "\n",
    "First thing first, we would like to understand which train and test period lengths gives the best results. We can do it\n",
    "by grouping by the `train_length` and `test_length`."
   ],
   "metadata": {
    "collapsed": false,
    "pycharm": {
     "name": "#%% md\n"
    }
   }
  },
  {
   "cell_type": "code",
   "execution_count": 31,
   "outputs": [
    {
     "data": {
      "text/plain": "                         mean_ic                                          \\\n                           count      mean       std       min       25%   \ntrain_length test_length                                                   \n63           5              40.0 -0.003308  0.095160 -0.130113 -0.095115   \n             21             40.0  0.035862  0.083872 -0.074682 -0.052321   \n126          5              40.0  0.057557  0.061952 -0.086547  0.051603   \n             21             40.0  0.096030  0.064778 -0.042936  0.098390   \n252          5              40.0  0.070366  0.073882 -0.118612  0.068544   \n             21             40.0  0.114464  0.079682 -0.057876  0.128281   \n756          5              40.0  0.139709  0.025267  0.083447  0.127781   \n             21             40.0  0.156922  0.020948  0.100407  0.145212   \n1260         5              40.0  0.146857  0.031583  0.073602  0.128439   \n             21             40.0  0.182023  0.024568  0.121572  0.168362   \n\n                                                       std_ic            \\\n                               50%       75%       max  count      mean   \ntrain_length test_length                                                  \n63           5           -0.013556  0.096180  0.134328   40.0  0.318684   \n             21           0.046864  0.128888  0.144998   40.0  0.144992   \n126          5            0.079321  0.097348  0.133737   40.0  0.329747   \n             21           0.109801  0.149856  0.171529   40.0  0.171837   \n252          5            0.090615  0.124916  0.146875   40.0  0.313267   \n             21           0.148509  0.163420  0.189210   40.0  0.177804   \n756          5            0.141477  0.161185  0.178192   40.0  0.308576   \n             21           0.159679  0.173872  0.190337   40.0  0.187251   \n1260         5            0.151659  0.168739  0.203120   40.0  0.315764   \n             21           0.184836  0.201314  0.218492   40.0  0.199515   \n\n                                                                            \\\n                               std       min       25%       50%       75%   \ntrain_length test_length                                                     \n63           5            0.019980  0.288527  0.301699  0.322202  0.334163   \n             21           0.035527  0.091696  0.114241  0.139533  0.176805   \n126          5            0.018549  0.281269  0.315796  0.333932  0.344209   \n             21           0.032324  0.103670  0.163272  0.182959  0.191842   \n252          5            0.015009  0.272943  0.305552  0.315834  0.323742   \n             21           0.036993  0.100762  0.182220  0.190380  0.201315   \n756          5            0.016221  0.279724  0.295744  0.306810  0.322272   \n             21           0.010661  0.157668  0.183311  0.188227  0.192335   \n1260         5            0.014733  0.283655  0.307094  0.315831  0.325473   \n             21           0.014307  0.179502  0.189202  0.196797  0.206954   \n\n                                    \n                               max  \ntrain_length test_length            \n63           5            0.355393  \n             21           0.206733  \n126          5            0.355429  \n             21           0.211308  \n252          5            0.337332  \n             21           0.214969  \n756          5            0.334926  \n             21           0.205799  \n1260         5            0.341460  \n             21           0.239445  ",
      "text/html": "<div>\n<style scoped>\n    .dataframe tbody tr th:only-of-type {\n        vertical-align: middle;\n    }\n\n    .dataframe tbody tr th {\n        vertical-align: top;\n    }\n\n    .dataframe thead tr th {\n        text-align: left;\n    }\n\n    .dataframe thead tr:last-of-type th {\n        text-align: right;\n    }\n</style>\n<table border=\"1\" class=\"dataframe\">\n  <thead>\n    <tr>\n      <th></th>\n      <th></th>\n      <th colspan=\"8\" halign=\"left\">mean_ic</th>\n      <th colspan=\"8\" halign=\"left\">std_ic</th>\n    </tr>\n    <tr>\n      <th></th>\n      <th></th>\n      <th>count</th>\n      <th>mean</th>\n      <th>std</th>\n      <th>min</th>\n      <th>25%</th>\n      <th>50%</th>\n      <th>75%</th>\n      <th>max</th>\n      <th>count</th>\n      <th>mean</th>\n      <th>std</th>\n      <th>min</th>\n      <th>25%</th>\n      <th>50%</th>\n      <th>75%</th>\n      <th>max</th>\n    </tr>\n    <tr>\n      <th>train_length</th>\n      <th>test_length</th>\n      <th></th>\n      <th></th>\n      <th></th>\n      <th></th>\n      <th></th>\n      <th></th>\n      <th></th>\n      <th></th>\n      <th></th>\n      <th></th>\n      <th></th>\n      <th></th>\n      <th></th>\n      <th></th>\n      <th></th>\n      <th></th>\n    </tr>\n  </thead>\n  <tbody>\n    <tr>\n      <th rowspan=\"2\" valign=\"top\">63</th>\n      <th>5</th>\n      <td>40.0</td>\n      <td>-0.003308</td>\n      <td>0.095160</td>\n      <td>-0.130113</td>\n      <td>-0.095115</td>\n      <td>-0.013556</td>\n      <td>0.096180</td>\n      <td>0.134328</td>\n      <td>40.0</td>\n      <td>0.318684</td>\n      <td>0.019980</td>\n      <td>0.288527</td>\n      <td>0.301699</td>\n      <td>0.322202</td>\n      <td>0.334163</td>\n      <td>0.355393</td>\n    </tr>\n    <tr>\n      <th>21</th>\n      <td>40.0</td>\n      <td>0.035862</td>\n      <td>0.083872</td>\n      <td>-0.074682</td>\n      <td>-0.052321</td>\n      <td>0.046864</td>\n      <td>0.128888</td>\n      <td>0.144998</td>\n      <td>40.0</td>\n      <td>0.144992</td>\n      <td>0.035527</td>\n      <td>0.091696</td>\n      <td>0.114241</td>\n      <td>0.139533</td>\n      <td>0.176805</td>\n      <td>0.206733</td>\n    </tr>\n    <tr>\n      <th rowspan=\"2\" valign=\"top\">126</th>\n      <th>5</th>\n      <td>40.0</td>\n      <td>0.057557</td>\n      <td>0.061952</td>\n      <td>-0.086547</td>\n      <td>0.051603</td>\n      <td>0.079321</td>\n      <td>0.097348</td>\n      <td>0.133737</td>\n      <td>40.0</td>\n      <td>0.329747</td>\n      <td>0.018549</td>\n      <td>0.281269</td>\n      <td>0.315796</td>\n      <td>0.333932</td>\n      <td>0.344209</td>\n      <td>0.355429</td>\n    </tr>\n    <tr>\n      <th>21</th>\n      <td>40.0</td>\n      <td>0.096030</td>\n      <td>0.064778</td>\n      <td>-0.042936</td>\n      <td>0.098390</td>\n      <td>0.109801</td>\n      <td>0.149856</td>\n      <td>0.171529</td>\n      <td>40.0</td>\n      <td>0.171837</td>\n      <td>0.032324</td>\n      <td>0.103670</td>\n      <td>0.163272</td>\n      <td>0.182959</td>\n      <td>0.191842</td>\n      <td>0.211308</td>\n    </tr>\n    <tr>\n      <th rowspan=\"2\" valign=\"top\">252</th>\n      <th>5</th>\n      <td>40.0</td>\n      <td>0.070366</td>\n      <td>0.073882</td>\n      <td>-0.118612</td>\n      <td>0.068544</td>\n      <td>0.090615</td>\n      <td>0.124916</td>\n      <td>0.146875</td>\n      <td>40.0</td>\n      <td>0.313267</td>\n      <td>0.015009</td>\n      <td>0.272943</td>\n      <td>0.305552</td>\n      <td>0.315834</td>\n      <td>0.323742</td>\n      <td>0.337332</td>\n    </tr>\n    <tr>\n      <th>21</th>\n      <td>40.0</td>\n      <td>0.114464</td>\n      <td>0.079682</td>\n      <td>-0.057876</td>\n      <td>0.128281</td>\n      <td>0.148509</td>\n      <td>0.163420</td>\n      <td>0.189210</td>\n      <td>40.0</td>\n      <td>0.177804</td>\n      <td>0.036993</td>\n      <td>0.100762</td>\n      <td>0.182220</td>\n      <td>0.190380</td>\n      <td>0.201315</td>\n      <td>0.214969</td>\n    </tr>\n    <tr>\n      <th rowspan=\"2\" valign=\"top\">756</th>\n      <th>5</th>\n      <td>40.0</td>\n      <td>0.139709</td>\n      <td>0.025267</td>\n      <td>0.083447</td>\n      <td>0.127781</td>\n      <td>0.141477</td>\n      <td>0.161185</td>\n      <td>0.178192</td>\n      <td>40.0</td>\n      <td>0.308576</td>\n      <td>0.016221</td>\n      <td>0.279724</td>\n      <td>0.295744</td>\n      <td>0.306810</td>\n      <td>0.322272</td>\n      <td>0.334926</td>\n    </tr>\n    <tr>\n      <th>21</th>\n      <td>40.0</td>\n      <td>0.156922</td>\n      <td>0.020948</td>\n      <td>0.100407</td>\n      <td>0.145212</td>\n      <td>0.159679</td>\n      <td>0.173872</td>\n      <td>0.190337</td>\n      <td>40.0</td>\n      <td>0.187251</td>\n      <td>0.010661</td>\n      <td>0.157668</td>\n      <td>0.183311</td>\n      <td>0.188227</td>\n      <td>0.192335</td>\n      <td>0.205799</td>\n    </tr>\n    <tr>\n      <th rowspan=\"2\" valign=\"top\">1260</th>\n      <th>5</th>\n      <td>40.0</td>\n      <td>0.146857</td>\n      <td>0.031583</td>\n      <td>0.073602</td>\n      <td>0.128439</td>\n      <td>0.151659</td>\n      <td>0.168739</td>\n      <td>0.203120</td>\n      <td>40.0</td>\n      <td>0.315764</td>\n      <td>0.014733</td>\n      <td>0.283655</td>\n      <td>0.307094</td>\n      <td>0.315831</td>\n      <td>0.325473</td>\n      <td>0.341460</td>\n    </tr>\n    <tr>\n      <th>21</th>\n      <td>40.0</td>\n      <td>0.182023</td>\n      <td>0.024568</td>\n      <td>0.121572</td>\n      <td>0.168362</td>\n      <td>0.184836</td>\n      <td>0.201314</td>\n      <td>0.218492</td>\n      <td>40.0</td>\n      <td>0.199515</td>\n      <td>0.014307</td>\n      <td>0.179502</td>\n      <td>0.189202</td>\n      <td>0.196797</td>\n      <td>0.206954</td>\n      <td>0.239445</td>\n    </tr>\n  </tbody>\n</table>\n</div>"
     },
     "execution_count": 31,
     "metadata": {},
     "output_type": "execute_result"
    }
   ],
   "source": [
    "tt_lenght_res = cross_val_results.groupby(by=['train_length', 'test_length'])\n",
    "\n",
    "tt_lenght_res.describe()"
   ],
   "metadata": {
    "collapsed": false,
    "pycharm": {
     "name": "#%%\n"
    }
   }
  },
  {
   "cell_type": "code",
   "execution_count": 32,
   "outputs": [
    {
     "data": {
      "text/plain": "<seaborn.axisgrid.FacetGrid at 0x7f7d1c3ed1c0>"
     },
     "execution_count": 32,
     "metadata": {},
     "output_type": "execute_result"
    },
    {
     "data": {
      "text/plain": "<Figure size 1800x360 with 5 Axes>",
      "image/png": "[encoded data removed]"
     },
     "metadata": {
      "needs_background": "light"
     },
     "output_type": "display_data"
    }
   ],
   "source": [
    "sns.catplot(x='target',\n",
    "            y='mean_ic',\n",
    "            col='train_length',\n",
    "            row='test_length',\n",
    "            data=cross_val_results[(cross_val_results.test_length == 21)],\n",
    "            kind='boxen')"
   ],
   "metadata": {
    "collapsed": false,
    "pycharm": {
     "name": "#%%\n"
    }
   }
  },
  {
   "cell_type": "markdown",
   "source": [
    "As we can see the longer the train periods are the better, the `mean_ic` steadly grows as the train period grows. If\n",
    "we look also to the test period the previous logic is still true.\n",
    "\n",
    "Regarding the standard deviation of the `ic` we can see a great decrease when the test length is longer, while the\n",
    "train period doesn't seem to affect positively the standard deviation."
   ],
   "metadata": {
    "collapsed": false,
    "pycharm": {
     "name": "#%% md\n"
    }
   }
  },
  {
   "cell_type": "code",
   "execution_count": 33,
   "outputs": [
    {
     "data": {
      "text/plain": "                                        mean_ic                                \\\n                                          count      mean       std       min   \nn_estimators max_depth min_samples_leaf                                         \n100          15        25                  40.0  0.106406  0.079338 -0.129097   \n                       100                 40.0  0.038765  0.111369 -0.123358   \n250          5         5                   40.0  0.131067  0.035960  0.054038   \n                       25                  40.0  0.111725  0.081458 -0.121024   \n             15        25                  40.0  0.111182  0.077675 -0.109199   \n                       100                 40.0  0.041943  0.116833 -0.125017   \n\n                                                                       \\\n                                              25%       50%       75%   \nn_estimators max_depth min_samples_leaf                                 \n100          15        25                0.094483  0.133927  0.157408   \n                       100              -0.055186  0.000256  0.145682   \n250          5         5                 0.111181  0.131866  0.154056   \n                       25                0.089150  0.136055  0.167079   \n             15        25                0.090467  0.131186  0.163764   \n                       100              -0.056066 -0.003861  0.161026   \n\n                                                  std_ic                      \\\n                                              max  count      mean       std   \nn_estimators max_depth min_samples_leaf                                        \n100          15        25                0.191258   40.0  0.252014  0.075007   \n                       100               0.218492   40.0  0.225791  0.089147   \n250          5         5                 0.202910   40.0  0.255798  0.065391   \n                       25                0.204359   40.0  0.249423  0.075139   \n             15        25                0.193424   40.0  0.247908  0.076900   \n                       100               0.215647   40.0  0.225871  0.088824   \n\n                                                                       \\\n                                              min       25%       50%   \nn_estimators max_depth min_samples_leaf                                 \n100          15        25                0.100449  0.190272  0.252833   \n                       100               0.091696  0.119819  0.244347   \n250          5         5                 0.160335  0.194901  0.253075   \n                       25                0.097971  0.185337  0.249538   \n             15        25                0.102649  0.183117  0.246283   \n                       100               0.099575  0.122617  0.252741   \n\n                                                             \n                                              75%       max  \nn_estimators max_depth min_samples_leaf                      \n100          15        25                0.320884  0.351953  \n                       100               0.308245  0.333477  \n250          5         5                 0.319331  0.355393  \n                       25                0.322756  0.344913  \n             15        25                0.321422  0.348232  \n                       100               0.301711  0.347245  ",
      "text/html": "<div>\n<style scoped>\n    .dataframe tbody tr th:only-of-type {\n        vertical-align: middle;\n    }\n\n    .dataframe tbody tr th {\n        vertical-align: top;\n    }\n\n    .dataframe thead tr th {\n        text-align: left;\n    }\n\n    .dataframe thead tr:last-of-type th {\n        text-align: right;\n    }\n</style>\n<table border=\"1\" class=\"dataframe\">\n  <thead>\n    <tr>\n      <th></th>\n      <th></th>\n      <th></th>\n      <th colspan=\"8\" halign=\"left\">mean_ic</th>\n      <th colspan=\"8\" halign=\"left\">std_ic</th>\n    </tr>\n    <tr>\n      <th></th>\n      <th></th>\n      <th></th>\n      <th>count</th>\n      <th>mean</th>\n      <th>std</th>\n      <th>min</th>\n      <th>25%</th>\n      <th>50%</th>\n      <th>75%</th>\n      <th>max</th>\n      <th>count</th>\n      <th>mean</th>\n      <th>std</th>\n      <th>min</th>\n      <th>25%</th>\n      <th>50%</th>\n      <th>75%</th>\n      <th>max</th>\n    </tr>\n    <tr>\n      <th>n_estimators</th>\n      <th>max_depth</th>\n      <th>min_samples_leaf</th>\n      <th></th>\n      <th></th>\n      <th></th>\n      <th></th>\n      <th></th>\n      <th></th>\n      <th></th>\n      <th></th>\n      <th></th>\n      <th></th>\n      <th></th>\n      <th></th>\n      <th></th>\n      <th></th>\n      <th></th>\n      <th></th>\n    </tr>\n  </thead>\n  <tbody>\n    <tr>\n      <th rowspan=\"2\" valign=\"top\">100</th>\n      <th rowspan=\"2\" valign=\"top\">15</th>\n      <th>25</th>\n      <td>40.0</td>\n      <td>0.106406</td>\n      <td>0.079338</td>\n      <td>-0.129097</td>\n      <td>0.094483</td>\n      <td>0.133927</td>\n      <td>0.157408</td>\n      <td>0.191258</td>\n      <td>40.0</td>\n      <td>0.252014</td>\n      <td>0.075007</td>\n      <td>0.100449</td>\n      <td>0.190272</td>\n      <td>0.252833</td>\n      <td>0.320884</td>\n      <td>0.351953</td>\n    </tr>\n    <tr>\n      <th>100</th>\n      <td>40.0</td>\n      <td>0.038765</td>\n      <td>0.111369</td>\n      <td>-0.123358</td>\n      <td>-0.055186</td>\n      <td>0.000256</td>\n      <td>0.145682</td>\n      <td>0.218492</td>\n      <td>40.0</td>\n      <td>0.225791</td>\n      <td>0.089147</td>\n      <td>0.091696</td>\n      <td>0.119819</td>\n      <td>0.244347</td>\n      <td>0.308245</td>\n      <td>0.333477</td>\n    </tr>\n    <tr>\n      <th rowspan=\"4\" valign=\"top\">250</th>\n      <th rowspan=\"2\" valign=\"top\">5</th>\n      <th>5</th>\n      <td>40.0</td>\n      <td>0.131067</td>\n      <td>0.035960</td>\n      <td>0.054038</td>\n      <td>0.111181</td>\n      <td>0.131866</td>\n      <td>0.154056</td>\n      <td>0.202910</td>\n      <td>40.0</td>\n      <td>0.255798</td>\n      <td>0.065391</td>\n      <td>0.160335</td>\n      <td>0.194901</td>\n      <td>0.253075</td>\n      <td>0.319331</td>\n      <td>0.355393</td>\n    </tr>\n    <tr>\n      <th>25</th>\n      <td>40.0</td>\n      <td>0.111725</td>\n      <td>0.081458</td>\n      <td>-0.121024</td>\n      <td>0.089150</td>\n      <td>0.136055</td>\n      <td>0.167079</td>\n      <td>0.204359</td>\n      <td>40.0</td>\n      <td>0.249423</td>\n      <td>0.075139</td>\n      <td>0.097971</td>\n      <td>0.185337</td>\n      <td>0.249538</td>\n      <td>0.322756</td>\n      <td>0.344913</td>\n    </tr>\n    <tr>\n      <th rowspan=\"2\" valign=\"top\">15</th>\n      <th>25</th>\n      <td>40.0</td>\n      <td>0.111182</td>\n      <td>0.077675</td>\n      <td>-0.109199</td>\n      <td>0.090467</td>\n      <td>0.131186</td>\n      <td>0.163764</td>\n      <td>0.193424</td>\n      <td>40.0</td>\n      <td>0.247908</td>\n      <td>0.076900</td>\n      <td>0.102649</td>\n      <td>0.183117</td>\n      <td>0.246283</td>\n      <td>0.321422</td>\n      <td>0.348232</td>\n    </tr>\n    <tr>\n      <th>100</th>\n      <td>40.0</td>\n      <td>0.041943</td>\n      <td>0.116833</td>\n      <td>-0.125017</td>\n      <td>-0.056066</td>\n      <td>-0.003861</td>\n      <td>0.161026</td>\n      <td>0.215647</td>\n      <td>40.0</td>\n      <td>0.225871</td>\n      <td>0.088824</td>\n      <td>0.099575</td>\n      <td>0.122617</td>\n      <td>0.252741</td>\n      <td>0.301711</td>\n      <td>0.347245</td>\n    </tr>\n  </tbody>\n</table>\n</div>"
     },
     "execution_count": 33,
     "metadata": {},
     "output_type": "execute_result"
    }
   ],
   "source": [
    "hyperparam_res = cross_val_results.groupby(by=['n_estimators', 'max_depth', 'min_samples_leaf'])\n",
    "\n",
    "hyperparam_res.describe()"
   ],
   "metadata": {
    "collapsed": false,
    "pycharm": {
     "name": "#%%\n"
    }
   }
  },
  {
   "cell_type": "markdown",
   "source": [
    "By giving a first look to the hyperparameters results, we can see that a larger number of estimators\n",
    "often gives better `ic`, while is not really clear what kind of impact the others two parameters have.\n",
    "\n",
    "It seems like that a lower number of sample for each leaf often gives a greater `ic`. Let's see if that it is true by\n",
    "seeing which combination of parameters gives the highest mean ic."
   ],
   "metadata": {
    "collapsed": false,
    "pycharm": {
     "name": "#%% md\n"
    }
   }
  },
  {
   "cell_type": "code",
   "execution_count": 34,
   "outputs": [
    {
     "data": {
      "text/plain": "                                            train_length test_length  \\\nn_estimators max_depth min_samples_leaf                                \n100          15        25               210         1260          21   \n                                        330          756          21   \n                                        10          1260          21   \n                       100              313         1260          21   \n                                        213         1260          21   \n                                        13          1260          21   \n250          5         5                18          1260          21   \n                                        118         1260          21   \n                                        318         1260          21   \n                       25               15          1260          21   \n                                        115         1260          21   \n                                        215         1260          21   \n             15        25               11          1260          21   \n                                        331          756          21   \n                                        311         1260          21   \n                       100              114         1260          21   \n                                        314         1260          21   \n                                        214         1260          21   \n\n                                              mean_ic    std_ic rounds target  \nn_estimators max_depth min_samples_leaf                                        \n100          15        25               210  0.191258  0.199310     48     10  \n                                        330  0.188258  0.172988     48     21  \n                                        10   0.178475  0.191318     48      1  \n                       100              313  0.218492  0.194269     48     21  \n                                        213  0.214202  0.200868     48     10  \n                                        13   0.211514  0.186150     48      1  \n250          5         5                18   0.202910  0.204972     48      1  \n                                        118  0.199101  0.210936     48      5  \n                                        318  0.192843  0.195661     48     21  \n                       25               15   0.204359  0.187406     48      1  \n                                        115  0.201485  0.200486     48      5  \n                                        215  0.194974  0.181695     48     10  \n             15        25               11   0.193424  0.191673     48      1  \n                                        331  0.190337  0.157668     48     21  \n                                        311  0.184246  0.185246     48     21  \n                       100              114  0.215647  0.197177     48      5  \n                                        314  0.213546  0.217785     48     21  \n                                        214  0.206146  0.179502     48     10  ",
      "text/html": "<div>\n<style scoped>\n    .dataframe tbody tr th:only-of-type {\n        vertical-align: middle;\n    }\n\n    .dataframe tbody tr th {\n        vertical-align: top;\n    }\n\n    .dataframe thead th {\n        text-align: right;\n    }\n</style>\n<table border=\"1\" class=\"dataframe\">\n  <thead>\n    <tr style=\"text-align: right;\">\n      <th></th>\n      <th></th>\n      <th></th>\n      <th></th>\n      <th>train_length</th>\n      <th>test_length</th>\n      <th>mean_ic</th>\n      <th>std_ic</th>\n      <th>rounds</th>\n      <th>target</th>\n    </tr>\n    <tr>\n      <th>n_estimators</th>\n      <th>max_depth</th>\n      <th>min_samples_leaf</th>\n      <th></th>\n      <th></th>\n      <th></th>\n      <th></th>\n      <th></th>\n      <th></th>\n      <th></th>\n    </tr>\n  </thead>\n  <tbody>\n    <tr>\n      <th rowspan=\"6\" valign=\"top\">100</th>\n      <th rowspan=\"6\" valign=\"top\">15</th>\n      <th rowspan=\"3\" valign=\"top\">25</th>\n      <th>210</th>\n      <td>1260</td>\n      <td>21</td>\n      <td>0.191258</td>\n      <td>0.199310</td>\n      <td>48</td>\n      <td>10</td>\n    </tr>\n    <tr>\n      <th>330</th>\n      <td>756</td>\n      <td>21</td>\n      <td>0.188258</td>\n      <td>0.172988</td>\n      <td>48</td>\n      <td>21</td>\n    </tr>\n    <tr>\n      <th>10</th>\n      <td>1260</td>\n      <td>21</td>\n      <td>0.178475</td>\n      <td>0.191318</td>\n      <td>48</td>\n      <td>1</td>\n    </tr>\n    <tr>\n      <th rowspan=\"3\" valign=\"top\">100</th>\n      <th>313</th>\n      <td>1260</td>\n      <td>21</td>\n      <td>0.218492</td>\n      <td>0.194269</td>\n      <td>48</td>\n      <td>21</td>\n    </tr>\n    <tr>\n      <th>213</th>\n      <td>1260</td>\n      <td>21</td>\n      <td>0.214202</td>\n      <td>0.200868</td>\n      <td>48</td>\n      <td>10</td>\n    </tr>\n    <tr>\n      <th>13</th>\n      <td>1260</td>\n      <td>21</td>\n      <td>0.211514</td>\n      <td>0.186150</td>\n      <td>48</td>\n      <td>1</td>\n    </tr>\n    <tr>\n      <th rowspan=\"12\" valign=\"top\">250</th>\n      <th rowspan=\"6\" valign=\"top\">5</th>\n      <th rowspan=\"3\" valign=\"top\">5</th>\n      <th>18</th>\n      <td>1260</td>\n      <td>21</td>\n      <td>0.202910</td>\n      <td>0.204972</td>\n      <td>48</td>\n      <td>1</td>\n    </tr>\n    <tr>\n      <th>118</th>\n      <td>1260</td>\n      <td>21</td>\n      <td>0.199101</td>\n      <td>0.210936</td>\n      <td>48</td>\n      <td>5</td>\n    </tr>\n    <tr>\n      <th>318</th>\n      <td>1260</td>\n      <td>21</td>\n      <td>0.192843</td>\n      <td>0.195661</td>\n      <td>48</td>\n      <td>21</td>\n    </tr>\n    <tr>\n      <th rowspan=\"3\" valign=\"top\">25</th>\n      <th>15</th>\n      <td>1260</td>\n      <td>21</td>\n      <td>0.204359</td>\n      <td>0.187406</td>\n      <td>48</td>\n      <td>1</td>\n    </tr>\n    <tr>\n      <th>115</th>\n      <td>1260</td>\n      <td>21</td>\n      <td>0.201485</td>\n      <td>0.200486</td>\n      <td>48</td>\n      <td>5</td>\n    </tr>\n    <tr>\n      <th>215</th>\n      <td>1260</td>\n      <td>21</td>\n      <td>0.194974</td>\n      <td>0.181695</td>\n      <td>48</td>\n      <td>10</td>\n    </tr>\n    <tr>\n      <th rowspan=\"6\" valign=\"top\">15</th>\n      <th rowspan=\"3\" valign=\"top\">25</th>\n      <th>11</th>\n      <td>1260</td>\n      <td>21</td>\n      <td>0.193424</td>\n      <td>0.191673</td>\n      <td>48</td>\n      <td>1</td>\n    </tr>\n    <tr>\n      <th>331</th>\n      <td>756</td>\n      <td>21</td>\n      <td>0.190337</td>\n      <td>0.157668</td>\n      <td>48</td>\n      <td>21</td>\n    </tr>\n    <tr>\n      <th>311</th>\n      <td>1260</td>\n      <td>21</td>\n      <td>0.184246</td>\n      <td>0.185246</td>\n      <td>48</td>\n      <td>21</td>\n    </tr>\n    <tr>\n      <th rowspan=\"3\" valign=\"top\">100</th>\n      <th>114</th>\n      <td>1260</td>\n      <td>21</td>\n      <td>0.215647</td>\n      <td>0.197177</td>\n      <td>48</td>\n      <td>5</td>\n    </tr>\n    <tr>\n      <th>314</th>\n      <td>1260</td>\n      <td>21</td>\n      <td>0.213546</td>\n      <td>0.217785</td>\n      <td>48</td>\n      <td>21</td>\n    </tr>\n    <tr>\n      <th>214</th>\n      <td>1260</td>\n      <td>21</td>\n      <td>0.206146</td>\n      <td>0.179502</td>\n      <td>48</td>\n      <td>10</td>\n    </tr>\n  </tbody>\n</table>\n</div>"
     },
     "execution_count": 34,
     "metadata": {},
     "output_type": "execute_result"
    }
   ],
   "source": [
    "hyperparam_res.apply(lambda x : x.nlargest(3, 'mean_ic')).drop(['n_estimators', 'max_depth', 'min_samples_leaf'], axis=1)"
   ],
   "metadata": {
    "collapsed": false,
    "pycharm": {
     "name": "#%%\n"
    }
   }
  },
  {
   "cell_type": "markdown",
   "source": [
    "From the table above we can see that the combinations which gives the best results are `{'n_estimators': 100, 'max_depth':15, 'min_samples_leaf': 100}` and\n",
    "`{'n_estimators': 250, 'max_depth':15, 'min_samples_leaf': 100}`.\n",
    "\n",
    "Contrary from what we've supposed before `min_sample_leaf` has to be big in order to achive higher `ic`, maybe because\n",
    "this parameter can allow building more generalized trees.\n",
    "\n",
    "`n_estimators` parameter doesn't seem to make a big difference in the model, since the result that\n",
    "we get from the combinations cited above are almost the same, indeed the model with fewer trees performs better\n",
    "than the one with more trees.\n"
   ],
   "metadata": {
    "collapsed": false,
    "pycharm": {
     "name": "#%% md\n"
    }
   }
  },
  {
   "cell_type": "code",
   "execution_count": 35,
   "outputs": [
    {
     "data": {
      "text/plain": "       mean_ic                                                              \\\n         count      mean       std       min       25%       50%       75%   \ntarget                                                                       \n1        100.0  0.101404  0.097985 -0.104142  0.093441  0.142467  0.166190   \n5        100.0  0.081380  0.093985 -0.130113  0.061067  0.112404  0.145439   \n10       100.0  0.089174  0.072152 -0.088438  0.052997  0.102117  0.140747   \n21       100.0  0.126635  0.055518 -0.029209  0.102021  0.140583  0.166297   \n\n                 std_ic                                                    \\\n             max  count      mean       std       min       25%       50%   \ntarget                                                                      \n1       0.211514  100.0  0.233886  0.071768  0.091696  0.183470  0.239261   \n5       0.215647  100.0  0.245758  0.072718  0.113238  0.188912  0.259585   \n10      0.214202  100.0  0.256749  0.078257  0.105507  0.192764  0.263666   \n21      0.218492  100.0  0.250582  0.078303  0.104441  0.183468  0.256728   \n\n                            \n             75%       max  \ntarget                      \n1       0.296033  0.337837  \n5       0.312624  0.351953  \n10      0.331429  0.355429  \n21      0.324363  0.346705  ",
      "text/html": "<div>\n<style scoped>\n    .dataframe tbody tr th:only-of-type {\n        vertical-align: middle;\n    }\n\n    .dataframe tbody tr th {\n        vertical-align: top;\n    }\n\n    .dataframe thead tr th {\n        text-align: left;\n    }\n\n    .dataframe thead tr:last-of-type th {\n        text-align: right;\n    }\n</style>\n<table border=\"1\" class=\"dataframe\">\n  <thead>\n    <tr>\n      <th></th>\n      <th colspan=\"8\" halign=\"left\">mean_ic</th>\n      <th colspan=\"8\" halign=\"left\">std_ic</th>\n    </tr>\n    <tr>\n      <th></th>\n      <th>count</th>\n      <th>mean</th>\n      <th>std</th>\n      <th>min</th>\n      <th>25%</th>\n      <th>50%</th>\n      <th>75%</th>\n      <th>max</th>\n      <th>count</th>\n      <th>mean</th>\n      <th>std</th>\n      <th>min</th>\n      <th>25%</th>\n      <th>50%</th>\n      <th>75%</th>\n      <th>max</th>\n    </tr>\n    <tr>\n      <th>target</th>\n      <th></th>\n      <th></th>\n      <th></th>\n      <th></th>\n      <th></th>\n      <th></th>\n      <th></th>\n      <th></th>\n      <th></th>\n      <th></th>\n      <th></th>\n      <th></th>\n      <th></th>\n      <th></th>\n      <th></th>\n      <th></th>\n    </tr>\n  </thead>\n  <tbody>\n    <tr>\n      <th>1</th>\n      <td>100.0</td>\n      <td>0.101404</td>\n      <td>0.097985</td>\n      <td>-0.104142</td>\n      <td>0.093441</td>\n      <td>0.142467</td>\n      <td>0.166190</td>\n      <td>0.211514</td>\n      <td>100.0</td>\n      <td>0.233886</td>\n      <td>0.071768</td>\n      <td>0.091696</td>\n      <td>0.183470</td>\n      <td>0.239261</td>\n      <td>0.296033</td>\n      <td>0.337837</td>\n    </tr>\n    <tr>\n      <th>5</th>\n      <td>100.0</td>\n      <td>0.081380</td>\n      <td>0.093985</td>\n      <td>-0.130113</td>\n      <td>0.061067</td>\n      <td>0.112404</td>\n      <td>0.145439</td>\n      <td>0.215647</td>\n      <td>100.0</td>\n      <td>0.245758</td>\n      <td>0.072718</td>\n      <td>0.113238</td>\n      <td>0.188912</td>\n      <td>0.259585</td>\n      <td>0.312624</td>\n      <td>0.351953</td>\n    </tr>\n    <tr>\n      <th>10</th>\n      <td>100.0</td>\n      <td>0.089174</td>\n      <td>0.072152</td>\n      <td>-0.088438</td>\n      <td>0.052997</td>\n      <td>0.102117</td>\n      <td>0.140747</td>\n      <td>0.214202</td>\n      <td>100.0</td>\n      <td>0.256749</td>\n      <td>0.078257</td>\n      <td>0.105507</td>\n      <td>0.192764</td>\n      <td>0.263666</td>\n      <td>0.331429</td>\n      <td>0.355429</td>\n    </tr>\n    <tr>\n      <th>21</th>\n      <td>100.0</td>\n      <td>0.126635</td>\n      <td>0.055518</td>\n      <td>-0.029209</td>\n      <td>0.102021</td>\n      <td>0.140583</td>\n      <td>0.166297</td>\n      <td>0.218492</td>\n      <td>100.0</td>\n      <td>0.250582</td>\n      <td>0.078303</td>\n      <td>0.104441</td>\n      <td>0.183468</td>\n      <td>0.256728</td>\n      <td>0.324363</td>\n      <td>0.346705</td>\n    </tr>\n  </tbody>\n</table>\n</div>"
     },
     "execution_count": 35,
     "metadata": {},
     "output_type": "execute_result"
    }
   ],
   "source": [
    "res_target = cross_val_results.groupby(by='target')\n",
    "\n",
    "res_target.describe()"
   ],
   "metadata": {
    "collapsed": false,
    "pycharm": {
     "name": "#%%\n"
    }
   }
  },
  {
   "cell_type": "code",
   "execution_count": 36,
   "outputs": [
    {
     "data": {
      "text/plain": "<matplotlib.lines.Line2D at 0x7f7d159a31f0>"
     },
     "execution_count": 36,
     "metadata": {},
     "output_type": "execute_result"
    },
    {
     "data": {
      "text/plain": "<Figure size 432x288 with 1 Axes>",
      "image/png": "[encoded data removed]"
     },
     "metadata": {
      "needs_background": "light"
     },
     "output_type": "display_data"
    }
   ],
   "source": [
    "ax = sns.boxenplot(x='target', y='mean_ic', data=cross_val_results)\n",
    "ax.axhline(0, ls='--', lw=1, c='k')"
   ],
   "metadata": {
    "collapsed": false,
    "pycharm": {
     "name": "#%%\n"
    }
   }
  },
  {
   "cell_type": "markdown",
   "source": [
    "Now that we've grouped by target (the lookhead of our model) let's see that our previous hypothesis about\n",
    "the best hyperparameters that we've done before are confirmed."
   ],
   "metadata": {
    "collapsed": false,
    "pycharm": {
     "name": "#%% md\n"
    }
   }
  },
  {
   "cell_type": "code",
   "execution_count": 37,
   "outputs": [
    {
     "data": {
      "text/plain": "           train_length test_length n_estimators max_depth min_samples_leaf  \\\ntarget                                                                        \n1      13          1260          21          100        15              100   \n       14          1260          21          250        15              100   \n       15          1260          21          250         5               25   \n5      114         1260          21          250        15              100   \n       115         1260          21          250         5               25   \n       113         1260          21          100        15              100   \n10     213         1260          21          100        15              100   \n       214         1260          21          250        15              100   \n       215         1260          21          250         5               25   \n21     313         1260          21          100        15              100   \n       314         1260          21          250        15              100   \n       304         1260           5          250        15              100   \n\n             mean_ic    std_ic rounds  \ntarget                                 \n1      13   0.211514  0.186150     48  \n       14   0.205567  0.190428     48  \n       15   0.204359  0.187406     48  \n5      114  0.215647  0.197177     48  \n       115  0.201485  0.200486     48  \n       113  0.201258  0.196418     48  \n10     213  0.214202  0.200868     48  \n       214  0.206146  0.179502     48  \n       215  0.194974  0.181695     48  \n21     313  0.218492  0.194269     48  \n       314  0.213546  0.217785     48  \n       304  0.203120  0.327984    201  ",
      "text/html": "<div>\n<style scoped>\n    .dataframe tbody tr th:only-of-type {\n        vertical-align: middle;\n    }\n\n    .dataframe tbody tr th {\n        vertical-align: top;\n    }\n\n    .dataframe thead th {\n        text-align: right;\n    }\n</style>\n<table border=\"1\" class=\"dataframe\">\n  <thead>\n    <tr style=\"text-align: right;\">\n      <th></th>\n      <th></th>\n      <th>train_length</th>\n      <th>test_length</th>\n      <th>n_estimators</th>\n      <th>max_depth</th>\n      <th>min_samples_leaf</th>\n      <th>mean_ic</th>\n      <th>std_ic</th>\n      <th>rounds</th>\n    </tr>\n    <tr>\n      <th>target</th>\n      <th></th>\n      <th></th>\n      <th></th>\n      <th></th>\n      <th></th>\n      <th></th>\n      <th></th>\n      <th></th>\n      <th></th>\n    </tr>\n  </thead>\n  <tbody>\n    <tr>\n      <th rowspan=\"3\" valign=\"top\">1</th>\n      <th>13</th>\n      <td>1260</td>\n      <td>21</td>\n      <td>100</td>\n      <td>15</td>\n      <td>100</td>\n      <td>0.211514</td>\n      <td>0.186150</td>\n      <td>48</td>\n    </tr>\n    <tr>\n      <th>14</th>\n      <td>1260</td>\n      <td>21</td>\n      <td>250</td>\n      <td>15</td>\n      <td>100</td>\n      <td>0.205567</td>\n      <td>0.190428</td>\n      <td>48</td>\n    </tr>\n    <tr>\n      <th>15</th>\n      <td>1260</td>\n      <td>21</td>\n      <td>250</td>\n      <td>5</td>\n      <td>25</td>\n      <td>0.204359</td>\n      <td>0.187406</td>\n      <td>48</td>\n    </tr>\n    <tr>\n      <th rowspan=\"3\" valign=\"top\">5</th>\n      <th>114</th>\n      <td>1260</td>\n      <td>21</td>\n      <td>250</td>\n      <td>15</td>\n      <td>100</td>\n      <td>0.215647</td>\n      <td>0.197177</td>\n      <td>48</td>\n    </tr>\n    <tr>\n      <th>115</th>\n      <td>1260</td>\n      <td>21</td>\n      <td>250</td>\n      <td>5</td>\n      <td>25</td>\n      <td>0.201485</td>\n      <td>0.200486</td>\n      <td>48</td>\n    </tr>\n    <tr>\n      <th>113</th>\n      <td>1260</td>\n      <td>21</td>\n      <td>100</td>\n      <td>15</td>\n      <td>100</td>\n      <td>0.201258</td>\n      <td>0.196418</td>\n      <td>48</td>\n    </tr>\n    <tr>\n      <th rowspan=\"3\" valign=\"top\">10</th>\n      <th>213</th>\n      <td>1260</td>\n      <td>21</td>\n      <td>100</td>\n      <td>15</td>\n      <td>100</td>\n      <td>0.214202</td>\n      <td>0.200868</td>\n      <td>48</td>\n    </tr>\n    <tr>\n      <th>214</th>\n      <td>1260</td>\n      <td>21</td>\n      <td>250</td>\n      <td>15</td>\n      <td>100</td>\n      <td>0.206146</td>\n      <td>0.179502</td>\n      <td>48</td>\n    </tr>\n    <tr>\n      <th>215</th>\n      <td>1260</td>\n      <td>21</td>\n      <td>250</td>\n      <td>5</td>\n      <td>25</td>\n      <td>0.194974</td>\n      <td>0.181695</td>\n      <td>48</td>\n    </tr>\n    <tr>\n      <th rowspan=\"3\" valign=\"top\">21</th>\n      <th>313</th>\n      <td>1260</td>\n      <td>21</td>\n      <td>100</td>\n      <td>15</td>\n      <td>100</td>\n      <td>0.218492</td>\n      <td>0.194269</td>\n      <td>48</td>\n    </tr>\n    <tr>\n      <th>314</th>\n      <td>1260</td>\n      <td>21</td>\n      <td>250</td>\n      <td>15</td>\n      <td>100</td>\n      <td>0.213546</td>\n      <td>0.217785</td>\n      <td>48</td>\n    </tr>\n    <tr>\n      <th>304</th>\n      <td>1260</td>\n      <td>5</td>\n      <td>250</td>\n      <td>15</td>\n      <td>100</td>\n      <td>0.203120</td>\n      <td>0.327984</td>\n      <td>201</td>\n    </tr>\n  </tbody>\n</table>\n</div>"
     },
     "execution_count": 37,
     "metadata": {},
     "output_type": "execute_result"
    }
   ],
   "source": [
    "res_target.apply(lambda x: x.nlargest(3, 'mean_ic')).drop('target', axis=1)"
   ],
   "metadata": {
    "collapsed": false,
    "pycharm": {
     "name": "#%%\n"
    }
   }
  },
  {
   "cell_type": "markdown",
   "source": [
    "Guess what? Out hypothesis are confirmed!\n",
    "\n",
    "The best models have all the best hyperparameters that we've identified before:\n",
    "\n",
    "`{'n_estimators': 100, 'max_depth':15, 'min_samples_leaf': 100, train_length: 1260, test_length:21}`"
   ],
   "metadata": {
    "collapsed": false,
    "pycharm": {
     "name": "#%% md\n"
    }
   }
  },
  {
   "cell_type": "code",
   "execution_count": 38,
   "outputs": [],
   "source": [
    "base_params = rf_reg.get_params()\n",
    "model = RandomForestRegressor(base_params)\n",
    "model_params = {\n",
    "    'n_estimators': 100,\n",
    "    'max_depth': 15,\n",
    "    'max_features': 'log2',\n",
    "    'min_samples_leaf': 100\n",
    "}\n",
    "model = model.set_params(**model_params)\n",
    "opt_test_length = 21\n",
    "opt_train_length = 1260"
   ],
   "metadata": {
    "collapsed": false,
    "pycharm": {
     "name": "#%%\n"
    }
   }
  },
  {
   "cell_type": "code",
   "execution_count": 39,
   "outputs": [
    {
     "data": {
      "text/plain": "Date\n2012-04-09   -0.036070\n2012-04-10   -0.023634\n2012-04-12   -0.001009\n2012-04-13    0.017668\n2012-04-16   -0.032242\n                ...   \n2021-07-26   -0.031936\n2021-07-27    0.018383\n2021-07-28    0.003709\n2021-07-29   -0.035723\n2021-07-30    0.005365\nName: target_1d, Length: 2330, dtype: float64"
     },
     "execution_count": 39,
     "metadata": {},
     "output_type": "execute_result"
    }
   ],
   "source": [
    "y[f'target_{1}d']"
   ],
   "metadata": {
    "collapsed": false,
    "pycharm": {
     "name": "#%%\n"
    }
   }
  },
  {
   "cell_type": "code",
   "execution_count": 40,
   "outputs": [
    {
     "name": "stdout",
     "output_type": "stream",
     "text": [
      "Lookhead: 1 | Iteration: 0 | Val score: -0.43766233766233764\n",
      "Lookhead: 1 | Iteration: 1 | Val score: 0.10519480519480517\n",
      "Lookhead: 1 | Iteration: 2 | Val score: -0.04025974025974026\n",
      "Lookhead: 1 | Iteration: 3 | Val score: 0.3649350649350649\n",
      "Lookhead: 1 | Iteration: 4 | Val score: 0.4194805194805195\n",
      "Lookhead: 1 | Iteration: 5 | Val score: 0.23636363636363636\n",
      "Lookhead: 1 | Iteration: 6 | Val score: 0.13116883116883118\n",
      "Lookhead: 1 | Iteration: 7 | Val score: 0.5402597402597402\n",
      "Lookhead: 1 | Iteration: 8 | Val score: -0.34545454545454546\n",
      "Lookhead: 1 | Iteration: 9 | Val score: -0.32857142857142857\n",
      "Lookhead: 1 | Iteration: 10 | Val score: 0.04155844155844156\n",
      "Lookhead: 1 | Iteration: 11 | Val score: -0.41558441558441556\n",
      "Lookhead: 1 | Iteration: 12 | Val score: 0.06623376623376624\n",
      "Lookhead: 1 | Iteration: 13 | Val score: 0.34415584415584416\n",
      "Lookhead: 1 | Iteration: 14 | Val score: 0.17922077922077922\n",
      "Lookhead: 1 | Iteration: 15 | Val score: 0.02857142857142857\n",
      "Lookhead: 1 | Iteration: 16 | Val score: 0.5363636363636364\n",
      "Lookhead: 1 | Iteration: 17 | Val score: 0.35194805194805195\n",
      "Lookhead: 1 | Iteration: 18 | Val score: 0.3532467532467533\n",
      "Lookhead: 1 | Iteration: 19 | Val score: 0.45324675324675323\n",
      "Lookhead: 1 | Iteration: 20 | Val score: 0.22987012987012984\n",
      "Lookhead: 1 | Iteration: 21 | Val score: -0.0961038961038961\n",
      "Lookhead: 1 | Iteration: 22 | Val score: -0.7272727272727273\n",
      "Lookhead: 1 | Iteration: 23 | Val score: 0.06363636363636363\n",
      "Lookhead: 1 | Iteration: 24 | Val score: 0.287012987012987\n",
      "Lookhead: 1 | Iteration: 25 | Val score: 0.0\n",
      "Lookhead: 1 | Iteration: 26 | Val score: 0.15064935064935067\n",
      "Lookhead: 1 | Iteration: 27 | Val score: -0.0935064935064935\n",
      "Lookhead: 1 | Iteration: 28 | Val score: -0.005194805194805195\n",
      "Lookhead: 1 | Iteration: 29 | Val score: -0.16233766233766234\n",
      "Lookhead: 1 | Iteration: 30 | Val score: 0.0987012987012987\n",
      "Lookhead: 1 | Iteration: 31 | Val score: 0.24805194805194808\n",
      "Lookhead: 1 | Iteration: 32 | Val score: 0.1064935064935065\n",
      "Lookhead: 1 | Iteration: 33 | Val score: 0.09480519480519481\n",
      "Lookhead: 1 | Iteration: 34 | Val score: -0.10259740259740259\n",
      "Lookhead: 1 | Iteration: 35 | Val score: 0.16233766233766234\n",
      "Lookhead: 1 | Iteration: 36 | Val score: 0.20519480519480518\n",
      "Lookhead: 1 | Iteration: 37 | Val score: 0.25917507050585936\n",
      "Lookhead: 1 | Iteration: 38 | Val score: 0.022077922077922082\n",
      "Lookhead: 1 | Iteration: 39 | Val score: 0.32857142857142857\n",
      "Lookhead: 1 | Iteration: 40 | Val score: 0.02077922077922078\n",
      "Lookhead: 1 | Iteration: 41 | Val score: 0.1012987012987013\n",
      "Lookhead: 1 | Iteration: 42 | Val score: 0.20779220779220778\n",
      "Lookhead: 1 | Iteration: 43 | Val score: -0.09090909090909091\n",
      "Lookhead: 1 | Iteration: 44 | Val score: -0.16363636363636364\n",
      "Lookhead: 1 | Iteration: 45 | Val score: 0.3155844155844156\n",
      "Lookhead: 1 | Iteration: 46 | Val score: 0.32987012987012987\n",
      "Lookhead: 1 | Iteration: 47 | Val score: -0.06103896103896104\n",
      "Lookhead: 5 | Iteration: 0 | Val score: 0.02663202478882264\n",
      "Lookhead: 5 | Iteration: 1 | Val score: 0.10909090909090909\n",
      "Lookhead: 5 | Iteration: 2 | Val score: -0.30724262744178316\n",
      "Lookhead: 5 | Iteration: 3 | Val score: 0.13116883116883118\n",
      "Lookhead: 5 | Iteration: 4 | Val score: 0.7051948051948052\n",
      "Lookhead: 5 | Iteration: 5 | Val score: 0.25397857786413786\n",
      "Lookhead: 5 | Iteration: 6 | Val score: 0.5051948051948052\n",
      "Lookhead: 5 | Iteration: 7 | Val score: 0.41117248027621295\n",
      "Lookhead: 5 | Iteration: 8 | Val score: 0.3267294748482388\n",
      "Lookhead: 5 | Iteration: 9 | Val score: 0.3304029043140505\n",
      "Lookhead: 5 | Iteration: 10 | Val score: 0.36103896103896105\n",
      "Lookhead: 5 | Iteration: 11 | Val score: 0.09297797198159101\n",
      "Lookhead: 5 | Iteration: 12 | Val score: 0.07662337662337662\n",
      "Lookhead: 5 | Iteration: 13 | Val score: 0.30129870129870134\n",
      "Lookhead: 5 | Iteration: 14 | Val score: 0.7779220779220779\n",
      "Lookhead: 5 | Iteration: 15 | Val score: 0.312987012987013\n",
      "Lookhead: 5 | Iteration: 16 | Val score: 0.26103896103896107\n",
      "Lookhead: 5 | Iteration: 17 | Val score: 0.5529565819675317\n",
      "Lookhead: 5 | Iteration: 18 | Val score: 0.43260801242331415\n",
      "Lookhead: 5 | Iteration: 19 | Val score: 0.5311688311688313\n",
      "Lookhead: 5 | Iteration: 20 | Val score: 0.2715167405299479\n",
      "Lookhead: 5 | Iteration: 21 | Val score: -0.11428571428571428\n",
      "Lookhead: 5 | Iteration: 22 | Val score: -0.551948051948052\n",
      "Lookhead: 5 | Iteration: 23 | Val score: -0.24285714285714283\n",
      "Lookhead: 5 | Iteration: 24 | Val score: 0.4324675324675325\n",
      "Lookhead: 5 | Iteration: 25 | Val score: 0.39090909090909093\n",
      "Lookhead: 5 | Iteration: 26 | Val score: 0.03896103896103896\n",
      "Lookhead: 5 | Iteration: 27 | Val score: 0.6402597402597403\n",
      "Lookhead: 5 | Iteration: 28 | Val score: 0.19291978932391035\n",
      "Lookhead: 5 | Iteration: 29 | Val score: 0.6796756952556606\n",
      "Lookhead: 5 | Iteration: 30 | Val score: 0.3047434041630698\n",
      "Lookhead: 5 | Iteration: 31 | Val score: -0.16363636363636364\n",
      "Lookhead: 5 | Iteration: 32 | Val score: 0.7233673053029508\n",
      "Lookhead: 5 | Iteration: 33 | Val score: 0.7389610389610389\n",
      "Lookhead: 5 | Iteration: 34 | Val score: -0.3064935064935065\n",
      "Lookhead: 5 | Iteration: 35 | Val score: 0.20779220779220778\n",
      "Lookhead: 5 | Iteration: 36 | Val score: -0.7298701298701298\n",
      "Lookhead: 5 | Iteration: 37 | Val score: -0.13766233766233765\n",
      "Lookhead: 5 | Iteration: 38 | Val score: 0.6324675324675325\n",
      "Lookhead: 5 | Iteration: 39 | Val score: 0.4909090909090909\n",
      "Lookhead: 5 | Iteration: 40 | Val score: 0.387012987012987\n",
      "Lookhead: 5 | Iteration: 41 | Val score: -0.33257552907017546\n",
      "Lookhead: 5 | Iteration: 42 | Val score: 0.7275089698410087\n",
      "Lookhead: 5 | Iteration: 43 | Val score: 0.32727272727272727\n",
      "Lookhead: 5 | Iteration: 44 | Val score: 0.38311688311688313\n",
      "Lookhead: 5 | Iteration: 45 | Val score: 0.6272727272727273\n",
      "Lookhead: 5 | Iteration: 46 | Val score: 0.34415584415584416\n",
      "Lookhead: 5 | Iteration: 47 | Val score: 0.464935064935065\n",
      "Lookhead: 10 | Iteration: 0 | Val score: -0.5296041317934933\n",
      "Lookhead: 10 | Iteration: 1 | Val score: -0.10201431653220032\n",
      "Lookhead: 10 | Iteration: 2 | Val score: 0.8194805194805195\n",
      "Lookhead: 10 | Iteration: 3 | Val score: 0.612987012987013\n",
      "Lookhead: 10 | Iteration: 4 | Val score: 0.3922077922077922\n",
      "Lookhead: 10 | Iteration: 5 | Val score: 0.4787268846185923\n",
      "Lookhead: 10 | Iteration: 6 | Val score: 0.22987012987012984\n",
      "Lookhead: 10 | Iteration: 7 | Val score: 0.44935064935064933\n",
      "Lookhead: 10 | Iteration: 8 | Val score: 0.20272908763086944\n",
      "Lookhead: 10 | Iteration: 9 | Val score: 0.15068650244248363\n",
      "Lookhead: 10 | Iteration: 10 | Val score: 0.6142857142857143\n",
      "Lookhead: 10 | Iteration: 11 | Val score: 0.4563605007651497\n",
      "Lookhead: 10 | Iteration: 12 | Val score: 0.587012987012987\n",
      "Lookhead: 10 | Iteration: 13 | Val score: 0.22337662337662337\n",
      "Lookhead: 10 | Iteration: 14 | Val score: 0.41558441558441556\n",
      "Lookhead: 10 | Iteration: 15 | Val score: 0.6904839597687431\n",
      "Lookhead: 10 | Iteration: 16 | Val score: 0.7883116883116883\n",
      "Lookhead: 10 | Iteration: 17 | Val score: 0.2572263857652138\n",
      "Lookhead: 10 | Iteration: 18 | Val score: 0.7116134993456442\n",
      "Lookhead: 10 | Iteration: 19 | Val score: 0.5636363636363637\n",
      "Lookhead: 10 | Iteration: 20 | Val score: 0.34935064935064936\n",
      "Lookhead: 10 | Iteration: 21 | Val score: -0.4116883116883117\n",
      "Lookhead: 10 | Iteration: 22 | Val score: 0.07012987012987014\n",
      "Lookhead: 10 | Iteration: 23 | Val score: -0.696103896103896\n",
      "Lookhead: 10 | Iteration: 24 | Val score: 0.5168831168831168\n",
      "Lookhead: 10 | Iteration: 25 | Val score: 0.04675324675324675\n",
      "Lookhead: 10 | Iteration: 26 | Val score: 0.16493506493506493\n",
      "Lookhead: 10 | Iteration: 27 | Val score: 0.6844155844155844\n",
      "Lookhead: 10 | Iteration: 28 | Val score: -0.0038961038961038965\n",
      "Lookhead: 10 | Iteration: 29 | Val score: 0.2650613792272676\n",
      "Lookhead: 10 | Iteration: 30 | Val score: 0.37025010072265624\n",
      "Lookhead: 10 | Iteration: 31 | Val score: 0.08119519752689829\n",
      "Lookhead: 10 | Iteration: 32 | Val score: 0.9084450662993815\n",
      "Lookhead: 10 | Iteration: 33 | Val score: 0.9025974025974025\n",
      "Lookhead: 10 | Iteration: 34 | Val score: -0.007792207792207793\n",
      "Lookhead: 10 | Iteration: 35 | Val score: 0.6753246753246753\n",
      "Lookhead: 10 | Iteration: 36 | Val score: -0.45664179089127593\n",
      "Lookhead: 10 | Iteration: 37 | Val score: -0.45194805194805193\n",
      "Lookhead: 10 | Iteration: 38 | Val score: 0.8158493447502742\n",
      "Lookhead: 10 | Iteration: 39 | Val score: 0.5285714285714286\n",
      "Lookhead: 10 | Iteration: 40 | Val score: 0.7766233766233767\n",
      "Lookhead: 10 | Iteration: 41 | Val score: 0.835064935064935\n",
      "Lookhead: 10 | Iteration: 42 | Val score: 0.348051948051948\n",
      "Lookhead: 10 | Iteration: 43 | Val score: 0.17142857142857143\n",
      "Lookhead: 10 | Iteration: 44 | Val score: 0.34155844155844156\n",
      "Lookhead: 10 | Iteration: 45 | Val score: 0.23636363636363636\n",
      "Lookhead: 10 | Iteration: 46 | Val score: -0.15454545454545454\n",
      "Lookhead: 10 | Iteration: 47 | Val score: 0.6\n",
      "Lookhead: 21 | Iteration: 0 | Val score: -0.3083465568195439\n",
      "Lookhead: 21 | Iteration: 1 | Val score: 0.4827811285568461\n",
      "Lookhead: 21 | Iteration: 2 | Val score: 0.857142857142857\n",
      "Lookhead: 21 | Iteration: 3 | Val score: 0.916179530639506\n",
      "Lookhead: 21 | Iteration: 4 | Val score: 0.07142857142857142\n",
      "Lookhead: 21 | Iteration: 5 | Val score: 0.7749269651967173\n",
      "Lookhead: 21 | Iteration: 6 | Val score: 0.7363636363636364\n",
      "Lookhead: 21 | Iteration: 7 | Val score: 0.12016889233980947\n",
      "Lookhead: 21 | Iteration: 8 | Val score: 0.7038961038961039\n",
      "Lookhead: 21 | Iteration: 9 | Val score: 0.7620040752623544\n",
      "Lookhead: 21 | Iteration: 10 | Val score: 0.6645014965601358\n",
      "Lookhead: 21 | Iteration: 11 | Val score: 0.5017949798455559\n",
      "Lookhead: 21 | Iteration: 12 | Val score: 0.2155844155844156\n",
      "Lookhead: 21 | Iteration: 13 | Val score: 0.4753246753246753\n",
      "Lookhead: 21 | Iteration: 14 | Val score: -0.0025974025974025974\n",
      "Lookhead: 21 | Iteration: 15 | Val score: 0.7558441558441559\n",
      "Lookhead: 21 | Iteration: 16 | Val score: 0.6995778218917558\n",
      "Lookhead: 21 | Iteration: 17 | Val score: 0.8401561227779301\n",
      "Lookhead: 21 | Iteration: 18 | Val score: 0.6512085456733665\n",
      "Lookhead: 21 | Iteration: 19 | Val score: 0.4090909090909091\n",
      "Lookhead: 21 | Iteration: 20 | Val score: 0.5009747646262831\n",
      "Lookhead: 21 | Iteration: 21 | Val score: 0.8051948051948051\n",
      "Lookhead: 21 | Iteration: 22 | Val score: 0.6998052159565589\n",
      "Lookhead: 21 | Iteration: 23 | Val score: 0.4142857142857143\n",
      "Lookhead: 21 | Iteration: 24 | Val score: 0.8701298701298701\n",
      "Lookhead: 21 | Iteration: 25 | Val score: 0.8450796158599574\n",
      "Lookhead: 21 | Iteration: 26 | Val score: 0.34545454545454546\n",
      "Lookhead: 21 | Iteration: 27 | Val score: 0.6584415584415585\n",
      "Lookhead: 21 | Iteration: 28 | Val score: 0.4\n",
      "Lookhead: 21 | Iteration: 29 | Val score: -0.42737837720240907\n",
      "Lookhead: 21 | Iteration: 30 | Val score: 0.6033983322913306\n",
      "Lookhead: 21 | Iteration: 31 | Val score: 0.7476453788276796\n",
      "Lookhead: 21 | Iteration: 32 | Val score: 0.892804692130669\n",
      "Lookhead: 21 | Iteration: 33 | Val score: 0.3676518544017955\n",
      "Lookhead: 21 | Iteration: 34 | Val score: 0.890909090909091\n",
      "Lookhead: 21 | Iteration: 35 | Val score: 0.8818181818181818\n",
      "Lookhead: 21 | Iteration: 36 | Val score: 0.8376623376623376\n",
      "Lookhead: 21 | Iteration: 37 | Val score: -0.2753246753246753\n",
      "Lookhead: 21 | Iteration: 38 | Val score: 0.7223124771992873\n",
      "Lookhead: 21 | Iteration: 39 | Val score: -0.2532467532467532\n",
      "Lookhead: 21 | Iteration: 40 | Val score: 0.6207792207792208\n",
      "Lookhead: 21 | Iteration: 41 | Val score: 0.2701298701298701\n",
      "Lookhead: 21 | Iteration: 42 | Val score: 0.6536713530662008\n",
      "Lookhead: 21 | Iteration: 43 | Val score: 0.2311688311688312\n",
      "Lookhead: 21 | Iteration: 44 | Val score: 0.6857142857142857\n",
      "Lookhead: 21 | Iteration: 45 | Val score: 0.46753246753246747\n",
      "Lookhead: 21 | Iteration: 46 | Val score: 0.5584415584415584\n",
      "Lookhead: 21 | Iteration: 47 | Val score: 0.5326404957764528\n"
     ]
    }
   ],
   "source": [
    "scores = np.array([])\n",
    "\n",
    "for lookahead in lookaheads:\n",
    "    n_splits = int(4 * YEAR /  opt_test_length)\n",
    "    cv = MultipleTimeSeriesCV(\n",
    "        n_splits=n_splits,\n",
    "        test_period_length=opt_test_length,\n",
    "        train_period_length=opt_train_length,\n",
    "        lookahead=lookahead\n",
    "    )\n",
    "\n",
    "    for i, (train_idx, test_idx) in enumerate(cv.split(X)):\n",
    "        model = model.fit(X.iloc[train_idx], y[f'target_{lookahead}d'].iloc[train_idx])\n",
    "\n",
    "        y_test = y[f'target_{lookahead}d'].iloc[test_idx]\n",
    "        y_pred = model.predict(X.iloc[test_idx])\n",
    "        scores = np.append(scores, rank_correl(y_test, y_pred))\n",
    "        print(f'Lookhead: {lookahead} | Iteration: {i} | Val score: {scores[-1]}')"
   ],
   "metadata": {
    "collapsed": false,
    "pycharm": {
     "name": "#%%\n"
    }
   }
  },
  {
   "cell_type": "markdown",
   "source": [
    "## Evaluate the Best Model"
   ],
   "metadata": {
    "collapsed": false,
    "pycharm": {
     "name": "#%% md\n"
    }
   }
  },
  {
   "cell_type": "code",
   "execution_count": 41,
   "outputs": [
    {
     "name": "stdout",
     "output_type": "stream",
     "text": [
      "0.7691631459147812\n"
     ]
    }
   ],
   "source": [
    "print(rank_correl(model.predict(X.iloc[-30:]), y.target_5d.values[-30:]))"
   ],
   "metadata": {
    "collapsed": false,
    "pycharm": {
     "name": "#%%\n"
    }
   }
  },
  {
   "cell_type": "code",
   "execution_count": 42,
   "outputs": [
    {
     "name": "stdout",
     "output_type": "stream",
     "text": [
      "0.481506824542828\n"
     ]
    }
   ],
   "source": [
    "print(rank_correl(model.predict(X.iloc[-30:]), y.target_21d.values[-30:]))\n"
   ],
   "metadata": {
    "collapsed": false,
    "pycharm": {
     "name": "#%%\n"
    }
   }
  },
  {
   "cell_type": "markdown",
   "source": [
    "## Parameters importance"
   ],
   "metadata": {
    "collapsed": false,
    "pycharm": {
     "name": "#%% md\n"
    }
   }
  },
  {
   "cell_type": "code",
   "execution_count": 43,
   "outputs": [
    {
     "data": {
      "text/plain": "<Figure size 864x360 with 1 Axes>",
      "image/png": "[encoded data removed]"
     },
     "metadata": {
      "needs_background": "light"
     },
     "output_type": "display_data"
    }
   ],
   "source": [
    "\n",
    "fig, ax = plt.subplots(figsize=(12,5))\n",
    "(pd.Series(model.feature_importances_, index=X.columns)\n",
    " .sort_values(ascending=False)\n",
    " .iloc[:20]\n",
    " .sort_values()\n",
    " .plot.barh(ax=ax, title='Feature Importance'))\n",
    "\n",
    "sns.despine()\n",
    "\n",
    "fig.tight_layout();"
   ],
   "metadata": {
    "collapsed": false,
    "pycharm": {
     "name": "#%%\n"
    }
   }
  },
  {
   "cell_type": "markdown",
   "source": [
    "Using the builtin `features_importances_` attribute from our model we can see that the most impactful params are:\n",
    "\n",
    "- ATR\n",
    "- NG consumption\n",
    "- Other States Gross Withdrawal\n",
    "- US Gross Withdrawal\n",
    "- year\n",
    "- MACD"
   ],
   "metadata": {
    "collapsed": false,
    "pycharm": {
     "name": "#%% md\n"
    }
   }
  },
  {
   "cell_type": "markdown",
   "source": [
    "To have a more holistic view of the importance of the features, we can use two others functions provided by\n",
    "sklearn: `permutation_importance` and `partial_dependence`."
   ],
   "metadata": {
    "collapsed": false,
    "pycharm": {
     "name": "#%% md\n"
    }
   }
  },
  {
   "cell_type": "code",
   "execution_count": 45,
   "outputs": [
    {
     "data": {
      "text/plain": "<Figure size 432x288 with 1 Axes>",
      "image/png": "[encoded data removed]"
     },
     "metadata": {
      "needs_background": "light"
     },
     "output_type": "display_data"
    },
    {
     "data": {
      "text/plain": "<Figure size 432x288 with 1 Axes>",
      "image/png": "[encoded data removed]"
     },
     "metadata": {
      "needs_background": "light"
     },
     "output_type": "display_data"
    }
   ],
   "source": [
    "from sklearn.inspection import permutation_importance, PartialDependenceDisplay, partial_dependence\n",
    "\n",
    "result = permutation_importance(model, X, y.target_21d, n_repeats=10, n_jobs=-1, max_samples=0.3)\n",
    "\n",
    "sorted_idx = result.importances_mean.argsort()\n",
    "\n",
    "fig, ax = plt.subplots()\n",
    "ax.boxplot(result.importances[sorted_idx].T,\n",
    "           vert=False, labels=X.columns[sorted_idx])\n",
    "ax.set_title(\"Permutation Importances (test set)\")\n",
    "fig.tight_layout()\n",
    "plt.show()"
   ],
   "metadata": {
    "collapsed": false,
    "pycharm": {
     "name": "#%%\n"
    }
   }
  },
  {
   "cell_type": "code",
   "execution_count": null,
   "outputs": [],
   "source": [
    "result = permutation_importance(model, X, y.target_21d, n_repeats=10, n_jobs=-1, max_samples=0.3)\n",
    "\n",
    "sorted_idx = result.importances_mean.argsort()\n",
    "\n",
    "fig, ax = plt.subplots()\n",
    "ax.boxplot(result.importances[sorted_idx].T,\n",
    "           vert=False, labels=X.columns[sorted_idx])\n",
    "ax.set_title(\"Permutation Importances (test set)\")\n",
    "fig.tight_layout()\n",
    "plt.show()"
   ],
   "metadata": {
    "collapsed": false,
    "pycharm": {
     "name": "#%%\n"
    }
   }
  },
  {
   "cell_type": "markdown",
   "source": [],
   "metadata": {
    "collapsed": false,
    "pycharm": {
     "name": "#%% md\n"
    }
   }
  },
  {
   "cell_type": "code",
   "execution_count": 50,
   "outputs": [
    {
     "data": {
      "text/plain": "            Consumption in mcf  Storage in mcf  US Gross Withdrawal in mcf  \\\nDate                                                                         \n2012-04-09           1953071.0          2478.0                   2417498.0   \n2012-04-10           1953071.0          2478.0                   2417498.0   \n2012-04-12           1953071.0          2478.0                   2417498.0   \n2012-04-13           1953071.0          2503.0                   2417498.0   \n2012-04-16           1953071.0          2503.0                   2417498.0   \n...                        ...             ...                         ...   \n2021-07-26           2218011.0          2714.0                   3396062.0   \n2021-07-27           2218011.0          2714.0                   3396062.0   \n2021-07-28           2218011.0          2714.0                   3396062.0   \n2021-07-29           2218011.0          2714.0                   3396062.0   \n2021-07-30           2218011.0          2727.0                   3396062.0   \n\n            Other Gross Withdrawal in mcf        RSI       ATR      MACD  \\\nDate                                                                       \n2012-04-09                        93400.0  34.901425  0.089792 -0.081938   \n2012-04-10                        93400.0  30.556017  0.090521 -0.086858   \n2012-04-12                        93400.0  28.170441  0.090913 -0.093349   \n2012-04-13                        93400.0  28.072097  0.087276 -0.097552   \n2012-04-16                        93400.0  32.512260  0.084828 -0.097134   \n...                                   ...        ...       ...       ...   \n2021-07-26                        32500.0  79.676063  0.129331  0.175313   \n2021-07-27                        32500.0  67.674236  0.132950  0.170944   \n2021-07-28                        32500.0  70.354143  0.137025  0.171060   \n2021-07-29                        32500.0  70.888206  0.139381  0.170352   \n2021-07-30                        32500.0  59.693397  0.143996  0.157004   \n\n            return_1d  return_5d  return_10d  return_21d  return_42d  \\\nDate                                                                   \n2012-04-09   0.008617  -0.001794   -0.007642   -0.003584   -0.003797   \n2012-04-10  -0.036070  -0.011507   -0.009126   -0.006397   -0.004436   \n2012-04-12  -0.023634  -0.019393   -0.010690   -0.006395   -0.005282   \n2012-04-13  -0.001009  -0.015414   -0.010025   -0.007064   -0.005306   \n2012-04-16   0.017668  -0.007089   -0.006368   -0.005926   -0.004447   \n...               ...        ...         ...         ...         ...   \n2021-07-26   0.010345   0.016538    0.009039    0.008724    0.008183   \n2021-07-27  -0.031936   0.004855    0.007202    0.006085    0.006827   \n2021-07-28   0.018383   0.004258    0.010027    0.005647    0.007474   \n2021-07-29   0.003709   0.002782    0.011680    0.005333    0.007336   \n2021-07-30  -0.035723  -0.007298    0.006348    0.003331    0.005536   \n\n            return_63d  year  month  weekday  \nDate                                          \n2012-04-09   -0.005916  2012      4        0  \n2012-04-10   -0.006230  2012      4        1  \n2012-04-12   -0.006237  2012      4        3  \n2012-04-13   -0.005330  2012      4        4  \n2012-04-16   -0.004609  2012      4        0  \n...                ...   ...    ...      ...  \n2021-07-26    0.006137  2021      7        0  \n2021-07-27    0.005151  2021      7        1  \n2021-07-28    0.005155  2021      7        2  \n2021-07-29    0.005291  2021      7        3  \n2021-07-30    0.004601  2021      7        4  \n\n[2330 rows x 16 columns]",
      "text/html": "<div>\n<style scoped>\n    .dataframe tbody tr th:only-of-type {\n        vertical-align: middle;\n    }\n\n    .dataframe tbody tr th {\n        vertical-align: top;\n    }\n\n    .dataframe thead th {\n        text-align: right;\n    }\n</style>\n<table border=\"1\" class=\"dataframe\">\n  <thead>\n    <tr style=\"text-align: right;\">\n      <th></th>\n      <th>Consumption in mcf</th>\n      <th>Storage in mcf</th>\n      <th>US Gross Withdrawal in mcf</th>\n      <th>Other Gross Withdrawal in mcf</th>\n      <th>RSI</th>\n      <th>ATR</th>\n      <th>MACD</th>\n      <th>return_1d</th>\n      <th>return_5d</th>\n      <th>return_10d</th>\n      <th>return_21d</th>\n      <th>return_42d</th>\n      <th>return_63d</th>\n      <th>year</th>\n      <th>month</th>\n      <th>weekday</th>\n    </tr>\n    <tr>\n      <th>Date</th>\n      <th></th>\n      <th></th>\n      <th></th>\n      <th></th>\n      <th></th>\n      <th></th>\n      <th></th>\n      <th></th>\n      <th></th>\n      <th></th>\n      <th></th>\n      <th></th>\n      <th></th>\n      <th></th>\n      <th></th>\n      <th></th>\n    </tr>\n  </thead>\n  <tbody>\n    <tr>\n      <th>2012-04-09</th>\n      <td>1953071.0</td>\n      <td>2478.0</td>\n      <td>2417498.0</td>\n      <td>93400.0</td>\n      <td>34.901425</td>\n      <td>0.089792</td>\n      <td>-0.081938</td>\n      <td>0.008617</td>\n      <td>-0.001794</td>\n      <td>-0.007642</td>\n      <td>-0.003584</td>\n      <td>-0.003797</td>\n      <td>-0.005916</td>\n      <td>2012</td>\n      <td>4</td>\n      <td>0</td>\n    </tr>\n    <tr>\n      <th>2012-04-10</th>\n      <td>1953071.0</td>\n      <td>2478.0</td>\n      <td>2417498.0</td>\n      <td>93400.0</td>\n      <td>30.556017</td>\n      <td>0.090521</td>\n      <td>-0.086858</td>\n      <td>-0.036070</td>\n      <td>-0.011507</td>\n      <td>-0.009126</td>\n      <td>-0.006397</td>\n      <td>-0.004436</td>\n      <td>-0.006230</td>\n      <td>2012</td>\n      <td>4</td>\n      <td>1</td>\n    </tr>\n    <tr>\n      <th>2012-04-12</th>\n      <td>1953071.0</td>\n      <td>2478.0</td>\n      <td>2417498.0</td>\n      <td>93400.0</td>\n      <td>28.170441</td>\n      <td>0.090913</td>\n      <td>-0.093349</td>\n      <td>-0.023634</td>\n      <td>-0.019393</td>\n      <td>-0.010690</td>\n      <td>-0.006395</td>\n      <td>-0.005282</td>\n      <td>-0.006237</td>\n      <td>2012</td>\n      <td>4</td>\n      <td>3</td>\n    </tr>\n    <tr>\n      <th>2012-04-13</th>\n      <td>1953071.0</td>\n      <td>2503.0</td>\n      <td>2417498.0</td>\n      <td>93400.0</td>\n      <td>28.072097</td>\n      <td>0.087276</td>\n      <td>-0.097552</td>\n      <td>-0.001009</td>\n      <td>-0.015414</td>\n      <td>-0.010025</td>\n      <td>-0.007064</td>\n      <td>-0.005306</td>\n      <td>-0.005330</td>\n      <td>2012</td>\n      <td>4</td>\n      <td>4</td>\n    </tr>\n    <tr>\n      <th>2012-04-16</th>\n      <td>1953071.0</td>\n      <td>2503.0</td>\n      <td>2417498.0</td>\n      <td>93400.0</td>\n      <td>32.512260</td>\n      <td>0.084828</td>\n      <td>-0.097134</td>\n      <td>0.017668</td>\n      <td>-0.007089</td>\n      <td>-0.006368</td>\n      <td>-0.005926</td>\n      <td>-0.004447</td>\n      <td>-0.004609</td>\n      <td>2012</td>\n      <td>4</td>\n      <td>0</td>\n    </tr>\n    <tr>\n      <th>...</th>\n      <td>...</td>\n      <td>...</td>\n      <td>...</td>\n      <td>...</td>\n      <td>...</td>\n      <td>...</td>\n      <td>...</td>\n      <td>...</td>\n      <td>...</td>\n      <td>...</td>\n      <td>...</td>\n      <td>...</td>\n      <td>...</td>\n      <td>...</td>\n      <td>...</td>\n      <td>...</td>\n    </tr>\n    <tr>\n      <th>2021-07-26</th>\n      <td>2218011.0</td>\n      <td>2714.0</td>\n      <td>3396062.0</td>\n      <td>32500.0</td>\n      <td>79.676063</td>\n      <td>0.129331</td>\n      <td>0.175313</td>\n      <td>0.010345</td>\n      <td>0.016538</td>\n      <td>0.009039</td>\n      <td>0.008724</td>\n      <td>0.008183</td>\n      <td>0.006137</td>\n      <td>2021</td>\n      <td>7</td>\n      <td>0</td>\n    </tr>\n    <tr>\n      <th>2021-07-27</th>\n      <td>2218011.0</td>\n      <td>2714.0</td>\n      <td>3396062.0</td>\n      <td>32500.0</td>\n      <td>67.674236</td>\n      <td>0.132950</td>\n      <td>0.170944</td>\n      <td>-0.031936</td>\n      <td>0.004855</td>\n      <td>0.007202</td>\n      <td>0.006085</td>\n      <td>0.006827</td>\n      <td>0.005151</td>\n      <td>2021</td>\n      <td>7</td>\n      <td>1</td>\n    </tr>\n    <tr>\n      <th>2021-07-28</th>\n      <td>2218011.0</td>\n      <td>2714.0</td>\n      <td>3396062.0</td>\n      <td>32500.0</td>\n      <td>70.354143</td>\n      <td>0.137025</td>\n      <td>0.171060</td>\n      <td>0.018383</td>\n      <td>0.004258</td>\n      <td>0.010027</td>\n      <td>0.005647</td>\n      <td>0.007474</td>\n      <td>0.005155</td>\n      <td>2021</td>\n      <td>7</td>\n      <td>2</td>\n    </tr>\n    <tr>\n      <th>2021-07-29</th>\n      <td>2218011.0</td>\n      <td>2714.0</td>\n      <td>3396062.0</td>\n      <td>32500.0</td>\n      <td>70.888206</td>\n      <td>0.139381</td>\n      <td>0.170352</td>\n      <td>0.003709</td>\n      <td>0.002782</td>\n      <td>0.011680</td>\n      <td>0.005333</td>\n      <td>0.007336</td>\n      <td>0.005291</td>\n      <td>2021</td>\n      <td>7</td>\n      <td>3</td>\n    </tr>\n    <tr>\n      <th>2021-07-30</th>\n      <td>2218011.0</td>\n      <td>2727.0</td>\n      <td>3396062.0</td>\n      <td>32500.0</td>\n      <td>59.693397</td>\n      <td>0.143996</td>\n      <td>0.157004</td>\n      <td>-0.035723</td>\n      <td>-0.007298</td>\n      <td>0.006348</td>\n      <td>0.003331</td>\n      <td>0.005536</td>\n      <td>0.004601</td>\n      <td>2021</td>\n      <td>7</td>\n      <td>4</td>\n    </tr>\n  </tbody>\n</table>\n<p>2330 rows × 16 columns</p>\n</div>"
     },
     "execution_count": 50,
     "metadata": {},
     "output_type": "execute_result"
    }
   ],
   "source": [
    "X"
   ],
   "metadata": {
    "collapsed": false,
    "pycharm": {
     "name": "#%%\n"
    }
   }
  },
  {
   "cell_type": "code",
   "execution_count": 51,
   "outputs": [
    {
     "data": {
      "text/plain": "<sklearn.inspection._plot.partial_dependence.PartialDependenceDisplay at 0x7f7d1438b730>"
     },
     "execution_count": 51,
     "metadata": {},
     "output_type": "execute_result"
    },
    {
     "data": {
      "text/plain": "<Figure size 432x288 with 3 Axes>",
      "image/png": "[encoded data removed]"
     },
     "metadata": {
      "needs_background": "light"
     },
     "output_type": "display_data"
    }
   ],
   "source": [
    "PartialDependenceDisplay.from_estimator(model, X, [5, (5, 6)])"
   ],
   "metadata": {
    "collapsed": false,
    "pycharm": {
     "name": "#%%\n"
    }
   }
  }
 ],
 "metadata": {
  "kernelspec": {
   "display_name": "Python 3",
   "language": "python",
   "name": "python3"
  },
  "language_info": {
   "codemirror_mode": {
    "name": "ipython",
    "version": 2
   },
   "file_extension": ".py",
   "mimetype": "text/x-python",
   "name": "python",
   "nbconvert_exporter": "python",
   "pygments_lexer": "ipython2",
   "version": "2.7.6"
  }
 },
 "nbformat": 4,
 "nbformat_minor": 0
}