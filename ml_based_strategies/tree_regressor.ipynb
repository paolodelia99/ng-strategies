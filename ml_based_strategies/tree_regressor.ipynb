{
 "cells": [
  {
   "cell_type": "code",
   "execution_count": 1,
   "metadata": {
    "collapsed": true
   },
   "outputs": [],
   "source": [
    "import warnings\n",
    "\n",
    "warnings.filterwarnings('ignore')"
   ]
  },
  {
   "cell_type": "code",
   "execution_count": 2,
   "outputs": [],
   "source": [
    "import numpy as np\n",
    "import pandas as pd\n",
    "\n",
    "import matplotlib.pyplot as plt\n",
    "import seaborn as sns\n",
    "\n",
    "from sklearn.model_selection import BaseCrossValidator\n",
    "from sklearn.metrics import make_scorer, mean_squared_error\n",
    "from sklearn.ensemble import RandomForestRegressor\n",
    "from sklearn.tree import DecisionTreeRegressor\n",
    "from sklearn.model_selection import cross_val_score\n",
    "\n",
    "from scipy.stats import spearmanr"
   ],
   "metadata": {
    "collapsed": false,
    "pycharm": {
     "name": "#%%\n"
    }
   }
  },
  {
   "cell_type": "code",
   "execution_count": 3,
   "outputs": [],
   "source": [
    "dataset_path = '../data/model_data.h5'"
   ],
   "metadata": {
    "collapsed": false,
    "pycharm": {
     "name": "#%%\n"
    }
   }
  },
  {
   "cell_type": "markdown",
   "source": [
    "# Load Data"
   ],
   "metadata": {
    "collapsed": false,
    "pycharm": {
     "name": "#%% md\n"
    }
   }
  },
  {
   "cell_type": "code",
   "execution_count": 4,
   "outputs": [],
   "source": [
    "with pd.HDFStore(dataset_path) as store:\n",
    "    data = (store['model_data']\n",
    "            .drop(['Open', 'Close', 'Low', 'High'], axis=1))"
   ],
   "metadata": {
    "collapsed": false,
    "pycharm": {
     "name": "#%%\n"
    }
   }
  },
  {
   "cell_type": "code",
   "execution_count": 5,
   "outputs": [
    {
     "data": {
      "text/plain": "              Volume  Consumption in mcf  Storage in mcf  \\\nDate                                                       \n2012-04-09  108772.0           1953071.0          2478.0   \n2012-04-10  120126.0           1953071.0          2478.0   \n2012-04-12  188668.0           1953071.0          2478.0   \n2012-04-13  111947.0           1953071.0          2503.0   \n2012-04-16  115321.0           1953071.0          2503.0   \n...              ...                 ...             ...   \n2021-07-26   47082.0           2218011.0          2714.0   \n2021-07-27   40472.0           2218011.0          2714.0   \n2021-07-28    3877.0           2218011.0          2714.0   \n2021-07-29  113681.0           2218011.0          2714.0   \n2021-07-30  150564.0           2218011.0          2727.0   \n\n            US Gross Withdrawal in mcf  Other Gross Withdrawal in mcf  \\\nDate                                                                    \n2012-04-09                   2417498.0                        93400.0   \n2012-04-10                   2417498.0                        93400.0   \n2012-04-12                   2417498.0                        93400.0   \n2012-04-13                   2417498.0                        93400.0   \n2012-04-16                   2417498.0                        93400.0   \n...                                ...                            ...   \n2021-07-26                   3396062.0                        32500.0   \n2021-07-27                   3396062.0                        32500.0   \n2021-07-28                   3396062.0                        32500.0   \n2021-07-29                   3396062.0                        32500.0   \n2021-07-30                   3396062.0                        32500.0   \n\n                  RSI       ATR      MACD  return_1d  return_5d  ...  month_3  \\\nDate                                                             ...            \n2012-04-09  34.901425  0.089792 -0.081938   0.008617  -0.001794  ...        0   \n2012-04-10  30.556017  0.090521 -0.086858  -0.036070  -0.011507  ...        0   \n2012-04-12  28.170441  0.090913 -0.093349  -0.023634  -0.019393  ...        0   \n2012-04-13  28.072097  0.087276 -0.097552  -0.001009  -0.015414  ...        0   \n2012-04-16  32.512260  0.084828 -0.097134   0.017668  -0.007089  ...        0   \n...               ...       ...       ...        ...        ...  ...      ...   \n2021-07-26  79.676063  0.129331  0.175313   0.010345   0.016538  ...        0   \n2021-07-27  67.674236  0.132950  0.170944  -0.031936   0.004855  ...        0   \n2021-07-28  70.354143  0.137025  0.171060   0.018383   0.004258  ...        0   \n2021-07-29  70.888206  0.139381  0.170352   0.003709   0.002782  ...        0   \n2021-07-30  59.693397  0.143996  0.157004  -0.035723  -0.007298  ...        0   \n\n            month_4  month_5  month_6  month_7  month_8  month_9  month_10  \\\nDate                                                                         \n2012-04-09        1        0        0        0        0        0         0   \n2012-04-10        1        0        0        0        0        0         0   \n2012-04-12        1        0        0        0        0        0         0   \n2012-04-13        1        0        0        0        0        0         0   \n2012-04-16        1        0        0        0        0        0         0   \n...             ...      ...      ...      ...      ...      ...       ...   \n2021-07-26        0        0        0        1        0        0         0   \n2021-07-27        0        0        0        1        0        0         0   \n2021-07-28        0        0        0        1        0        0         0   \n2021-07-29        0        0        0        1        0        0         0   \n2021-07-30        0        0        0        1        0        0         0   \n\n            month_11  month_12  \nDate                            \n2012-04-09         0         0  \n2012-04-10         0         0  \n2012-04-12         0         0  \n2012-04-13         0         0  \n2012-04-16         0         0  \n...              ...       ...  \n2021-07-26         0         0  \n2021-07-27         0         0  \n2021-07-28         0         0  \n2021-07-29         0         0  \n2021-07-30         0         0  \n\n[2330 rows x 40 columns]",
      "text/html": "<div>\n<style scoped>\n    .dataframe tbody tr th:only-of-type {\n        vertical-align: middle;\n    }\n\n    .dataframe tbody tr th {\n        vertical-align: top;\n    }\n\n    .dataframe thead th {\n        text-align: right;\n    }\n</style>\n<table border=\"1\" class=\"dataframe\">\n  <thead>\n    <tr style=\"text-align: right;\">\n      <th></th>\n      <th>Volume</th>\n      <th>Consumption in mcf</th>\n      <th>Storage in mcf</th>\n      <th>US Gross Withdrawal in mcf</th>\n      <th>Other Gross Withdrawal in mcf</th>\n      <th>RSI</th>\n      <th>ATR</th>\n      <th>MACD</th>\n      <th>return_1d</th>\n      <th>return_5d</th>\n      <th>...</th>\n      <th>month_3</th>\n      <th>month_4</th>\n      <th>month_5</th>\n      <th>month_6</th>\n      <th>month_7</th>\n      <th>month_8</th>\n      <th>month_9</th>\n      <th>month_10</th>\n      <th>month_11</th>\n      <th>month_12</th>\n    </tr>\n    <tr>\n      <th>Date</th>\n      <th></th>\n      <th></th>\n      <th></th>\n      <th></th>\n      <th></th>\n      <th></th>\n      <th></th>\n      <th></th>\n      <th></th>\n      <th></th>\n      <th></th>\n      <th></th>\n      <th></th>\n      <th></th>\n      <th></th>\n      <th></th>\n      <th></th>\n      <th></th>\n      <th></th>\n      <th></th>\n      <th></th>\n    </tr>\n  </thead>\n  <tbody>\n    <tr>\n      <th>2012-04-09</th>\n      <td>108772.0</td>\n      <td>1953071.0</td>\n      <td>2478.0</td>\n      <td>2417498.0</td>\n      <td>93400.0</td>\n      <td>34.901425</td>\n      <td>0.089792</td>\n      <td>-0.081938</td>\n      <td>0.008617</td>\n      <td>-0.001794</td>\n      <td>...</td>\n      <td>0</td>\n      <td>1</td>\n      <td>0</td>\n      <td>0</td>\n      <td>0</td>\n      <td>0</td>\n      <td>0</td>\n      <td>0</td>\n      <td>0</td>\n      <td>0</td>\n    </tr>\n    <tr>\n      <th>2012-04-10</th>\n      <td>120126.0</td>\n      <td>1953071.0</td>\n      <td>2478.0</td>\n      <td>2417498.0</td>\n      <td>93400.0</td>\n      <td>30.556017</td>\n      <td>0.090521</td>\n      <td>-0.086858</td>\n      <td>-0.036070</td>\n      <td>-0.011507</td>\n      <td>...</td>\n      <td>0</td>\n      <td>1</td>\n      <td>0</td>\n      <td>0</td>\n      <td>0</td>\n      <td>0</td>\n      <td>0</td>\n      <td>0</td>\n      <td>0</td>\n      <td>0</td>\n    </tr>\n    <tr>\n      <th>2012-04-12</th>\n      <td>188668.0</td>\n      <td>1953071.0</td>\n      <td>2478.0</td>\n      <td>2417498.0</td>\n      <td>93400.0</td>\n      <td>28.170441</td>\n      <td>0.090913</td>\n      <td>-0.093349</td>\n      <td>-0.023634</td>\n      <td>-0.019393</td>\n      <td>...</td>\n      <td>0</td>\n      <td>1</td>\n      <td>0</td>\n      <td>0</td>\n      <td>0</td>\n      <td>0</td>\n      <td>0</td>\n      <td>0</td>\n      <td>0</td>\n      <td>0</td>\n    </tr>\n    <tr>\n      <th>2012-04-13</th>\n      <td>111947.0</td>\n      <td>1953071.0</td>\n      <td>2503.0</td>\n      <td>2417498.0</td>\n      <td>93400.0</td>\n      <td>28.072097</td>\n      <td>0.087276</td>\n      <td>-0.097552</td>\n      <td>-0.001009</td>\n      <td>-0.015414</td>\n      <td>...</td>\n      <td>0</td>\n      <td>1</td>\n      <td>0</td>\n      <td>0</td>\n      <td>0</td>\n      <td>0</td>\n      <td>0</td>\n      <td>0</td>\n      <td>0</td>\n      <td>0</td>\n    </tr>\n    <tr>\n      <th>2012-04-16</th>\n      <td>115321.0</td>\n      <td>1953071.0</td>\n      <td>2503.0</td>\n      <td>2417498.0</td>\n      <td>93400.0</td>\n      <td>32.512260</td>\n      <td>0.084828</td>\n      <td>-0.097134</td>\n      <td>0.017668</td>\n      <td>-0.007089</td>\n      <td>...</td>\n      <td>0</td>\n      <td>1</td>\n      <td>0</td>\n      <td>0</td>\n      <td>0</td>\n      <td>0</td>\n      <td>0</td>\n      <td>0</td>\n      <td>0</td>\n      <td>0</td>\n    </tr>\n    <tr>\n      <th>...</th>\n      <td>...</td>\n      <td>...</td>\n      <td>...</td>\n      <td>...</td>\n      <td>...</td>\n      <td>...</td>\n      <td>...</td>\n      <td>...</td>\n      <td>...</td>\n      <td>...</td>\n      <td>...</td>\n      <td>...</td>\n      <td>...</td>\n      <td>...</td>\n      <td>...</td>\n      <td>...</td>\n      <td>...</td>\n      <td>...</td>\n      <td>...</td>\n      <td>...</td>\n      <td>...</td>\n    </tr>\n    <tr>\n      <th>2021-07-26</th>\n      <td>47082.0</td>\n      <td>2218011.0</td>\n      <td>2714.0</td>\n      <td>3396062.0</td>\n      <td>32500.0</td>\n      <td>79.676063</td>\n      <td>0.129331</td>\n      <td>0.175313</td>\n      <td>0.010345</td>\n      <td>0.016538</td>\n      <td>...</td>\n      <td>0</td>\n      <td>0</td>\n      <td>0</td>\n      <td>0</td>\n      <td>1</td>\n      <td>0</td>\n      <td>0</td>\n      <td>0</td>\n      <td>0</td>\n      <td>0</td>\n    </tr>\n    <tr>\n      <th>2021-07-27</th>\n      <td>40472.0</td>\n      <td>2218011.0</td>\n      <td>2714.0</td>\n      <td>3396062.0</td>\n      <td>32500.0</td>\n      <td>67.674236</td>\n      <td>0.132950</td>\n      <td>0.170944</td>\n      <td>-0.031936</td>\n      <td>0.004855</td>\n      <td>...</td>\n      <td>0</td>\n      <td>0</td>\n      <td>0</td>\n      <td>0</td>\n      <td>1</td>\n      <td>0</td>\n      <td>0</td>\n      <td>0</td>\n      <td>0</td>\n      <td>0</td>\n    </tr>\n    <tr>\n      <th>2021-07-28</th>\n      <td>3877.0</td>\n      <td>2218011.0</td>\n      <td>2714.0</td>\n      <td>3396062.0</td>\n      <td>32500.0</td>\n      <td>70.354143</td>\n      <td>0.137025</td>\n      <td>0.171060</td>\n      <td>0.018383</td>\n      <td>0.004258</td>\n      <td>...</td>\n      <td>0</td>\n      <td>0</td>\n      <td>0</td>\n      <td>0</td>\n      <td>1</td>\n      <td>0</td>\n      <td>0</td>\n      <td>0</td>\n      <td>0</td>\n      <td>0</td>\n    </tr>\n    <tr>\n      <th>2021-07-29</th>\n      <td>113681.0</td>\n      <td>2218011.0</td>\n      <td>2714.0</td>\n      <td>3396062.0</td>\n      <td>32500.0</td>\n      <td>70.888206</td>\n      <td>0.139381</td>\n      <td>0.170352</td>\n      <td>0.003709</td>\n      <td>0.002782</td>\n      <td>...</td>\n      <td>0</td>\n      <td>0</td>\n      <td>0</td>\n      <td>0</td>\n      <td>1</td>\n      <td>0</td>\n      <td>0</td>\n      <td>0</td>\n      <td>0</td>\n      <td>0</td>\n    </tr>\n    <tr>\n      <th>2021-07-30</th>\n      <td>150564.0</td>\n      <td>2218011.0</td>\n      <td>2727.0</td>\n      <td>3396062.0</td>\n      <td>32500.0</td>\n      <td>59.693397</td>\n      <td>0.143996</td>\n      <td>0.157004</td>\n      <td>-0.035723</td>\n      <td>-0.007298</td>\n      <td>...</td>\n      <td>0</td>\n      <td>0</td>\n      <td>0</td>\n      <td>0</td>\n      <td>1</td>\n      <td>0</td>\n      <td>0</td>\n      <td>0</td>\n      <td>0</td>\n      <td>0</td>\n    </tr>\n  </tbody>\n</table>\n<p>2330 rows × 40 columns</p>\n</div>"
     },
     "execution_count": 5,
     "metadata": {},
     "output_type": "execute_result"
    }
   ],
   "source": [
    "data = data.drop([c for c in data.columns if 'lag' in c], axis=1)\n",
    "data"
   ],
   "metadata": {
    "collapsed": false,
    "pycharm": {
     "name": "#%%\n"
    }
   }
  },
  {
   "cell_type": "code",
   "execution_count": 6,
   "outputs": [
    {
     "name": "stdout",
     "output_type": "stream",
     "text": [
      "<class 'pandas.core.frame.DataFrame'>\n",
      "DatetimeIndex: 2330 entries, 2012-04-09 to 2021-07-30\n",
      "Data columns (total 40 columns):\n",
      " #   Column                         Non-Null Count  Dtype  \n",
      "---  ------                         --------------  -----  \n",
      " 0   Volume                         2330 non-null   float64\n",
      " 1   Consumption in mcf             2330 non-null   float64\n",
      " 2   Storage in mcf                 2330 non-null   float64\n",
      " 3   US Gross Withdrawal in mcf     2330 non-null   float64\n",
      " 4   Other Gross Withdrawal in mcf  2330 non-null   float64\n",
      " 5   RSI                            2330 non-null   float64\n",
      " 6   ATR                            2330 non-null   float64\n",
      " 7   MACD                           2330 non-null   float64\n",
      " 8   return_1d                      2330 non-null   float64\n",
      " 9   return_5d                      2330 non-null   float64\n",
      " 10  return_10d                     2330 non-null   float64\n",
      " 11  return_21d                     2330 non-null   float64\n",
      " 12  return_42d                     2330 non-null   float64\n",
      " 13  return_63d                     2330 non-null   float64\n",
      " 14  target_1d                      2330 non-null   float64\n",
      " 15  target_5d                      2330 non-null   float64\n",
      " 16  target_10d                     2330 non-null   float64\n",
      " 17  target_21d                     2330 non-null   float64\n",
      " 18  year_2012                      2330 non-null   uint8  \n",
      " 19  year_2013                      2330 non-null   uint8  \n",
      " 20  year_2014                      2330 non-null   uint8  \n",
      " 21  year_2015                      2330 non-null   uint8  \n",
      " 22  year_2016                      2330 non-null   uint8  \n",
      " 23  year_2017                      2330 non-null   uint8  \n",
      " 24  year_2018                      2330 non-null   uint8  \n",
      " 25  year_2019                      2330 non-null   uint8  \n",
      " 26  year_2020                      2330 non-null   uint8  \n",
      " 27  year_2021                      2330 non-null   uint8  \n",
      " 28  month_1                        2330 non-null   uint8  \n",
      " 29  month_2                        2330 non-null   uint8  \n",
      " 30  month_3                        2330 non-null   uint8  \n",
      " 31  month_4                        2330 non-null   uint8  \n",
      " 32  month_5                        2330 non-null   uint8  \n",
      " 33  month_6                        2330 non-null   uint8  \n",
      " 34  month_7                        2330 non-null   uint8  \n",
      " 35  month_8                        2330 non-null   uint8  \n",
      " 36  month_9                        2330 non-null   uint8  \n",
      " 37  month_10                       2330 non-null   uint8  \n",
      " 38  month_11                       2330 non-null   uint8  \n",
      " 39  month_12                       2330 non-null   uint8  \n",
      "dtypes: float64(18), uint8(22)\n",
      "memory usage: 395.9 KB\n"
     ]
    }
   ],
   "source": [
    "data.info()"
   ],
   "metadata": {
    "collapsed": false,
    "pycharm": {
     "name": "#%%\n"
    }
   }
  },
  {
   "cell_type": "code",
   "execution_count": 7,
   "outputs": [],
   "source": [
    "y = data.filter(like='target')\n",
    "X = data.drop(y.columns, axis=1)\n",
    "X = X.drop(['Volume'], axis=1)"
   ],
   "metadata": {
    "collapsed": false,
    "pycharm": {
     "name": "#%%\n"
    }
   }
  },
  {
   "cell_type": "code",
   "execution_count": 8,
   "outputs": [],
   "source": [
    "\n",
    "class MultipleTimeSeriesCV(BaseCrossValidator):\n",
    "    \"\"\"Generates tuples of train_idx, test_idx pairs\"\"\"\n",
    "\n",
    "    def __init__(self,\n",
    "                 n_splits=3,\n",
    "                 train_period_length=126,\n",
    "                 test_period_length=21,\n",
    "                 lookahead=None,\n",
    "                 shuffle=False):\n",
    "        self.n_splits = n_splits\n",
    "        self.lookahead = lookahead\n",
    "        self.test_length = test_period_length\n",
    "        self.train_length = train_period_length\n",
    "        self.shuffle = shuffle\n",
    "\n",
    "    def split(self, X, y=None, groups=None):\n",
    "        unique_dates = X.index.get_level_values('Date').unique()\n",
    "        days = sorted(unique_dates, reverse=True)\n",
    "\n",
    "        split_idx = []\n",
    "        for i in range(self.n_splits):\n",
    "            test_end_idx = i * self.test_length\n",
    "            test_start_idx = test_end_idx + self.test_length\n",
    "            train_end_idx = test_start_idx + self.lookahead - 1\n",
    "            train_start_idx = train_end_idx + self.train_length + self.lookahead - 1\n",
    "            split_idx.append([train_start_idx, train_end_idx,\n",
    "                              test_start_idx, test_end_idx])\n",
    "\n",
    "        dates = X.reset_index()[['Date']]\n",
    "        for train_start, train_end, test_start, test_end in split_idx:\n",
    "            train_idx = dates[(dates.Date > days[train_start])\n",
    "                              & (dates.Date <= days[train_end])].index\n",
    "            test_idx = dates[(dates.Date > days[test_start])\n",
    "                             & (dates.Date <= days[test_end])].index\n",
    "            if self.shuffle:\n",
    "                np.random.shuffle(list(train_idx))\n",
    "            yield train_idx, test_idx\n",
    "\n",
    "    def get_n_splits(self, X=None, y=None, groups=None):\n",
    "        return self.n_splits"
   ],
   "metadata": {
    "collapsed": false,
    "pycharm": {
     "name": "#%%\n"
    }
   }
  },
  {
   "cell_type": "code",
   "execution_count": 9,
   "outputs": [],
   "source": [
    "n_splits = 20\n",
    "train_period_length = 300\n",
    "test_period_length = 100\n",
    "lookahead = 5\n",
    "\n",
    "cv = MultipleTimeSeriesCV(n_splits=n_splits,\n",
    "                          train_period_length=train_period_length,\n",
    "                          test_period_length=test_period_length,\n",
    "                          lookahead=lookahead)"
   ],
   "metadata": {
    "collapsed": false,
    "pycharm": {
     "name": "#%%\n"
    }
   }
  },
  {
   "cell_type": "code",
   "execution_count": 10,
   "outputs": [],
   "source": [
    "# Utilities functions\n",
    "\n",
    "def display_score(scores):\n",
    "    print('scores: ',scores)\n",
    "    print('mean: ', scores.mean())\n",
    "    print('standard deviation: ', scores.std())\n",
    "\n",
    "\n",
    "def rank_correl(y, y_pred):\n",
    "    return spearmanr(y, y_pred, axis=None)[0]\n",
    "\n",
    "ic = make_scorer(rank_correl)\n",
    "\n",
    "\n",
    "def get_cross_val_score(model, X, y, score_fun, cv):\n",
    "    cv_score = cross_val_score(estimator=model,\n",
    "                           X=X,\n",
    "                           y=y,\n",
    "                           scoring=score_fun,\n",
    "                           cv=cv,\n",
    "                           n_jobs=-1,\n",
    "                           verbose=1)\n",
    "    display_score(cv_score)"
   ],
   "metadata": {
    "collapsed": false,
    "pycharm": {
     "name": "#%%\n"
    }
   }
  },
  {
   "cell_type": "markdown",
   "source": [
    "# Decision Tree Regressor"
   ],
   "metadata": {
    "collapsed": false,
    "pycharm": {
     "name": "#%% md\n"
    }
   }
  },
  {
   "cell_type": "code",
   "execution_count": 11,
   "outputs": [],
   "source": [
    "dt_reg = DecisionTreeRegressor(max_depth=None,\n",
    "                               min_samples_split=2,\n",
    "                               min_samples_leaf=1,\n",
    "                               max_features='auto')\n"
   ],
   "metadata": {
    "collapsed": false,
    "pycharm": {
     "name": "#%%\n"
    }
   }
  },
  {
   "cell_type": "code",
   "execution_count": 12,
   "outputs": [
    {
     "name": "stderr",
     "output_type": "stream",
     "text": [
      "[Parallel(n_jobs=-1)]: Using backend LokyBackend with 3 concurrent workers.\n"
     ]
    },
    {
     "name": "stdout",
     "output_type": "stream",
     "text": [
      "scores:  [ 0.01329095  0.12477587  0.2137844   0.18141166 -0.13071338  0.0379064\n",
      "  0.16386958 -0.09528192  0.17224216  0.08703313  0.03817422  0.20064852\n",
      "  0.01276272  0.0691651   0.01216503  0.04083768 -0.00575801  0.12423133\n",
      "  0.05150286 -0.12109944]\n",
      "mean:  0.05954744340205091\n",
      "standard deviation:  0.09909648335620777\n"
     ]
    },
    {
     "name": "stderr",
     "output_type": "stream",
     "text": [
      "[Parallel(n_jobs=-1)]: Done  20 out of  20 | elapsed:    1.6s finished\n"
     ]
    }
   ],
   "source": [
    "get_cross_val_score(dt_reg, X, y, ic, cv)"
   ],
   "metadata": {
    "collapsed": false,
    "pycharm": {
     "name": "#%%\n"
    }
   }
  },
  {
   "cell_type": "markdown",
   "source": [
    "# Random Forest Regressor"
   ],
   "metadata": {
    "collapsed": false,
    "pycharm": {
     "name": "#%% md\n"
    }
   }
  },
  {
   "cell_type": "code",
   "execution_count": 13,
   "outputs": [],
   "source": [
    "rf_reg = RandomForestRegressor(n_estimators=100,\n",
    "                                max_depth=None,\n",
    "                                min_samples_split=2,\n",
    "                                min_samples_leaf=1,\n",
    "                                min_weight_fraction_leaf=0.0,\n",
    "                                max_features='auto',\n",
    "                                max_leaf_nodes=None,\n",
    "                                min_impurity_decrease=0.0,\n",
    "                                min_impurity_split=None,\n",
    "                                bootstrap=True,\n",
    "                                oob_score=False,\n",
    "                                n_jobs=-1,\n",
    "                                random_state=None,\n",
    "                                verbose=0,\n",
    "                                warm_start=False)"
   ],
   "metadata": {
    "collapsed": false,
    "pycharm": {
     "name": "#%%\n"
    }
   }
  },
  {
   "cell_type": "code",
   "execution_count": 14,
   "outputs": [
    {
     "name": "stderr",
     "output_type": "stream",
     "text": [
      "[Parallel(n_jobs=-1)]: Using backend LokyBackend with 3 concurrent workers.\n"
     ]
    },
    {
     "name": "stdout",
     "output_type": "stream",
     "text": [
      "scores:  [ 0.13429678  0.11285658  0.19380196  0.109211   -0.12217483  0.31564849\n",
      "  0.29530436 -0.05807699  0.13123657  0.16527891  0.11920887  0.14896687\n",
      "  0.0683365   0.12769027 -0.0161251   0.13850808  0.0574783   0.1315662\n",
      "  0.13594397 -0.00191814]\n",
      "mean:  0.10935193210987773\n",
      "standard deviation:  0.10166093617620925\n"
     ]
    },
    {
     "name": "stderr",
     "output_type": "stream",
     "text": [
      "[Parallel(n_jobs=-1)]: Done  20 out of  20 | elapsed:    4.0s finished\n"
     ]
    }
   ],
   "source": [
    "get_cross_val_score(rf_reg, X, y, ic, cv)\n"
   ],
   "metadata": {
    "collapsed": false,
    "pycharm": {
     "name": "#%%\n"
    }
   }
  }
 ],
 "metadata": {
  "kernelspec": {
   "display_name": "Python 3",
   "language": "python",
   "name": "python3"
  },
  "language_info": {
   "codemirror_mode": {
    "name": "ipython",
    "version": 2
   },
   "file_extension": ".py",
   "mimetype": "text/x-python",
   "name": "python",
   "nbconvert_exporter": "python",
   "pygments_lexer": "ipython2",
   "version": "2.7.6"
  }
 },
 "nbformat": 4,
 "nbformat_minor": 0
}