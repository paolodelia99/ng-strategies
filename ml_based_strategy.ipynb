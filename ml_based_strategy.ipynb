{
 "cells": [
  {
   "cell_type": "code",
   "execution_count": 1,
   "metadata": {
    "collapsed": true
   },
   "outputs": [],
   "source": [
    "import numpy as np\n",
    "import pandas as pd"
   ]
  },
  {
   "cell_type": "code",
   "execution_count": 2,
   "outputs": [],
   "source": [
    "price_data_path = './data/HistoricalData_NG.csv'\n",
    "consumption_path = './data/U.S._Natural_Gas_Total_Consumption_Monthly.csv'\n",
    "undergound_st_path = './data/Weekly_Lower_48_States_Natural_Gas_Working_Underground_Storage_Weekly.csv'\n",
    "us_gross_width_path = './data/U.S._Natural_Gas_Gross_Withdrawals_Monthly.csv'\n",
    "o_gross_width_path = './data/Other_States_Natural_Gas_Gross_Withdrawals_Monthly.csv'"
   ],
   "metadata": {
    "collapsed": false,
    "pycharm": {
     "name": "#%%\n"
    }
   }
  },
  {
   "cell_type": "code",
   "execution_count": 3,
   "outputs": [],
   "source": [
    "price_data = pd.read_csv(price_data_path, sep=',', index_col=0, parse_dates=True)\n",
    "cons_data = pd.read_csv(consumption_path, sep=',', index_col=0, parse_dates=True)\n",
    "undergound_st = pd.read_csv(undergound_st_path, sep=',', index_col=0, parse_dates=True)\n",
    "us_gross_width = pd.read_csv(us_gross_width_path, sep=',', index_col=0, parse_dates=True)\n",
    "o_gross_width = pd.read_csv(o_gross_width_path, sep=',', index_col=0, parse_dates=True)"
   ],
   "metadata": {
    "collapsed": false,
    "pycharm": {
     "name": "#%%\n"
    }
   }
  },
  {
   "cell_type": "code",
   "execution_count": 4,
   "outputs": [],
   "source": [
    "price_data = price_data.dropna()\n",
    "\n",
    "price_data = price_data.set_index(pd.to_datetime(price_data.index))\n",
    "price_data.sort_values(by='Date', inplace=True)\n",
    "\n",
    "cons_data.rename(columns={'Series ID: NG.N9140US2.M Million Cubic Feet':'Consumption in mcf'}, inplace=True)\n",
    "cons_data.index.rename('Date', inplace=True)\n",
    "cons_data.sort_values(by='Date', inplace=True)\n",
    "\n",
    "undergound_st = undergound_st.set_index(pd.to_datetime(undergound_st.index))\n",
    "undergound_st.rename(columns={'Series ID: NG.NW2_EPG0_SWO_R48_BCF.W Billion Cubic Feet':'Storage in mcf'}, inplace=True)\n",
    "undergound_st.index.rename('Date', inplace=True)\n",
    "undergound_st.sort_values(by='Date', inplace=True)\n",
    "\n",
    "us_gross_width.rename(columns={'Series ID: NG.N9010US2.M Million Cubic Feet':'US Gross Withdrawal in mcf'}, inplace=True)\n",
    "us_gross_width.index.rename('Date', inplace=True)\n",
    "us_gross_width.sort_values(by='Date', inplace=True)\n",
    "\n",
    "o_gross_width.rename(columns={'Series ID: NG.N9010982.M Million Cubic Feet':'Other Gross Withdrawal in mcf'}, inplace=True)\n",
    "o_gross_width.index.rename('Date', inplace=True)\n",
    "o_gross_width.sort_values(by='Date', inplace=True)"
   ],
   "metadata": {
    "collapsed": false,
    "pycharm": {
     "name": "#%%\n"
    }
   }
  },
  {
   "cell_type": "code",
   "execution_count": 5,
   "outputs": [
    {
     "data": {
      "text/plain": "            Storage in mcf\nDate                      \n2010-01-01            3117\n2010-01-08            2850\n2010-01-15            2607\n2010-01-22            2521\n2010-01-29            2406\n...                    ...\n2021-07-23            2714\n2021-07-30            2727\n2021-08-06            2776\n2021-08-13            2822\n2021-08-20            2851\n\n[608 rows x 1 columns]",
      "text/html": "<div>\n<style scoped>\n    .dataframe tbody tr th:only-of-type {\n        vertical-align: middle;\n    }\n\n    .dataframe tbody tr th {\n        vertical-align: top;\n    }\n\n    .dataframe thead th {\n        text-align: right;\n    }\n</style>\n<table border=\"1\" class=\"dataframe\">\n  <thead>\n    <tr style=\"text-align: right;\">\n      <th></th>\n      <th>Storage in mcf</th>\n    </tr>\n    <tr>\n      <th>Date</th>\n      <th></th>\n    </tr>\n  </thead>\n  <tbody>\n    <tr>\n      <th>2010-01-01</th>\n      <td>3117</td>\n    </tr>\n    <tr>\n      <th>2010-01-08</th>\n      <td>2850</td>\n    </tr>\n    <tr>\n      <th>2010-01-15</th>\n      <td>2607</td>\n    </tr>\n    <tr>\n      <th>2010-01-22</th>\n      <td>2521</td>\n    </tr>\n    <tr>\n      <th>2010-01-29</th>\n      <td>2406</td>\n    </tr>\n    <tr>\n      <th>...</th>\n      <td>...</td>\n    </tr>\n    <tr>\n      <th>2021-07-23</th>\n      <td>2714</td>\n    </tr>\n    <tr>\n      <th>2021-07-30</th>\n      <td>2727</td>\n    </tr>\n    <tr>\n      <th>2021-08-06</th>\n      <td>2776</td>\n    </tr>\n    <tr>\n      <th>2021-08-13</th>\n      <td>2822</td>\n    </tr>\n    <tr>\n      <th>2021-08-20</th>\n      <td>2851</td>\n    </tr>\n  </tbody>\n</table>\n<p>608 rows × 1 columns</p>\n</div>"
     },
     "execution_count": 5,
     "metadata": {},
     "output_type": "execute_result"
    }
   ],
   "source": [
    "undergound_st"
   ],
   "metadata": {
    "collapsed": false,
    "pycharm": {
     "name": "#%%\n"
    }
   }
  },
  {
   "cell_type": "code",
   "execution_count": 6,
   "outputs": [],
   "source": [
    "res = pd.concat([price_data, cons_data, undergound_st, us_gross_width, o_gross_width], axis=1)"
   ],
   "metadata": {
    "collapsed": false,
    "pycharm": {
     "name": "#%%\n"
    }
   }
  },
  {
   "cell_type": "code",
   "execution_count": 7,
   "outputs": [],
   "source": [
    "useful_columns = list(set(res.columns) - {'Close', 'High', 'Low', 'Volume', 'Open'})\n",
    "\n",
    "for col in useful_columns:\n",
    "    res[col] = res[col].ffill()"
   ],
   "metadata": {
    "collapsed": false,
    "pycharm": {
     "name": "#%%\n"
    }
   }
  },
  {
   "cell_type": "code",
   "execution_count": 8,
   "outputs": [
    {
     "data": {
      "text/plain": "            Close    Volume   Open   High    Low  Consumption in mcf  \\\nDate                                                                   \n2021-05-28  2.986  105311.0  2.963  3.042  2.955           2100668.0   \n2021-06-01  3.104  182279.0  3.103  3.126  3.093           2218011.0   \n2021-06-02  3.075  107268.0  3.093  3.126  3.050           2218011.0   \n2021-06-03  3.041   92205.0  3.073  3.090  3.032           2218011.0   \n2021-06-04  3.097  112977.0  3.063  3.121  3.010           2218011.0   \n2021-06-07  3.070  114216.0  3.109  3.115  3.033           2218011.0   \n2021-06-08  3.128  185863.0  3.092  3.198  3.092           2218011.0   \n2021-06-09  3.129  108045.0  3.128  3.168  3.106           2218011.0   \n2021-06-10  3.149  130146.0  3.154  3.200  3.131           2218011.0   \n2021-06-11  3.296  168842.0  3.153  3.330  3.149           2218011.0   \n2021-06-14  3.352  102006.0  3.315  3.364  3.273           2218011.0   \n2021-06-15  3.240  141168.0  3.351  3.369  3.213           2218011.0   \n2021-06-16  3.251  102528.0  3.222  3.274  3.187           2218011.0   \n2021-06-17  3.253  138697.0  3.244  3.264  3.187           2218011.0   \n2021-06-18  3.215  101762.0  3.218  3.258  3.166           2218011.0   \n2021-06-21  3.191   91489.0  3.206  3.214  3.137           2218011.0   \n2021-06-22  3.258   71038.0  3.198  3.281  3.188           2218011.0   \n2021-06-23  3.333   70154.0  3.257  3.383  3.250           2218011.0   \n2021-06-24  3.418   47829.0  3.316  3.442  3.301           2218011.0   \n2021-06-25  3.496   32794.0  3.425  3.511  3.415           2218011.0   \n\n            Storage in mcf  US Gross Withdrawal in mcf  \\\nDate                                                     \n2021-05-28          2313.0                   3521964.0   \n2021-06-01          2313.0                   3396062.0   \n2021-06-02          2313.0                   3396062.0   \n2021-06-03          2313.0                   3396062.0   \n2021-06-04          2411.0                   3396062.0   \n2021-06-07          2411.0                   3396062.0   \n2021-06-08          2411.0                   3396062.0   \n2021-06-09          2411.0                   3396062.0   \n2021-06-10          2411.0                   3396062.0   \n2021-06-11          2427.0                   3396062.0   \n2021-06-14          2427.0                   3396062.0   \n2021-06-15          2427.0                   3396062.0   \n2021-06-16          2427.0                   3396062.0   \n2021-06-17          2427.0                   3396062.0   \n2021-06-18          2482.0                   3396062.0   \n2021-06-21          2482.0                   3396062.0   \n2021-06-22          2482.0                   3396062.0   \n2021-06-23          2482.0                   3396062.0   \n2021-06-24          2482.0                   3396062.0   \n2021-06-25          2558.0                   3396062.0   \n\n            Other Gross Withdrawal in mcf  \nDate                                       \n2021-05-28                        33849.0  \n2021-06-01                        32500.0  \n2021-06-02                        32500.0  \n2021-06-03                        32500.0  \n2021-06-04                        32500.0  \n2021-06-07                        32500.0  \n2021-06-08                        32500.0  \n2021-06-09                        32500.0  \n2021-06-10                        32500.0  \n2021-06-11                        32500.0  \n2021-06-14                        32500.0  \n2021-06-15                        32500.0  \n2021-06-16                        32500.0  \n2021-06-17                        32500.0  \n2021-06-18                        32500.0  \n2021-06-21                        32500.0  \n2021-06-22                        32500.0  \n2021-06-23                        32500.0  \n2021-06-24                        32500.0  \n2021-06-25                        32500.0  ",
      "text/html": "<div>\n<style scoped>\n    .dataframe tbody tr th:only-of-type {\n        vertical-align: middle;\n    }\n\n    .dataframe tbody tr th {\n        vertical-align: top;\n    }\n\n    .dataframe thead th {\n        text-align: right;\n    }\n</style>\n<table border=\"1\" class=\"dataframe\">\n  <thead>\n    <tr style=\"text-align: right;\">\n      <th></th>\n      <th>Close</th>\n      <th>Volume</th>\n      <th>Open</th>\n      <th>High</th>\n      <th>Low</th>\n      <th>Consumption in mcf</th>\n      <th>Storage in mcf</th>\n      <th>US Gross Withdrawal in mcf</th>\n      <th>Other Gross Withdrawal in mcf</th>\n    </tr>\n    <tr>\n      <th>Date</th>\n      <th></th>\n      <th></th>\n      <th></th>\n      <th></th>\n      <th></th>\n      <th></th>\n      <th></th>\n      <th></th>\n      <th></th>\n    </tr>\n  </thead>\n  <tbody>\n    <tr>\n      <th>2021-05-28</th>\n      <td>2.986</td>\n      <td>105311.0</td>\n      <td>2.963</td>\n      <td>3.042</td>\n      <td>2.955</td>\n      <td>2100668.0</td>\n      <td>2313.0</td>\n      <td>3521964.0</td>\n      <td>33849.0</td>\n    </tr>\n    <tr>\n      <th>2021-06-01</th>\n      <td>3.104</td>\n      <td>182279.0</td>\n      <td>3.103</td>\n      <td>3.126</td>\n      <td>3.093</td>\n      <td>2218011.0</td>\n      <td>2313.0</td>\n      <td>3396062.0</td>\n      <td>32500.0</td>\n    </tr>\n    <tr>\n      <th>2021-06-02</th>\n      <td>3.075</td>\n      <td>107268.0</td>\n      <td>3.093</td>\n      <td>3.126</td>\n      <td>3.050</td>\n      <td>2218011.0</td>\n      <td>2313.0</td>\n      <td>3396062.0</td>\n      <td>32500.0</td>\n    </tr>\n    <tr>\n      <th>2021-06-03</th>\n      <td>3.041</td>\n      <td>92205.0</td>\n      <td>3.073</td>\n      <td>3.090</td>\n      <td>3.032</td>\n      <td>2218011.0</td>\n      <td>2313.0</td>\n      <td>3396062.0</td>\n      <td>32500.0</td>\n    </tr>\n    <tr>\n      <th>2021-06-04</th>\n      <td>3.097</td>\n      <td>112977.0</td>\n      <td>3.063</td>\n      <td>3.121</td>\n      <td>3.010</td>\n      <td>2218011.0</td>\n      <td>2411.0</td>\n      <td>3396062.0</td>\n      <td>32500.0</td>\n    </tr>\n    <tr>\n      <th>2021-06-07</th>\n      <td>3.070</td>\n      <td>114216.0</td>\n      <td>3.109</td>\n      <td>3.115</td>\n      <td>3.033</td>\n      <td>2218011.0</td>\n      <td>2411.0</td>\n      <td>3396062.0</td>\n      <td>32500.0</td>\n    </tr>\n    <tr>\n      <th>2021-06-08</th>\n      <td>3.128</td>\n      <td>185863.0</td>\n      <td>3.092</td>\n      <td>3.198</td>\n      <td>3.092</td>\n      <td>2218011.0</td>\n      <td>2411.0</td>\n      <td>3396062.0</td>\n      <td>32500.0</td>\n    </tr>\n    <tr>\n      <th>2021-06-09</th>\n      <td>3.129</td>\n      <td>108045.0</td>\n      <td>3.128</td>\n      <td>3.168</td>\n      <td>3.106</td>\n      <td>2218011.0</td>\n      <td>2411.0</td>\n      <td>3396062.0</td>\n      <td>32500.0</td>\n    </tr>\n    <tr>\n      <th>2021-06-10</th>\n      <td>3.149</td>\n      <td>130146.0</td>\n      <td>3.154</td>\n      <td>3.200</td>\n      <td>3.131</td>\n      <td>2218011.0</td>\n      <td>2411.0</td>\n      <td>3396062.0</td>\n      <td>32500.0</td>\n    </tr>\n    <tr>\n      <th>2021-06-11</th>\n      <td>3.296</td>\n      <td>168842.0</td>\n      <td>3.153</td>\n      <td>3.330</td>\n      <td>3.149</td>\n      <td>2218011.0</td>\n      <td>2427.0</td>\n      <td>3396062.0</td>\n      <td>32500.0</td>\n    </tr>\n    <tr>\n      <th>2021-06-14</th>\n      <td>3.352</td>\n      <td>102006.0</td>\n      <td>3.315</td>\n      <td>3.364</td>\n      <td>3.273</td>\n      <td>2218011.0</td>\n      <td>2427.0</td>\n      <td>3396062.0</td>\n      <td>32500.0</td>\n    </tr>\n    <tr>\n      <th>2021-06-15</th>\n      <td>3.240</td>\n      <td>141168.0</td>\n      <td>3.351</td>\n      <td>3.369</td>\n      <td>3.213</td>\n      <td>2218011.0</td>\n      <td>2427.0</td>\n      <td>3396062.0</td>\n      <td>32500.0</td>\n    </tr>\n    <tr>\n      <th>2021-06-16</th>\n      <td>3.251</td>\n      <td>102528.0</td>\n      <td>3.222</td>\n      <td>3.274</td>\n      <td>3.187</td>\n      <td>2218011.0</td>\n      <td>2427.0</td>\n      <td>3396062.0</td>\n      <td>32500.0</td>\n    </tr>\n    <tr>\n      <th>2021-06-17</th>\n      <td>3.253</td>\n      <td>138697.0</td>\n      <td>3.244</td>\n      <td>3.264</td>\n      <td>3.187</td>\n      <td>2218011.0</td>\n      <td>2427.0</td>\n      <td>3396062.0</td>\n      <td>32500.0</td>\n    </tr>\n    <tr>\n      <th>2021-06-18</th>\n      <td>3.215</td>\n      <td>101762.0</td>\n      <td>3.218</td>\n      <td>3.258</td>\n      <td>3.166</td>\n      <td>2218011.0</td>\n      <td>2482.0</td>\n      <td>3396062.0</td>\n      <td>32500.0</td>\n    </tr>\n    <tr>\n      <th>2021-06-21</th>\n      <td>3.191</td>\n      <td>91489.0</td>\n      <td>3.206</td>\n      <td>3.214</td>\n      <td>3.137</td>\n      <td>2218011.0</td>\n      <td>2482.0</td>\n      <td>3396062.0</td>\n      <td>32500.0</td>\n    </tr>\n    <tr>\n      <th>2021-06-22</th>\n      <td>3.258</td>\n      <td>71038.0</td>\n      <td>3.198</td>\n      <td>3.281</td>\n      <td>3.188</td>\n      <td>2218011.0</td>\n      <td>2482.0</td>\n      <td>3396062.0</td>\n      <td>32500.0</td>\n    </tr>\n    <tr>\n      <th>2021-06-23</th>\n      <td>3.333</td>\n      <td>70154.0</td>\n      <td>3.257</td>\n      <td>3.383</td>\n      <td>3.250</td>\n      <td>2218011.0</td>\n      <td>2482.0</td>\n      <td>3396062.0</td>\n      <td>32500.0</td>\n    </tr>\n    <tr>\n      <th>2021-06-24</th>\n      <td>3.418</td>\n      <td>47829.0</td>\n      <td>3.316</td>\n      <td>3.442</td>\n      <td>3.301</td>\n      <td>2218011.0</td>\n      <td>2482.0</td>\n      <td>3396062.0</td>\n      <td>32500.0</td>\n    </tr>\n    <tr>\n      <th>2021-06-25</th>\n      <td>3.496</td>\n      <td>32794.0</td>\n      <td>3.425</td>\n      <td>3.511</td>\n      <td>3.415</td>\n      <td>2218011.0</td>\n      <td>2558.0</td>\n      <td>3396062.0</td>\n      <td>32500.0</td>\n    </tr>\n  </tbody>\n</table>\n</div>"
     },
     "execution_count": 8,
     "metadata": {},
     "output_type": "execute_result"
    }
   ],
   "source": [
    "res.iloc[-65:-45]"
   ],
   "metadata": {
    "collapsed": false,
    "pycharm": {
     "name": "#%%\n"
    }
   }
  },
  {
   "cell_type": "markdown",
   "source": [
    "# Todo\n",
    "\n",
    "- add lagged returns\n",
    "- target forward returns\n",
    "- technical indicators (RSI, ATR, Dollar volume)"
   ],
   "metadata": {
    "collapsed": false,
    "pycharm": {
     "name": "#%% md\n"
    }
   }
  }
 ],
 "metadata": {
  "kernelspec": {
   "display_name": "Python 3",
   "language": "python",
   "name": "python3"
  },
  "language_info": {
   "codemirror_mode": {
    "name": "ipython",
    "version": 2
   },
   "file_extension": ".py",
   "mimetype": "text/x-python",
   "name": "python",
   "nbconvert_exporter": "python",
   "pygments_lexer": "ipython2",
   "version": "2.7.6"
  }
 },
 "nbformat": 4,
 "nbformat_minor": 0
}