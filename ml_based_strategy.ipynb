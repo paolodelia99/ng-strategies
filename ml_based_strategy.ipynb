{
 "cells": [
  {
   "cell_type": "code",
   "execution_count": 2,
   "metadata": {
    "collapsed": true
   },
   "outputs": [],
   "source": [
    "%matplotlib inline\n",
    "\n",
    "import numpy as np\n",
    "import pandas as pd\n",
    "\n",
    "import matplotlib.pyplot as plt\n",
    "import seaborn as sns\n",
    "\n",
    "import tulipy as tu"
   ]
  },
  {
   "cell_type": "code",
   "execution_count": 3,
   "outputs": [],
   "source": [
    "price_data_path = './data/HistoricalData_NG.csv'\n",
    "consumption_path = './data/U.S._Natural_Gas_Total_Consumption_Monthly.csv'\n",
    "undergound_st_path = './data/Weekly_Lower_48_States_Natural_Gas_Working_Underground_Storage_Weekly.csv'\n",
    "us_gross_width_path = './data/U.S._Natural_Gas_Gross_Withdrawals_Monthly.csv'\n",
    "o_gross_width_path = './data/Other_States_Natural_Gas_Gross_Withdrawals_Monthly.csv'"
   ],
   "metadata": {
    "collapsed": false,
    "pycharm": {
     "name": "#%%\n"
    }
   }
  },
  {
   "cell_type": "code",
   "execution_count": 4,
   "outputs": [],
   "source": [
    "price_data = pd.read_csv(price_data_path, sep=',', index_col=0, parse_dates=True)\n",
    "cons_data = pd.read_csv(consumption_path, sep=',', index_col=0, parse_dates=True)\n",
    "undergound_st = pd.read_csv(undergound_st_path, sep=',', index_col=0, parse_dates=True)\n",
    "us_gross_width = pd.read_csv(us_gross_width_path, sep=',', index_col=0, parse_dates=True)\n",
    "o_gross_width = pd.read_csv(o_gross_width_path, sep=',', index_col=0, parse_dates=True)"
   ],
   "metadata": {
    "collapsed": false,
    "pycharm": {
     "name": "#%%\n"
    }
   }
  },
  {
   "cell_type": "code",
   "execution_count": 5,
   "outputs": [],
   "source": [
    "price_data = price_data.dropna()\n",
    "\n",
    "price_data = price_data.set_index(pd.to_datetime(price_data.index))\n",
    "price_data.sort_values(by='Date', inplace=True)\n",
    "\n",
    "cons_data.rename(columns={'Series ID: NG.N9140US2.M Million Cubic Feet':'Consumption in mcf'}, inplace=True)\n",
    "cons_data.index.rename('Date', inplace=True)\n",
    "cons_data.sort_values(by='Date', inplace=True)\n",
    "\n",
    "undergound_st = undergound_st.set_index(pd.to_datetime(undergound_st.index))\n",
    "undergound_st.rename(columns={'Series ID: NG.NW2_EPG0_SWO_R48_BCF.W Billion Cubic Feet':'Storage in mcf'}, inplace=True)\n",
    "undergound_st.index.rename('Date', inplace=True)\n",
    "undergound_st.sort_values(by='Date', inplace=True)\n",
    "\n",
    "us_gross_width.rename(columns={'Series ID: NG.N9010US2.M Million Cubic Feet':'US Gross Withdrawal in mcf'}, inplace=True)\n",
    "us_gross_width.index.rename('Date', inplace=True)\n",
    "us_gross_width.sort_values(by='Date', inplace=True)\n",
    "\n",
    "o_gross_width.rename(columns={'Series ID: NG.N9010982.M Million Cubic Feet':'Other Gross Withdrawal in mcf'}, inplace=True)\n",
    "o_gross_width.index.rename('Date', inplace=True)\n",
    "o_gross_width.sort_values(by='Date', inplace=True)"
   ],
   "metadata": {
    "collapsed": false,
    "pycharm": {
     "name": "#%%\n"
    }
   }
  },
  {
   "cell_type": "code",
   "execution_count": 6,
   "outputs": [
    {
     "data": {
      "text/plain": "            Storage in mcf\nDate                      \n2010-01-01            3117\n2010-01-08            2850\n2010-01-15            2607\n2010-01-22            2521\n2010-01-29            2406\n...                    ...\n2021-07-23            2714\n2021-07-30            2727\n2021-08-06            2776\n2021-08-13            2822\n2021-08-20            2851\n\n[608 rows x 1 columns]",
      "text/html": "<div>\n<style scoped>\n    .dataframe tbody tr th:only-of-type {\n        vertical-align: middle;\n    }\n\n    .dataframe tbody tr th {\n        vertical-align: top;\n    }\n\n    .dataframe thead th {\n        text-align: right;\n    }\n</style>\n<table border=\"1\" class=\"dataframe\">\n  <thead>\n    <tr style=\"text-align: right;\">\n      <th></th>\n      <th>Storage in mcf</th>\n    </tr>\n    <tr>\n      <th>Date</th>\n      <th></th>\n    </tr>\n  </thead>\n  <tbody>\n    <tr>\n      <th>2010-01-01</th>\n      <td>3117</td>\n    </tr>\n    <tr>\n      <th>2010-01-08</th>\n      <td>2850</td>\n    </tr>\n    <tr>\n      <th>2010-01-15</th>\n      <td>2607</td>\n    </tr>\n    <tr>\n      <th>2010-01-22</th>\n      <td>2521</td>\n    </tr>\n    <tr>\n      <th>2010-01-29</th>\n      <td>2406</td>\n    </tr>\n    <tr>\n      <th>...</th>\n      <td>...</td>\n    </tr>\n    <tr>\n      <th>2021-07-23</th>\n      <td>2714</td>\n    </tr>\n    <tr>\n      <th>2021-07-30</th>\n      <td>2727</td>\n    </tr>\n    <tr>\n      <th>2021-08-06</th>\n      <td>2776</td>\n    </tr>\n    <tr>\n      <th>2021-08-13</th>\n      <td>2822</td>\n    </tr>\n    <tr>\n      <th>2021-08-20</th>\n      <td>2851</td>\n    </tr>\n  </tbody>\n</table>\n<p>608 rows × 1 columns</p>\n</div>"
     },
     "execution_count": 6,
     "metadata": {},
     "output_type": "execute_result"
    }
   ],
   "source": [
    "undergound_st"
   ],
   "metadata": {
    "collapsed": false,
    "pycharm": {
     "name": "#%%\n"
    }
   }
  },
  {
   "cell_type": "code",
   "execution_count": 7,
   "outputs": [],
   "source": [
    "res = pd.concat([price_data, cons_data, undergound_st, us_gross_width, o_gross_width], axis=1)"
   ],
   "metadata": {
    "collapsed": false,
    "pycharm": {
     "name": "#%%\n"
    }
   }
  },
  {
   "cell_type": "code",
   "execution_count": 8,
   "outputs": [],
   "source": [
    "useful_columns = list(set(res.columns) - {'Close', 'High', 'Low', 'Volume', 'Open'})\n",
    "\n",
    "for col in useful_columns:\n",
    "    res[col] = res[col].ffill()"
   ],
   "metadata": {
    "collapsed": false,
    "pycharm": {
     "name": "#%%\n"
    }
   }
  },
  {
   "cell_type": "code",
   "execution_count": 9,
   "outputs": [
    {
     "data": {
      "text/plain": "            Close    Volume   Open   High    Low  Consumption in mcf  \\\nDate                                                                   \n2021-05-28  2.986  105311.0  2.963  3.042  2.955           2100668.0   \n2021-06-01  3.104  182279.0  3.103  3.126  3.093           2218011.0   \n2021-06-02  3.075  107268.0  3.093  3.126  3.050           2218011.0   \n2021-06-03  3.041   92205.0  3.073  3.090  3.032           2218011.0   \n2021-06-04  3.097  112977.0  3.063  3.121  3.010           2218011.0   \n2021-06-07  3.070  114216.0  3.109  3.115  3.033           2218011.0   \n2021-06-08  3.128  185863.0  3.092  3.198  3.092           2218011.0   \n2021-06-09  3.129  108045.0  3.128  3.168  3.106           2218011.0   \n2021-06-10  3.149  130146.0  3.154  3.200  3.131           2218011.0   \n2021-06-11  3.296  168842.0  3.153  3.330  3.149           2218011.0   \n2021-06-14  3.352  102006.0  3.315  3.364  3.273           2218011.0   \n2021-06-15  3.240  141168.0  3.351  3.369  3.213           2218011.0   \n2021-06-16  3.251  102528.0  3.222  3.274  3.187           2218011.0   \n2021-06-17  3.253  138697.0  3.244  3.264  3.187           2218011.0   \n2021-06-18  3.215  101762.0  3.218  3.258  3.166           2218011.0   \n2021-06-21  3.191   91489.0  3.206  3.214  3.137           2218011.0   \n2021-06-22  3.258   71038.0  3.198  3.281  3.188           2218011.0   \n2021-06-23  3.333   70154.0  3.257  3.383  3.250           2218011.0   \n2021-06-24  3.418   47829.0  3.316  3.442  3.301           2218011.0   \n2021-06-25  3.496   32794.0  3.425  3.511  3.415           2218011.0   \n\n            Storage in mcf  US Gross Withdrawal in mcf  \\\nDate                                                     \n2021-05-28          2313.0                   3521964.0   \n2021-06-01          2313.0                   3396062.0   \n2021-06-02          2313.0                   3396062.0   \n2021-06-03          2313.0                   3396062.0   \n2021-06-04          2411.0                   3396062.0   \n2021-06-07          2411.0                   3396062.0   \n2021-06-08          2411.0                   3396062.0   \n2021-06-09          2411.0                   3396062.0   \n2021-06-10          2411.0                   3396062.0   \n2021-06-11          2427.0                   3396062.0   \n2021-06-14          2427.0                   3396062.0   \n2021-06-15          2427.0                   3396062.0   \n2021-06-16          2427.0                   3396062.0   \n2021-06-17          2427.0                   3396062.0   \n2021-06-18          2482.0                   3396062.0   \n2021-06-21          2482.0                   3396062.0   \n2021-06-22          2482.0                   3396062.0   \n2021-06-23          2482.0                   3396062.0   \n2021-06-24          2482.0                   3396062.0   \n2021-06-25          2558.0                   3396062.0   \n\n            Other Gross Withdrawal in mcf  \nDate                                       \n2021-05-28                        33849.0  \n2021-06-01                        32500.0  \n2021-06-02                        32500.0  \n2021-06-03                        32500.0  \n2021-06-04                        32500.0  \n2021-06-07                        32500.0  \n2021-06-08                        32500.0  \n2021-06-09                        32500.0  \n2021-06-10                        32500.0  \n2021-06-11                        32500.0  \n2021-06-14                        32500.0  \n2021-06-15                        32500.0  \n2021-06-16                        32500.0  \n2021-06-17                        32500.0  \n2021-06-18                        32500.0  \n2021-06-21                        32500.0  \n2021-06-22                        32500.0  \n2021-06-23                        32500.0  \n2021-06-24                        32500.0  \n2021-06-25                        32500.0  ",
      "text/html": "<div>\n<style scoped>\n    .dataframe tbody tr th:only-of-type {\n        vertical-align: middle;\n    }\n\n    .dataframe tbody tr th {\n        vertical-align: top;\n    }\n\n    .dataframe thead th {\n        text-align: right;\n    }\n</style>\n<table border=\"1\" class=\"dataframe\">\n  <thead>\n    <tr style=\"text-align: right;\">\n      <th></th>\n      <th>Close</th>\n      <th>Volume</th>\n      <th>Open</th>\n      <th>High</th>\n      <th>Low</th>\n      <th>Consumption in mcf</th>\n      <th>Storage in mcf</th>\n      <th>US Gross Withdrawal in mcf</th>\n      <th>Other Gross Withdrawal in mcf</th>\n    </tr>\n    <tr>\n      <th>Date</th>\n      <th></th>\n      <th></th>\n      <th></th>\n      <th></th>\n      <th></th>\n      <th></th>\n      <th></th>\n      <th></th>\n      <th></th>\n    </tr>\n  </thead>\n  <tbody>\n    <tr>\n      <th>2021-05-28</th>\n      <td>2.986</td>\n      <td>105311.0</td>\n      <td>2.963</td>\n      <td>3.042</td>\n      <td>2.955</td>\n      <td>2100668.0</td>\n      <td>2313.0</td>\n      <td>3521964.0</td>\n      <td>33849.0</td>\n    </tr>\n    <tr>\n      <th>2021-06-01</th>\n      <td>3.104</td>\n      <td>182279.0</td>\n      <td>3.103</td>\n      <td>3.126</td>\n      <td>3.093</td>\n      <td>2218011.0</td>\n      <td>2313.0</td>\n      <td>3396062.0</td>\n      <td>32500.0</td>\n    </tr>\n    <tr>\n      <th>2021-06-02</th>\n      <td>3.075</td>\n      <td>107268.0</td>\n      <td>3.093</td>\n      <td>3.126</td>\n      <td>3.050</td>\n      <td>2218011.0</td>\n      <td>2313.0</td>\n      <td>3396062.0</td>\n      <td>32500.0</td>\n    </tr>\n    <tr>\n      <th>2021-06-03</th>\n      <td>3.041</td>\n      <td>92205.0</td>\n      <td>3.073</td>\n      <td>3.090</td>\n      <td>3.032</td>\n      <td>2218011.0</td>\n      <td>2313.0</td>\n      <td>3396062.0</td>\n      <td>32500.0</td>\n    </tr>\n    <tr>\n      <th>2021-06-04</th>\n      <td>3.097</td>\n      <td>112977.0</td>\n      <td>3.063</td>\n      <td>3.121</td>\n      <td>3.010</td>\n      <td>2218011.0</td>\n      <td>2411.0</td>\n      <td>3396062.0</td>\n      <td>32500.0</td>\n    </tr>\n    <tr>\n      <th>2021-06-07</th>\n      <td>3.070</td>\n      <td>114216.0</td>\n      <td>3.109</td>\n      <td>3.115</td>\n      <td>3.033</td>\n      <td>2218011.0</td>\n      <td>2411.0</td>\n      <td>3396062.0</td>\n      <td>32500.0</td>\n    </tr>\n    <tr>\n      <th>2021-06-08</th>\n      <td>3.128</td>\n      <td>185863.0</td>\n      <td>3.092</td>\n      <td>3.198</td>\n      <td>3.092</td>\n      <td>2218011.0</td>\n      <td>2411.0</td>\n      <td>3396062.0</td>\n      <td>32500.0</td>\n    </tr>\n    <tr>\n      <th>2021-06-09</th>\n      <td>3.129</td>\n      <td>108045.0</td>\n      <td>3.128</td>\n      <td>3.168</td>\n      <td>3.106</td>\n      <td>2218011.0</td>\n      <td>2411.0</td>\n      <td>3396062.0</td>\n      <td>32500.0</td>\n    </tr>\n    <tr>\n      <th>2021-06-10</th>\n      <td>3.149</td>\n      <td>130146.0</td>\n      <td>3.154</td>\n      <td>3.200</td>\n      <td>3.131</td>\n      <td>2218011.0</td>\n      <td>2411.0</td>\n      <td>3396062.0</td>\n      <td>32500.0</td>\n    </tr>\n    <tr>\n      <th>2021-06-11</th>\n      <td>3.296</td>\n      <td>168842.0</td>\n      <td>3.153</td>\n      <td>3.330</td>\n      <td>3.149</td>\n      <td>2218011.0</td>\n      <td>2427.0</td>\n      <td>3396062.0</td>\n      <td>32500.0</td>\n    </tr>\n    <tr>\n      <th>2021-06-14</th>\n      <td>3.352</td>\n      <td>102006.0</td>\n      <td>3.315</td>\n      <td>3.364</td>\n      <td>3.273</td>\n      <td>2218011.0</td>\n      <td>2427.0</td>\n      <td>3396062.0</td>\n      <td>32500.0</td>\n    </tr>\n    <tr>\n      <th>2021-06-15</th>\n      <td>3.240</td>\n      <td>141168.0</td>\n      <td>3.351</td>\n      <td>3.369</td>\n      <td>3.213</td>\n      <td>2218011.0</td>\n      <td>2427.0</td>\n      <td>3396062.0</td>\n      <td>32500.0</td>\n    </tr>\n    <tr>\n      <th>2021-06-16</th>\n      <td>3.251</td>\n      <td>102528.0</td>\n      <td>3.222</td>\n      <td>3.274</td>\n      <td>3.187</td>\n      <td>2218011.0</td>\n      <td>2427.0</td>\n      <td>3396062.0</td>\n      <td>32500.0</td>\n    </tr>\n    <tr>\n      <th>2021-06-17</th>\n      <td>3.253</td>\n      <td>138697.0</td>\n      <td>3.244</td>\n      <td>3.264</td>\n      <td>3.187</td>\n      <td>2218011.0</td>\n      <td>2427.0</td>\n      <td>3396062.0</td>\n      <td>32500.0</td>\n    </tr>\n    <tr>\n      <th>2021-06-18</th>\n      <td>3.215</td>\n      <td>101762.0</td>\n      <td>3.218</td>\n      <td>3.258</td>\n      <td>3.166</td>\n      <td>2218011.0</td>\n      <td>2482.0</td>\n      <td>3396062.0</td>\n      <td>32500.0</td>\n    </tr>\n    <tr>\n      <th>2021-06-21</th>\n      <td>3.191</td>\n      <td>91489.0</td>\n      <td>3.206</td>\n      <td>3.214</td>\n      <td>3.137</td>\n      <td>2218011.0</td>\n      <td>2482.0</td>\n      <td>3396062.0</td>\n      <td>32500.0</td>\n    </tr>\n    <tr>\n      <th>2021-06-22</th>\n      <td>3.258</td>\n      <td>71038.0</td>\n      <td>3.198</td>\n      <td>3.281</td>\n      <td>3.188</td>\n      <td>2218011.0</td>\n      <td>2482.0</td>\n      <td>3396062.0</td>\n      <td>32500.0</td>\n    </tr>\n    <tr>\n      <th>2021-06-23</th>\n      <td>3.333</td>\n      <td>70154.0</td>\n      <td>3.257</td>\n      <td>3.383</td>\n      <td>3.250</td>\n      <td>2218011.0</td>\n      <td>2482.0</td>\n      <td>3396062.0</td>\n      <td>32500.0</td>\n    </tr>\n    <tr>\n      <th>2021-06-24</th>\n      <td>3.418</td>\n      <td>47829.0</td>\n      <td>3.316</td>\n      <td>3.442</td>\n      <td>3.301</td>\n      <td>2218011.0</td>\n      <td>2482.0</td>\n      <td>3396062.0</td>\n      <td>32500.0</td>\n    </tr>\n    <tr>\n      <th>2021-06-25</th>\n      <td>3.496</td>\n      <td>32794.0</td>\n      <td>3.425</td>\n      <td>3.511</td>\n      <td>3.415</td>\n      <td>2218011.0</td>\n      <td>2558.0</td>\n      <td>3396062.0</td>\n      <td>32500.0</td>\n    </tr>\n  </tbody>\n</table>\n</div>"
     },
     "execution_count": 9,
     "metadata": {},
     "output_type": "execute_result"
    }
   ],
   "source": [
    "res.iloc[-65:-45]"
   ],
   "metadata": {
    "collapsed": false,
    "pycharm": {
     "name": "#%%\n"
    }
   }
  },
  {
   "cell_type": "code",
   "execution_count": 10,
   "outputs": [
    {
     "data": {
      "text/plain": "             Close         Volume         Open         High          Low  \\\ncount  2502.000000    2502.000000  2502.000000  2502.000000  2502.000000   \nmean      2.999582  120918.455635     3.001344     3.057486     2.945068   \nstd       0.730453   57514.917744     0.728603     0.744170     0.717324   \nmin       1.482000       4.000000     1.441000     1.567000     1.432000   \n25%       2.561000   87901.000000     2.566500     2.608250     2.511250   \n50%       2.881500  120407.000000     2.882500     2.934000     2.828000   \n75%       3.480750  153246.750000     3.477750     3.553750     3.417250   \nmax       6.149000  435320.000000     6.080000     6.493000     5.882000   \n\n       Consumption in mcf  Storage in mcf  US Gross Withdrawal in mcf  \\\ncount        2.772000e+03     2664.000000                3.024000e+03   \nmean         2.300407e+06     2750.539039                2.741379e+06   \nstd          4.379794e+05      766.931581                4.850602e+05   \nmin          1.368369e+06      824.000000                1.449958e+06   \n25%          1.947752e+06     2203.000000                2.475947e+06   \n50%          2.208375e+06     2798.000000                2.721210e+06   \n75%          2.588168e+06     3362.250000                3.153978e+06   \nmax          3.409295e+06     4047.000000                3.620708e+06   \n\n       Other Gross Withdrawal in mcf  \ncount                    2892.000000  \nmean                    54772.980290  \nstd                     20209.712138  \nmin                     30059.000000  \n25%                     40372.000000  \n50%                     49149.000000  \n75%                     58221.000000  \nmax                    109113.000000  ",
      "text/html": "<div>\n<style scoped>\n    .dataframe tbody tr th:only-of-type {\n        vertical-align: middle;\n    }\n\n    .dataframe tbody tr th {\n        vertical-align: top;\n    }\n\n    .dataframe thead th {\n        text-align: right;\n    }\n</style>\n<table border=\"1\" class=\"dataframe\">\n  <thead>\n    <tr style=\"text-align: right;\">\n      <th></th>\n      <th>Close</th>\n      <th>Volume</th>\n      <th>Open</th>\n      <th>High</th>\n      <th>Low</th>\n      <th>Consumption in mcf</th>\n      <th>Storage in mcf</th>\n      <th>US Gross Withdrawal in mcf</th>\n      <th>Other Gross Withdrawal in mcf</th>\n    </tr>\n  </thead>\n  <tbody>\n    <tr>\n      <th>count</th>\n      <td>2502.000000</td>\n      <td>2502.000000</td>\n      <td>2502.000000</td>\n      <td>2502.000000</td>\n      <td>2502.000000</td>\n      <td>2.772000e+03</td>\n      <td>2664.000000</td>\n      <td>3.024000e+03</td>\n      <td>2892.000000</td>\n    </tr>\n    <tr>\n      <th>mean</th>\n      <td>2.999582</td>\n      <td>120918.455635</td>\n      <td>3.001344</td>\n      <td>3.057486</td>\n      <td>2.945068</td>\n      <td>2.300407e+06</td>\n      <td>2750.539039</td>\n      <td>2.741379e+06</td>\n      <td>54772.980290</td>\n    </tr>\n    <tr>\n      <th>std</th>\n      <td>0.730453</td>\n      <td>57514.917744</td>\n      <td>0.728603</td>\n      <td>0.744170</td>\n      <td>0.717324</td>\n      <td>4.379794e+05</td>\n      <td>766.931581</td>\n      <td>4.850602e+05</td>\n      <td>20209.712138</td>\n    </tr>\n    <tr>\n      <th>min</th>\n      <td>1.482000</td>\n      <td>4.000000</td>\n      <td>1.441000</td>\n      <td>1.567000</td>\n      <td>1.432000</td>\n      <td>1.368369e+06</td>\n      <td>824.000000</td>\n      <td>1.449958e+06</td>\n      <td>30059.000000</td>\n    </tr>\n    <tr>\n      <th>25%</th>\n      <td>2.561000</td>\n      <td>87901.000000</td>\n      <td>2.566500</td>\n      <td>2.608250</td>\n      <td>2.511250</td>\n      <td>1.947752e+06</td>\n      <td>2203.000000</td>\n      <td>2.475947e+06</td>\n      <td>40372.000000</td>\n    </tr>\n    <tr>\n      <th>50%</th>\n      <td>2.881500</td>\n      <td>120407.000000</td>\n      <td>2.882500</td>\n      <td>2.934000</td>\n      <td>2.828000</td>\n      <td>2.208375e+06</td>\n      <td>2798.000000</td>\n      <td>2.721210e+06</td>\n      <td>49149.000000</td>\n    </tr>\n    <tr>\n      <th>75%</th>\n      <td>3.480750</td>\n      <td>153246.750000</td>\n      <td>3.477750</td>\n      <td>3.553750</td>\n      <td>3.417250</td>\n      <td>2.588168e+06</td>\n      <td>3362.250000</td>\n      <td>3.153978e+06</td>\n      <td>58221.000000</td>\n    </tr>\n    <tr>\n      <th>max</th>\n      <td>6.149000</td>\n      <td>435320.000000</td>\n      <td>6.080000</td>\n      <td>6.493000</td>\n      <td>5.882000</td>\n      <td>3.409295e+06</td>\n      <td>4047.000000</td>\n      <td>3.620708e+06</td>\n      <td>109113.000000</td>\n    </tr>\n  </tbody>\n</table>\n</div>"
     },
     "execution_count": 10,
     "metadata": {},
     "output_type": "execute_result"
    }
   ],
   "source": [
    "res.describe()"
   ],
   "metadata": {
    "collapsed": false,
    "pycharm": {
     "name": "#%%\n"
    }
   }
  },
  {
   "cell_type": "code",
   "execution_count": 11,
   "outputs": [
    {
     "name": "stdout",
     "output_type": "stream",
     "text": [
      "Close :  606\n",
      "Volume :  606\n",
      "Open :  606\n",
      "High :  606\n",
      "Low :  606\n",
      "Consumption in mcf :  336\n",
      "Storage in mcf :  444\n",
      "US Gross Withdrawal in mcf :  84\n",
      "Other Gross Withdrawal in mcf :  216\n"
     ]
    }
   ],
   "source": [
    "for col in res.columns:\n",
    "    print(col, ': ', res[col].isnull().sum())"
   ],
   "metadata": {
    "collapsed": false,
    "pycharm": {
     "name": "#%%\n"
    }
   }
  },
  {
   "cell_type": "code",
   "execution_count": 12,
   "outputs": [],
   "source": [
    "res_ = res.dropna()\n",
    "\n",
    "days = pd.date_range(res_.index[0], res_.index[-1], freq='D')"
   ],
   "metadata": {
    "collapsed": false,
    "pycharm": {
     "name": "#%%\n"
    }
   }
  },
  {
   "cell_type": "code",
   "execution_count": 13,
   "outputs": [],
   "source": [
    "rsi = tu.rsi(res_.Close.values, 14)"
   ],
   "metadata": {
    "collapsed": false,
    "pycharm": {
     "name": "#%%\n"
    }
   }
  },
  {
   "cell_type": "code",
   "execution_count": 14,
   "outputs": [
    {
     "name": "stderr",
     "output_type": "stream",
     "text": [
      "/home/paolo/PycharmProjects/backtesting_experiments/venv/lib/python3.8/site-packages/seaborn/distributions.py:2619: FutureWarning: `distplot` is a deprecated function and will be removed in a future version. Please adapt your code to use either `displot` (a figure-level function with similar flexibility) or `histplot` (an axes-level function for histograms).\n",
      "  warnings.warn(msg, FutureWarning)\n"
     ]
    },
    {
     "data": {
      "text/plain": "<Figure size 432x288 with 1 Axes>",
      "image/png": "[encoded data removed]"
     },
     "metadata": {
      "needs_background": "light"
     },
     "output_type": "display_data"
    }
   ],
   "source": [
    "ax = sns.distplot(rsi)\n",
    "ax.axvline(30, ls='--', lw=1, c='k')\n",
    "ax.axvline(70, ls='--', lw=1, c='k')\n",
    "ax.set_title('RSI Distribution with Signal Threshold')\n",
    "plt.tight_layout();"
   ],
   "metadata": {
    "collapsed": false,
    "pycharm": {
     "name": "#%%\n"
    }
   }
  },
  {
   "cell_type": "code",
   "execution_count": 15,
   "outputs": [],
   "source": [
    "rsi_df = pd.DataFrame(data={\n",
    "    'Date': res_.index[-len(rsi):],\n",
    "    'RSI': rsi\n",
    "})\n",
    "rsi_df.set_index('Date', inplace=True)"
   ],
   "metadata": {
    "collapsed": false,
    "pycharm": {
     "name": "#%%\n"
    }
   }
  },
  {
   "cell_type": "code",
   "execution_count": 16,
   "outputs": [],
   "source": [
    "atr = tu.atr(res_.High.values, res_.Low.values, res_.Close.values, 14)\n",
    "\n",
    "# atr = (atr - atr.mean()) / atr.std()"
   ],
   "metadata": {
    "collapsed": false,
    "pycharm": {
     "name": "#%%\n"
    }
   }
  },
  {
   "cell_type": "code",
   "execution_count": 17,
   "outputs": [
    {
     "data": {
      "text/plain": "<seaborn.axisgrid.FacetGrid at 0x7f9a61270070>"
     },
     "execution_count": 17,
     "metadata": {},
     "output_type": "execute_result"
    },
    {
     "data": {
      "text/plain": "<Figure size 360x360 with 1 Axes>",
      "image/png": "[encoded data removed]"
     },
     "metadata": {
      "needs_background": "light"
     },
     "output_type": "display_data"
    }
   ],
   "source": [
    "sns.displot(atr)"
   ],
   "metadata": {
    "collapsed": false,
    "pycharm": {
     "name": "#%%\n"
    }
   }
  },
  {
   "cell_type": "code",
   "execution_count": 18,
   "outputs": [],
   "source": [
    "atr_df = pd.DataFrame(data={\n",
    "    'Date':res_.index[-len(atr):],\n",
    "    'ATR':atr\n",
    "})\n",
    "atr_df.set_index('Date', inplace=True)"
   ],
   "metadata": {
    "collapsed": false,
    "pycharm": {
     "name": "#%%\n"
    }
   }
  },
  {
   "cell_type": "code",
   "execution_count": 19,
   "outputs": [],
   "source": [
    "macd, macd_signal, macd_hist = tu.macd(res_.Close.values, 12, 26, 9)\n",
    "\n",
    "# macd = (macd - np.mean(macd)) / np.std(macd)"
   ],
   "metadata": {
    "collapsed": false,
    "pycharm": {
     "name": "#%%\n"
    }
   }
  },
  {
   "cell_type": "code",
   "execution_count": 20,
   "outputs": [
    {
     "data": {
      "text/plain": "<seaborn.axisgrid.FacetGrid at 0x7f9a5d049dc0>"
     },
     "execution_count": 20,
     "metadata": {},
     "output_type": "execute_result"
    },
    {
     "data": {
      "text/plain": "<Figure size 360x360 with 1 Axes>",
      "image/png": "[encoded data removed]"
     },
     "metadata": {
      "needs_background": "light"
     },
     "output_type": "display_data"
    }
   ],
   "source": [
    "sns.displot(macd)"
   ],
   "metadata": {
    "collapsed": false,
    "pycharm": {
     "name": "#%%\n"
    }
   }
  },
  {
   "cell_type": "code",
   "execution_count": 21,
   "outputs": [],
   "source": [
    "macd_df = pd.DataFrame(data={\n",
    "    'Date': res_.index[-len(macd):],\n",
    "    'MACD': macd\n",
    "})\n",
    "macd_df.set_index('Date', inplace=True)"
   ],
   "metadata": {
    "collapsed": false,
    "pycharm": {
     "name": "#%%\n"
    }
   }
  },
  {
   "cell_type": "code",
   "execution_count": 22,
   "outputs": [],
   "source": [
    "res_ = pd.concat([res_, rsi_df, atr_df, macd_df], axis=1)\n",
    "res_.dropna(inplace=True)"
   ],
   "metadata": {
    "collapsed": false,
    "pycharm": {
     "name": "#%%\n"
    }
   }
  },
  {
   "cell_type": "code",
   "execution_count": 23,
   "outputs": [
    {
     "data": {
      "text/plain": "            Close    Volume   Open   High    Low  Consumption in mcf  \\\nDate                                                                   \n2011-10-06  3.598  144492.0  3.565  3.634  3.512           1744454.0   \n2011-10-07  3.481  139225.0  3.595  3.600  3.472           1744454.0   \n2011-10-10  3.541  122903.0  3.486  3.563  3.457           1744454.0   \n2011-10-11  3.616  168456.0  3.562  3.627  3.513           1744454.0   \n2011-10-12  3.489  158954.0  3.520  3.540  3.480           1744454.0   \n...           ...       ...    ...    ...    ...                 ...   \n2021-08-24  3.896   54557.0  3.929  3.970  3.884           2218011.0   \n2021-08-25  3.897   37979.0  3.900  3.991  3.858           2218011.0   \n2021-08-26  4.184   64362.0  3.917  4.217  3.896           2218011.0   \n2021-08-27  4.370    3899.0  4.202  4.397  4.197           2218011.0   \n2021-08-30  4.305  161299.0  4.499  4.526  4.222           2218011.0   \n\n            Storage in mcf  US Gross Withdrawal in mcf  \\\nDate                                                     \n2011-10-06          3408.0                   2502387.0   \n2011-10-07          3521.0                   2502387.0   \n2011-10-10          3521.0                   2502387.0   \n2011-10-11          3521.0                   2502387.0   \n2011-10-12          3521.0                   2502387.0   \n...                    ...                         ...   \n2021-08-24          2851.0                   3396062.0   \n2021-08-25          2851.0                   3396062.0   \n2021-08-26          2851.0                   3396062.0   \n2021-08-27          2851.0                   3396062.0   \n2021-08-30          2851.0                   3396062.0   \n\n            Other Gross Withdrawal in mcf        RSI       ATR      MACD  \nDate                                                                      \n2011-10-06                        94315.0  32.805890  0.114925 -0.091309  \n2011-10-07                        94315.0  28.027756  0.115859 -0.100688  \n2011-10-10                        94315.0  33.385996  0.115155 -0.102430  \n2011-10-11                        94315.0  39.453890  0.115073 -0.097022  \n2011-10-12                        94315.0  33.833721  0.116567 -0.101203  \n...                                   ...        ...       ...       ...  \n2021-08-24                        32500.0  50.393336  0.132758  0.022960  \n2021-08-25                        32500.0  50.456830  0.132775  0.019566  \n2021-08-26                        32500.0  64.500602  0.146220  0.038202  \n2021-08-27                        32500.0  70.363841  0.150990  0.066375  \n2021-08-30                        32500.0  66.246073  0.161919  0.082905  \n\n[2477 rows x 12 columns]",
      "text/html": "<div>\n<style scoped>\n    .dataframe tbody tr th:only-of-type {\n        vertical-align: middle;\n    }\n\n    .dataframe tbody tr th {\n        vertical-align: top;\n    }\n\n    .dataframe thead th {\n        text-align: right;\n    }\n</style>\n<table border=\"1\" class=\"dataframe\">\n  <thead>\n    <tr style=\"text-align: right;\">\n      <th></th>\n      <th>Close</th>\n      <th>Volume</th>\n      <th>Open</th>\n      <th>High</th>\n      <th>Low</th>\n      <th>Consumption in mcf</th>\n      <th>Storage in mcf</th>\n      <th>US Gross Withdrawal in mcf</th>\n      <th>Other Gross Withdrawal in mcf</th>\n      <th>RSI</th>\n      <th>ATR</th>\n      <th>MACD</th>\n    </tr>\n    <tr>\n      <th>Date</th>\n      <th></th>\n      <th></th>\n      <th></th>\n      <th></th>\n      <th></th>\n      <th></th>\n      <th></th>\n      <th></th>\n      <th></th>\n      <th></th>\n      <th></th>\n      <th></th>\n    </tr>\n  </thead>\n  <tbody>\n    <tr>\n      <th>2011-10-06</th>\n      <td>3.598</td>\n      <td>144492.0</td>\n      <td>3.565</td>\n      <td>3.634</td>\n      <td>3.512</td>\n      <td>1744454.0</td>\n      <td>3408.0</td>\n      <td>2502387.0</td>\n      <td>94315.0</td>\n      <td>32.805890</td>\n      <td>0.114925</td>\n      <td>-0.091309</td>\n    </tr>\n    <tr>\n      <th>2011-10-07</th>\n      <td>3.481</td>\n      <td>139225.0</td>\n      <td>3.595</td>\n      <td>3.600</td>\n      <td>3.472</td>\n      <td>1744454.0</td>\n      <td>3521.0</td>\n      <td>2502387.0</td>\n      <td>94315.0</td>\n      <td>28.027756</td>\n      <td>0.115859</td>\n      <td>-0.100688</td>\n    </tr>\n    <tr>\n      <th>2011-10-10</th>\n      <td>3.541</td>\n      <td>122903.0</td>\n      <td>3.486</td>\n      <td>3.563</td>\n      <td>3.457</td>\n      <td>1744454.0</td>\n      <td>3521.0</td>\n      <td>2502387.0</td>\n      <td>94315.0</td>\n      <td>33.385996</td>\n      <td>0.115155</td>\n      <td>-0.102430</td>\n    </tr>\n    <tr>\n      <th>2011-10-11</th>\n      <td>3.616</td>\n      <td>168456.0</td>\n      <td>3.562</td>\n      <td>3.627</td>\n      <td>3.513</td>\n      <td>1744454.0</td>\n      <td>3521.0</td>\n      <td>2502387.0</td>\n      <td>94315.0</td>\n      <td>39.453890</td>\n      <td>0.115073</td>\n      <td>-0.097022</td>\n    </tr>\n    <tr>\n      <th>2011-10-12</th>\n      <td>3.489</td>\n      <td>158954.0</td>\n      <td>3.520</td>\n      <td>3.540</td>\n      <td>3.480</td>\n      <td>1744454.0</td>\n      <td>3521.0</td>\n      <td>2502387.0</td>\n      <td>94315.0</td>\n      <td>33.833721</td>\n      <td>0.116567</td>\n      <td>-0.101203</td>\n    </tr>\n    <tr>\n      <th>...</th>\n      <td>...</td>\n      <td>...</td>\n      <td>...</td>\n      <td>...</td>\n      <td>...</td>\n      <td>...</td>\n      <td>...</td>\n      <td>...</td>\n      <td>...</td>\n      <td>...</td>\n      <td>...</td>\n      <td>...</td>\n    </tr>\n    <tr>\n      <th>2021-08-24</th>\n      <td>3.896</td>\n      <td>54557.0</td>\n      <td>3.929</td>\n      <td>3.970</td>\n      <td>3.884</td>\n      <td>2218011.0</td>\n      <td>2851.0</td>\n      <td>3396062.0</td>\n      <td>32500.0</td>\n      <td>50.393336</td>\n      <td>0.132758</td>\n      <td>0.022960</td>\n    </tr>\n    <tr>\n      <th>2021-08-25</th>\n      <td>3.897</td>\n      <td>37979.0</td>\n      <td>3.900</td>\n      <td>3.991</td>\n      <td>3.858</td>\n      <td>2218011.0</td>\n      <td>2851.0</td>\n      <td>3396062.0</td>\n      <td>32500.0</td>\n      <td>50.456830</td>\n      <td>0.132775</td>\n      <td>0.019566</td>\n    </tr>\n    <tr>\n      <th>2021-08-26</th>\n      <td>4.184</td>\n      <td>64362.0</td>\n      <td>3.917</td>\n      <td>4.217</td>\n      <td>3.896</td>\n      <td>2218011.0</td>\n      <td>2851.0</td>\n      <td>3396062.0</td>\n      <td>32500.0</td>\n      <td>64.500602</td>\n      <td>0.146220</td>\n      <td>0.038202</td>\n    </tr>\n    <tr>\n      <th>2021-08-27</th>\n      <td>4.370</td>\n      <td>3899.0</td>\n      <td>4.202</td>\n      <td>4.397</td>\n      <td>4.197</td>\n      <td>2218011.0</td>\n      <td>2851.0</td>\n      <td>3396062.0</td>\n      <td>32500.0</td>\n      <td>70.363841</td>\n      <td>0.150990</td>\n      <td>0.066375</td>\n    </tr>\n    <tr>\n      <th>2021-08-30</th>\n      <td>4.305</td>\n      <td>161299.0</td>\n      <td>4.499</td>\n      <td>4.526</td>\n      <td>4.222</td>\n      <td>2218011.0</td>\n      <td>2851.0</td>\n      <td>3396062.0</td>\n      <td>32500.0</td>\n      <td>66.246073</td>\n      <td>0.161919</td>\n      <td>0.082905</td>\n    </tr>\n  </tbody>\n</table>\n<p>2477 rows × 12 columns</p>\n</div>"
     },
     "execution_count": 23,
     "metadata": {},
     "output_type": "execute_result"
    }
   ],
   "source": [
    "res_"
   ],
   "metadata": {
    "collapsed": false,
    "pycharm": {
     "name": "#%%\n"
    }
   }
  },
  {
   "cell_type": "markdown",
   "source": [
    "# Compute Lagged Returns"
   ],
   "metadata": {
    "collapsed": false,
    "pycharm": {
     "name": "#%% md\n"
    }
   }
  },
  {
   "cell_type": "code",
   "execution_count": 24,
   "outputs": [],
   "source": [
    "lags = [1, 5, 10, 21, 42, 63]\n",
    "\n",
    "for lag in lags:\n",
    "    res_[f'return_{lag}d'] = (res_.Close.pct_change(lag)\n",
    "                              .add(1)\n",
    "                              .pow(1 / lag)\n",
    "                              .sub(1))"
   ],
   "metadata": {
    "collapsed": false,
    "pycharm": {
     "name": "#%%\n"
    }
   }
  },
  {
   "cell_type": "markdown",
   "source": [
    "# Shift lagged returns"
   ],
   "metadata": {
    "collapsed": false,
    "pycharm": {
     "name": "#%% md\n"
    }
   }
  },
  {
   "cell_type": "code",
   "execution_count": 25,
   "outputs": [],
   "source": [
    "\n",
    "for t in [1, 2, 3, 4, 5]:\n",
    "    for lag in [1, 5, 10, 21]:\n",
    "        res_[f'return_{lag}d_lag{t}'] = (res_[f'return_{lag}d'].shift(t * lag))"
   ],
   "metadata": {
    "collapsed": false,
    "pycharm": {
     "name": "#%%\n"
    }
   }
  },
  {
   "cell_type": "markdown",
   "source": [
    "# Compute forward returns"
   ],
   "metadata": {
    "collapsed": false,
    "pycharm": {
     "name": "#%% md\n"
    }
   }
  },
  {
   "cell_type": "code",
   "execution_count": 26,
   "outputs": [],
   "source": [
    "for t in [1, 5, 10, 21]:\n",
    "    res_[f'target_{t}d'] = res_[f'return_{t}d'].shift(-t)"
   ],
   "metadata": {
    "collapsed": false,
    "pycharm": {
     "name": "#%%\n"
    }
   }
  },
  {
   "cell_type": "code",
   "execution_count": 27,
   "outputs": [
    {
     "data": {
      "text/plain": "            Close    Volume   Open   High    Low  Consumption in mcf  \\\nDate                                                                   \n2011-10-06  3.598  144492.0  3.565  3.634  3.512           1744454.0   \n2011-10-07  3.481  139225.0  3.595  3.600  3.472           1744454.0   \n2011-10-10  3.541  122903.0  3.486  3.563  3.457           1744454.0   \n2011-10-11  3.616  168456.0  3.562  3.627  3.513           1744454.0   \n2011-10-12  3.489  158954.0  3.520  3.540  3.480           1744454.0   \n...           ...       ...    ...    ...    ...                 ...   \n2021-08-24  3.896   54557.0  3.929  3.970  3.884           2218011.0   \n2021-08-25  3.897   37979.0  3.900  3.991  3.858           2218011.0   \n2021-08-26  4.184   64362.0  3.917  4.217  3.896           2218011.0   \n2021-08-27  4.370    3899.0  4.202  4.397  4.197           2218011.0   \n2021-08-30  4.305  161299.0  4.499  4.526  4.222           2218011.0   \n\n            Storage in mcf  US Gross Withdrawal in mcf  \\\nDate                                                     \n2011-10-06          3408.0                   2502387.0   \n2011-10-07          3521.0                   2502387.0   \n2011-10-10          3521.0                   2502387.0   \n2011-10-11          3521.0                   2502387.0   \n2011-10-12          3521.0                   2502387.0   \n...                    ...                         ...   \n2021-08-24          2851.0                   3396062.0   \n2021-08-25          2851.0                   3396062.0   \n2021-08-26          2851.0                   3396062.0   \n2021-08-27          2851.0                   3396062.0   \n2021-08-30          2851.0                   3396062.0   \n\n            Other Gross Withdrawal in mcf        RSI  ...  return_10d_lag4  \\\nDate                                                  ...                    \n2011-10-06                        94315.0  32.805890  ...              NaN   \n2011-10-07                        94315.0  28.027756  ...              NaN   \n2011-10-10                        94315.0  33.385996  ...              NaN   \n2011-10-11                        94315.0  39.453890  ...              NaN   \n2011-10-12                        94315.0  33.833721  ...              NaN   \n...                                   ...        ...  ...              ...   \n2021-08-24                        32500.0  50.393336  ...         0.006967   \n2021-08-25                        32500.0  50.456830  ...         0.011431   \n2021-08-26                        32500.0  64.500602  ...         0.011644   \n2021-08-27                        32500.0  70.363841  ...         0.011886   \n2021-08-30                        32500.0  66.246073  ...         0.014150   \n\n            return_21d_lag4  return_1d_lag5  return_5d_lag5  return_10d_lag5  \\\nDate                                                                           \n2011-10-06              NaN             NaN             NaN              NaN   \n2011-10-07              NaN             NaN             NaN              NaN   \n2011-10-10              NaN             NaN             NaN              NaN   \n2011-10-11              NaN             NaN             NaN              NaN   \n2011-10-12              NaN             NaN             NaN              NaN   \n...                     ...             ...             ...              ...   \n2021-08-24         0.003919       -0.027623        0.009556         0.011629   \n2021-08-25         0.005564        0.003909        0.015830         0.004297   \n2021-08-26         0.005883       -0.005711        0.020656         0.005581   \n2021-08-27         0.004973        0.005483        0.020181         0.006762   \n2021-08-30         0.005575        0.024409        0.016538         0.003746   \n\n            return_21d_lag5  target_1d  target_5d  target_10d  target_21d  \nDate                                                                       \n2011-10-06              NaN  -0.032518  -0.003752    0.000886    0.002390  \n2011-10-07              NaN   0.017236   0.012441    0.004172    0.002858  \n2011-10-10              NaN   0.021180   0.008168    0.001765    0.002671  \n2011-10-11              NaN  -0.035122  -0.003509    0.001155    0.000472  \n2011-10-12              NaN   0.012038   0.005500    0.002858    0.002137  \n...                     ...        ...        ...         ...         ...  \n2021-08-24        -0.003989   0.000257        NaN         NaN         NaN  \n2021-08-25        -0.003923   0.073646        NaN         NaN         NaN  \n2021-08-26        -0.003285   0.044455        NaN         NaN         NaN  \n2021-08-27        -0.002713  -0.014874        NaN         NaN         NaN  \n2021-08-30        -0.004033        NaN        NaN         NaN         NaN  \n\n[2477 rows x 42 columns]",
      "text/html": "<div>\n<style scoped>\n    .dataframe tbody tr th:only-of-type {\n        vertical-align: middle;\n    }\n\n    .dataframe tbody tr th {\n        vertical-align: top;\n    }\n\n    .dataframe thead th {\n        text-align: right;\n    }\n</style>\n<table border=\"1\" class=\"dataframe\">\n  <thead>\n    <tr style=\"text-align: right;\">\n      <th></th>\n      <th>Close</th>\n      <th>Volume</th>\n      <th>Open</th>\n      <th>High</th>\n      <th>Low</th>\n      <th>Consumption in mcf</th>\n      <th>Storage in mcf</th>\n      <th>US Gross Withdrawal in mcf</th>\n      <th>Other Gross Withdrawal in mcf</th>\n      <th>RSI</th>\n      <th>...</th>\n      <th>return_10d_lag4</th>\n      <th>return_21d_lag4</th>\n      <th>return_1d_lag5</th>\n      <th>return_5d_lag5</th>\n      <th>return_10d_lag5</th>\n      <th>return_21d_lag5</th>\n      <th>target_1d</th>\n      <th>target_5d</th>\n      <th>target_10d</th>\n      <th>target_21d</th>\n    </tr>\n    <tr>\n      <th>Date</th>\n      <th></th>\n      <th></th>\n      <th></th>\n      <th></th>\n      <th></th>\n      <th></th>\n      <th></th>\n      <th></th>\n      <th></th>\n      <th></th>\n      <th></th>\n      <th></th>\n      <th></th>\n      <th></th>\n      <th></th>\n      <th></th>\n      <th></th>\n      <th></th>\n      <th></th>\n      <th></th>\n      <th></th>\n    </tr>\n  </thead>\n  <tbody>\n    <tr>\n      <th>2011-10-06</th>\n      <td>3.598</td>\n      <td>144492.0</td>\n      <td>3.565</td>\n      <td>3.634</td>\n      <td>3.512</td>\n      <td>1744454.0</td>\n      <td>3408.0</td>\n      <td>2502387.0</td>\n      <td>94315.0</td>\n      <td>32.805890</td>\n      <td>...</td>\n      <td>NaN</td>\n      <td>NaN</td>\n      <td>NaN</td>\n      <td>NaN</td>\n      <td>NaN</td>\n      <td>NaN</td>\n      <td>-0.032518</td>\n      <td>-0.003752</td>\n      <td>0.000886</td>\n      <td>0.002390</td>\n    </tr>\n    <tr>\n      <th>2011-10-07</th>\n      <td>3.481</td>\n      <td>139225.0</td>\n      <td>3.595</td>\n      <td>3.600</td>\n      <td>3.472</td>\n      <td>1744454.0</td>\n      <td>3521.0</td>\n      <td>2502387.0</td>\n      <td>94315.0</td>\n      <td>28.027756</td>\n      <td>...</td>\n      <td>NaN</td>\n      <td>NaN</td>\n      <td>NaN</td>\n      <td>NaN</td>\n      <td>NaN</td>\n      <td>NaN</td>\n      <td>0.017236</td>\n      <td>0.012441</td>\n      <td>0.004172</td>\n      <td>0.002858</td>\n    </tr>\n    <tr>\n      <th>2011-10-10</th>\n      <td>3.541</td>\n      <td>122903.0</td>\n      <td>3.486</td>\n      <td>3.563</td>\n      <td>3.457</td>\n      <td>1744454.0</td>\n      <td>3521.0</td>\n      <td>2502387.0</td>\n      <td>94315.0</td>\n      <td>33.385996</td>\n      <td>...</td>\n      <td>NaN</td>\n      <td>NaN</td>\n      <td>NaN</td>\n      <td>NaN</td>\n      <td>NaN</td>\n      <td>NaN</td>\n      <td>0.021180</td>\n      <td>0.008168</td>\n      <td>0.001765</td>\n      <td>0.002671</td>\n    </tr>\n    <tr>\n      <th>2011-10-11</th>\n      <td>3.616</td>\n      <td>168456.0</td>\n      <td>3.562</td>\n      <td>3.627</td>\n      <td>3.513</td>\n      <td>1744454.0</td>\n      <td>3521.0</td>\n      <td>2502387.0</td>\n      <td>94315.0</td>\n      <td>39.453890</td>\n      <td>...</td>\n      <td>NaN</td>\n      <td>NaN</td>\n      <td>NaN</td>\n      <td>NaN</td>\n      <td>NaN</td>\n      <td>NaN</td>\n      <td>-0.035122</td>\n      <td>-0.003509</td>\n      <td>0.001155</td>\n      <td>0.000472</td>\n    </tr>\n    <tr>\n      <th>2011-10-12</th>\n      <td>3.489</td>\n      <td>158954.0</td>\n      <td>3.520</td>\n      <td>3.540</td>\n      <td>3.480</td>\n      <td>1744454.0</td>\n      <td>3521.0</td>\n      <td>2502387.0</td>\n      <td>94315.0</td>\n      <td>33.833721</td>\n      <td>...</td>\n      <td>NaN</td>\n      <td>NaN</td>\n      <td>NaN</td>\n      <td>NaN</td>\n      <td>NaN</td>\n      <td>NaN</td>\n      <td>0.012038</td>\n      <td>0.005500</td>\n      <td>0.002858</td>\n      <td>0.002137</td>\n    </tr>\n    <tr>\n      <th>...</th>\n      <td>...</td>\n      <td>...</td>\n      <td>...</td>\n      <td>...</td>\n      <td>...</td>\n      <td>...</td>\n      <td>...</td>\n      <td>...</td>\n      <td>...</td>\n      <td>...</td>\n      <td>...</td>\n      <td>...</td>\n      <td>...</td>\n      <td>...</td>\n      <td>...</td>\n      <td>...</td>\n      <td>...</td>\n      <td>...</td>\n      <td>...</td>\n      <td>...</td>\n      <td>...</td>\n    </tr>\n    <tr>\n      <th>2021-08-24</th>\n      <td>3.896</td>\n      <td>54557.0</td>\n      <td>3.929</td>\n      <td>3.970</td>\n      <td>3.884</td>\n      <td>2218011.0</td>\n      <td>2851.0</td>\n      <td>3396062.0</td>\n      <td>32500.0</td>\n      <td>50.393336</td>\n      <td>...</td>\n      <td>0.006967</td>\n      <td>0.003919</td>\n      <td>-0.027623</td>\n      <td>0.009556</td>\n      <td>0.011629</td>\n      <td>-0.003989</td>\n      <td>0.000257</td>\n      <td>NaN</td>\n      <td>NaN</td>\n      <td>NaN</td>\n    </tr>\n    <tr>\n      <th>2021-08-25</th>\n      <td>3.897</td>\n      <td>37979.0</td>\n      <td>3.900</td>\n      <td>3.991</td>\n      <td>3.858</td>\n      <td>2218011.0</td>\n      <td>2851.0</td>\n      <td>3396062.0</td>\n      <td>32500.0</td>\n      <td>50.456830</td>\n      <td>...</td>\n      <td>0.011431</td>\n      <td>0.005564</td>\n      <td>0.003909</td>\n      <td>0.015830</td>\n      <td>0.004297</td>\n      <td>-0.003923</td>\n      <td>0.073646</td>\n      <td>NaN</td>\n      <td>NaN</td>\n      <td>NaN</td>\n    </tr>\n    <tr>\n      <th>2021-08-26</th>\n      <td>4.184</td>\n      <td>64362.0</td>\n      <td>3.917</td>\n      <td>4.217</td>\n      <td>3.896</td>\n      <td>2218011.0</td>\n      <td>2851.0</td>\n      <td>3396062.0</td>\n      <td>32500.0</td>\n      <td>64.500602</td>\n      <td>...</td>\n      <td>0.011644</td>\n      <td>0.005883</td>\n      <td>-0.005711</td>\n      <td>0.020656</td>\n      <td>0.005581</td>\n      <td>-0.003285</td>\n      <td>0.044455</td>\n      <td>NaN</td>\n      <td>NaN</td>\n      <td>NaN</td>\n    </tr>\n    <tr>\n      <th>2021-08-27</th>\n      <td>4.370</td>\n      <td>3899.0</td>\n      <td>4.202</td>\n      <td>4.397</td>\n      <td>4.197</td>\n      <td>2218011.0</td>\n      <td>2851.0</td>\n      <td>3396062.0</td>\n      <td>32500.0</td>\n      <td>70.363841</td>\n      <td>...</td>\n      <td>0.011886</td>\n      <td>0.004973</td>\n      <td>0.005483</td>\n      <td>0.020181</td>\n      <td>0.006762</td>\n      <td>-0.002713</td>\n      <td>-0.014874</td>\n      <td>NaN</td>\n      <td>NaN</td>\n      <td>NaN</td>\n    </tr>\n    <tr>\n      <th>2021-08-30</th>\n      <td>4.305</td>\n      <td>161299.0</td>\n      <td>4.499</td>\n      <td>4.526</td>\n      <td>4.222</td>\n      <td>2218011.0</td>\n      <td>2851.0</td>\n      <td>3396062.0</td>\n      <td>32500.0</td>\n      <td>66.246073</td>\n      <td>...</td>\n      <td>0.014150</td>\n      <td>0.005575</td>\n      <td>0.024409</td>\n      <td>0.016538</td>\n      <td>0.003746</td>\n      <td>-0.004033</td>\n      <td>NaN</td>\n      <td>NaN</td>\n      <td>NaN</td>\n      <td>NaN</td>\n    </tr>\n  </tbody>\n</table>\n<p>2477 rows × 42 columns</p>\n</div>"
     },
     "execution_count": 27,
     "metadata": {},
     "output_type": "execute_result"
    }
   ],
   "source": [
    "res_"
   ],
   "metadata": {
    "collapsed": false,
    "pycharm": {
     "name": "#%%\n"
    }
   }
  },
  {
   "cell_type": "code",
   "execution_count": 31,
   "outputs": [],
   "source": [
    "res_['year'] = res_.index.get_level_values('Date').year\n",
    "res_['month'] = res_.index.get_level_values('Date').month\n",
    "\n",
    "res_.to_hdf('./data/model_data.h5', 'model_data/no_dummies')"
   ],
   "metadata": {
    "collapsed": false,
    "pycharm": {
     "name": "#%%\n"
    }
   }
  },
  {
   "cell_type": "code",
   "execution_count": 32,
   "outputs": [],
   "source": [
    "res_ = pd.get_dummies(res_,\n",
    "                      columns=['year', 'month'],\n",
    "                      prefix=['year', 'month'],\n",
    "                      prefix_sep=['_','_'])"
   ],
   "metadata": {
    "collapsed": false,
    "pycharm": {
     "name": "#%%\n"
    }
   }
  },
  {
   "cell_type": "code",
   "execution_count": 34,
   "outputs": [
    {
     "name": "stdout",
     "output_type": "stream",
     "text": [
      "<class 'pandas.core.frame.DataFrame'>\n",
      "DatetimeIndex: 2477 entries, 2011-10-06 to 2021-08-30\n",
      "Data columns (total 65 columns):\n",
      " #   Column                         Non-Null Count  Dtype  \n",
      "---  ------                         --------------  -----  \n",
      " 0   Close                          2477 non-null   float64\n",
      " 1   Volume                         2477 non-null   float64\n",
      " 2   Open                           2477 non-null   float64\n",
      " 3   High                           2477 non-null   float64\n",
      " 4   Low                            2477 non-null   float64\n",
      " 5   Consumption in mcf             2477 non-null   float64\n",
      " 6   Storage in mcf                 2477 non-null   float64\n",
      " 7   US Gross Withdrawal in mcf     2477 non-null   float64\n",
      " 8   Other Gross Withdrawal in mcf  2477 non-null   float64\n",
      " 9   RSI                            2477 non-null   float64\n",
      " 10  ATR                            2477 non-null   float64\n",
      " 11  MACD                           2477 non-null   float64\n",
      " 12  return_1d                      2476 non-null   float64\n",
      " 13  return_5d                      2472 non-null   float64\n",
      " 14  return_10d                     2467 non-null   float64\n",
      " 15  return_21d                     2456 non-null   float64\n",
      " 16  return_42d                     2435 non-null   float64\n",
      " 17  return_63d                     2414 non-null   float64\n",
      " 18  return_1d_lag1                 2475 non-null   float64\n",
      " 19  return_5d_lag1                 2467 non-null   float64\n",
      " 20  return_10d_lag1                2457 non-null   float64\n",
      " 21  return_21d_lag1                2435 non-null   float64\n",
      " 22  return_1d_lag2                 2474 non-null   float64\n",
      " 23  return_5d_lag2                 2462 non-null   float64\n",
      " 24  return_10d_lag2                2447 non-null   float64\n",
      " 25  return_21d_lag2                2414 non-null   float64\n",
      " 26  return_1d_lag3                 2473 non-null   float64\n",
      " 27  return_5d_lag3                 2457 non-null   float64\n",
      " 28  return_10d_lag3                2437 non-null   float64\n",
      " 29  return_21d_lag3                2393 non-null   float64\n",
      " 30  return_1d_lag4                 2472 non-null   float64\n",
      " 31  return_5d_lag4                 2452 non-null   float64\n",
      " 32  return_10d_lag4                2427 non-null   float64\n",
      " 33  return_21d_lag4                2372 non-null   float64\n",
      " 34  return_1d_lag5                 2471 non-null   float64\n",
      " 35  return_5d_lag5                 2447 non-null   float64\n",
      " 36  return_10d_lag5                2417 non-null   float64\n",
      " 37  return_21d_lag5                2351 non-null   float64\n",
      " 38  target_1d                      2476 non-null   float64\n",
      " 39  target_5d                      2472 non-null   float64\n",
      " 40  target_10d                     2467 non-null   float64\n",
      " 41  target_21d                     2456 non-null   float64\n",
      " 42  year_2011                      2477 non-null   uint8  \n",
      " 43  year_2012                      2477 non-null   uint8  \n",
      " 44  year_2013                      2477 non-null   uint8  \n",
      " 45  year_2014                      2477 non-null   uint8  \n",
      " 46  year_2015                      2477 non-null   uint8  \n",
      " 47  year_2016                      2477 non-null   uint8  \n",
      " 48  year_2017                      2477 non-null   uint8  \n",
      " 49  year_2018                      2477 non-null   uint8  \n",
      " 50  year_2019                      2477 non-null   uint8  \n",
      " 51  year_2020                      2477 non-null   uint8  \n",
      " 52  year_2021                      2477 non-null   uint8  \n",
      " 53  month_1                        2477 non-null   uint8  \n",
      " 54  month_2                        2477 non-null   uint8  \n",
      " 55  month_3                        2477 non-null   uint8  \n",
      " 56  month_4                        2477 non-null   uint8  \n",
      " 57  month_5                        2477 non-null   uint8  \n",
      " 58  month_6                        2477 non-null   uint8  \n",
      " 59  month_7                        2477 non-null   uint8  \n",
      " 60  month_8                        2477 non-null   uint8  \n",
      " 61  month_9                        2477 non-null   uint8  \n",
      " 62  month_10                       2477 non-null   uint8  \n",
      " 63  month_11                       2477 non-null   uint8  \n",
      " 64  month_12                       2477 non-null   uint8  \n",
      "dtypes: float64(42), uint8(23)\n",
      "memory usage: 887.8 KB\n"
     ]
    },
    {
     "name": "stderr",
     "output_type": "stream",
     "text": [
      "/tmp/ipykernel_32657/4199280370.py:1: FutureWarning: null_counts is deprecated. Use show_counts instead\n",
      "  res_.info(null_counts=True)\n"
     ]
    }
   ],
   "source": [
    "res_.info(null_counts=True)"
   ],
   "metadata": {
    "collapsed": false,
    "pycharm": {
     "name": "#%%\n"
    }
   }
  },
  {
   "cell_type": "code",
   "execution_count": 35,
   "outputs": [],
   "source": [
    "res_.to_hdf('./data/model_data.h5', 'model_data')"
   ],
   "metadata": {
    "collapsed": false,
    "pycharm": {
     "name": "#%%\n"
    }
   }
  },
  {
   "cell_type": "markdown",
   "source": [
    "# EDA"
   ],
   "metadata": {
    "collapsed": false,
    "pycharm": {
     "name": "#%% md\n"
    }
   }
  },
  {
   "cell_type": "code",
   "execution_count": null,
   "outputs": [],
   "source": [],
   "metadata": {
    "collapsed": false,
    "pycharm": {
     "name": "#%%\n"
    }
   }
  }
 ],
 "metadata": {
  "kernelspec": {
   "display_name": "Python 3",
   "language": "python",
   "name": "python3"
  },
  "language_info": {
   "codemirror_mode": {
    "name": "ipython",
    "version": 2
   },
   "file_extension": ".py",
   "mimetype": "text/x-python",
   "name": "python",
   "nbconvert_exporter": "python",
   "pygments_lexer": "ipython2",
   "version": "2.7.6"
  }
 },
 "nbformat": 4,
 "nbformat_minor": 0
}